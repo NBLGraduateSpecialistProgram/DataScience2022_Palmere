{
 "cells": [
  {
   "cell_type": "markdown",
   "id": "concrete-judgment",
   "metadata": {},
   "source": [
    "#### Introduction to C\n",
    "\n",
    "#### Robert Palmere, 2021\n",
    "\n",
    "#### Email: rdp135@chem.rutgers.edu\n",
    "\n",
    "------\n",
    "\n",
    "##### Topics:\n",
    "\n",
    "* Basic Types\n",
    "* Arrays\n",
    "* Loops\n",
    "* Conditions\n",
    "* Functions\n",
    "\n",
    "Note - ';' used at the end of cells to limit output."
   ]
  },
  {
   "cell_type": "markdown",
   "id": "comic-calculator",
   "metadata": {},
   "source": [
    "#### Objectives:\n",
    "\n",
    "1. Provide exposure to mid-level programming\n",
    "2. Introductory level overview of C syntax and structure with comparisons to Python."
   ]
  },
  {
   "cell_type": "markdown",
   "id": "universal-generator",
   "metadata": {},
   "source": [
    "Code is commented out using '//' or '/* */'."
   ]
  },
  {
   "cell_type": "code",
   "execution_count": 3,
   "id": "subjective-organ",
   "metadata": {},
   "outputs": [
    {
     "name": "stdout",
     "output_type": "stream",
     "text": [
      "Hello World!"
     ]
    }
   ],
   "source": [
    "printf(\"Hello World!\"); // <-- ; is required after line in C\n",
    "\n",
    "// printf(\"Hello World!\")\n",
    "\n",
    "/*\n",
    "Commented\n",
    "printf(\"Hello World!\")\n",
    "*/\n",
    "\n",
    ";"
   ]
  },
  {
   "cell_type": "markdown",
   "id": "champion-headline",
   "metadata": {},
   "source": [
    "#### C Program Structure:"
   ]
  },
  {
   "cell_type": "markdown",
   "id": "federal-prize",
   "metadata": {},
   "source": [
    "< header files > // Python - import \"module\"\n",
    "\n",
    "< function delcarations / definitions >\n",
    "\n",
    "int main(){\n",
    "\n",
    "    return 0;\n",
    "}\n",
    "\n",
    "< function definitions *if* declared above >"
   ]
  },
  {
   "cell_type": "markdown",
   "id": "atomic-grocery",
   "metadata": {},
   "source": [
    "Types need to be specified preceeding the declaration of a variable. The type defines the storage space in bytes."
   ]
  },
  {
   "cell_type": "code",
   "execution_count": 4,
   "id": "right-amendment",
   "metadata": {},
   "outputs": [
    {
     "name": "stdout",
     "output_type": "stream",
     "text": [
      "1\n",
      "1\n",
      "4\n",
      "4\n",
      "8\n",
      "8\n",
      "16\n"
     ]
    }
   ],
   "source": [
    "printf(\"%lu\\n\", sizeof(char));          //  1 byte\n",
    "printf(\"%lu\\n\", sizeof(bool));          //  1 byte\n",
    "printf(\"%lu\\n\", sizeof(int));           //  4 bytes\n",
    "printf(\"%lu\\n\", sizeof(float));         //  4 bytes\n",
    "printf(\"%lu\\n\", sizeof(double));        //  8 bytes\n",
    "printf(\"%lu\\n\", sizeof(size_t));        //  8 bytes\n",
    "printf(\"%lu\\n\", sizeof(long double));   // 16 bytes\n",
    "\n",
    ";"
   ]
  },
  {
   "cell_type": "markdown",
   "id": "unusual-reggae",
   "metadata": {},
   "source": [
    "Here we use the C library, printf() and sizeof() functions, to acquire and print the storage capacity of each of several types. \n",
    "\n",
    "By specifiying a particular data type for our variable, we are able to have direct control over the amount of memory allocated."
   ]
  },
  {
   "cell_type": "markdown",
   "id": "unlimited-interaction",
   "metadata": {},
   "source": [
    "Casting"
   ]
  },
  {
   "cell_type": "code",
   "execution_count": 5,
   "id": "worth-crossing",
   "metadata": {},
   "outputs": [
    {
     "name": "stdout",
     "output_type": "stream",
     "text": [
      "0"
     ]
    }
   ],
   "source": [
    "char x = '0'; // Define x as char '0'\n",
    "\n",
    "printf(\"%c\", x);"
   ]
  },
  {
   "cell_type": "code",
   "execution_count": 6,
   "id": "intellectual-jacksonville",
   "metadata": {},
   "outputs": [
    {
     "name": "stdout",
     "output_type": "stream",
     "text": [
      "48"
     ]
    }
   ],
   "source": [
    "x = int(x); // We cannot cast like we would using the function int() in Python -- ASCII value (numerical representation) of '0' is 48\n",
    "\n",
    "printf(\"%d\", x);"
   ]
  },
  {
   "cell_type": "code",
   "execution_count": 7,
   "id": "occasional-developer",
   "metadata": {},
   "outputs": [
    {
     "name": "stdout",
     "output_type": "stream",
     "text": [
      "48"
     ]
    }
   ],
   "source": [
    "x = (int)x; // Same thing here\n",
    "\n",
    "printf(\"%d\", x);"
   ]
  },
  {
   "cell_type": "code",
   "execution_count": 8,
   "id": "completed-harrison",
   "metadata": {},
   "outputs": [
    {
     "name": "stdout",
     "output_type": "stream",
     "text": [
      "0"
     ]
    }
   ],
   "source": [
    "x = x - '0'; // Why did this work? - ASCII value of '0' is 48 so 48-48 = 0 as an integer.\n",
    "\n",
    "printf(\"%d\", x);"
   ]
  },
  {
   "cell_type": "code",
   "execution_count": 9,
   "id": "headed-tongue",
   "metadata": {},
   "outputs": [
    {
     "name": "stderr",
     "output_type": "stream",
     "text": [
      "\u001b[1minput_line_15:5:14: \u001b[0m\u001b[0;1;35mwarning: \u001b[0m\u001b[1mformat specifies type 'int' but the argument has type 'const char *' [-Wformat]\u001b[0m\n",
      "printf(\"%d\", c);\n",
      "\u001b[0;1;32m        ~~   ^\n",
      "\u001b[0m\u001b[0;32m        %s\n",
      "\u001b[0m"
     ]
    },
    {
     "name": "stdout",
     "output_type": "stream",
     "text": [
      "211912160"
     ]
    }
   ],
   "source": [
    "// We can do the same thing with other chars but they will be strings past a single digit\n",
    "\n",
    "const char* c = \"27\";\n",
    "\n",
    "c = c - '0'; // This doesn't work now because there are two digits in our string\n",
    "\n",
    "printf(\"%d\", c);"
   ]
  },
  {
   "cell_type": "markdown",
   "id": "stylish-accent",
   "metadata": {},
   "source": [
    "We can also use the atoi() function to convert a char to an integer from the standard library. Other functions like this exist for convenience."
   ]
  },
  {
   "cell_type": "code",
   "execution_count": 10,
   "id": "baking-dynamics",
   "metadata": {},
   "outputs": [
    {
     "name": "stdout",
     "output_type": "stream",
     "text": [
      "0"
     ]
    }
   ],
   "source": [
    "#include <cstdlib>\n",
    "\n",
    "char x = '0';\n",
    "\n",
    "x = atoi(&x); // expects argument address to be passed (see documentation)\n",
    "\n",
    "printf(\"%d\", x);\n",
    "\n",
    "x = atof(&x); // can also convert to float\n",
    "\n",
    ";"
   ]
  },
  {
   "cell_type": "markdown",
   "id": "sufficient-viewer",
   "metadata": {},
   "source": [
    "We saw that there were many containers predefined by Python and their applications including:\n",
    "\n",
    "* range\n",
    "* list\n",
    "* tuple\n",
    "* dict\n",
    "* set\n",
    "\n",
    "As a mid-level programming language, these do not exist by default. Recreating the functionality of these containers, however, is possible using external libraries or by writing our own code."
   ]
  },
  {
   "cell_type": "markdown",
   "id": "educational-front",
   "metadata": {},
   "source": [
    "Instead of various container objects, C uses arrays with each cell of our array corresponding to a memory address."
   ]
  },
  {
   "cell_type": "code",
   "execution_count": 11,
   "id": "after-defensive",
   "metadata": {},
   "outputs": [
    {
     "name": "stdout",
     "output_type": "stream",
     "text": [
      "4"
     ]
    }
   ],
   "source": [
    "int array; // Declaration of array as an integer\n",
    "\n",
    "printf(\"%lu\", sizeof(array));"
   ]
  },
  {
   "cell_type": "code",
   "execution_count": 12,
   "id": "previous-subdivision",
   "metadata": {},
   "outputs": [
    {
     "name": "stdout",
     "output_type": "stream",
     "text": [
      "Size of array in bytes: 20\n",
      "Size of type int in bytes: 4\n",
      "Number of available columns in the 1D array: 5"
     ]
    }
   ],
   "source": [
    "int array[5]; // Declaration of an array that contains space for 5 integers\n",
    "\n",
    "printf(\"Size of array in bytes: %lu\\n\", sizeof(array));\n",
    "printf(\"Size of type int in bytes: %lu\\n\", sizeof(int));\n",
    "\n",
    "printf(\"Number of available columns in the 1D array: %lu\", sizeof(array)/sizeof(int));"
   ]
  },
  {
   "cell_type": "markdown",
   "id": "meaningful-telescope",
   "metadata": {},
   "source": [
    "We can also initialize an array when we declare it."
   ]
  },
  {
   "cell_type": "code",
   "execution_count": 13,
   "id": "awful-ceramic",
   "metadata": {},
   "outputs": [
    {
     "name": "stderr",
     "output_type": "stream",
     "text": [
      "\u001b[1minput_line_20:3:14: \u001b[0m\u001b[0;1;35mwarning: \u001b[0m\u001b[1mformat specifies type 'int' but the argument has type 'int *' [-Wformat]\u001b[0m\n",
      "printf(\"%d\", array); // Error\n",
      "\u001b[0;1;32m        ~~   ^~~~~\n",
      "\u001b[0m"
     ]
    },
    {
     "name": "stdout",
     "output_type": "stream",
     "text": [
      "211912848"
     ]
    },
    {
     "data": {
      "text/plain": [
       "9"
      ]
     },
     "execution_count": 13,
     "metadata": {},
     "output_type": "execute_result"
    }
   ],
   "source": [
    "int array[5] = {1, 2, 3, 4, 5};\n",
    "\n",
    "printf(\"%d\", array); // Error"
   ]
  },
  {
   "cell_type": "markdown",
   "id": "sexual-penguin",
   "metadata": {},
   "source": [
    "The above line declares an array that can hold 5 integers. When we print this array using \"%d\", which would suffice as a place holder for an integer, we recieve a compiler warning that printf() expects type int but we passed type int*. Why is this?"
   ]
  },
  {
   "cell_type": "markdown",
   "id": "preliminary-worry",
   "metadata": {},
   "source": [
    "#### Pointers\n",
    "\n",
    "The values of our array are indeed of type int. However, we passed an array which __points__ to the various memory addresses which hold the integers."
   ]
  },
  {
   "cell_type": "code",
   "execution_count": 14,
   "id": "amino-medline",
   "metadata": {},
   "outputs": [
    {
     "data": {
      "text/plain": [
       "@0x7ffee7798640"
      ]
     },
     "execution_count": 14,
     "metadata": {},
     "output_type": "execute_result"
    }
   ],
   "source": [
    "int a[5]; // Delcaration of an array 'a' with space for 5 integers.\n",
    "\n",
    "&a[0] // Reference operator '&' allows us to see the memory address being referenced by 'a[0]'"
   ]
  },
  {
   "cell_type": "code",
   "execution_count": 15,
   "id": "informational-proportion",
   "metadata": {},
   "outputs": [
    {
     "data": {
      "text/plain": [
       "@0x7ffee7798640"
      ]
     },
     "execution_count": 15,
     "metadata": {},
     "output_type": "execute_result"
    }
   ],
   "source": [
    "&a // Memory address of the array"
   ]
  },
  {
   "cell_type": "markdown",
   "id": "alpha-knife",
   "metadata": {},
   "source": [
    "Notice that the two addresses are the same for the array, and the first element of the array. This is because an array points to the first element by default."
   ]
  },
  {
   "cell_type": "markdown",
   "id": "fifteen-latin",
   "metadata": {},
   "source": [
    "We can use the dereference operator to see the value held at this memory address."
   ]
  },
  {
   "cell_type": "code",
   "execution_count": 16,
   "id": "relative-guatemala",
   "metadata": {},
   "outputs": [
    {
     "data": {
      "text/plain": [
       "0"
      ]
     },
     "execution_count": 16,
     "metadata": {},
     "output_type": "execute_result"
    }
   ],
   "source": [
    "*&a[0] // Use of the dereference operator, '*', to get the value located at the above memory address."
   ]
  },
  {
   "cell_type": "code",
   "execution_count": 17,
   "id": "overall-switch",
   "metadata": {},
   "outputs": [
    {
     "name": "stdout",
     "output_type": "stream",
     "text": [
      "00"
     ]
    }
   ],
   "source": [
    "printf(\"%d\", a[0]); // We pass the int held at the first memory address which works\n",
    ";\n",
    "printf(\"%d\", *a); // *(&a[0]) --> 0"
   ]
  },
  {
   "cell_type": "markdown",
   "id": "other-australia",
   "metadata": {},
   "source": [
    "Unlike Python, this allows us to pass arguments to a function in two ways:\n",
    "\n",
    "1. By value\n",
    "2. By reference\n",
    "\n",
    "Let's first take a look at how we declare and define functions in C.\n",
    "\n",
    "syntax: [return type] [name]([arg type] [name]){ [function scope] }"
   ]
  },
  {
   "cell_type": "code",
   "execution_count": 18,
   "id": "according-identity",
   "metadata": {},
   "outputs": [],
   "source": [
    "void f(int x)\n",
    "{ \n",
    "    printf(\"%d\\n\", x); \n",
    "} // passed by value"
   ]
  },
  {
   "cell_type": "code",
   "execution_count": 19,
   "id": "fifteen-input",
   "metadata": {},
   "outputs": [
    {
     "name": "stdout",
     "output_type": "stream",
     "text": [
      "1\n"
     ]
    }
   ],
   "source": [
    "f(1)"
   ]
  },
  {
   "cell_type": "code",
   "execution_count": 20,
   "id": "modular-belle",
   "metadata": {},
   "outputs": [],
   "source": [
    "void f(int& x){ \n",
    "    printf(\"%d\\n\", x); \n",
    "} // passed by reference"
   ]
  },
  {
   "cell_type": "code",
   "execution_count": 21,
   "id": "informed-surfing",
   "metadata": {},
   "outputs": [
    {
     "name": "stdout",
     "output_type": "stream",
     "text": [
      "1\n"
     ]
    }
   ],
   "source": [
    "f(1)"
   ]
  },
  {
   "cell_type": "markdown",
   "id": "enabling-processing",
   "metadata": {},
   "source": [
    "The difference is that passing by value creates a copy of the passed variable at a new address, whereas passing by reference uses the existing memory location as that which was passed."
   ]
  },
  {
   "cell_type": "code",
   "execution_count": 22,
   "id": "every-psychiatry",
   "metadata": {},
   "outputs": [],
   "source": [
    "void by_value(int x){ printf(\"memory address of v passed by value: %p\\n\", &x); }"
   ]
  },
  {
   "cell_type": "code",
   "execution_count": 23,
   "id": "convertible-joshua",
   "metadata": {},
   "outputs": [],
   "source": [
    "void by_reference(int& x){ printf(\"memory address of v passed by reference: %p\\n\", &x); }"
   ]
  },
  {
   "cell_type": "code",
   "execution_count": 24,
   "id": "talented-folks",
   "metadata": {},
   "outputs": [
    {
     "name": "stdout",
     "output_type": "stream",
     "text": [
      "int v memory address: 0x10ca18c4c\n",
      "memory address of v passed by value: 0x7ffee77986ec\n",
      "memory address of v passed by reference: 0x10ca18c4c\n"
     ]
    }
   ],
   "source": [
    "int v = 1;\n",
    "\n",
    "printf(\"int v memory address: %p\\n\", &v);\n",
    "\n",
    "by_value(v);\n",
    "by_reference(v); // Same memory already being used by v"
   ]
  },
  {
   "cell_type": "markdown",
   "id": "spatial-calgary",
   "metadata": {},
   "source": [
    "By using this existing address we save on the memory requirements of our program. Also, we gain access to modify variables outside of the function scope:"
   ]
  },
  {
   "cell_type": "code",
   "execution_count": 25,
   "id": "accompanied-aircraft",
   "metadata": {},
   "outputs": [],
   "source": [
    "void add_one(int& b){ \n",
    "    b += 1; \n",
    "}"
   ]
  },
  {
   "cell_type": "code",
   "execution_count": 26,
   "id": "excited-beaver",
   "metadata": {},
   "outputs": [
    {
     "name": "stdout",
     "output_type": "stream",
     "text": [
      "1"
     ]
    }
   ],
   "source": [
    "printf(\"%d\", v); // value of int v = 1\n",
    ";"
   ]
  },
  {
   "cell_type": "code",
   "execution_count": 27,
   "id": "rough-austin",
   "metadata": {},
   "outputs": [
    {
     "name": "stdout",
     "output_type": "stream",
     "text": [
      "2"
     ]
    }
   ],
   "source": [
    "add_one(v);\n",
    "\n",
    "printf(\"%d\", v); // value of v +1 from within the function without returning a value at a new address\n",
    ";"
   ]
  },
  {
   "cell_type": "code",
   "execution_count": 28,
   "id": "starting-fossil",
   "metadata": {},
   "outputs": [],
   "source": [
    "void add_one_value(int b){ // Pass by value\n",
    "    b += 1;\n",
    "}"
   ]
  },
  {
   "cell_type": "code",
   "execution_count": 29,
   "id": "registered-bidding",
   "metadata": {},
   "outputs": [
    {
     "name": "stdout",
     "output_type": "stream",
     "text": [
      "2"
     ]
    }
   ],
   "source": [
    "add_one_value(v);\n",
    "\n",
    "printf(\"%d\", v);"
   ]
  },
  {
   "cell_type": "code",
   "execution_count": 30,
   "id": "identical-brazilian",
   "metadata": {},
   "outputs": [],
   "source": [
    "int with_return(int& b){ b += 1; return b; }"
   ]
  },
  {
   "cell_type": "code",
   "execution_count": 31,
   "id": "demographic-canal",
   "metadata": {},
   "outputs": [
    {
     "name": "stdout",
     "output_type": "stream",
     "text": [
      "3\n",
      "Original: 0x10ca18c4c\n",
      "Returned: 0x10d2067b0\n"
     ]
    }
   ],
   "source": [
    "int r = with_return(v);\n",
    "\n",
    "printf(\"%d\\n\", r);\n",
    "printf(\"Original: %p\\n\", &v);\n",
    "printf(\"Returned: %p\\n\", &r); // New memory address\n",
    ";"
   ]
  },
  {
   "cell_type": "markdown",
   "id": "fourth-application",
   "metadata": {},
   "source": [
    "__Passing by reference is not available in C__! \n",
    "\n",
    "Instead, we can emulate this behavior by passing the address by value and dereferencing it within the function:"
   ]
  },
  {
   "cell_type": "code",
   "execution_count": 33,
   "id": "sound-russian",
   "metadata": {},
   "outputs": [],
   "source": [
    "void add_another(int* x){ // int* -> &x\n",
    "    printf(\"%p\", x); // the address being pointed to\n",
    "    (*x)++; // add one to the value being pointed to\n",
    "}"
   ]
  },
  {
   "cell_type": "code",
   "execution_count": 34,
   "id": "valid-value",
   "metadata": {},
   "outputs": [
    {
     "name": "stdout",
     "output_type": "stream",
     "text": [
      "0x10ca18c4c\n",
      "4"
     ]
    }
   ],
   "source": [
    "add_another(&v);\n",
    "\n",
    "printf(\"\\n%d\", v); // v has been changed outside the function scope\n",
    ";"
   ]
  },
  {
   "cell_type": "markdown",
   "id": "numerous-august",
   "metadata": {},
   "source": [
    "Recursion works in C just as was demonstrated in the Python session."
   ]
  },
  {
   "cell_type": "code",
   "execution_count": 35,
   "id": "streaming-likelihood",
   "metadata": {},
   "outputs": [],
   "source": [
    "int fib_recursion(int n){\n",
    "    \n",
    "    if (n <= 1) // Notice we don't *need* the '{}' here. Scope is defined by indentation in this case. I usually avoid this for clarity.\n",
    "        return n;\n",
    "    else\n",
    "        return fib_recursion(n-1)+fib_recursion(n-2);\n",
    "}"
   ]
  },
  {
   "cell_type": "code",
   "execution_count": 36,
   "id": "level-effects",
   "metadata": {},
   "outputs": [
    {
     "name": "stdout",
     "output_type": "stream",
     "text": [
      "0\n",
      "1\n",
      "1\n",
      "2\n",
      "3\n",
      "5\n",
      "8\n",
      "13\n",
      "21\n",
      "34\n"
     ]
    }
   ],
   "source": [
    "for (int i = 0; i < 10; i++){ printf(\"%d\\n\", fib_recursion(i)); }"
   ]
  },
  {
   "cell_type": "markdown",
   "id": "trained-heart",
   "metadata": {},
   "source": [
    "#### Conditional Statements"
   ]
  },
  {
   "cell_type": "code",
   "execution_count": 37,
   "id": "elect-rings",
   "metadata": {},
   "outputs": [
    {
     "data": {
      "text/plain": [
       "true"
      ]
     },
     "execution_count": 37,
     "metadata": {},
     "output_type": "execute_result"
    }
   ],
   "source": [
    "1 == 1 // This returns true (boolean)"
   ]
  },
  {
   "cell_type": "code",
   "execution_count": 38,
   "id": "yellow-equipment",
   "metadata": {},
   "outputs": [
    {
     "name": "stderr",
     "output_type": "stream",
     "text": [
      "\u001b[1minput_line_52:2:5: \u001b[0m\u001b[0;1;31merror: \u001b[0m\u001b[1mexpected '(' after 'if'\u001b[0m\n",
      " if 1 == 1{  // Unlike Python, '()' is required \n",
      "\u001b[0;1;32m    ^\n",
      "\u001b[0m"
     ]
    },
    {
     "ename": "Interpreter Error",
     "evalue": "",
     "output_type": "error",
     "traceback": [
      "Interpreter Error: "
     ]
    }
   ],
   "source": [
    "if 1 == 1{  // Unlike Python, '()' is required \n",
    "    printf(\"1 = 1 is true.\");\n",
    "}"
   ]
  },
  {
   "cell_type": "code",
   "execution_count": 39,
   "id": "iraqi-puzzle",
   "metadata": {},
   "outputs": [
    {
     "name": "stdout",
     "output_type": "stream",
     "text": [
      "1 = 1 is true."
     ]
    }
   ],
   "source": [
    "if (1 == 1){\n",
    "    printf(\"1 = 1 is true.\");\n",
    "}"
   ]
  },
  {
   "cell_type": "code",
   "execution_count": 40,
   "id": "silent-queue",
   "metadata": {},
   "outputs": [
    {
     "name": "stdout",
     "output_type": "stream",
     "text": [
      "1 equals 1 and 1 does not equal 2."
     ]
    }
   ],
   "source": [
    "if (1 == 1 && 1 != 2){ // Python's 'and' is replaced with '&&'\n",
    "    printf(\"1 equals 1 and 1 does not equal 2.\");\n",
    "}"
   ]
  },
  {
   "cell_type": "code",
   "execution_count": 41,
   "id": "fiscal-projector",
   "metadata": {},
   "outputs": [
    {
     "name": "stdout",
     "output_type": "stream",
     "text": [
      "1 equals 1."
     ]
    }
   ],
   "source": [
    "if (1 == 1 || 1 == 2){ // Python's 'or' is replaced with '||'\n",
    "    printf(\"1 equals 1.\");\n",
    "}"
   ]
  },
  {
   "cell_type": "markdown",
   "id": "framed-identification",
   "metadata": {},
   "source": [
    "C also has a way of handling conditions, which Python does not, using switch statements."
   ]
  },
  {
   "cell_type": "code",
   "execution_count": 42,
   "id": "valid-dryer",
   "metadata": {},
   "outputs": [
    {
     "name": "stdout",
     "output_type": "stream",
     "text": [
      "A."
     ]
    }
   ],
   "source": [
    "// Ex.\n",
    "\n",
    "char grade = 'A';\n",
    "\n",
    "switch(grade){\n",
    "    case 'A':\n",
    "        printf(\"A.\");\n",
    "        break;\n",
    "    case 'B':\n",
    "        printf(\"B.\");\n",
    "        break;\n",
    "    default:\n",
    "        printf(\"Grade not found.\");\n",
    "}"
   ]
  },
  {
   "cell_type": "code",
   "execution_count": 43,
   "id": "plastic-network",
   "metadata": {},
   "outputs": [
    {
     "name": "stdout",
     "output_type": "stream",
     "text": [
      "Grade not found."
     ]
    }
   ],
   "source": [
    "char grade = 'K'; // Grade not included as a case\n",
    "\n",
    "switch(grade){\n",
    "    case 'A':\n",
    "        printf(\"A.\");\n",
    "        break;\n",
    "    case 'B':\n",
    "        printf(\"B.\");\n",
    "        break;\n",
    "    default:\n",
    "        printf(\"Grade not found.\");\n",
    "}"
   ]
  },
  {
   "cell_type": "markdown",
   "id": "lonely-japan",
   "metadata": {},
   "source": [
    "The benefit of using switch statements over if statements is runtime speeds. Where each option is checked by if statments, a switch case does not."
   ]
  },
  {
   "cell_type": "markdown",
   "id": "possible-qatar",
   "metadata": {},
   "source": [
    "#### Control Flow"
   ]
  },
  {
   "cell_type": "markdown",
   "id": "motivated-norfolk",
   "metadata": {},
   "source": [
    "Just like in Python, C has control flow with for loops and while loops."
   ]
  },
  {
   "cell_type": "code",
   "execution_count": 45,
   "id": "featured-dodge",
   "metadata": {},
   "outputs": [
    {
     "name": "stdout",
     "output_type": "stream",
     "text": [
      "01234"
     ]
    }
   ],
   "source": [
    "for (int i = 0; i < 5; i++){ // declaration of i and definition\n",
    "    printf(\"%d\", i); \n",
    "} // for i in range(5) -- Python"
   ]
  },
  {
   "cell_type": "code",
   "execution_count": 46,
   "id": "decent-michael",
   "metadata": {},
   "outputs": [
    {
     "name": "stdout",
     "output_type": "stream",
     "text": [
      "01234"
     ]
    }
   ],
   "source": [
    "int i;\n",
    "\n",
    "for (i = 0; i < 5 ; ++i){ // already declared\n",
    "    printf(\"%d\", i); \n",
    "}"
   ]
  },
  {
   "cell_type": "code",
   "execution_count": 47,
   "id": "directed-matrix",
   "metadata": {},
   "outputs": [
    {
     "name": "stdout",
     "output_type": "stream",
     "text": [
      "01234"
     ]
    }
   ],
   "source": [
    "int i = 0;\n",
    "\n",
    "for (; i < 5 ; ++i){ // already declared and defined\n",
    "    printf(\"%d\", i); \n",
    "}"
   ]
  },
  {
   "cell_type": "code",
   "execution_count": 48,
   "id": "aging-spank",
   "metadata": {},
   "outputs": [
    {
     "name": "stdout",
     "output_type": "stream",
     "text": [
      "12345"
     ]
    }
   ],
   "source": [
    "for (int j = 0; j < sizeof(array)/sizeof(int) ; j++){ // print all elements of array[5]\n",
    "    printf(\"%d\", array[j]); \n",
    "}"
   ]
  },
  {
   "cell_type": "code",
   "execution_count": 49,
   "id": "rolled-customer",
   "metadata": {},
   "outputs": [
    {
     "name": "stdout",
     "output_type": "stream",
     "text": [
      "0123456789"
     ]
    }
   ],
   "source": [
    "int x = true;\n",
    "int counter = 0;\n",
    "\n",
    "while (x){\n",
    "    \n",
    "    printf(\"%d\", counter);\n",
    "    counter++; // iterate by +1\n",
    "    \n",
    "    if (counter == 10){ // Python doesn't require '()' around condition\n",
    "        \n",
    "        x = false;\n",
    "        \n",
    "    }\n",
    "}"
   ]
  },
  {
   "cell_type": "code",
   "execution_count": null,
   "id": "figured-rouge",
   "metadata": {},
   "outputs": [],
   "source": [
    "counter = 0; // reset\n",
    "x = true;\n",
    "\n",
    "do{\n",
    "   \n",
    "    printf(\"%d\", counter);\n",
    "    counter++; // iterate by +1\n",
    "    \n",
    "    if (counter == 10){ // Python doesn't require '()' around condition\n",
    "        \n",
    "        x = false;\n",
    "        \n",
    "    }\n",
    "} while (x);"
   ]
  },
  {
   "cell_type": "markdown",
   "id": "representative-research",
   "metadata": {},
   "source": [
    "With this information we can recreate the functionality of Python containers. We will start with *range*."
   ]
  },
  {
   "cell_type": "code",
   "execution_count": 50,
   "id": "reported-metabolism",
   "metadata": {},
   "outputs": [
    {
     "name": "stderr",
     "output_type": "stream",
     "text": [
      "\u001b[1minput_line_64:10:12: \u001b[0m\u001b[0;1;35mwarning: \u001b[0m\u001b[1maddress of stack memory associated with local variable 'values' returned\n",
      "      [-Wreturn-stack-address]\u001b[0m\n",
      "    return values; // decays to pointer to the first element hence the r...\n",
      "\u001b[0;1;32m           ^~~~~~\n",
      "\u001b[0m"
     ]
    }
   ],
   "source": [
    "int* range(const int v){ // Specify const v here because we don't plan on changing v (required by array)\n",
    "    \n",
    "    int values[v]; // declared on stack (will be removed from memory once out of function scope)\n",
    "    \n",
    "    for (int i = 0; i < v; i++){\n",
    "        \n",
    "        values[i] = i;\n",
    "    }\n",
    "    \n",
    "    return values; // decays to pointer to the first element hence the return value is int*\n",
    "}"
   ]
  },
  {
   "cell_type": "markdown",
   "id": "loaded-cursor",
   "metadata": {},
   "source": [
    "The memory allocated for 'values' of size (v x 4) bytes is freed once the function returns and therefore the pointer points to an invalid memory location. How can we get around this so that our range() function returns the array?\n",
    "\n",
    "1. Delcare the array as static (this way it is held in static space not the stack or heap and exists for the lifetime of the program)\n",
    "2. Pass the array to the function\n",
    "3. Allocate memory for the array on heap (RAM) to be manually removed using free() so as not to have memory leaks"
   ]
  },
  {
   "cell_type": "code",
   "execution_count": 53,
   "id": "elementary-automation",
   "metadata": {},
   "outputs": [],
   "source": [
    "// 2. Pass the array to the function (doesn't quite behave like range in Python)\n",
    "\n",
    "const int v = 5;\n",
    "int vals[v];"
   ]
  },
  {
   "cell_type": "code",
   "execution_count": 54,
   "id": "positive-battlefield",
   "metadata": {},
   "outputs": [],
   "source": [
    "void range(const int v, int* values){\n",
    "    \n",
    "    for (int i = 0; i < v; i++){\n",
    "        \n",
    "        values[i] = i;\n",
    "    }\n",
    "    \n",
    "} "
   ]
  },
  {
   "cell_type": "code",
   "execution_count": 55,
   "id": "atomic-philadelphia",
   "metadata": {},
   "outputs": [],
   "source": [
    "range(v, vals);"
   ]
  },
  {
   "cell_type": "code",
   "execution_count": 56,
   "id": "clean-sellers",
   "metadata": {},
   "outputs": [
    {
     "name": "stdout",
     "output_type": "stream",
     "text": [
      "01234"
     ]
    }
   ],
   "source": [
    "for (int i = 0; i < v; i++){ printf(\"%d\", vals[i]); } // x = range(5); for i in x: print(i)"
   ]
  },
  {
   "cell_type": "code",
   "execution_count": 57,
   "id": "blessed-injection",
   "metadata": {},
   "outputs": [],
   "source": [
    "// 3. Dynamic allocation of memory (this behaves more like the range object in Python but this is a function)\n",
    "\n",
    "int* range(const int v){\n",
    "    \n",
    "    int* values = (int*)malloc(v*sizeof(int)); // Allocate memory on heap\n",
    "    \n",
    "    for (int i = 0; i < v; i++){ values[i] = i; }\n",
    "    \n",
    "    return values;\n",
    "}"
   ]
  },
  {
   "cell_type": "code",
   "execution_count": 58,
   "id": "relative-stuart",
   "metadata": {},
   "outputs": [
    {
     "name": "stdout",
     "output_type": "stream",
     "text": [
      "01234"
     ]
    }
   ],
   "source": [
    "int* my_range = range(5); // x = range(5); for i in x: print(i)\n",
    "\n",
    "for (int i = 0; i < 5; i++){ \n",
    "    printf(\"%d\", my_range[i]); \n",
    "}\n",
    "\n",
    "free(my_range); // free() <-- without this we would have memory leak"
   ]
  },
  {
   "cell_type": "code",
   "execution_count": 59,
   "id": "peaceful-comedy",
   "metadata": {},
   "outputs": [
    {
     "name": "stderr",
     "output_type": "stream",
     "text": [
      "\u001b[1minput_line_73:3:15: \u001b[0m\u001b[0;1;31merror: \u001b[0m\u001b[1mmember reference base type 'int *' is not a structure or union\u001b[0m\n",
      "printf(\"%d\", y.start); // Error\n",
      "\u001b[0;1;32m             ~^~~~~~\n",
      "\u001b[0m\u001b[1minput_line_73:4:15: \u001b[0m\u001b[0;1;31merror: \u001b[0m\u001b[1mmember reference base type 'int *' is not a structure or union\u001b[0m\n",
      "printf(\"%d\", y.stop);\n",
      "\u001b[0;1;32m             ~^~~~~\n",
      "\u001b[0m\u001b[1minput_line_73:5:15: \u001b[0m\u001b[0;1;31merror: \u001b[0m\u001b[1mmember reference base type 'int *' is not a structure or union\u001b[0m\n",
      "printf(\"%d\", y.step);\n",
      "\u001b[0;1;32m             ~^~~~~\n",
      "\u001b[0m"
     ]
    },
    {
     "ename": "Interpreter Error",
     "evalue": "",
     "output_type": "error",
     "traceback": [
      "Interpreter Error: "
     ]
    }
   ],
   "source": [
    "int* y = range(3);\n",
    "\n",
    "printf(\"%d\", y.start); // Error\n",
    "printf(\"%d\", y.stop);\n",
    "printf(\"%d\", y.step);"
   ]
  },
  {
   "cell_type": "markdown",
   "id": "portable-updating",
   "metadata": {},
   "source": [
    "We cannot access these attributes because we have only defined a function to mimic the behavior seen in Python. Although C is not an object-oriented language, we can create structs and functions which behave in a similar manner.\n",
    "\n",
    "We will introduce this topic in future sessions."
   ]
  },
  {
   "cell_type": "markdown",
   "id": "listed-jordan",
   "metadata": {},
   "source": [
    "#### Other types in C"
   ]
  },
  {
   "cell_type": "code",
   "execution_count": null,
   "id": "spanish-approach",
   "metadata": {},
   "outputs": [],
   "source": [
    "enum week { Mon, Tues, Wed, Thurs, Fri }; // declare enumeration of strings"
   ]
  },
  {
   "cell_type": "code",
   "execution_count": null,
   "id": "retained-invasion",
   "metadata": {},
   "outputs": [],
   "source": [
    "week day = Mon;\n",
    "\n",
    "printf(\"%d\\n\", Mon);\n",
    "printf(\"%d\\n\", Tues);\n",
    "printf(\"%d\\n\", Wed);\n",
    "\n",
    "for (int i = 0; i <= Fri; i++){\n",
    "    printf(\"Day #%d\\n\", i+1);\n",
    "}"
   ]
  },
  {
   "cell_type": "code",
   "execution_count": null,
   "id": "wound-poetry",
   "metadata": {},
   "outputs": [],
   "source": [
    "union Pizza{  // Declare the union - uses same memory location for different variable types\n",
    "    \n",
    "    const char* name; // Variable declarations held here (cannot define)\n",
    "    \n",
    "};\n",
    "\n",
    "union Pizza place; // instantiate the union as 'place'\n",
    "\n",
    "place.name = \"Pizza Place\"; // define the attribute 'name' as \"Pizza Place\"\n",
    "\n",
    "printf(\"%s\\n\", place.name); // Access this attribute using dot operator\n",
    "\n",
    ";"
   ]
  },
  {
   "cell_type": "code",
   "execution_count": null,
   "id": "connected-cartridge",
   "metadata": {},
   "outputs": [],
   "source": [
    "// Ex.\n",
    "\n",
    "union Pizza parlor; // Declare another union of the same type 'Pizza'\n",
    "\n",
    "parlor.name = \"Parlor Place\";"
   ]
  },
  {
   "cell_type": "code",
   "execution_count": null,
   "id": "stupid-encoding",
   "metadata": {},
   "outputs": [],
   "source": [
    "void union_function(union Pizza* var_name){\n",
    "    \n",
    "    printf(\"%s\\n\", var_name->name); // Passing Pizza union as a pointer hence '->' arrow operator is used\n",
    "    \n",
    "}"
   ]
  },
  {
   "cell_type": "code",
   "execution_count": null,
   "id": "aggregate-guatemala",
   "metadata": {},
   "outputs": [],
   "source": [
    "union_function(&place);\n",
    "union_function(&parlor);"
   ]
  },
  {
   "cell_type": "code",
   "execution_count": null,
   "id": "pediatric-anatomy",
   "metadata": {},
   "outputs": [],
   "source": [
    "struct Pie{\n",
    "  \n",
    "    const char* name = \"Pizza Place\"; // We can define our variables within a struct, however.\n",
    "    int slices = 8;\n",
    "    \n",
    "}; // 'p' can also be declared here before the ';'.\n",
    "\n",
    "Pie p;\n",
    "\n",
    "printf(\"Name: %s\\n\", p.name);\n",
    "printf(\"Slices: %d\\n\", p.slices);"
   ]
  },
  {
   "cell_type": "code",
   "execution_count": null,
   "id": "modern-graduate",
   "metadata": {},
   "outputs": [],
   "source": [
    "void struct_function(struct Pie* some_name){\n",
    "    \n",
    "    if (some_name->slices == 8){\n",
    "        printf(\"We have a whole %d slice pizza pie.\", some_name->slices);\n",
    "    }\n",
    "    \n",
    "}"
   ]
  },
  {
   "cell_type": "code",
   "execution_count": null,
   "id": "affected-heath",
   "metadata": {},
   "outputs": [],
   "source": [
    "struct_function(&p);"
   ]
  },
  {
   "cell_type": "markdown",
   "id": "waiting-delicious",
   "metadata": {},
   "source": [
    "#### Of course, there is a lot more to C than presented here. \n",
    "\n",
    "#### Before we end I will demonstrate how a C program can be written and compiled (using gcc) outside of this Jupyter environment."
   ]
  }
 ],
 "metadata": {
  "kernelspec": {
   "display_name": "C++17",
   "language": "C++17",
   "name": "xcpp17"
  },
  "language_info": {
   "codemirror_mode": "text/x-c++src",
   "file_extension": ".cpp",
   "mimetype": "text/x-c++src",
   "name": "c++",
   "version": "17"
  }
 },
 "nbformat": 4,
 "nbformat_minor": 5
}
