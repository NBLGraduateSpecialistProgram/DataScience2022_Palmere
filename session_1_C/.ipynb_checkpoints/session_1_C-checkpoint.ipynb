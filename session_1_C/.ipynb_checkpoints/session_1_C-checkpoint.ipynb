{
 "cells": [
  {
   "cell_type": "markdown",
   "id": "excellent-jacksonville",
   "metadata": {},
   "source": [
    "#### Introduction to C\n",
    "\n",
    "#### Robert Palmere, 2021\n",
    "\n",
    "#### Email: rdp135@chem.rutgers.edu\n",
    "\n",
    "------\n",
    "\n",
    "##### Topics:\n",
    "\n",
    "* Basic Types\n",
    "* Arrays\n",
    "* Loops\n",
    "* Conditions\n",
    "* Functions\n",
    "\n",
    "Note - ';' used at the end of cells to limit output."
   ]
  },
  {
   "cell_type": "markdown",
   "id": "downtown-species",
   "metadata": {},
   "source": [
    "#### Objectives:\n",
    "\n",
    "1. Provide exposure to mid-level programming\n",
    "2. Introductory level overview of C syntax and structure with comparisons to Python."
   ]
  },
  {
   "cell_type": "markdown",
   "id": "sixth-price",
   "metadata": {},
   "source": [
    "Code is commented out using '//' or '/* */'."
   ]
  },
  {
   "cell_type": "code",
   "execution_count": null,
   "id": "coastal-forest",
   "metadata": {},
   "outputs": [],
   "source": [
    "printf(\"Hello World!\"); // <-- ; is required after line in C\n",
    "\n",
    "// printf(\"Hello World!\")\n",
    "\n",
    "/*\n",
    "printf(\"Hello World!\")\n",
    "*/\n",
    "\n",
    ";"
   ]
  },
  {
   "cell_type": "markdown",
   "id": "animated-maine",
   "metadata": {},
   "source": [
    "#### C Program Structure:"
   ]
  },
  {
   "cell_type": "markdown",
   "id": "advised-wrist",
   "metadata": {},
   "source": [
    "< header files >\n",
    "\n",
    "< function delcarations / definitions >\n",
    "\n",
    "int main(){\n",
    "\n",
    "    return 0;\n",
    "}\n",
    "\n",
    "< function definitions *if* declared above >"
   ]
  },
  {
   "cell_type": "markdown",
   "id": "finnish-printing",
   "metadata": {},
   "source": [
    "Types need to be specified preceeding the declaration of a variable. The type defines the storage space in bytes."
   ]
  },
  {
   "cell_type": "code",
   "execution_count": null,
   "id": "brave-custom",
   "metadata": {},
   "outputs": [],
   "source": [
    "printf(\"%lu\\n\", sizeof(char));          //  1 byte\n",
    "printf(\"%lu\\n\", sizeof(bool));          //  1 byte\n",
    "printf(\"%lu\\n\", sizeof(int));           //  4 bytes\n",
    "printf(\"%lu\\n\", sizeof(float));         //  4 bytes\n",
    "printf(\"%lu\\n\", sizeof(double));        //  8 bytes\n",
    "printf(\"%lu\\n\", sizeof(size_t));        //  8 bytes\n",
    "printf(\"%lu\\n\", sizeof(long double));   // 16 bytes\n",
    "\n",
    ";"
   ]
  },
  {
   "cell_type": "markdown",
   "id": "resistant-democrat",
   "metadata": {},
   "source": [
    "Here we use the C library, printf() and sizeof() functions, to acquire and print the storage capacity of each of several types. \n",
    "\n",
    "By specifiying a particular data type for our variable, we are able to have direct control over the amount of memory allocated."
   ]
  },
  {
   "cell_type": "markdown",
   "id": "hollywood-particular",
   "metadata": {},
   "source": [
    "Casting"
   ]
  },
  {
   "cell_type": "code",
   "execution_count": null,
   "id": "level-australia",
   "metadata": {},
   "outputs": [],
   "source": [
    "char x = '0'; // Define x as char '0'\n",
    "\n",
    "printf(\"%c\", x);"
   ]
  },
  {
   "cell_type": "code",
   "execution_count": null,
   "id": "fixed-junior",
   "metadata": {},
   "outputs": [],
   "source": [
    "x = int(x); // We cannot cast like we would using the function int() in Python -- ASCII value (numerical representation) of '0' is 48\n",
    "\n",
    "printf(\"%d\", x);"
   ]
  },
  {
   "cell_type": "code",
   "execution_count": null,
   "id": "stock-liberia",
   "metadata": {},
   "outputs": [],
   "source": [
    "x = (int)x; // Same thing here\n",
    "\n",
    "printf(\"%d\", x);"
   ]
  },
  {
   "cell_type": "code",
   "execution_count": null,
   "id": "resident-sperm",
   "metadata": {},
   "outputs": [],
   "source": [
    "x = x - '0'; // Why did this work? - ASCII value of '0' is 48 so 48-48 = 0 as an integer.\n",
    "\n",
    "printf(\"%d\", x);"
   ]
  },
  {
   "cell_type": "code",
   "execution_count": null,
   "id": "fleet-prize",
   "metadata": {},
   "outputs": [],
   "source": [
    "// We can do the same thing with other chars but they will be strings past a single digit\n",
    "\n",
    "\n",
    "const char* c = \"27\";\n",
    "\n",
    "c = c - '0'; // This doesn't work now because there are two digits in our string\n",
    "\n",
    "printf(\"%d\", c);"
   ]
  },
  {
   "cell_type": "code",
   "execution_count": null,
   "id": "perfect-diesel",
   "metadata": {},
   "outputs": [],
   "source": [
    "const char* c = \"27\";\n",
    "\n",
    "c = atoi(c);\n",
    "\n",
    "printf(\"%d%d\", c);"
   ]
  },
  {
   "cell_type": "markdown",
   "id": "sought-socket",
   "metadata": {},
   "source": [
    "We can also use the atoi() function to convert a char to an integer from the standard library. Other functions like this exist for convenience."
   ]
  },
  {
   "cell_type": "code",
   "execution_count": null,
   "id": "binding-collection",
   "metadata": {},
   "outputs": [],
   "source": [
    "#include <cstdlib>\n",
    "\n",
    "char x = '0';\n",
    "\n",
    "x = atoi(&x); // expects argument address to be passed (see documentation)\n",
    "\n",
    "printf(\"%d\", x);\n",
    "\n",
    "x = atof(&x); // can also convert to float\n",
    "\n"
   ]
  },
  {
   "cell_type": "markdown",
   "id": "demanding-russell",
   "metadata": {},
   "source": [
    "We saw that there were many containers predefined by Python and their applications including:\n",
    "\n",
    "* range\n",
    "* list\n",
    "* tuple\n",
    "* dict\n",
    "* set\n",
    "\n",
    "As a mid-level programming language, these do not exist by default. Recreating the functionality of these containers, however, is possible using external libraries or by writing our own code."
   ]
  },
  {
   "cell_type": "markdown",
   "id": "potential-recipient",
   "metadata": {},
   "source": [
    "Instead of various container objects, C uses arrays with each cell of our array corresponding to a memory address."
   ]
  },
  {
   "cell_type": "code",
   "execution_count": null,
   "id": "seasonal-silicon",
   "metadata": {},
   "outputs": [],
   "source": [
    "int array; // Declaration of array as an integer\n",
    "\n",
    "printf(\"%lu\", sizeof(array));"
   ]
  },
  {
   "cell_type": "code",
   "execution_count": null,
   "id": "covered-myrtle",
   "metadata": {},
   "outputs": [],
   "source": [
    "int array[5]; // Declaration of an array that contains space for 5 integers\n",
    "\n",
    "printf(\"Size of array in bytes: %lu\\n\", sizeof(array));\n",
    "printf(\"Size of type int in bytes: %lu\\n\", sizeof(int));\n",
    "\n",
    "printf(\"Number of available columns in the 1D array: %lu\", sizeof(array)/sizeof(int));"
   ]
  },
  {
   "cell_type": "markdown",
   "id": "assumed-grocery",
   "metadata": {},
   "source": [
    "We can also initialize an array when we declare it."
   ]
  },
  {
   "cell_type": "code",
   "execution_count": null,
   "id": "conventional-problem",
   "metadata": {},
   "outputs": [],
   "source": [
    "int array[5] = {1, 2, 3, 4, 5};\n",
    "\n",
    "printf(\"%d\", array);"
   ]
  },
  {
   "cell_type": "markdown",
   "id": "greatest-brown",
   "metadata": {},
   "source": [
    "The above line declares an array that can hold 5 integers. When we print this array using \"%d\", which would suffice as a place holder for an integer, we recieve a compiler warning that printf() expects type int but we passed type int*. Why is this?"
   ]
  },
  {
   "cell_type": "markdown",
   "id": "religious-territory",
   "metadata": {},
   "source": [
    "#### Pointers\n",
    "\n",
    "The values of our array are indeed of type int. However, we passed an array which __points__ to the various memory addresses which hold the integers."
   ]
  },
  {
   "cell_type": "code",
   "execution_count": null,
   "id": "czech-wells",
   "metadata": {},
   "outputs": [],
   "source": [
    "int a[5]; // Delcaration of an array 'a' with space for 5 integers.\n",
    "\n",
    "&a[0] // Reference operator '&' allows us to see the memory address being referenced by 'a[0]'"
   ]
  },
  {
   "cell_type": "code",
   "execution_count": null,
   "id": "dressed-butler",
   "metadata": {},
   "outputs": [],
   "source": [
    "&a // Memory address of the array"
   ]
  },
  {
   "cell_type": "markdown",
   "id": "latest-termination",
   "metadata": {},
   "source": [
    "Notice that the two addresses are the same for the array, and the first element of the array. This is because an array points to the first element by default."
   ]
  },
  {
   "cell_type": "markdown",
   "id": "miniature-demonstration",
   "metadata": {},
   "source": [
    "We can use the dereference operator to see the value held at this memory address."
   ]
  },
  {
   "cell_type": "code",
   "execution_count": null,
   "id": "mediterranean-selection",
   "metadata": {},
   "outputs": [],
   "source": [
    "*&a[0] // Use of the dereference operator, '*', to get the value located at the above memory address."
   ]
  },
  {
   "cell_type": "code",
   "execution_count": null,
   "id": "increased-generator",
   "metadata": {},
   "outputs": [],
   "source": [
    "printf(\"%d\", a[0]); // We pass the int held at the first memory address which works"
   ]
  },
  {
   "cell_type": "markdown",
   "id": "social-relative",
   "metadata": {},
   "source": [
    "Unlike Python, this allows us to pass arguments to a function in two ways:\n",
    "\n",
    "1. By value\n",
    "2. By reference\n",
    "\n",
    "Let's first take a look at how we declare and define functions in C.\n",
    "\n",
    "syntax: [return type] [name]([arg type] [name]){ [function scope] }"
   ]
  },
  {
   "cell_type": "code",
   "execution_count": null,
   "id": "unauthorized-hello",
   "metadata": {},
   "outputs": [],
   "source": [
    "void f(int x){ printf(\"%d\\n\", x); } // passed by value"
   ]
  },
  {
   "cell_type": "code",
   "execution_count": null,
   "id": "suitable-platinum",
   "metadata": {},
   "outputs": [],
   "source": [
    "f(1)"
   ]
  },
  {
   "cell_type": "code",
   "execution_count": null,
   "id": "therapeutic-correspondence",
   "metadata": {},
   "outputs": [],
   "source": [
    "void f(int& x){ printf(\"%d\\n\", x); } // passed by reference"
   ]
  },
  {
   "cell_type": "code",
   "execution_count": null,
   "id": "experienced-cocktail",
   "metadata": {},
   "outputs": [],
   "source": [
    "f(1)"
   ]
  },
  {
   "cell_type": "markdown",
   "id": "faced-geography",
   "metadata": {},
   "source": [
    "The difference is that passing by value creates a copy of the passed variable at a new address, whereas passing by reference uses the existing memory location as that which was passed."
   ]
  },
  {
   "cell_type": "code",
   "execution_count": null,
   "id": "innovative-health",
   "metadata": {},
   "outputs": [],
   "source": [
    "void by_value(int x){ printf(\"memory address of v passed by value: %p\\n\", &x); }"
   ]
  },
  {
   "cell_type": "code",
   "execution_count": null,
   "id": "painted-device",
   "metadata": {},
   "outputs": [],
   "source": [
    "void by_reference(int& x){ printf(\"memory address of v passed by reference: %p\\n\", &x); }"
   ]
  },
  {
   "cell_type": "code",
   "execution_count": null,
   "id": "swiss-legislature",
   "metadata": {},
   "outputs": [],
   "source": [
    "int v = 1;\n",
    "\n",
    "printf(\"int v memory address: %p\\n\", &v);\n",
    "\n",
    "by_value(v);\n",
    "by_reference(v); // Same memory already being used by v"
   ]
  },
  {
   "cell_type": "markdown",
   "id": "junior-prediction",
   "metadata": {},
   "source": [
    "By using this existing address we save on the memory requirements of our program. Also, we gain access to modify variables outside of the function scope:"
   ]
  },
  {
   "cell_type": "code",
   "execution_count": null,
   "id": "growing-armenia",
   "metadata": {},
   "outputs": [],
   "source": [
    "void add_one(int& b){ b += 1; }"
   ]
  },
  {
   "cell_type": "code",
   "execution_count": null,
   "id": "fleet-luxury",
   "metadata": {},
   "outputs": [],
   "source": [
    "printf(\"%d\", v); // value of int v = 1"
   ]
  },
  {
   "cell_type": "code",
   "execution_count": null,
   "id": "introductory-scholarship",
   "metadata": {},
   "outputs": [],
   "source": [
    "add_one(v);\n",
    "\n",
    "printf(\"%d\", v); // value of v +1 from within the function without returning a value at a new address"
   ]
  },
  {
   "cell_type": "code",
   "execution_count": null,
   "id": "brave-success",
   "metadata": {},
   "outputs": [],
   "source": [
    "int with_return(int& b){ b += 1; return b; }"
   ]
  },
  {
   "cell_type": "code",
   "execution_count": null,
   "id": "genuine-blame",
   "metadata": {},
   "outputs": [],
   "source": [
    "int r = with_return(v);\n",
    "\n",
    "printf(\"%d\\n\", r);\n",
    "printf(\"Original: %p\\n\", &v);\n",
    "printf(\"Returned: %p\\n\", &r); // New memory address"
   ]
  },
  {
   "cell_type": "markdown",
   "id": "educational-compromise",
   "metadata": {},
   "source": [
    "__Passing by reference is not available in C__! \n",
    "\n",
    "Instead, we can emulate this behavior by passing the address by value and dereferencing it within the function:"
   ]
  },
  {
   "cell_type": "code",
   "execution_count": null,
   "id": "confidential-wealth",
   "metadata": {},
   "outputs": [],
   "source": [
    "void add_another(int* x){\n",
    "    printf(\"%p\", x); // the address being pointed to\n",
    "    (*x)++; // add one to the value being pointed to\n",
    "}"
   ]
  },
  {
   "cell_type": "code",
   "execution_count": null,
   "id": "hairy-wheat",
   "metadata": {},
   "outputs": [],
   "source": [
    "add_another(&v);\n",
    "\n",
    "printf(\"\\n%d\", v); // v has been changed outside the function scope"
   ]
  },
  {
   "cell_type": "markdown",
   "id": "later-adolescent",
   "metadata": {},
   "source": [
    "Recursion works in C just as was demonstrated in the Python session."
   ]
  },
  {
   "cell_type": "code",
   "execution_count": null,
   "id": "thousand-payroll",
   "metadata": {},
   "outputs": [],
   "source": [
    "int fib_recursion(int n){\n",
    "    \n",
    "    if (n <= 1) // Notice we don't *need* the '{}' here. Scope is defined by indentation in this case. I usually avoid this for clarity.\n",
    "        return n;\n",
    "    else\n",
    "        return fib_recursion(n-1)+fib_recursion(n-2);\n",
    "}"
   ]
  },
  {
   "cell_type": "code",
   "execution_count": null,
   "id": "first-graduation",
   "metadata": {},
   "outputs": [],
   "source": [
    "for (int i = 0; i < 10; i++){ printf(\"%d\\n\", fib_recursion(i)); }"
   ]
  },
  {
   "cell_type": "markdown",
   "id": "institutional-stereo",
   "metadata": {},
   "source": [
    "#### Conditional Statements"
   ]
  },
  {
   "cell_type": "code",
   "execution_count": null,
   "id": "corporate-wagon",
   "metadata": {},
   "outputs": [],
   "source": [
    "1 == 1 // This returns true (boolean)"
   ]
  },
  {
   "cell_type": "code",
   "execution_count": null,
   "id": "naked-person",
   "metadata": {},
   "outputs": [],
   "source": [
    "if 1 == 1{  // Unlike Python, '()' is required \n",
    "    printf(\"1 = 1 is true.\");\n",
    "}"
   ]
  },
  {
   "cell_type": "code",
   "execution_count": null,
   "id": "boxed-battery",
   "metadata": {},
   "outputs": [],
   "source": [
    "if (1 == 1){\n",
    "    printf(\"1 = 1 is true.\");\n",
    "}"
   ]
  },
  {
   "cell_type": "code",
   "execution_count": null,
   "id": "czech-copying",
   "metadata": {},
   "outputs": [],
   "source": [
    "if (1 == 1 && 1 != 2){ // Python's 'and' is replaced with '&&'\n",
    "    printf(\"1 equals 1 and 1 does not equal 2.\");\n",
    "}"
   ]
  },
  {
   "cell_type": "code",
   "execution_count": null,
   "id": "rolled-salmon",
   "metadata": {},
   "outputs": [],
   "source": [
    "if (1 == 1 || 1 == 2){ // Python's 'or' is replaced with '||'\n",
    "    printf(\"1 equals 1.\");\n",
    "}"
   ]
  },
  {
   "cell_type": "markdown",
   "id": "metropolitan-watch",
   "metadata": {},
   "source": [
    "C also has a way of handling conditions, which Python does not, using switch statements."
   ]
  },
  {
   "cell_type": "code",
   "execution_count": null,
   "id": "automated-opposition",
   "metadata": {},
   "outputs": [],
   "source": [
    "// Ex.\n",
    "\n",
    "char grade = 'A';\n",
    "\n",
    "switch(grade){\n",
    "    case 'A':\n",
    "        printf(\"A.\");\n",
    "        break;\n",
    "    case 'B':\n",
    "        printf(\"B.\");\n",
    "        break;\n",
    "    default:\n",
    "        printf(\"Grade not found.\");\n",
    "}\n",
    "        \n"
   ]
  },
  {
   "cell_type": "code",
   "execution_count": null,
   "id": "amazing-sunset",
   "metadata": {},
   "outputs": [],
   "source": [
    "char grade = 'K'; // Grade not included as a case\n",
    "\n",
    "switch(grade){\n",
    "    case 'A':\n",
    "        printf(\"A.\");\n",
    "        break;\n",
    "    case 'B':\n",
    "        printf(\"B.\");\n",
    "        break;\n",
    "    default:\n",
    "        printf(\"Grade not found.\");\n",
    "}"
   ]
  },
  {
   "cell_type": "markdown",
   "id": "apart-anderson",
   "metadata": {},
   "source": [
    "The benefit of using switch statements over if statements is runtime speeds. Where each option is checked by if statments, a switch case does not."
   ]
  },
  {
   "cell_type": "markdown",
   "id": "flying-mainstream",
   "metadata": {},
   "source": [
    "#### Control Flow"
   ]
  },
  {
   "cell_type": "markdown",
   "id": "immune-confirmation",
   "metadata": {},
   "source": [
    "Just like in Python, C has control flow with for loops and while loops."
   ]
  },
  {
   "cell_type": "code",
   "execution_count": null,
   "id": "mental-authorization",
   "metadata": {},
   "outputs": [],
   "source": [
    "for (int i = 0; i < 5; i++){ // declaration of i and definition\n",
    "    printf(\"%d\", i); \n",
    "}"
   ]
  },
  {
   "cell_type": "code",
   "execution_count": null,
   "id": "australian-ballot",
   "metadata": {},
   "outputs": [],
   "source": [
    "int i;\n",
    "\n",
    "for (i = 0; i < 5 ; ++i){ // already declared\n",
    "    printf(\"%d\", i); \n",
    "}"
   ]
  },
  {
   "cell_type": "code",
   "execution_count": null,
   "id": "close-magnitude",
   "metadata": {},
   "outputs": [],
   "source": [
    "int i = 0;\n",
    "\n",
    "for (; i < 5 ; ++i){ // already declared and defined\n",
    "    printf(\"%d\", i); \n",
    "}"
   ]
  },
  {
   "cell_type": "code",
   "execution_count": null,
   "id": "existing-lincoln",
   "metadata": {},
   "outputs": [],
   "source": [
    "for (int j = 0; j < sizeof(array)/sizeof(int) ; j++){ // print all elements of array[5]\n",
    "    printf(\"%d\", array[j]); \n",
    "}"
   ]
  },
  {
   "cell_type": "code",
   "execution_count": null,
   "id": "beneficial-publisher",
   "metadata": {},
   "outputs": [],
   "source": [
    "int x = true;\n",
    "int counter = 0;\n",
    "\n",
    "while (x){\n",
    "    \n",
    "    printf(\"%d\", counter);\n",
    "    counter++; // iterate by +1\n",
    "    \n",
    "    if (counter == 10){ // Python doesn't require '()' around condition\n",
    "        \n",
    "        x = false;\n",
    "        \n",
    "    }\n",
    "}"
   ]
  },
  {
   "cell_type": "code",
   "execution_count": null,
   "id": "careful-segment",
   "metadata": {},
   "outputs": [],
   "source": [
    "counter = 0; // reset\n",
    "x = true;\n",
    "\n",
    "do{\n",
    "   \n",
    "    printf(\"%d\", counter);\n",
    "    counter++; // iterate by +1\n",
    "    \n",
    "    if (counter == 10){ // Python doesn't require '()' around condition\n",
    "        \n",
    "        x = false;\n",
    "        \n",
    "    }\n",
    "} while (x);"
   ]
  },
  {
   "cell_type": "markdown",
   "id": "overhead-portsmouth",
   "metadata": {},
   "source": [
    "With this information we can recreate the functionality of Python containers. We will start with *range*."
   ]
  },
  {
   "cell_type": "code",
   "execution_count": null,
   "id": "valuable-calcium",
   "metadata": {},
   "outputs": [],
   "source": [
    "int* range(const int v){ // Specify const v here because we don't plan on changing v (required by array)\n",
    "    \n",
    "    int values[v]; // declared on stack (will be removed from memory once out of function scope)\n",
    "    \n",
    "    for (int i = 0; i < v; i++){\n",
    "        \n",
    "        values[i] = i;\n",
    "    }\n",
    "    \n",
    "    return values; // decays to pointer to the first element hence the return value is int*\n",
    "}"
   ]
  },
  {
   "cell_type": "markdown",
   "id": "dimensional-barrier",
   "metadata": {},
   "source": [
    "The memory allocated for 'values' of size (v x 4) bytes is freed once the function returns and therefore the pointer points to an invalid memory location. How can we get around this so that our range() function returns the array?\n",
    "\n",
    "1. Delcare the array as static (this way it is held in static space not the stack or heap and exists for the lifetime of the program)\n",
    "2. Pass the array to the function\n",
    "3. Allocate memory for the array on heap (RAM) to be manually removed using free() so as not to have memory leaks"
   ]
  },
  {
   "cell_type": "code",
   "execution_count": null,
   "id": "moved-extraction",
   "metadata": {},
   "outputs": [],
   "source": [
    "// 2. Pass the array to the function (doesn't quite behave like range in Python)\n",
    "\n",
    "const int v = 5;\n",
    "int vals[v];"
   ]
  },
  {
   "cell_type": "code",
   "execution_count": null,
   "id": "trained-residence",
   "metadata": {},
   "outputs": [],
   "source": [
    "void range(const int v, int* values){\n",
    "    \n",
    "    for (int i = 0; i < v; i++){\n",
    "        \n",
    "        values[i] = i;\n",
    "    }\n",
    "    \n",
    "}"
   ]
  },
  {
   "cell_type": "code",
   "execution_count": null,
   "id": "governmental-repository",
   "metadata": {},
   "outputs": [],
   "source": [
    "range(v, vals);"
   ]
  },
  {
   "cell_type": "code",
   "execution_count": null,
   "id": "bearing-whale",
   "metadata": {},
   "outputs": [],
   "source": [
    "for (int i = 0; i < v; i++){ printf(\"%d\", vals[i]); }"
   ]
  },
  {
   "cell_type": "code",
   "execution_count": null,
   "id": "simple-physiology",
   "metadata": {},
   "outputs": [],
   "source": [
    "// 3. Dynamic allocation of memory (this behaves more like the range object in Python but this is a function)\n",
    "\n",
    "int* range(const int v){\n",
    "    \n",
    "    int* values = (int*)malloc(v*sizeof(int)); // Allocate memory on heap\n",
    "    \n",
    "    for (int i = 0; i < v; i++){ values[i] = i; }\n",
    "    \n",
    "    return values;\n",
    "}"
   ]
  },
  {
   "cell_type": "code",
   "execution_count": null,
   "id": "brutal-program",
   "metadata": {},
   "outputs": [],
   "source": [
    "int* my_range = range(5);\n",
    "\n",
    "for (int i = 0; i < 5; i++){ \n",
    "    printf(\"%d\", my_range[i]); \n",
    "}\n",
    "\n",
    "free(my_range); // free() "
   ]
  },
  {
   "cell_type": "code",
   "execution_count": null,
   "id": "sensitive-omaha",
   "metadata": {},
   "outputs": [],
   "source": [
    "int* y = range(3);\n",
    "\n",
    "printf(\"%d\", y.start); // Error\n",
    "printf(\"%d\", y.stop);\n",
    "printf(\"%d\", y.step);"
   ]
  },
  {
   "cell_type": "markdown",
   "id": "fifth-writing",
   "metadata": {},
   "source": [
    "We cannot access these attributes because we have only defined a function to mimic the behavior seen in Python. Although C is not an object-oriented language, we can create structs and functions which behave in a similar manner.\n",
    "\n",
    "We will introduce this topic in future sessions."
   ]
  },
  {
   "cell_type": "markdown",
   "id": "excess-resort",
   "metadata": {},
   "source": [
    "#### Other types in C"
   ]
  },
  {
   "cell_type": "code",
   "execution_count": null,
   "id": "assisted-ground",
   "metadata": {},
   "outputs": [],
   "source": [
    "enum week { Mon, Tues, Wed, Thurs, Fri }; // declare enumeration of strings"
   ]
  },
  {
   "cell_type": "code",
   "execution_count": null,
   "id": "crucial-spell",
   "metadata": {},
   "outputs": [],
   "source": [
    "week day = Mon;\n",
    "\n",
    "printf(\"%d\\n\", Mon);\n",
    "printf(\"%d\\n\", Tues);\n",
    "printf(\"%d\\n\", Wed);\n",
    "\n",
    "for (int i = 0; i <= Fri; i++){\n",
    "    printf(\"Day #%d\\n\", i+1);\n",
    "}"
   ]
  },
  {
   "cell_type": "code",
   "execution_count": null,
   "id": "august-scott",
   "metadata": {},
   "outputs": [],
   "source": [
    "union Pizza{  // Declare the union - uses same memory location for different variable types\n",
    "    \n",
    "    const char* name; // Variable declarations held here (cannot define)\n",
    "    \n",
    "};\n",
    "\n",
    "union Pizza place; // instantiate the union as 'place'\n",
    "\n",
    "place.name = \"Pizza Place\"; // define the attribute 'name' as \"Pizza Place\"\n",
    "\n",
    "printf(\"%s\\n\", place.name); // Access this attribute using dot operator\n",
    "\n",
    ";"
   ]
  },
  {
   "cell_type": "code",
   "execution_count": null,
   "id": "imperial-baltimore",
   "metadata": {},
   "outputs": [],
   "source": [
    "// Ex.\n",
    "\n",
    "union Pizza parlor; // Declare another union of the same type 'Pizza'\n",
    "\n",
    "parlor.name = \"Parlor Place\";"
   ]
  },
  {
   "cell_type": "code",
   "execution_count": null,
   "id": "increasing-technology",
   "metadata": {},
   "outputs": [],
   "source": [
    "void union_function(union Pizza* var_name){\n",
    "    \n",
    "    printf(\"%s\\n\", var_name->name); // Passing Pizza union as a pointer hence '->' arrow operator is used\n",
    "    \n",
    "}"
   ]
  },
  {
   "cell_type": "code",
   "execution_count": null,
   "id": "egyptian-subject",
   "metadata": {},
   "outputs": [],
   "source": [
    "union_function(&place);\n",
    "union_function(&parlor);"
   ]
  },
  {
   "cell_type": "code",
   "execution_count": null,
   "id": "threaded-myanmar",
   "metadata": {},
   "outputs": [],
   "source": [
    "struct Pie{\n",
    "  \n",
    "    const char* name = \"Pizza Place\"; // We can define our variables within a struct, however.\n",
    "    int slices = 8;\n",
    "    \n",
    "}; // 'p' can also be declared here before the ';'.\n",
    "\n",
    "Pie p;\n",
    "\n",
    "printf(\"Name: %s\\n\", p.name);\n",
    "printf(\"Slices: %d\\n\", p.slices);"
   ]
  },
  {
   "cell_type": "code",
   "execution_count": null,
   "id": "psychological-basis",
   "metadata": {},
   "outputs": [],
   "source": [
    "void struct_function(struct Pie* some_name){\n",
    "    \n",
    "    if (some_name->slices == 8){\n",
    "        printf(\"We have a whole %d slice pizza pie.\", some_name->slices);\n",
    "    }\n",
    "    \n",
    "}"
   ]
  },
  {
   "cell_type": "code",
   "execution_count": null,
   "id": "instrumental-stage",
   "metadata": {},
   "outputs": [],
   "source": [
    "struct_function(&p);"
   ]
  },
  {
   "cell_type": "markdown",
   "id": "thirty-culture",
   "metadata": {},
   "source": [
    "#### Of course, there is a lot more to C than presented here. \n",
    "\n",
    "#### Before we end I will demonstrate how a C program can be written and compiled (using gcc) outside of this Jupyter environment."
   ]
  }
 ],
 "metadata": {
  "kernelspec": {
   "display_name": "C++17",
   "language": "C++17",
   "name": "xcpp17"
  },
  "language_info": {
   "codemirror_mode": "text/x-c++src",
   "file_extension": ".cpp",
   "mimetype": "text/x-c++src",
   "name": "c++",
   "version": "17"
  }
 },
 "nbformat": 4,
 "nbformat_minor": 5
}
