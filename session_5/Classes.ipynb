{
 "cells": [
  {
   "cell_type": "markdown",
   "id": "23c4f9a2",
   "metadata": {},
   "source": [
    "Introducton to the Use of Classes in Python\\\n",
    "Robert Palmere, 2021\\\n",
    "Email: rdp135@chem.rutgers.edu"
   ]
  },
  {
   "cell_type": "markdown",
   "id": "d2b17deb",
   "metadata": {},
   "source": [
    "### Classes in Python\n",
    "1. Properties and Functions of a Class\n",
    "2. Inheritance (polymorphism)\n",
    "3. Encapsulation (public vs. private variables)\n",
    "4. Decorators\n",
    "5. Overview of Python Special Methods (\"dunder\" methods)\n",
    "6. Basic Applications and Examples"
   ]
  },
  {
   "cell_type": "markdown",
   "id": "856e1e8f",
   "metadata": {},
   "source": [
    "What is a class?\n",
    "\n",
    "\"An extensible program-code-template for creating objects, providing initial values for state (member variables) and implementations of behavior (member functions).\" \n",
    "\n",
    "Bruce 2002, 2.1 Objects, classes, and object types, https://books.google.com/books?id=9NGWq3K1RwUC&pg=PA18."
   ]
  },
  {
   "cell_type": "markdown",
   "id": "1ce5e7e6",
   "metadata": {},
   "source": [
    "#### Properties and Functions of a Class\n",
    "\n",
    "The Python data model allows for \"duck typing\": methods can be placed as needed within the object for it to behave as desired rather than inherit from some base class / interface."
   ]
  },
  {
   "cell_type": "markdown",
   "id": "c4421bde",
   "metadata": {},
   "source": [
    "Let's create a class using the 'class' keyword."
   ]
  },
  {
   "cell_type": "code",
   "execution_count": 2,
   "id": "0dacf89f",
   "metadata": {},
   "outputs": [],
   "source": [
    "class Rectangle:\n",
    "    pass"
   ]
  },
  {
   "cell_type": "markdown",
   "id": "e12d46cb",
   "metadata": {},
   "source": [
    "We have defined a class 'Rectangle'. What's inside by default?"
   ]
  },
  {
   "cell_type": "code",
   "execution_count": 3,
   "id": "fc65382a",
   "metadata": {},
   "outputs": [
    {
     "name": "stdout",
     "output_type": "stream",
     "text": [
      "['__class__', '__delattr__', '__dict__', '__dir__', '__doc__', '__eq__', '__format__', '__ge__', '__getattribute__', '__gt__', '__hash__', '__init__', '__init_subclass__', '__le__', '__lt__', '__module__', '__ne__', '__new__', '__reduce__', '__reduce_ex__', '__repr__', '__setattr__', '__sizeof__', '__str__', '__subclasshook__', '__weakref__']\n"
     ]
    }
   ],
   "source": [
    "print(dir(Rectangle))"
   ]
  },
  {
   "cell_type": "markdown",
   "id": "dc37564b",
   "metadata": {},
   "source": [
    "These are what are known as \"double underscore\", \"dunder\", or \"special\" methods in Python.\n",
    "\n",
    "These are built-in functions often used for operation overloading (we'll get to this later)."
   ]
  },
  {
   "cell_type": "markdown",
   "id": "7aadc9d6",
   "metadata": {},
   "source": [
    "To understand where these methods come from we should understand that classes *inherit* from a built-in type called 'object'."
   ]
  },
  {
   "cell_type": "markdown",
   "id": "12f974f9",
   "metadata": {},
   "source": [
    "#### **Inheritance**"
   ]
  },
  {
   "cell_type": "markdown",
   "id": "aef07a98",
   "metadata": {},
   "source": [
    "Classes are great for when we want to describe a complex category (object) which holds various attributes and behaviors.\n",
    "\n",
    "As a feature of classes, inheritance has several benefits:\n",
    "\n",
    "1. Reuse - Don't need to rewrite code present in the \"base\" or \"super\" class.\n",
    "2. Encapsulation - Prevent access to class specific attributes\n",
    "3. Extensibility - Can extend the features of the \"base\" or \"super\" class.\n",
    "4. Operation Overloading - Change the meaning of the operands based on modifying class methods"
   ]
  },
  {
   "cell_type": "code",
   "execution_count": 5,
   "id": "8b9930ff",
   "metadata": {},
   "outputs": [],
   "source": [
    "class NewRectangle(object): # Syntax for inheritance () after class name\n",
    "    pass"
   ]
  },
  {
   "cell_type": "markdown",
   "id": "e34b33b2",
   "metadata": {},
   "source": [
    "Although not explicitly stated, both class 'Rectangle' and 'NewRectangle' inherit this built-in type."
   ]
  },
  {
   "cell_type": "code",
   "execution_count": 6,
   "id": "e4f23249",
   "metadata": {},
   "outputs": [
    {
     "name": "stdout",
     "output_type": "stream",
     "text": [
      "(<class 'object'>,)\n",
      "(<class 'object'>,)\n"
     ]
    }
   ],
   "source": [
    "print(Rectangle.__bases__)\n",
    "print(NewRectangle.__bases__)"
   ]
  },
  {
   "cell_type": "markdown",
   "id": "26d5d4ef",
   "metadata": {},
   "source": [
    "We did not define __new__ nor __init__ for our class but they were able to be called to generate the class from 'object' which is a built-in type."
   ]
  },
  {
   "cell_type": "code",
   "execution_count": 7,
   "id": "d716e9c9",
   "metadata": {},
   "outputs": [
    {
     "data": {
      "text/plain": [
       "True"
      ]
     },
     "execution_count": 7,
     "metadata": {},
     "output_type": "execute_result"
    }
   ],
   "source": [
    "Rectangle.__new__ is object.__new__"
   ]
  },
  {
   "cell_type": "markdown",
   "id": "14b408b6",
   "metadata": {},
   "source": [
    "We see that __new__ is an attribute of the base class 'object' and is accessed via inheritance. These are the same. 'Object' is highlighted in green as it is a built-in type.\n",
    "\n",
    "Here the 'is' keyword is used to identify that the two hold the same location in memory (CPython interpeter)."
   ]
  },
  {
   "cell_type": "markdown",
   "id": "75c84519",
   "metadata": {},
   "source": [
    "#### **Attributes**"
   ]
  },
  {
   "cell_type": "markdown",
   "id": "ad637ae1",
   "metadata": {},
   "source": [
    "There are two types of attributes a class can have:\n",
    "\n",
    "1. Class attributes - shared by all objects of the class\n",
    "2. Instance attributes - specific to a particular instance of a class (not shared)"
   ]
  },
  {
   "cell_type": "code",
   "execution_count": 8,
   "id": "3fd55583",
   "metadata": {},
   "outputs": [
    {
     "name": "stdout",
     "output_type": "stream",
     "text": [
      "1\n",
      "1\n"
     ]
    }
   ],
   "source": [
    "# 1. An example of class attributes\n",
    "\n",
    "class Rectangle:\n",
    "    x = 1\n",
    "    y = 0\n",
    "    \n",
    "rect1 = Rectangle() # Instantiate the object \"rect1\"\n",
    "rect2 = Rectangle() # Instantiate the object \"rect2\"\n",
    "\n",
    "print(rect1.x) # \".\" operator to access class attribute\n",
    "print(rect2.x)"
   ]
  },
  {
   "cell_type": "markdown",
   "id": "04961c69",
   "metadata": {},
   "source": [
    "Since these are *class* attributes, once we change it for one instance, it will change it for all instances."
   ]
  },
  {
   "cell_type": "code",
   "execution_count": 9,
   "id": "f79ae233",
   "metadata": {},
   "outputs": [
    {
     "name": "stdout",
     "output_type": "stream",
     "text": [
      "2\n",
      "2\n"
     ]
    }
   ],
   "source": [
    "Rectangle.x = 2 # Change the class attribute \"x\" to be 2\n",
    "\n",
    "print(rect1.x)\n",
    "print(rect2.x)"
   ]
  },
  {
   "cell_type": "markdown",
   "id": "c31a31cf",
   "metadata": {},
   "source": [
    "Notice that I changed Rectangle.x not Rectangle().x. This applied changes to all class instances.\n",
    "\n",
    "If I tried to change the \"x\" class attribute from an *instance*, it would only be local to that instance of the class as shown in the following example."
   ]
  },
  {
   "cell_type": "code",
   "execution_count": null,
   "id": "54594755",
   "metadata": {},
   "outputs": [],
   "source": [
    "rect1.x = 0\n",
    "\n",
    "print(rect1.x)\n",
    "print(rect2.x) # Does not change"
   ]
  },
  {
   "cell_type": "code",
   "execution_count": 10,
   "id": "1580c36f",
   "metadata": {},
   "outputs": [
    {
     "name": "stdout",
     "output_type": "stream",
     "text": [
      "1\n",
      "1\n"
     ]
    }
   ],
   "source": [
    "# 2. An example of instance attributes\n",
    "\n",
    "class Rectangle(object):\n",
    "    def __init__(self): # define the __init__() special method to initiate \"x\" and \"y\" attributes upon instantiation\n",
    "        self.x = 1 # the function takes in \"self\" keyword argument which is the class object itself and defines these attributes\n",
    "        self.y = 1\n",
    "        \n",
    "rect1 = Rectangle() # Instantiate the object \"rect1\"\n",
    "rect2 = Rectangle() # Instantiate the object \"rect2\"\n",
    "\n",
    "print(rect1.x)\n",
    "print(rect2.x)"
   ]
  },
  {
   "cell_type": "markdown",
   "id": "0758f926",
   "metadata": {},
   "source": [
    "In the case of the instance attributes, the special method __ init __() is required to tell the class what to do upon instantiation (\"()\").\n",
    "\n",
    "Had we not done this we would not be able to access these variables outside of their respective instances."
   ]
  },
  {
   "cell_type": "code",
   "execution_count": 11,
   "id": "c3660147",
   "metadata": {},
   "outputs": [
    {
     "ename": "AttributeError",
     "evalue": "type object 'Rectangle' has no attribute 'x'",
     "output_type": "error",
     "traceback": [
      "\u001b[0;31m---------------------------------------------------------------------------\u001b[0m",
      "\u001b[0;31mAttributeError\u001b[0m                            Traceback (most recent call last)",
      "\u001b[0;32m/var/folders/yn/n0dqsghs1x59rfzz_l8vlqkw0000gq/T/ipykernel_35633/52603104.py\u001b[0m in \u001b[0;36m<module>\u001b[0;34m\u001b[0m\n\u001b[0;32m----> 1\u001b[0;31m \u001b[0mprint\u001b[0m\u001b[0;34m(\u001b[0m\u001b[0mRectangle\u001b[0m\u001b[0;34m.\u001b[0m\u001b[0mx\u001b[0m\u001b[0;34m)\u001b[0m \u001b[0;31m# Gives error\u001b[0m\u001b[0;34m\u001b[0m\u001b[0;34m\u001b[0m\u001b[0m\n\u001b[0m",
      "\u001b[0;31mAttributeError\u001b[0m: type object 'Rectangle' has no attribute 'x'"
     ]
    }
   ],
   "source": [
    "print(Rectangle().x) # Gives error"
   ]
  },
  {
   "cell_type": "markdown",
   "id": "14117180",
   "metadata": {},
   "source": [
    "We can think of the __ init __ () special method as the *initializer* of our class. It initializes new instance attributes."
   ]
  },
  {
   "cell_type": "markdown",
   "id": "8f0d7d23",
   "metadata": {},
   "source": [
    "__ init __ () accepts argument (self) which is actually passed to it by __ new __ (). Let's take a look at this example:"
   ]
  },
  {
   "cell_type": "code",
   "execution_count": 12,
   "id": "02499ff8",
   "metadata": {},
   "outputs": [
    {
     "name": "stdout",
     "output_type": "stream",
     "text": [
      "Class object from __new__ : <class '__main__.Rectangle'>\n"
     ]
    }
   ],
   "source": [
    "class Rectangle(object):\n",
    "    \n",
    "    def __new__(cls): # Constructor\n",
    "        print('Class object from __new__ : {}'.format(cls))\n",
    "        \n",
    "    def __init__(self): # Initializer\n",
    "        print('Class object from __init__: {}'.format(self))\n",
    "        \n",
    "Rectangle(); # Only prints once from __new__ ()"
   ]
  },
  {
   "cell_type": "markdown",
   "id": "a93e0876",
   "metadata": {},
   "source": [
    "We usually do not have to worry about the __ new __ () special method because it is automatically called by __ init __ () every time we instantiate a class object.\n",
    "\n",
    "__ new __ () returns the newly generated class to __ init __ () as 'self' so we can initialize new attributes to it."
   ]
  },
  {
   "cell_type": "code",
   "execution_count": null,
   "id": "638846a3",
   "metadata": {},
   "outputs": [],
   "source": [
    "class Rectangle(object):\n",
    "    \n",
    "    def __init__(self):\n",
    "        print('Class object from __init__: {}'.format(self))\n",
    "        \n",
    "Rectangle();"
   ]
  },
  {
   "cell_type": "markdown",
   "id": "d009c21c",
   "metadata": {},
   "source": [
    "**So why wasn't __ init __ () called in the first case?**\n",
    "\n",
    "**Answer: We did not specify the return that would be automatically passed to __ init __ () as 'self' we only told __ new __ () to print the the class ('cls').**"
   ]
  },
  {
   "cell_type": "code",
   "execution_count": null,
   "id": "f7eb8d61",
   "metadata": {},
   "outputs": [],
   "source": [
    "class Rectangle(object):\n",
    "    \n",
    "    def __new__(cls):\n",
    "        print(\"Object being passed to __init__() as 'self' : {}\".format(cls))\n",
    "        return object.__new__(cls) # <--- ** return a new class called 'Rectangle' as an object to __init__\n",
    "    \n",
    "    def __init__(self):\n",
    "        print('Initialized!')\n",
    "        \n",
    "Rectangle();"
   ]
  },
  {
   "cell_type": "markdown",
   "id": "569d33d0",
   "metadata": {},
   "source": [
    "We can also do this using the super() method of Python which returns the base class by default."
   ]
  },
  {
   "cell_type": "code",
   "execution_count": null,
   "id": "73935602",
   "metadata": {},
   "outputs": [],
   "source": [
    "class Rectangle(object):\n",
    "    \n",
    "    def __new__(cls):\n",
    "        return super().__new__(cls)\n",
    "    \n",
    "    def __init__(self):\n",
    "        print('Initialized!')\n",
    "        \n",
    "Rectangle(); # ';' to halt Jupyter output"
   ]
  },
  {
   "cell_type": "markdown",
   "id": "83c3721a",
   "metadata": {},
   "source": [
    "This is equilivalent to:"
   ]
  },
  {
   "cell_type": "code",
   "execution_count": 13,
   "id": "dfa48d4e",
   "metadata": {},
   "outputs": [
    {
     "name": "stdout",
     "output_type": "stream",
     "text": [
      "Initialized!\n"
     ]
    }
   ],
   "source": [
    "class Rectangle(object):\n",
    "    \n",
    "    def __new__(cls):\n",
    "        return super(Rectangle, cls).__new__(cls)\n",
    "    \n",
    "    def __init__(self):\n",
    "        print('Initialized!')\n",
    "        \n",
    "Rectangle();"
   ]
  },
  {
   "cell_type": "code",
   "execution_count": 14,
   "id": "a0f016e6",
   "metadata": {},
   "outputs": [
    {
     "name": "stdout",
     "output_type": "stream",
     "text": [
      "super() -> same as super(__class__, <first argument>)\n",
      "super(type) -> unbound super object\n",
      "super(type, obj) -> bound super object; requires isinstance(obj, type)\n",
      "super(type, type2) -> bound super object; requires issubclass(type2, type)\n",
      "Typical use to call a cooperative superclass method:\n",
      "class C(B):\n",
      "    def meth(self, arg):\n",
      "        super().meth(arg)\n",
      "This works for class methods too:\n",
      "class C(B):\n",
      "    @classmethod\n",
      "    def cmeth(cls, arg):\n",
      "        super().cmeth(arg)\n",
      "\n"
     ]
    }
   ],
   "source": [
    "print(super.__doc__) # Documentation helps a bit"
   ]
  },
  {
   "cell_type": "markdown",
   "id": "f64fa322",
   "metadata": {},
   "source": [
    "It might appear that super() is just a fancy way of getting the base class. However, it is more useful than this."
   ]
  },
  {
   "cell_type": "markdown",
   "id": "8130d18a",
   "metadata": {},
   "source": [
    "Super() is actually Python's way of handling multiple inheritance by enabling the derived class (the class doing the inheriting) the ability to correctly identify the order of inherited classes according to the Method Resolution Order (MRO).\n",
    "\n",
    "More reading on this can be done on [stackoverflow](https://stackoverflow.com/questions/576169/understanding-python-super-with-init-methods)."
   ]
  },
  {
   "cell_type": "code",
   "execution_count": 15,
   "id": "1d163c45",
   "metadata": {},
   "outputs": [
    {
     "name": "stdout",
     "output_type": "stream",
     "text": [
      "Built-in immutable sequence.\n",
      "\n",
      "If no argument is given, the constructor returns an empty tuple.\n",
      "If iterable is specified the tuple is initialized from iterable's items.\n",
      "\n",
      "If the argument is a tuple, the return value is the same object.\n"
     ]
    }
   ],
   "source": [
    "print(Rectangle.__mro__.__doc__) # The MRO is actually a built-in attribute we can access"
   ]
  },
  {
   "cell_type": "code",
   "execution_count": 16,
   "id": "591d29b6",
   "metadata": {},
   "outputs": [
    {
     "name": "stdout",
     "output_type": "stream",
     "text": [
      "(<class '__main__.Rectangle'>, <class 'object'>)\n"
     ]
    }
   ],
   "source": [
    "print(Rectangle.__mro__)"
   ]
  },
  {
   "cell_type": "markdown",
   "id": "0a9bc518",
   "metadata": {},
   "source": [
    "We can think of this as the order in which the derived and base classes are \"resolved\":"
   ]
  },
  {
   "cell_type": "code",
   "execution_count": 17,
   "id": "2effe78b",
   "metadata": {},
   "outputs": [
    {
     "name": "stdout",
     "output_type": "stream",
     "text": [
      "1 <class 'object'>\n",
      "2 <class '__main__.Rectangle'>\n"
     ]
    }
   ],
   "source": [
    "def print_mro_order(class_):\n",
    "    for i in range(len(class_.__mro__)):\n",
    "        print(i+1, class_.__mro__[len(class_.__mro__) - 1 - i])\n",
    "        \n",
    "print_mro_order(Rectangle)"
   ]
  },
  {
   "cell_type": "code",
   "execution_count": 18,
   "id": "749c7de5",
   "metadata": {},
   "outputs": [
    {
     "name": "stdout",
     "output_type": "stream",
     "text": [
      "c\n"
     ]
    }
   ],
   "source": [
    "class A(object): x = 'a'\n",
    "\n",
    "class B(A): pass\n",
    "\n",
    "class C(A): x = 'c'\n",
    "\n",
    "class D(B, C): pass\n",
    "\n",
    "print(D.x)"
   ]
  },
  {
   "cell_type": "markdown",
   "id": "57993380",
   "metadata": {},
   "source": [
    "We overide the 'x' attribute of class A after inheriting in C and D which inherits C correctly displays this change."
   ]
  },
  {
   "cell_type": "markdown",
   "id": "18ac8d1b",
   "metadata": {},
   "source": [
    "Displaying the MRO of class D will show why this order occurs:"
   ]
  },
  {
   "cell_type": "code",
   "execution_count": 19,
   "id": "0bc92223",
   "metadata": {},
   "outputs": [
    {
     "name": "stdout",
     "output_type": "stream",
     "text": [
      "1 <class 'object'>\n",
      "2 <class '__main__.A'>\n",
      "3 <class '__main__.C'>\n",
      "4 <class '__main__.B'>\n",
      "5 <class '__main__.D'>\n"
     ]
    }
   ],
   "source": [
    "print_mro_order(D) # Class attributes defined through this series of inheritance"
   ]
  },
  {
   "cell_type": "markdown",
   "id": "8836a222",
   "metadata": {},
   "source": [
    "#### Encapsulation"
   ]
  },
  {
   "cell_type": "markdown",
   "id": "ee97954f",
   "metadata": {},
   "source": [
    "Python classes have the ability to hide attributes although not as extensively as C++ (no 'protected' or 'friend' labels)."
   ]
  },
  {
   "cell_type": "code",
   "execution_count": 20,
   "id": "0a7facb5",
   "metadata": {},
   "outputs": [
    {
     "ename": "AttributeError",
     "evalue": "'Rectangle' object has no attribute '__x'",
     "output_type": "error",
     "traceback": [
      "\u001b[0;31m---------------------------------------------------------------------------\u001b[0m",
      "\u001b[0;31mAttributeError\u001b[0m                            Traceback (most recent call last)",
      "\u001b[0;32m/var/folders/yn/n0dqsghs1x59rfzz_l8vlqkw0000gq/T/ipykernel_35633/3966296228.py\u001b[0m in \u001b[0;36m<module>\u001b[0;34m\u001b[0m\n\u001b[1;32m      4\u001b[0m         \u001b[0mself\u001b[0m\u001b[0;34m.\u001b[0m\u001b[0m__x\u001b[0m \u001b[0;34m=\u001b[0m \u001b[0;36m20\u001b[0m\u001b[0;34m\u001b[0m\u001b[0;34m\u001b[0m\u001b[0m\n\u001b[1;32m      5\u001b[0m \u001b[0;34m\u001b[0m\u001b[0m\n\u001b[0;32m----> 6\u001b[0;31m \u001b[0mprint\u001b[0m\u001b[0;34m(\u001b[0m\u001b[0mRectangle\u001b[0m\u001b[0;34m(\u001b[0m\u001b[0;34m)\u001b[0m\u001b[0;34m.\u001b[0m\u001b[0m__x\u001b[0m\u001b[0;34m)\u001b[0m \u001b[0;31m# <--- double underscore makes this inaccesible the dot operator\u001b[0m\u001b[0;34m\u001b[0m\u001b[0;34m\u001b[0m\u001b[0m\n\u001b[0m",
      "\u001b[0;31mAttributeError\u001b[0m: 'Rectangle' object has no attribute '__x'"
     ]
    }
   ],
   "source": [
    "class Rectangle(object):\n",
    "    \n",
    "    def __init__(self):\n",
    "        self.__x = 20\n",
    "\n",
    "print(Rectangle().__x) # <--- double underscore makes this inaccesible the dot operator"
   ]
  },
  {
   "cell_type": "code",
   "execution_count": 21,
   "id": "6f7a19fc",
   "metadata": {},
   "outputs": [
    {
     "name": "stdout",
     "output_type": "stream",
     "text": [
      "{'__module__': '__main__', '__init__': <function Rectangle.__init__ at 0x10c25c790>, '__dict__': <attribute '__dict__' of 'Rectangle' objects>, '__weakref__': <attribute '__weakref__' of 'Rectangle' objects>, '__doc__': None}\n"
     ]
    }
   ],
   "source": [
    "print(Rectangle.__dict__) # __dict__ stores all class writable attributes"
   ]
  },
  {
   "cell_type": "code",
   "execution_count": 22,
   "id": "b7699225",
   "metadata": {},
   "outputs": [
    {
     "name": "stdout",
     "output_type": "stream",
     "text": [
      "20\n"
     ]
    }
   ],
   "source": [
    "print(Rectangle()._Rectangle__x) # Note that the compiler renamed our 'private' attribute so that it is hidden"
   ]
  },
  {
   "cell_type": "markdown",
   "id": "52dedae7",
   "metadata": {},
   "source": [
    "There are no *truly* private or methods of encapsulation but the '_ _' can be used to prevent direct access and the '_' can signal to other developers to beware."
   ]
  },
  {
   "cell_type": "code",
   "execution_count": 23,
   "id": "9d922b7a",
   "metadata": {},
   "outputs": [
    {
     "name": "stdout",
     "output_type": "stream",
     "text": [
      "0\n"
     ]
    }
   ],
   "source": [
    "class Car(object):\n",
    "    \n",
    "    def __init__(self):\n",
    "        self.__speed = 0 # 'Private instance attribute'\n",
    "        \n",
    "    def get_speed(self): # 'Getter method'\n",
    "        return self.__speed\n",
    "    \n",
    "    def set_speed(self, speed): # 'Setter method'\n",
    "        self.__speed = speed\n",
    "        return \n",
    "\n",
    "car = Car()\n",
    "\n",
    "print(car.get_speed()) # Accessed via a 'getter' method"
   ]
  },
  {
   "cell_type": "markdown",
   "id": "cb0d6711",
   "metadata": {},
   "source": [
    "Since the attribute is 'private' we must use 'getter' and 'setter' method to retrieve and replace the attribute value.\n",
    "\n",
    "We can also do this with public instance attributes."
   ]
  },
  {
   "cell_type": "code",
   "execution_count": 24,
   "id": "3efb0668",
   "metadata": {},
   "outputs": [
    {
     "name": "stdout",
     "output_type": "stream",
     "text": [
      "0\n"
     ]
    }
   ],
   "source": [
    "class Car(object):\n",
    "    \n",
    "    def __init__(self):\n",
    "        self.speed = 0\n",
    "        \n",
    "    def get_speed(self):\n",
    "        return self.speed\n",
    "    \n",
    "    def set_speed(self, speed):\n",
    "        self.speed = speed\n",
    "        return \n",
    "\n",
    "car = Car()\n",
    "\n",
    "print(car.get_speed()) # Accessed via a 'getter' method"
   ]
  },
  {
   "cell_type": "markdown",
   "id": "b0e9a8c0",
   "metadata": {},
   "source": [
    "The benefit here is that we are setting a level of protection for the instance attribute as well as added clarity for the class (i.e. Car.s = 1 may not be as clear as Car.set_speed(1) ).\n",
    "\n",
    "In the following example we will see that we can add 'protection' to our class instance attribute by only enabling positive values to speed of our car."
   ]
  },
  {
   "cell_type": "code",
   "execution_count": 25,
   "id": "5ed1b0fb",
   "metadata": {},
   "outputs": [
    {
     "name": "stdout",
     "output_type": "stream",
     "text": [
      "0\n"
     ]
    },
    {
     "ename": "ValueError",
     "evalue": "Speed must be a numeric value.",
     "output_type": "error",
     "traceback": [
      "\u001b[0;31m---------------------------------------------------------------------------\u001b[0m",
      "\u001b[0;31mValueError\u001b[0m                                Traceback (most recent call last)",
      "\u001b[0;32m/var/folders/yn/n0dqsghs1x59rfzz_l8vlqkw0000gq/T/ipykernel_35633/1469720110.py\u001b[0m in \u001b[0;36mset_speed\u001b[0;34m(self, speed)\u001b[0m\n\u001b[1;32m     10\u001b[0m         \u001b[0;32mtry\u001b[0m\u001b[0;34m:\u001b[0m\u001b[0;34m\u001b[0m\u001b[0;34m\u001b[0m\u001b[0m\n\u001b[0;32m---> 11\u001b[0;31m             \u001b[0mself\u001b[0m\u001b[0;34m.\u001b[0m\u001b[0mspeed\u001b[0m \u001b[0;34m=\u001b[0m \u001b[0mfloat\u001b[0m\u001b[0;34m(\u001b[0m\u001b[0mspeed\u001b[0m\u001b[0;34m)\u001b[0m\u001b[0;34m\u001b[0m\u001b[0;34m\u001b[0m\u001b[0m\n\u001b[0m\u001b[1;32m     12\u001b[0m             \u001b[0;32mreturn\u001b[0m \u001b[0mself\u001b[0m\u001b[0;34m.\u001b[0m\u001b[0mspeed\u001b[0m\u001b[0;34m\u001b[0m\u001b[0;34m\u001b[0m\u001b[0m\n",
      "\u001b[0;31mValueError\u001b[0m: could not convert string to float: 'some string'",
      "\nDuring handling of the above exception, another exception occurred:\n",
      "\u001b[0;31mValueError\u001b[0m                                Traceback (most recent call last)",
      "\u001b[0;32m/var/folders/yn/n0dqsghs1x59rfzz_l8vlqkw0000gq/T/ipykernel_35633/1469720110.py\u001b[0m in \u001b[0;36m<module>\u001b[0;34m\u001b[0m\n\u001b[1;32m     18\u001b[0m \u001b[0mprint\u001b[0m\u001b[0;34m(\u001b[0m\u001b[0mcar\u001b[0m\u001b[0;34m.\u001b[0m\u001b[0mget_speed\u001b[0m\u001b[0;34m(\u001b[0m\u001b[0;34m)\u001b[0m\u001b[0;34m)\u001b[0m \u001b[0;31m# Speed before setting\u001b[0m\u001b[0;34m\u001b[0m\u001b[0;34m\u001b[0m\u001b[0m\n\u001b[1;32m     19\u001b[0m \u001b[0;34m\u001b[0m\u001b[0m\n\u001b[0;32m---> 20\u001b[0;31m \u001b[0mcar\u001b[0m\u001b[0;34m.\u001b[0m\u001b[0mset_speed\u001b[0m\u001b[0;34m(\u001b[0m\u001b[0;34m'some string'\u001b[0m\u001b[0;34m)\u001b[0m \u001b[0;31m# Argument is a string so error is raised.\u001b[0m\u001b[0;34m\u001b[0m\u001b[0;34m\u001b[0m\u001b[0m\n\u001b[0m",
      "\u001b[0;32m/var/folders/yn/n0dqsghs1x59rfzz_l8vlqkw0000gq/T/ipykernel_35633/1469720110.py\u001b[0m in \u001b[0;36mset_speed\u001b[0;34m(self, speed)\u001b[0m\n\u001b[1;32m     12\u001b[0m             \u001b[0;32mreturn\u001b[0m \u001b[0mself\u001b[0m\u001b[0;34m.\u001b[0m\u001b[0mspeed\u001b[0m\u001b[0;34m\u001b[0m\u001b[0;34m\u001b[0m\u001b[0m\n\u001b[1;32m     13\u001b[0m         \u001b[0;32mexcept\u001b[0m\u001b[0;34m:\u001b[0m\u001b[0;34m\u001b[0m\u001b[0;34m\u001b[0m\u001b[0m\n\u001b[0;32m---> 14\u001b[0;31m             \u001b[0;32mraise\u001b[0m \u001b[0mValueError\u001b[0m\u001b[0;34m(\u001b[0m\u001b[0;34m'Speed must be a numeric value.'\u001b[0m\u001b[0;34m)\u001b[0m\u001b[0;34m\u001b[0m\u001b[0;34m\u001b[0m\u001b[0m\n\u001b[0m\u001b[1;32m     15\u001b[0m \u001b[0;34m\u001b[0m\u001b[0m\n\u001b[1;32m     16\u001b[0m \u001b[0mcar\u001b[0m \u001b[0;34m=\u001b[0m \u001b[0mCar\u001b[0m\u001b[0;34m(\u001b[0m\u001b[0;34m)\u001b[0m\u001b[0;34m\u001b[0m\u001b[0;34m\u001b[0m\u001b[0m\n",
      "\u001b[0;31mValueError\u001b[0m: Speed must be a numeric value."
     ]
    }
   ],
   "source": [
    "class Car(object):\n",
    "    \n",
    "    def __init__(self):\n",
    "        self.speed = 0 \n",
    "        \n",
    "    def get_speed(self):\n",
    "        return self.speed\n",
    "    \n",
    "    def set_speed(self, speed):\n",
    "        try:\n",
    "            self.speed = float(speed)\n",
    "            return self.speed\n",
    "        except:\n",
    "            raise ValueError('Speed must be a numeric value.')\n",
    "\n",
    "car = Car()\n",
    "\n",
    "print(car.get_speed()) # Speed before setting\n",
    "\n",
    "car.set_speed('some string') # Argument is a string so error is raised."
   ]
  },
  {
   "cell_type": "code",
   "execution_count": 26,
   "id": "2d5c8aaf",
   "metadata": {},
   "outputs": [
    {
     "name": "stdout",
     "output_type": "stream",
     "text": [
      "100.0\n"
     ]
    }
   ],
   "source": [
    "car.set_speed(100); # We set the speed to a numeric value\n",
    "\n",
    "print(car.get_speed()) # Speed instance attribute of 'car' now set to 100"
   ]
  },
  {
   "cell_type": "markdown",
   "id": "8a58d5b8",
   "metadata": {},
   "source": [
    "Notice that we are using print(car.get_speed()). If we want to change what attributes are shown by print() we can change the return of __ str __ ()."
   ]
  },
  {
   "cell_type": "code",
   "execution_count": 27,
   "id": "85549495",
   "metadata": {},
   "outputs": [
    {
     "name": "stdout",
     "output_type": "stream",
     "text": [
      "Speed: 0\n"
     ]
    }
   ],
   "source": [
    "class Car(object):\n",
    "    \n",
    "    def __init__(self):\n",
    "        self.speed = 0 # 'Private instance attribute'\n",
    "        \n",
    "    def get_speed(self):\n",
    "        return self.speed\n",
    "    \n",
    "    def set_speed(self, speed):\n",
    "        try:\n",
    "            self.speed = float(speed)\n",
    "            return self.speed\n",
    "        except:\n",
    "            raise ValueError('Speed must be a numeric value.')\n",
    "            \n",
    "    def __str__(self):\n",
    "        return f'Speed: {self.speed}' # return a formatted string literal\n",
    "\n",
    "car = Car()\n",
    "\n",
    "print(car) # Now when we print car we are presented with the speed."
   ]
  },
  {
   "cell_type": "markdown",
   "id": "ed17dfa1",
   "metadata": {},
   "source": [
    "There is a more Pythonic way of making these setters and getters within our class with the use of a *decorator*. \n",
    "\n",
    "A decorator is the cherry on top of our Python syntax. We can specify a decorator above a function to indicate that that function is an argument of the decorator.\n",
    "\n",
    "First, let's see how the setter and getters can be used with the @property decorator and then we will break down the code of this decorator and the general functions of decorators."
   ]
  },
  {
   "cell_type": "code",
   "execution_count": 29,
   "id": "46a97dcd",
   "metadata": {},
   "outputs": [
    {
     "name": "stdout",
     "output_type": "stream",
     "text": [
      "0\n"
     ]
    }
   ],
   "source": [
    "class Car(object):\n",
    "    \n",
    "    def __init__(self):\n",
    "        self._speed = 0 # Notice we changed 'speed' to '_speed' so it doesn't conflict with the property function\n",
    "    \n",
    "    @property\n",
    "    def speed(self):\n",
    "        return self._speed\n",
    "        \n",
    "    @speed.setter\n",
    "    def speed(self, speed):\n",
    "        try:\n",
    "            self._speed = float(speed)\n",
    "        except:\n",
    "            raise ValueError('Speed must be a numeric value.')\n",
    "            \n",
    "    def __str__(self):\n",
    "        return f'Speed: {self._speed}'\n",
    "    \n",
    "car = Car()\n",
    "\n",
    "print(car.speed) # the function speed() acts as an instance attribute of the class"
   ]
  },
  {
   "cell_type": "markdown",
   "id": "8bedae38",
   "metadata": {},
   "source": [
    "Since speed() is now decorated with @property we can now use the same name for the setter and getter of these methods."
   ]
  },
  {
   "cell_type": "code",
   "execution_count": 30,
   "id": "357c4d8d",
   "metadata": {},
   "outputs": [
    {
     "ename": "ValueError",
     "evalue": "Speed must be a numeric value.",
     "output_type": "error",
     "traceback": [
      "\u001b[0;31m---------------------------------------------------------------------------\u001b[0m",
      "\u001b[0;31mValueError\u001b[0m                                Traceback (most recent call last)",
      "\u001b[0;32m/var/folders/yn/n0dqsghs1x59rfzz_l8vlqkw0000gq/T/ipykernel_35633/1154399888.py\u001b[0m in \u001b[0;36mspeed\u001b[0;34m(self, speed)\u001b[0m\n\u001b[1;32m     12\u001b[0m         \u001b[0;32mtry\u001b[0m\u001b[0;34m:\u001b[0m\u001b[0;34m\u001b[0m\u001b[0;34m\u001b[0m\u001b[0m\n\u001b[0;32m---> 13\u001b[0;31m             \u001b[0mself\u001b[0m\u001b[0;34m.\u001b[0m\u001b[0m_speed\u001b[0m \u001b[0;34m=\u001b[0m \u001b[0mfloat\u001b[0m\u001b[0;34m(\u001b[0m\u001b[0mspeed\u001b[0m\u001b[0;34m)\u001b[0m\u001b[0;34m\u001b[0m\u001b[0;34m\u001b[0m\u001b[0m\n\u001b[0m\u001b[1;32m     14\u001b[0m         \u001b[0;32mexcept\u001b[0m\u001b[0;34m:\u001b[0m\u001b[0;34m\u001b[0m\u001b[0;34m\u001b[0m\u001b[0m\n",
      "\u001b[0;31mValueError\u001b[0m: could not convert string to float: 'some string'",
      "\nDuring handling of the above exception, another exception occurred:\n",
      "\u001b[0;31mValueError\u001b[0m                                Traceback (most recent call last)",
      "\u001b[0;32m/var/folders/yn/n0dqsghs1x59rfzz_l8vlqkw0000gq/T/ipykernel_35633/3871542871.py\u001b[0m in \u001b[0;36m<module>\u001b[0;34m\u001b[0m\n\u001b[0;32m----> 1\u001b[0;31m \u001b[0mcar\u001b[0m\u001b[0;34m.\u001b[0m\u001b[0mspeed\u001b[0m \u001b[0;34m=\u001b[0m \u001b[0;34m'some string'\u001b[0m \u001b[0;31m# speed cannot be set to anything but a numeric value without an error\u001b[0m\u001b[0;34m\u001b[0m\u001b[0;34m\u001b[0m\u001b[0m\n\u001b[0m",
      "\u001b[0;32m/var/folders/yn/n0dqsghs1x59rfzz_l8vlqkw0000gq/T/ipykernel_35633/1154399888.py\u001b[0m in \u001b[0;36mspeed\u001b[0;34m(self, speed)\u001b[0m\n\u001b[1;32m     13\u001b[0m             \u001b[0mself\u001b[0m\u001b[0;34m.\u001b[0m\u001b[0m_speed\u001b[0m \u001b[0;34m=\u001b[0m \u001b[0mfloat\u001b[0m\u001b[0;34m(\u001b[0m\u001b[0mspeed\u001b[0m\u001b[0;34m)\u001b[0m\u001b[0;34m\u001b[0m\u001b[0;34m\u001b[0m\u001b[0m\n\u001b[1;32m     14\u001b[0m         \u001b[0;32mexcept\u001b[0m\u001b[0;34m:\u001b[0m\u001b[0;34m\u001b[0m\u001b[0;34m\u001b[0m\u001b[0m\n\u001b[0;32m---> 15\u001b[0;31m             \u001b[0;32mraise\u001b[0m \u001b[0mValueError\u001b[0m\u001b[0;34m(\u001b[0m\u001b[0;34m'Speed must be a numeric value.'\u001b[0m\u001b[0;34m)\u001b[0m\u001b[0;34m\u001b[0m\u001b[0;34m\u001b[0m\u001b[0m\n\u001b[0m\u001b[1;32m     16\u001b[0m \u001b[0;34m\u001b[0m\u001b[0m\n\u001b[1;32m     17\u001b[0m     \u001b[0;32mdef\u001b[0m \u001b[0m__str__\u001b[0m\u001b[0;34m(\u001b[0m\u001b[0mself\u001b[0m\u001b[0;34m)\u001b[0m\u001b[0;34m:\u001b[0m\u001b[0;34m\u001b[0m\u001b[0;34m\u001b[0m\u001b[0m\n",
      "\u001b[0;31mValueError\u001b[0m: Speed must be a numeric value."
     ]
    }
   ],
   "source": [
    "car.speed = 'some string' # speed cannot be set to anything but a numeric value without an error"
   ]
  },
  {
   "cell_type": "code",
   "execution_count": 31,
   "id": "2587c6c8",
   "metadata": {},
   "outputs": [],
   "source": [
    "car.speed = 100"
   ]
  },
  {
   "cell_type": "code",
   "execution_count": 32,
   "id": "47a5457b",
   "metadata": {},
   "outputs": [
    {
     "name": "stdout",
     "output_type": "stream",
     "text": [
      "100.0\n"
     ]
    }
   ],
   "source": [
    "print(car.speed)"
   ]
  },
  {
   "cell_type": "markdown",
   "id": "0a6bf407",
   "metadata": {},
   "source": [
    "We have added clarity while still protecting and adding functionality that we wanted for our getter and setter for this particular instance attribute."
   ]
  },
  {
   "cell_type": "markdown",
   "id": "46cc54aa",
   "metadata": {},
   "source": [
    "#### Decorators"
   ]
  },
  {
   "cell_type": "markdown",
   "id": "15084762",
   "metadata": {},
   "source": [
    "We can see the benefit of using decorators. Let's write out own simple decorators to demonstrate their inner workings."
   ]
  },
  {
   "cell_type": "markdown",
   "id": "0ed5a07b",
   "metadata": {},
   "source": [
    "Decorators can either be:\n",
    "    \n",
    "    1. Functions\n",
    "    2. Classes\n",
    "    \n",
    "The @property decorator is a class."
   ]
  },
  {
   "cell_type": "code",
   "execution_count": 33,
   "id": "a50b52b9",
   "metadata": {},
   "outputs": [
    {
     "name": "stdout",
     "output_type": "stream",
     "text": [
      "<class 'property'>\n",
      "Property attribute.\n",
      "\n",
      "  fget\n",
      "    function to be used for getting an attribute value\n",
      "  fset\n",
      "    function to be used for setting an attribute value\n",
      "  fdel\n",
      "    function to be used for del'ing an attribute\n",
      "  doc\n",
      "    docstring\n",
      "\n",
      "Typical use is to define a managed attribute x:\n",
      "\n",
      "class C(object):\n",
      "    def getx(self): return self._x\n",
      "    def setx(self, value): self._x = value\n",
      "    def delx(self): del self._x\n",
      "    x = property(getx, setx, delx, \"I'm the 'x' property.\")\n",
      "\n",
      "Decorators make defining new properties or modifying existing ones easy:\n",
      "\n",
      "class C(object):\n",
      "    @property\n",
      "    def x(self):\n",
      "        \"I am the 'x' property.\"\n",
      "        return self._x\n",
      "    @x.setter\n",
      "    def x(self, value):\n",
      "        self._x = value\n",
      "    @x.deleter\n",
      "    def x(self):\n",
      "        del self._x\n"
     ]
    }
   ],
   "source": [
    "print(property)\n",
    "print(property.__doc__)"
   ]
  },
  {
   "cell_type": "markdown",
   "id": "ed4724f4",
   "metadata": {},
   "source": [
    "Decorators take in functions as arguments, modify the return of that function, and return the modified result of the nested function.\n",
    "\n",
    "An example of a *Function* decorator:"
   ]
  },
  {
   "cell_type": "code",
   "execution_count": 34,
   "id": "1acc6e90",
   "metadata": {},
   "outputs": [
    {
     "name": "stdout",
     "output_type": "stream",
     "text": [
      "Hello World!\n"
     ]
    }
   ],
   "source": [
    "def make_string(str_):\n",
    "    '''Define a function which returns the string we give'''\n",
    "    return str_\n",
    "\n",
    "string = make_string('Hello World!')\n",
    "\n",
    "print(string)"
   ]
  },
  {
   "cell_type": "code",
   "execution_count": 35,
   "id": "736b7712",
   "metadata": {},
   "outputs": [],
   "source": [
    "def formatted(func):\n",
    "    '''Define a decorator to format string outputs'''\n",
    "    def inner(func):\n",
    "        return '*** ' + func + ' ***'\n",
    "    return inner # return nested function which modifies output of the given function"
   ]
  },
  {
   "cell_type": "code",
   "execution_count": 36,
   "id": "bcc3e98a",
   "metadata": {},
   "outputs": [
    {
     "name": "stdout",
     "output_type": "stream",
     "text": [
      "*** Hello World! ***\n"
     ]
    }
   ],
   "source": [
    "@formatted\n",
    "def make_string(str_):\n",
    "    '''Define a function which returns the string we give'''\n",
    "    return str_\n",
    "\n",
    "string = make_string('Hello World!')\n",
    "\n",
    "print(string)"
   ]
  },
  {
   "cell_type": "markdown",
   "id": "fd7839f6",
   "metadata": {},
   "source": [
    "What if we didn't have the nested function 'inner'?"
   ]
  },
  {
   "cell_type": "code",
   "execution_count": null,
   "id": "c4929075",
   "metadata": {},
   "outputs": [],
   "source": [
    "def formatted(func):\n",
    "    return '*** ' + func + ' ***'\n",
    "\n",
    "@formatted\n",
    "def make_string(str_):\n",
    "    '''Define a function which returns the string we give'''\n",
    "    return str_\n",
    "\n",
    "string = make_string('Hello World!')\n",
    "\n",
    "print(string) # Error as 'func' given to 'formatted' is a function not a string"
   ]
  },
  {
   "cell_type": "markdown",
   "id": "e881e44f",
   "metadata": {},
   "source": [
    "We don't know what argument will be passesd to 'func'. Additionally this is not valid syntax, so it doesn't suffice to do:"
   ]
  },
  {
   "cell_type": "code",
   "execution_count": 37,
   "id": "142ffa15",
   "metadata": {},
   "outputs": [
    {
     "ename": "SyntaxError",
     "evalue": "invalid syntax (1953981529.py, line 1)",
     "output_type": "error",
     "traceback": [
      "\u001b[0;36m  File \u001b[0;32m\"/var/folders/yn/n0dqsghs1x59rfzz_l8vlqkw0000gq/T/ipykernel_35633/1953981529.py\"\u001b[0;36m, line \u001b[0;32m1\u001b[0m\n\u001b[0;31m    def formatted(func(str_)): # <-- syntax error\u001b[0m\n\u001b[0m                      ^\u001b[0m\n\u001b[0;31mSyntaxError\u001b[0m\u001b[0;31m:\u001b[0m invalid syntax\n"
     ]
    }
   ],
   "source": [
    "def formatted(func(str_)): # <-- syntax error\n",
    "    return '*** ' + func(str_) + ' ***'\n",
    "\n",
    "@formatted\n",
    "def make_string(str_):\n",
    "    '''Define a function which returns the string we give'''\n",
    "    return str_\n",
    "\n",
    "string = make_string('Hello World!')\n",
    "\n",
    "print(string)"
   ]
  },
  {
   "cell_type": "markdown",
   "id": "f7db8d71",
   "metadata": {},
   "source": [
    "This is why our nested function 'inner' is required. This nested function is also known as a *wrapper* function. It wraps around the argument function and can access the outer local functions."
   ]
  },
  {
   "cell_type": "markdown",
   "id": "9df5c683",
   "metadata": {},
   "source": [
    "The @formatted syntax is just short for:"
   ]
  },
  {
   "cell_type": "code",
   "execution_count": 38,
   "id": "2c263cdb",
   "metadata": {},
   "outputs": [
    {
     "name": "stdout",
     "output_type": "stream",
     "text": [
      "<function formatted.<locals>.inner at 0x10c275550>\n"
     ]
    }
   ],
   "source": [
    "def make_string(str_):\n",
    "    '''Define a function which returns the string we give'''\n",
    "    return str_\n",
    "\n",
    "string = formatted(make_string('Hello World!'))\n",
    "print(string)"
   ]
  },
  {
   "cell_type": "markdown",
   "id": "72ec6d21",
   "metadata": {},
   "source": [
    "How can we do this with a class as a decorator?\n",
    "\n",
    "In the case of a class we need to use the __ call __ () special method for the function to be passed as an argument to the decorator class. \n",
    "\n",
    "Let's see what the __ call __ () special method does."
   ]
  },
  {
   "cell_type": "code",
   "execution_count": 39,
   "id": "435421b1",
   "metadata": {},
   "outputs": [],
   "source": [
    "class Formatter(object):\n",
    "    \n",
    "    def __init__(self):\n",
    "        self.string = 'Hello World!'\n",
    "        \n",
    "    def __call__(self, *args):\n",
    "        for i in args:\n",
    "            print(f'You called {self.__class__} with arguments: {i}!', end=' ')\n",
    "        return list(args)"
   ]
  },
  {
   "cell_type": "code",
   "execution_count": 40,
   "id": "d6165f0b",
   "metadata": {},
   "outputs": [
    {
     "name": "stdout",
     "output_type": "stream",
     "text": [
      "You called <class '__main__.Formatter'> with arguments: Argument! "
     ]
    }
   ],
   "source": [
    "F = Formatter();\n",
    "F('Argument'); # <-- Can call the class instance for the desired behavior"
   ]
  },
  {
   "cell_type": "markdown",
   "id": "4b18a977",
   "metadata": {},
   "source": [
    "This is the same thing as:"
   ]
  },
  {
   "cell_type": "code",
   "execution_count": 41,
   "id": "57f3e46e",
   "metadata": {},
   "outputs": [
    {
     "name": "stdout",
     "output_type": "stream",
     "text": [
      "You called <class '__main__.Formatter'> with arguments: Arugment! "
     ]
    }
   ],
   "source": [
    "F.__call__('Arugment');"
   ]
  },
  {
   "cell_type": "markdown",
   "id": "ceaeea77",
   "metadata": {},
   "source": [
    "Instead of generating an instance and then calling the instance, we can do this directly by adding arguments to the __ init __ () method of the class. i.e."
   ]
  },
  {
   "cell_type": "code",
   "execution_count": 42,
   "id": "0ee29475",
   "metadata": {},
   "outputs": [],
   "source": [
    "class Formatter(object):\n",
    "    \n",
    "    def __init__(self, *function):\n",
    "        self.f = function\n",
    "        \n",
    "    def __call__(self):\n",
    "        for i in self.f:\n",
    "            print(f'You called {self.__class__} with arguments: {i}!', end=' ')\n",
    "        return self.f"
   ]
  },
  {
   "cell_type": "code",
   "execution_count": 43,
   "id": "df8a0478",
   "metadata": {},
   "outputs": [
    {
     "name": "stdout",
     "output_type": "stream",
     "text": [
      "You called <class '__main__.Formatter'> with arguments: Argument! "
     ]
    }
   ],
   "source": [
    "Formatter('Argument')();"
   ]
  },
  {
   "cell_type": "markdown",
   "id": "52227acb",
   "metadata": {},
   "source": [
    "This is a bit awkward but leads into how a class decorator is implemented as we want:\n",
    "\n",
    "formatted = Formatter(make_string(str_)) \n",
    "\n",
    "with the 'formatted' class instance to be the formatted string.\n",
    "\n",
    "We want __ call __ () to act as the wrapper function, making alterations to the function argument before returning. We can see this done in the following example:"
   ]
  },
  {
   "cell_type": "code",
   "execution_count": 44,
   "id": "83e71391",
   "metadata": {},
   "outputs": [
    {
     "name": "stdout",
     "output_type": "stream",
     "text": [
      "*** Hello World! ***\n"
     ]
    }
   ],
   "source": [
    "class Formatter(object):\n",
    "\n",
    "    def __call__(self, f):\n",
    "        def inner(f):\n",
    "            return '*** ' + f + ' ***'\n",
    "        return inner\n",
    "    \n",
    "@Formatter()\n",
    "def make_string(str_):\n",
    "    '''Define a function which returns the string we give'''\n",
    "    return str_\n",
    "\n",
    "print(make_string('Hello World!'))"
   ]
  },
  {
   "cell_type": "markdown",
   "id": "3a5e2423",
   "metadata": {},
   "source": [
    "#### Practical Implementations"
   ]
  },
  {
   "cell_type": "markdown",
   "id": "d752e6a4",
   "metadata": {},
   "source": [
    "a.) Plotting an object"
   ]
  },
  {
   "cell_type": "code",
   "execution_count": 45,
   "id": "a5dde32c",
   "metadata": {},
   "outputs": [],
   "source": [
    "import numpy as np\n",
    "import matplotlib.pyplot as plt\n",
    "\n",
    "class Rectangle:\n",
    "    \n",
    "    def __init__(self, x=0, y=0):\n",
    "        self.x = x\n",
    "        self.y = y\n",
    "        \n",
    "    def __repr__(self):\n",
    "        return 'Rectangle(%r, %r)' % (self.x, self.y)\n",
    "    \n",
    "    def __str__(self):\n",
    "        return f'{self.x} x {self.y} Rectangle'\n",
    "    \n",
    "    def __abs__(self):\n",
    "        return np.hypot(self.x, self.y)\n",
    "    \n",
    "    def __add__(self, other):\n",
    "        x, y = self.x + other.x, self.y + other.y\n",
    "        return Rectangle(x, y)\n",
    "\n",
    "    def __mul__(self, other):\n",
    "        return Rectangle(self.x * other.x, self.y * other.y)\n",
    "    \n",
    "    def plot(self, ax=None):\n",
    "        if ax == None:\n",
    "            fig, ax = plt.subplots()\n",
    "        ax.plot([i for i in range(self.x+1)], [0 for i in range(self.x+1)], 'k')\n",
    "        ax.plot([i for i in range(self.x+1)], [self.y for i in range(self.x+1)], 'k')\n",
    "        ax.plot([0 for i in range(self.y+1)], [i for i in range(self.y+1)], 'k')\n",
    "        ax.plot([self.x for i in range(self.y+1)], [i for i in range(self.y+1)], 'k')\n",
    "        return ax"
   ]
  },
  {
   "cell_type": "code",
   "execution_count": 46,
   "id": "b123f759",
   "metadata": {},
   "outputs": [
    {
     "name": "stdout",
     "output_type": "stream",
     "text": [
      "2 x 2 Rectangle\n",
      "3 x 4 Rectangle\n"
     ]
    }
   ],
   "source": [
    "r1 = Rectangle(2, 2)\n",
    "r2 = Rectangle(3, 4)\n",
    "\n",
    "print(r1)\n",
    "print(r2)"
   ]
  },
  {
   "cell_type": "code",
   "execution_count": 47,
   "id": "1b538675",
   "metadata": {},
   "outputs": [
    {
     "data": {
      "text/plain": [
       "2.8284271247461903"
      ]
     },
     "execution_count": 47,
     "metadata": {},
     "output_type": "execute_result"
    }
   ],
   "source": [
    "abs(r1)"
   ]
  },
  {
   "cell_type": "code",
   "execution_count": 48,
   "id": "c0447b1d",
   "metadata": {},
   "outputs": [
    {
     "name": "stdout",
     "output_type": "stream",
     "text": [
      "5 x 6 Rectangle\n"
     ]
    }
   ],
   "source": [
    "r3 = r1 + r2\n",
    "print(r3)"
   ]
  },
  {
   "cell_type": "code",
   "execution_count": 49,
   "id": "262e2953",
   "metadata": {},
   "outputs": [
    {
     "name": "stdout",
     "output_type": "stream",
     "text": [
      "6 x 8 Rectangle\n"
     ]
    }
   ],
   "source": [
    "r3 = r1 * r2\n",
    "print(r3)"
   ]
  },
  {
   "cell_type": "code",
   "execution_count": 50,
   "id": "2e35fb4c",
   "metadata": {},
   "outputs": [
    {
     "data": {
      "image/png": "[encoded data removed]",
      "text/plain": [
       "<Figure size 504x144 with 3 Axes>"
      ]
     },
     "metadata": {
      "needs_background": "light"
     },
     "output_type": "display_data"
    }
   ],
   "source": [
    "rectangles = [r1, r2, r3]\n",
    "fig, axs = plt.subplots(1, len(rectangles), figsize=(7, 2))\n",
    "for i in range(len(rectangles)):\n",
    "    rectangles[i].plot(ax=axs[i])\n",
    "    axs[i].set_xlim([-10, 10])\n",
    "    axs[i].set_ylim([-10, 10])\n",
    "plt.tight_layout()\n",
    "plt.show()"
   ]
  },
  {
   "cell_type": "markdown",
   "id": "881e62d9",
   "metadata": {},
   "source": [
    "We can expand this class to describe other objects but because of inheritance we don't have to rewrite the above code."
   ]
  },
  {
   "cell_type": "code",
   "execution_count": 51,
   "id": "49fb37a6",
   "metadata": {},
   "outputs": [],
   "source": [
    "class Square(Rectangle):\n",
    "    \n",
    "    def __init__(self, x=0, y=0):\n",
    "        Rectangle.__init__(self) # <-- initialize the base class (we can also use super())"
   ]
  },
  {
   "cell_type": "code",
   "execution_count": 52,
   "id": "e80c9620",
   "metadata": {},
   "outputs": [
    {
     "name": "stdout",
     "output_type": "stream",
     "text": [
      "0 x 0 Rectangle\n"
     ]
    }
   ],
   "source": [
    "s1 = Square(1, 2)\n",
    "print(s1)"
   ]
  },
  {
   "cell_type": "markdown",
   "id": "48427d5e",
   "metadata": {},
   "source": [
    "A square is a special type of Rectangle. We see that the Square is behaving as if it is a Rectangle after inheriting from Rectangle.\n",
    "\n",
    "Let's change this in Square so that x must equal y and it is accurately represented by print()."
   ]
  },
  {
   "cell_type": "code",
   "execution_count": 54,
   "id": "0c08844f",
   "metadata": {},
   "outputs": [],
   "source": [
    "class Square(Rectangle):\n",
    "    \n",
    "    def __init__(self, x=0, y=0):\n",
    "        Rectangle.__init__(self)\n",
    "        self.x = x\n",
    "        self.y = y\n",
    "        if self.x != self.y:\n",
    "            raise ValueError('Sides of square must be equal.')\n",
    "        \n",
    "    def __str__(self): # <-- override base class __str__ () method\n",
    "        return 'Square(%r, %r)' % (self.x, self.y)\n",
    "    \n",
    "    # Other methods already written!"
   ]
  },
  {
   "cell_type": "code",
   "execution_count": 55,
   "id": "12654dc9",
   "metadata": {},
   "outputs": [
    {
     "ename": "ValueError",
     "evalue": "Sides of square must be equal.",
     "output_type": "error",
     "traceback": [
      "\u001b[0;31m---------------------------------------------------------------------------\u001b[0m",
      "\u001b[0;31mValueError\u001b[0m                                Traceback (most recent call last)",
      "\u001b[0;32m/var/folders/yn/n0dqsghs1x59rfzz_l8vlqkw0000gq/T/ipykernel_35633/2909812108.py\u001b[0m in \u001b[0;36m<module>\u001b[0;34m\u001b[0m\n\u001b[0;32m----> 1\u001b[0;31m \u001b[0ms1\u001b[0m \u001b[0;34m=\u001b[0m \u001b[0mSquare\u001b[0m\u001b[0;34m(\u001b[0m\u001b[0;36m1\u001b[0m\u001b[0;34m,\u001b[0m \u001b[0;36m0\u001b[0m\u001b[0;34m)\u001b[0m\u001b[0;34m\u001b[0m\u001b[0;34m\u001b[0m\u001b[0m\n\u001b[0m\u001b[1;32m      2\u001b[0m \u001b[0mprint\u001b[0m\u001b[0;34m(\u001b[0m\u001b[0ms1\u001b[0m\u001b[0;34m)\u001b[0m\u001b[0;34m\u001b[0m\u001b[0;34m\u001b[0m\u001b[0m\n",
      "\u001b[0;32m/var/folders/yn/n0dqsghs1x59rfzz_l8vlqkw0000gq/T/ipykernel_35633/2977395027.py\u001b[0m in \u001b[0;36m__init__\u001b[0;34m(self, x, y)\u001b[0m\n\u001b[1;32m      6\u001b[0m         \u001b[0mself\u001b[0m\u001b[0;34m.\u001b[0m\u001b[0my\u001b[0m \u001b[0;34m=\u001b[0m \u001b[0my\u001b[0m\u001b[0;34m\u001b[0m\u001b[0;34m\u001b[0m\u001b[0m\n\u001b[1;32m      7\u001b[0m         \u001b[0;32mif\u001b[0m \u001b[0mself\u001b[0m\u001b[0;34m.\u001b[0m\u001b[0mx\u001b[0m \u001b[0;34m!=\u001b[0m \u001b[0mself\u001b[0m\u001b[0;34m.\u001b[0m\u001b[0my\u001b[0m\u001b[0;34m:\u001b[0m\u001b[0;34m\u001b[0m\u001b[0;34m\u001b[0m\u001b[0m\n\u001b[0;32m----> 8\u001b[0;31m             \u001b[0;32mraise\u001b[0m \u001b[0mValueError\u001b[0m\u001b[0;34m(\u001b[0m\u001b[0;34m'Sides of square must be equal.'\u001b[0m\u001b[0;34m)\u001b[0m\u001b[0;34m\u001b[0m\u001b[0;34m\u001b[0m\u001b[0m\n\u001b[0m\u001b[1;32m      9\u001b[0m \u001b[0;34m\u001b[0m\u001b[0m\n\u001b[1;32m     10\u001b[0m     \u001b[0;32mdef\u001b[0m \u001b[0m__str__\u001b[0m\u001b[0;34m(\u001b[0m\u001b[0mself\u001b[0m\u001b[0;34m)\u001b[0m\u001b[0;34m:\u001b[0m \u001b[0;31m# <-- override base class __str__ () method\u001b[0m\u001b[0;34m\u001b[0m\u001b[0;34m\u001b[0m\u001b[0m\n",
      "\u001b[0;31mValueError\u001b[0m: Sides of square must be equal."
     ]
    }
   ],
   "source": [
    "s1 = Square(1, 0)\n",
    "print(s1)"
   ]
  },
  {
   "cell_type": "code",
   "execution_count": 56,
   "id": "86723dc2",
   "metadata": {},
   "outputs": [
    {
     "name": "stdout",
     "output_type": "stream",
     "text": [
      "Square(2, 2)\n"
     ]
    }
   ],
   "source": [
    "s1 = Square(2, 2)\n",
    "print(s1)"
   ]
  },
  {
   "cell_type": "code",
   "execution_count": 57,
   "id": "9810ad42",
   "metadata": {},
   "outputs": [
    {
     "data": {
      "image/png": "[encoded data removed]",
      "text/plain": [
       "<Figure size 432x288 with 1 Axes>"
      ]
     },
     "metadata": {
      "needs_background": "light"
     },
     "output_type": "display_data"
    }
   ],
   "source": [
    "s1.plot();"
   ]
  },
  {
   "cell_type": "markdown",
   "id": "1863d1f1",
   "metadata": {},
   "source": [
    "b.) Generating Data for Fitting\n",
    "\n",
    "includes:\n",
    "\n",
    "* __ iter __ ()\n",
    "* __ next __ ()"
   ]
  },
  {
   "cell_type": "code",
   "execution_count": 59,
   "id": "c906fc15",
   "metadata": {},
   "outputs": [],
   "source": [
    "class Exp(object):\n",
    "    '''Class to define an exponentially increasing function'''\n",
    "    \n",
    "    def __init__(self, n):\n",
    "        self.n = n\n",
    "        self.i = 0\n",
    "        \n",
    "    def __iter__(self):\n",
    "        return self\n",
    "    \n",
    "    def __next__(self):\n",
    "        if self.i >= self.n:\n",
    "            raise StopIteration\n",
    "        self.i += 1\n",
    "        return self.i**2"
   ]
  },
  {
   "cell_type": "code",
   "execution_count": 60,
   "id": "1de76332",
   "metadata": {},
   "outputs": [
    {
     "data": {
      "text/plain": [
       "<matplotlib.collections.PathCollection at 0x11c6b7df0>"
      ]
     },
     "execution_count": 60,
     "metadata": {},
     "output_type": "execute_result"
    },
    {
     "data": {
      "image/png": "[encoded data removed]",
      "text/plain": [
       "<Figure size 432x288 with 1 Axes>"
      ]
     },
     "metadata": {
      "needs_background": "light"
     },
     "output_type": "display_data"
    }
   ],
   "source": [
    "import matplotlib.pyplot as plt\n",
    "import numpy as np\n",
    "\n",
    "made_up_data = [i**2+np.random.randint(10) for i in range(10)]\n",
    "plt.plot([i for i in Exp(10)], '--k')\n",
    "plt.scatter([i for i in range(len(made_up_data))], made_up_data, s=5**2, color='r', marker='s')"
   ]
  },
  {
   "cell_type": "markdown",
   "id": "346825a7",
   "metadata": {},
   "source": [
    "There is much more to Python classes then is presented here but this should get you started.\n",
    "\n",
    "Next step: Generate your own classes with unique properties suited for a specific set of tasks. Think about how you want the class to behave (design) and then work out how to organize your class and decide which special methods you'll need."
   ]
  },
  {
   "cell_type": "markdown",
   "id": "5cee9550",
   "metadata": {},
   "source": [
    "Other Python special methods, built-in decorators, and modules to think about:\n",
    "\n",
    "1. @property (decorator)\n",
    "2. @classmethod (decorator)\n",
    "3. @staticmethod (decorator)\n",
    "4. __ dict __ () (special method)\n",
    "5. clockdeco.clock (decorator)\n",
    "6. functools.wraps (wrapper)\n",
    "7. __ del __ ()\n",
    "8. __ exit __ ()\n",
    "9. __ enter __ ()\n",
    "10. __ set __ and __ get __ ()\\\n",
    "And many more"
   ]
  },
  {
   "cell_type": "code",
   "execution_count": 69,
   "id": "46aa6b6d",
   "metadata": {},
   "outputs": [],
   "source": [
    "class NaCl:\n",
    "    def __init__(self, a):\n",
    "        self.a = a**2 # Complicated function\n",
    "        self.spin = 0\n",
    "        \n",
    "    def spinf(self):\n",
    "        self.spin += 5\n",
    "        self.spin -= 1\n",
    "        self.spin =/ 10\n",
    "        return self.spin\n",
    "\n",
    "na = NaCl(0)\n",
    "na.spinf()\n",
    "spin = na.spin\n",
    "\n",
    "print(spin)"
   ]
  },
  {
   "cell_type": "code",
   "execution_count": 69,
   "id": "82fe0e41",
   "metadata": {},
   "outputs": [
    {
     "ename": "SyntaxError",
     "evalue": "invalid syntax (4016561915.py, line 9)",
     "output_type": "error",
     "traceback": [
      "\u001b[0;36m  File \u001b[0;32m\"/var/folders/yn/n0dqsghs1x59rfzz_l8vlqkw0000gq/T/ipykernel_35633/4016561915.py\"\u001b[0;36m, line \u001b[0;32m9\u001b[0m\n\u001b[0;31m    self.spin =/ 10\u001b[0m\n\u001b[0m               ^\u001b[0m\n\u001b[0;31mSyntaxError\u001b[0m\u001b[0;31m:\u001b[0m invalid syntax\n"
     ]
    }
   ],
   "source": []
  }
 ],
 "metadata": {
  "kernelspec": {
   "display_name": "Python 3 (ipykernel)",
   "language": "python",
   "name": "python3"
  },
  "language_info": {
   "codemirror_mode": {
    "name": "ipython",
    "version": 3
   },
   "file_extension": ".py",
   "mimetype": "text/x-python",
   "name": "python",
   "nbconvert_exporter": "python",
   "pygments_lexer": "ipython3",
   "version": "3.9.7"
  }
 },
 "nbformat": 4,
 "nbformat_minor": 5
}
