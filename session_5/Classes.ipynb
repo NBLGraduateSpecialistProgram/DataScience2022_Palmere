{
 "cells": [
  {
   "cell_type": "markdown",
   "id": "desirable-compression",
   "metadata": {},
   "source": [
    "Introducton to the Use of Classes in Python\\\n",
    "Robert Palmere, 2021\\\n",
    "Email: rdp135@chem.rutgers.edu"
   ]
  },
  {
   "cell_type": "markdown",
   "id": "owned-sandwich",
   "metadata": {},
   "source": [
    "### Classes in Python\n",
    "1. Properties and Functions of a Class\n",
    "2. Inheritance (polymorphism)\n",
    "3. Encapsulation (public vs. private variables)\n",
    "4. Decorators\n",
    "5. Overview of Python Special Methods (\"dunder\" methods)\n",
    "6. Basic Applications and Examples"
   ]
  },
  {
   "cell_type": "markdown",
   "id": "opposed-breakfast",
   "metadata": {},
   "source": [
    "What is a class?\n",
    "\n",
    "\"An extensible program-code-template for creating objects, providing initial values for state (member variables) and implementations of behavior (member functions).\" \n",
    "\n",
    "Bruce 2002, 2.1 Objects, classes, and object types, https://books.google.com/books?id=9NGWq3K1RwUC&pg=PA18."
   ]
  },
  {
   "cell_type": "markdown",
   "id": "developmental-yeast",
   "metadata": {},
   "source": [
    "#### Properties and Functions of a Class\n",
    "\n",
    "The Python data model allows for \"duck typing\": methods can be placed as needed within the object for it to behave as desired rather than inherit from some base class / interface."
   ]
  },
  {
   "cell_type": "markdown",
   "id": "distinct-matter",
   "metadata": {},
   "source": [
    "Let's create a class using the 'class' keyword."
   ]
  },
  {
   "cell_type": "code",
   "execution_count": null,
   "id": "falling-michigan",
   "metadata": {},
   "outputs": [],
   "source": [
    "class Rectangle:\n",
    "    pass"
   ]
  },
  {
   "cell_type": "markdown",
   "id": "committed-tourist",
   "metadata": {},
   "source": [
    "We have defined a class 'Rectangle'. What's inside by default?"
   ]
  },
  {
   "cell_type": "code",
   "execution_count": null,
   "id": "german-theology",
   "metadata": {},
   "outputs": [],
   "source": [
    "print(dir(Rectangle))"
   ]
  },
  {
   "cell_type": "markdown",
   "id": "given-turning",
   "metadata": {},
   "source": [
    "These are what are known as \"double underscore\", \"dunder\", or \"special\" methods in Python.\n",
    "\n",
    "These are built-in functions often used for operation overloading (we'll get to this later)."
   ]
  },
  {
   "cell_type": "markdown",
   "id": "animal-tender",
   "metadata": {},
   "source": [
    "To understand where these methods come from we should understand that classes *inherit* from a built-in type called 'object'."
   ]
  },
  {
   "cell_type": "markdown",
   "id": "received-craps",
   "metadata": {},
   "source": [
    "#### **Inheritance**"
   ]
  },
  {
   "cell_type": "markdown",
   "id": "decimal-macro",
   "metadata": {},
   "source": [
    "Classes are great for when we want to describe a complex category (object) which holds various attributes and behaviors.\n",
    "\n",
    "As a feature of classes, inheritance has several benefits:\n",
    "\n",
    "1. Reuse - Don't need to rewrite code present in the \"base\" or \"super\" class.\n",
    "2. Encapsulation - Prevent access to class specific attributes\n",
    "3. Extensibility - Can extend the features of the \"base\" or \"super\" class.\n",
    "4. Operation Overloading - Change the meaning of the operands based on modifying class methods"
   ]
  },
  {
   "cell_type": "code",
   "execution_count": null,
   "id": "identified-germany",
   "metadata": {},
   "outputs": [],
   "source": [
    "class NewRectangle(object): # Syntax for inheritance () after class name\n",
    "    pass"
   ]
  },
  {
   "cell_type": "markdown",
   "id": "meaningful-interpretation",
   "metadata": {},
   "source": [
    "Although not explicitly stated, both class 'Rectangle' and 'NewRectangle' inherit this built-in type."
   ]
  },
  {
   "cell_type": "code",
   "execution_count": null,
   "id": "chronic-shuttle",
   "metadata": {},
   "outputs": [],
   "source": [
    "print(Rectangle.__bases__)\n",
    "print(NewRectangle.__bases__)"
   ]
  },
  {
   "cell_type": "markdown",
   "id": "ancient-swaziland",
   "metadata": {},
   "source": [
    "We did not define __new__ nor __init__ for our class but they were able to be called to generate the class from 'object' which is a built-in type."
   ]
  },
  {
   "cell_type": "code",
   "execution_count": null,
   "id": "sufficient-concord",
   "metadata": {},
   "outputs": [],
   "source": [
    "Rectangle.__new__ is object.__new__"
   ]
  },
  {
   "cell_type": "markdown",
   "id": "directed-separation",
   "metadata": {},
   "source": [
    "We see that __new__ is an attribute of the base class 'object' and is accessed via inheritance. These are the same. 'Object' is highlighted in green as it is a built-in type.\n",
    "\n",
    "Here the 'is' keyword is used to identify that the two hold the same location in memory (CPython interpeter)."
   ]
  },
  {
   "cell_type": "markdown",
   "id": "twelve-treat",
   "metadata": {},
   "source": [
    "#### **Attributes**"
   ]
  },
  {
   "cell_type": "markdown",
   "id": "intensive-bullet",
   "metadata": {},
   "source": [
    "There are two types of attributes a class can have:\n",
    "\n",
    "1. Class attributes - shared by all objects of the class\n",
    "2. Instance attributes - specific to a particular instance of a class (not shared)"
   ]
  },
  {
   "cell_type": "code",
   "execution_count": null,
   "id": "naked-bridge",
   "metadata": {},
   "outputs": [],
   "source": [
    "# 1. An example of class attributes\n",
    "\n",
    "class Rectangle:\n",
    "    x = 1\n",
    "    y = 0\n",
    "    \n",
    "rect1 = Rectangle() # Instantiate the object \"rect1\"\n",
    "rect2 = Rectangle() # Instantiate the object \"rect2\"\n",
    "\n",
    "print(rect1.x) # \".\" operator to access class attribute\n",
    "print(rect2.x)"
   ]
  },
  {
   "cell_type": "markdown",
   "id": "heated-breakfast",
   "metadata": {},
   "source": [
    "Since these are *class* attributes, once we change it for one instance, it will change it for all instances."
   ]
  },
  {
   "cell_type": "code",
   "execution_count": null,
   "id": "widespread-trigger",
   "metadata": {},
   "outputs": [],
   "source": [
    "Rectangle.x = 2 # Change the class attribute \"x\" to be 2\n",
    "\n",
    "print(rect1.x)\n",
    "print(rect2.x)"
   ]
  },
  {
   "cell_type": "markdown",
   "id": "light-commodity",
   "metadata": {},
   "source": [
    "Notice that I changed Rectangle.x not Rectangle().x. This applied changes to all class instances.\n",
    "\n",
    "If I tried to change the \"x\" class attribute from an *instance*, it would only be local to that instance of the class as shown in the following example."
   ]
  },
  {
   "cell_type": "code",
   "execution_count": null,
   "id": "genuine-cleanup",
   "metadata": {},
   "outputs": [],
   "source": [
    "rect1.x = 0\n",
    "\n",
    "print(rect1.x)\n",
    "print(rect2.x) # Does not change"
   ]
  },
  {
   "cell_type": "code",
   "execution_count": null,
   "id": "magnetic-jumping",
   "metadata": {},
   "outputs": [],
   "source": [
    "# 2. An example of instance attributes\n",
    "\n",
    "class Rectangle(object):\n",
    "    def __init__(self): # define the __init__() special method to initiate \"x\" and \"y\" attributes upon instantiation\n",
    "        self.x = 1 # the function takes in \"self\" keyword argument which is the class object itself and defines these attributes\n",
    "        self.y = 1\n",
    "        \n",
    "rect1 = Rectangle() # Instantiate the object \"rect1\"\n",
    "rect2 = Rectangle() # Instantiate the object \"rect2\"\n",
    "\n",
    "print(rect1.x)\n",
    "print(rect2.x)"
   ]
  },
  {
   "cell_type": "markdown",
   "id": "chemical-colony",
   "metadata": {},
   "source": [
    "In the case of the instance attributes, the special method __ init __() is required to tell the class what to do upon instantiation (\"()\").\n",
    "\n",
    "Had we not done this we would not be able to access these variables outside of their respective instances."
   ]
  },
  {
   "cell_type": "code",
   "execution_count": null,
   "id": "color-glenn",
   "metadata": {},
   "outputs": [],
   "source": [
    "print(Rectangle.x) # Gives error"
   ]
  },
  {
   "cell_type": "markdown",
   "id": "harmful-minute",
   "metadata": {},
   "source": [
    "We can think of the __ init __ () special method as the *initializer* of our class. It initializes new instance attributes."
   ]
  },
  {
   "cell_type": "markdown",
   "id": "immediate-spread",
   "metadata": {},
   "source": [
    "__ init __ () accepts argument (self) which is actually passed to it by __ new __ (). Let's take a look at this example:"
   ]
  },
  {
   "cell_type": "code",
   "execution_count": null,
   "id": "champion-theta",
   "metadata": {},
   "outputs": [],
   "source": [
    "class Rectangle(object):\n",
    "    \n",
    "    def __new__(cls): # Constructor\n",
    "        print('Class object from __new__ : {}'.format(cls))\n",
    "        \n",
    "    def __init__(self): # Initializer\n",
    "        print('Class object from __init__: {}'.format(self))\n",
    "        \n",
    "Rectangle(); # Only prints once from __new__ ()"
   ]
  },
  {
   "cell_type": "markdown",
   "id": "lined-level",
   "metadata": {},
   "source": [
    "We usually do not have to worry about the __ new __ () special method because it is automatically called by __ init __ () every time we instantiate a class object.\n",
    "\n",
    "__ new __ () returns the newly generated class to __ init __ () as 'self' so we can initialize new attributes to it."
   ]
  },
  {
   "cell_type": "code",
   "execution_count": null,
   "id": "diverse-korean",
   "metadata": {},
   "outputs": [],
   "source": [
    "class Rectangle(object):\n",
    "    \n",
    "    def __init__(self):\n",
    "        print('Class object from __init__: {}'.format(self))\n",
    "        \n",
    "Rectangle();"
   ]
  },
  {
   "cell_type": "markdown",
   "id": "interim-palace",
   "metadata": {},
   "source": [
    "**So why wasn't __ init __ () called in the first case?**\n",
    "\n",
    "**Answer: We did not specify the return that would be automatically passed to __ init __ () as 'self' we only told __ new __ () to print the the class ('cls').**"
   ]
  },
  {
   "cell_type": "code",
   "execution_count": null,
   "id": "addressed-majority",
   "metadata": {},
   "outputs": [],
   "source": [
    "class Rectangle(object):\n",
    "    \n",
    "    def __new__(cls):\n",
    "        print(\"Object being passed to __init__() as 'self' : {}\".format(cls))\n",
    "        return object.__new__(cls) # <--- ** return a new class called 'Rectangle' as an object to __init__\n",
    "    \n",
    "    def __init__(self):\n",
    "        print('Initialized!')\n",
    "        \n",
    "Rectangle();"
   ]
  },
  {
   "cell_type": "markdown",
   "id": "mobile-effectiveness",
   "metadata": {},
   "source": [
    "We can also do this using the super() method of Python which returns the base class by default."
   ]
  },
  {
   "cell_type": "code",
   "execution_count": null,
   "id": "opened-reason",
   "metadata": {},
   "outputs": [],
   "source": [
    "class Rectangle(object):\n",
    "    \n",
    "    def __new__(cls):\n",
    "        return super().__new__(cls)\n",
    "    \n",
    "    def __init__(self):\n",
    "        print('Initialized!')\n",
    "        \n",
    "Rectangle(); # ';' to halt Jupyter output"
   ]
  },
  {
   "cell_type": "markdown",
   "id": "modified-copying",
   "metadata": {},
   "source": [
    "This is equilivalent to:"
   ]
  },
  {
   "cell_type": "code",
   "execution_count": null,
   "id": "approved-opera",
   "metadata": {},
   "outputs": [],
   "source": [
    "class Rectangle(object):\n",
    "    \n",
    "    def __new__(cls):\n",
    "        return super(Rectangle, cls).__new__(cls)\n",
    "    \n",
    "    def __init__(self):\n",
    "        print('Initialized!')\n",
    "        \n",
    "Rectangle();"
   ]
  },
  {
   "cell_type": "code",
   "execution_count": null,
   "id": "optical-loading",
   "metadata": {},
   "outputs": [],
   "source": [
    "print(super.__doc__) # Documentation helps a bit"
   ]
  },
  {
   "cell_type": "markdown",
   "id": "lightweight-injury",
   "metadata": {},
   "source": [
    "It might appear that super() is just a fancy way of getting the base class. However, it is more useful than this."
   ]
  },
  {
   "cell_type": "markdown",
   "id": "grand-flight",
   "metadata": {},
   "source": [
    "Super() is actually Python's way of handling multiple inheritance by enabling the derived class (the class doing the inheriting) the ability to correctly identify the order of inherited classes according to the Method Resolution Order (MRO).\n",
    "\n",
    "More reading on this can be done on [stackoverflow](https://stackoverflow.com/questions/576169/understanding-python-super-with-init-methods)."
   ]
  },
  {
   "cell_type": "code",
   "execution_count": null,
   "id": "incorrect-candy",
   "metadata": {},
   "outputs": [],
   "source": [
    "print(Rectangle.__mro__.__doc__) # The MRO is actually a built-in attribute we can access"
   ]
  },
  {
   "cell_type": "code",
   "execution_count": null,
   "id": "accomplished-masters",
   "metadata": {},
   "outputs": [],
   "source": [
    "print(Rectangle.__mro__)"
   ]
  },
  {
   "cell_type": "markdown",
   "id": "helpful-needle",
   "metadata": {},
   "source": [
    "We can think of this as the order in which the derived and base classes are \"resolved\":"
   ]
  },
  {
   "cell_type": "code",
   "execution_count": null,
   "id": "unlike-saver",
   "metadata": {},
   "outputs": [],
   "source": [
    "def print_mro_order(class_):\n",
    "    for i in range(len(class_.__mro__)):\n",
    "        print(i+1, class_.__mro__[len(class_.__mro__) - 1 - i])\n",
    "        \n",
    "print_mro_order(Rectangle)"
   ]
  },
  {
   "cell_type": "code",
   "execution_count": null,
   "id": "worth-prototype",
   "metadata": {},
   "outputs": [],
   "source": [
    "class A(object): x = 'a'\n",
    "\n",
    "class B(A): pass\n",
    "\n",
    "class C(A): x = 'c'\n",
    "\n",
    "class D(B, C): pass\n",
    "\n",
    "print(D.x)"
   ]
  },
  {
   "cell_type": "markdown",
   "id": "dental-florence",
   "metadata": {},
   "source": [
    "We overide the 'x' attribute of class A after inheriting in C and D which inherits C correctly displays this change."
   ]
  },
  {
   "cell_type": "markdown",
   "id": "middle-blond",
   "metadata": {},
   "source": [
    "Displaying the MRO of class D will show why this order occurs:"
   ]
  },
  {
   "cell_type": "code",
   "execution_count": null,
   "id": "particular-archive",
   "metadata": {},
   "outputs": [],
   "source": [
    "print_mro_order(D) # Class attributes defined through this series of inheritance"
   ]
  },
  {
   "cell_type": "markdown",
   "id": "sized-relief",
   "metadata": {},
   "source": [
    "#### Encapsulation"
   ]
  },
  {
   "cell_type": "markdown",
   "id": "based-madison",
   "metadata": {},
   "source": [
    "Python classes have the ability to hide attributes although not as extensively as C++ (no 'protected' or 'friend' labels)."
   ]
  },
  {
   "cell_type": "code",
   "execution_count": null,
   "id": "velvet-timothy",
   "metadata": {},
   "outputs": [],
   "source": [
    "class Rectangle(object):\n",
    "    \n",
    "    def __init__(self):\n",
    "        self.__x = 20\n",
    "\n",
    "print(Rectangle().__x) # <--- double underscore makes this inaccesible the dot operator"
   ]
  },
  {
   "cell_type": "code",
   "execution_count": null,
   "id": "played-trauma",
   "metadata": {},
   "outputs": [],
   "source": [
    "print(Rectangle.__dict__) # __dict__ stores all class writable attributes"
   ]
  },
  {
   "cell_type": "code",
   "execution_count": null,
   "id": "ethical-greeting",
   "metadata": {},
   "outputs": [],
   "source": [
    "print(Rectangle()._Rectangle__x) # Note that the compiler renamed our 'private' attribute so that it is hidden"
   ]
  },
  {
   "cell_type": "markdown",
   "id": "affecting-southwest",
   "metadata": {},
   "source": [
    "There are no *truly* private or methods of encapsulation but the '_ _' can be used to prevent direct access and the '_' can signal to other developers to beware."
   ]
  },
  {
   "cell_type": "code",
   "execution_count": null,
   "id": "dangerous-least",
   "metadata": {},
   "outputs": [],
   "source": [
    "class Car(object):\n",
    "    \n",
    "    def __init__(self):\n",
    "        self.__speed = 0 # 'Private instance attribute'\n",
    "        \n",
    "    def get_speed(self):\n",
    "        return self.__speed\n",
    "    \n",
    "    def set_speed(self, speed):\n",
    "        self.__speed = speed\n",
    "        return \n",
    "\n",
    "car = Car()\n",
    "\n",
    "print(car.get_speed()) # Accessed via a 'getter' method"
   ]
  },
  {
   "cell_type": "markdown",
   "id": "hourly-board",
   "metadata": {},
   "source": [
    "Since the attribute is 'private' we must use 'getter' and 'setter' method to retrieve and replace the attribute value.\n",
    "\n",
    "We can also do this with public instance attributes."
   ]
  },
  {
   "cell_type": "code",
   "execution_count": null,
   "id": "conditional-pointer",
   "metadata": {},
   "outputs": [],
   "source": [
    "class Car(object):\n",
    "    \n",
    "    def __init__(self):\n",
    "        self.speed = 0\n",
    "        \n",
    "    def get_speed(self):\n",
    "        return self.speed\n",
    "    \n",
    "    def set_speed(self, speed):\n",
    "        self.speed = speed\n",
    "        return \n",
    "\n",
    "car = Car()\n",
    "\n",
    "print(car.get_speed()) # Accessed via a 'getter' method"
   ]
  },
  {
   "cell_type": "markdown",
   "id": "faced-proposal",
   "metadata": {},
   "source": [
    "The benefit here is that we are setting a level of protection for the instance attribute as well as added clarity for the class (i.e. Car.s = 1 may not be as clear as Car.set_speed(1) ).\n",
    "\n",
    "In the following example we will see that we can add 'protection' to our class instance attribute by only enabling positive values to speed of our car."
   ]
  },
  {
   "cell_type": "code",
   "execution_count": null,
   "id": "intermediate-capitol",
   "metadata": {},
   "outputs": [],
   "source": [
    "class Car(object):\n",
    "    \n",
    "    def __init__(self):\n",
    "        self.speed = 0 \n",
    "        \n",
    "    def get_speed(self):\n",
    "        return self.speed\n",
    "    \n",
    "    def set_speed(self, speed):\n",
    "        try:\n",
    "            self.speed = float(speed)\n",
    "            return self.speed\n",
    "        except:\n",
    "            raise ValueError('Speed must be a numeric value.')\n",
    "\n",
    "car = Car()\n",
    "\n",
    "print(car.get_speed()) # Speed before setting\n",
    "\n",
    "car.set_speed('some string') # Argument is a string so error is raised."
   ]
  },
  {
   "cell_type": "code",
   "execution_count": null,
   "id": "essential-punishment",
   "metadata": {},
   "outputs": [],
   "source": [
    "car.set_speed(100); # We set the speed to a numeric value\n",
    "\n",
    "print(car.get_speed()) # Speed instance attribute of 'car' now set to 100"
   ]
  },
  {
   "cell_type": "markdown",
   "id": "american-comparison",
   "metadata": {},
   "source": [
    "Notice that we are using print(car.get_speed()). If we want to change what attributes are shown by print() we can change the return of __ str __ ()."
   ]
  },
  {
   "cell_type": "code",
   "execution_count": null,
   "id": "creative-little",
   "metadata": {},
   "outputs": [],
   "source": [
    "class Car(object):\n",
    "    \n",
    "    def __init__(self):\n",
    "        self.speed = 0 # 'Private instance attribute'\n",
    "        \n",
    "    def get_speed(self):\n",
    "        return self.speed\n",
    "    \n",
    "    def set_speed(self, speed):\n",
    "        try:\n",
    "            self.speed = float(speed)\n",
    "            return self.speed\n",
    "        except:\n",
    "            raise ValueError('Speed must be a numeric value.')\n",
    "            \n",
    "    def __str__(self):\n",
    "        return f'Speed: {self.speed}' # return a formatted string literal\n",
    "\n",
    "car = Car()\n",
    "\n",
    "print(car) # Now when we print car we are presented with the speed."
   ]
  },
  {
   "cell_type": "markdown",
   "id": "presidential-composite",
   "metadata": {},
   "source": [
    "There is a more Pythonic way of making these setters and getters within our class with the use of a *decorator*. \n",
    "\n",
    "A decorator is the cherry on top of our Python syntax. We can specify a decorator above a function to indicate that that function is an argument of the decorator.\n",
    "\n",
    "First, let's see how the setter and getters can be used with the @property decorator and then we will break down the code of this decorator and the general functions of decorators."
   ]
  },
  {
   "cell_type": "code",
   "execution_count": null,
   "id": "frozen-press",
   "metadata": {},
   "outputs": [],
   "source": [
    "class Car(object):\n",
    "    \n",
    "    def __init__(self):\n",
    "        self._speed = 0 # Notice we changed 'speed' to '_speed' so it doesn't conflict with the property function\n",
    "    \n",
    "    @property\n",
    "    def speed(self):\n",
    "        return self._speed\n",
    "        \n",
    "    @speed.setter\n",
    "    def speed(self, speed):\n",
    "        try:\n",
    "            self._speed = float(speed)\n",
    "        except:\n",
    "            raise ValueError('Speed must be a numeric value.')\n",
    "            \n",
    "    def __str__(self):\n",
    "        return f'Speed: {self._speed}'\n",
    "    \n",
    "car = Car()\n",
    "\n",
    "print(car.speed) # the function speed() acts as an instance attribute of the class"
   ]
  },
  {
   "cell_type": "markdown",
   "id": "laughing-convert",
   "metadata": {},
   "source": [
    "Since speed() is now decorated with @property we can now use the same name for the setter and getter of these methods."
   ]
  },
  {
   "cell_type": "code",
   "execution_count": null,
   "id": "periodic-preview",
   "metadata": {},
   "outputs": [],
   "source": [
    "car.speed = 'some string' # speed cannot be set to anything but a numeric value without an error"
   ]
  },
  {
   "cell_type": "code",
   "execution_count": null,
   "id": "fallen-spell",
   "metadata": {},
   "outputs": [],
   "source": [
    "car.speed = 100"
   ]
  },
  {
   "cell_type": "code",
   "execution_count": null,
   "id": "accessory-antarctica",
   "metadata": {},
   "outputs": [],
   "source": [
    "print(car.speed)"
   ]
  },
  {
   "cell_type": "markdown",
   "id": "colonial-nature",
   "metadata": {},
   "source": [
    "We have added clarity while still protecting and adding functionality that we wanted for our getter and setter for this particular instance attribute."
   ]
  },
  {
   "cell_type": "markdown",
   "id": "static-peripheral",
   "metadata": {},
   "source": [
    "#### Decorators"
   ]
  },
  {
   "cell_type": "markdown",
   "id": "social-lloyd",
   "metadata": {},
   "source": [
    "We can see the benefit of using decorators. Let's write out own simple decorators to demonstrate their inner workings."
   ]
  },
  {
   "cell_type": "markdown",
   "id": "valuable-comparison",
   "metadata": {},
   "source": [
    "Decorators can either be:\n",
    "    \n",
    "    1. Functions\n",
    "    2. Classes\n",
    "    \n",
    "The @property decorator is a class."
   ]
  },
  {
   "cell_type": "code",
   "execution_count": null,
   "id": "inner-parcel",
   "metadata": {},
   "outputs": [],
   "source": [
    "print(property)\n",
    "print(property.__doc__)"
   ]
  },
  {
   "cell_type": "markdown",
   "id": "statewide-assembly",
   "metadata": {},
   "source": [
    "Decorators take in functions as arguments, modify the return of that function, and return the modified result of the nested function.\n",
    "\n",
    "An example of a *Function* decorator:"
   ]
  },
  {
   "cell_type": "code",
   "execution_count": null,
   "id": "white-communist",
   "metadata": {},
   "outputs": [],
   "source": [
    "def make_string(str_):\n",
    "    '''Define a function which returns the string we give'''\n",
    "    return str_\n",
    "\n",
    "string = make_string('Hello World!')\n",
    "\n",
    "print(string)"
   ]
  },
  {
   "cell_type": "code",
   "execution_count": null,
   "id": "whole-charlotte",
   "metadata": {},
   "outputs": [],
   "source": [
    "def formatted(func):\n",
    "    '''Define a decorator to format string outputs'''\n",
    "    def inner(func):\n",
    "        return '*** ' + func + ' ***'\n",
    "    return inner # return nested function which modifies output of the given function"
   ]
  },
  {
   "cell_type": "code",
   "execution_count": null,
   "id": "practical-picnic",
   "metadata": {},
   "outputs": [],
   "source": [
    "@formatted\n",
    "def make_string(str_):\n",
    "    '''Define a function which returns the string we give'''\n",
    "    return str_\n",
    "\n",
    "string = make_string('Hello World!')\n",
    "\n",
    "print(string)"
   ]
  },
  {
   "cell_type": "markdown",
   "id": "hungry-duncan",
   "metadata": {},
   "source": [
    "What if we didn't have the nested function 'inner'?"
   ]
  },
  {
   "cell_type": "code",
   "execution_count": null,
   "id": "computational-mambo",
   "metadata": {},
   "outputs": [],
   "source": [
    "def formatted(func):\n",
    "    return '*** ' + func + ' ***'\n",
    "\n",
    "@formatted\n",
    "def make_string(str_):\n",
    "    '''Define a function which returns the string we give'''\n",
    "    return str_\n",
    "\n",
    "string = make_string('Hello World!')\n",
    "\n",
    "print(string) # Error as 'func' given to 'formatted' is a function not a string"
   ]
  },
  {
   "cell_type": "markdown",
   "id": "copyrighted-infrastructure",
   "metadata": {},
   "source": [
    "We don't know what argument will be passesd to 'func'. Additionally this is not valid syntax, so it doesn't suffice to do:"
   ]
  },
  {
   "cell_type": "code",
   "execution_count": null,
   "id": "proper-burton",
   "metadata": {},
   "outputs": [],
   "source": [
    "def formatted(func(str_)): # <-- syntax error\n",
    "    return '*** ' + func(str_) + ' ***'\n",
    "\n",
    "@formatted\n",
    "def make_string(str_):\n",
    "    '''Define a function which returns the string we give'''\n",
    "    return str_\n",
    "\n",
    "string = make_string('Hello World!')\n",
    "\n",
    "print(string)"
   ]
  },
  {
   "cell_type": "markdown",
   "id": "middle-david",
   "metadata": {},
   "source": [
    "This is why our nested function 'inner' is required. This nested function is also known as a *wrapper* function. It wraps around the argument function and can access the outer local functions."
   ]
  },
  {
   "cell_type": "markdown",
   "id": "portable-motor",
   "metadata": {},
   "source": [
    "The @formatted syntax is just short for:"
   ]
  },
  {
   "cell_type": "code",
   "execution_count": null,
   "id": "turkish-element",
   "metadata": {},
   "outputs": [],
   "source": [
    "def make_string(str_):\n",
    "    '''Define a function which returns the string we give'''\n",
    "    return str_\n",
    "\n",
    "string = formatted(make_string('Hello World!'))\n",
    "print(string)"
   ]
  },
  {
   "cell_type": "markdown",
   "id": "italic-florida",
   "metadata": {},
   "source": [
    "How can we do this with a class as a decorator?\n",
    "\n",
    "In the case of a class we need to use the __ call __ () special method for the function to be passed as an argument to the decorator class. \n",
    "\n",
    "Let's see what the __ call __ () special method does."
   ]
  },
  {
   "cell_type": "code",
   "execution_count": null,
   "id": "illegal-assessment",
   "metadata": {},
   "outputs": [],
   "source": [
    "class Formatter(object):\n",
    "    \n",
    "    def __init__(self):\n",
    "        self.string = 'Hello World!'\n",
    "        \n",
    "    def __call__(self, *args):\n",
    "        for i in args:\n",
    "            print(f'You called {self.__class__} with arguments: {i}!', end=' ')\n",
    "        return list(args)"
   ]
  },
  {
   "cell_type": "code",
   "execution_count": null,
   "id": "coupled-nigeria",
   "metadata": {},
   "outputs": [],
   "source": [
    "F = Formatter();\n",
    "F('Argument'); # <-- Can call the class instance for the desired behavior"
   ]
  },
  {
   "cell_type": "markdown",
   "id": "charming-smooth",
   "metadata": {},
   "source": [
    "This is the same thing as:"
   ]
  },
  {
   "cell_type": "code",
   "execution_count": null,
   "id": "mobile-sampling",
   "metadata": {},
   "outputs": [],
   "source": [
    "F.__call__('Arugment');"
   ]
  },
  {
   "cell_type": "markdown",
   "id": "urban-tokyo",
   "metadata": {},
   "source": [
    "Instead of generating an instance and then calling the instance, we can do this directly by adding arguments to the __ init __ () method of the class. i.e."
   ]
  },
  {
   "cell_type": "code",
   "execution_count": null,
   "id": "adapted-curtis",
   "metadata": {},
   "outputs": [],
   "source": [
    "class Formatter(object):\n",
    "    \n",
    "    def __init__(self, *function):\n",
    "        self.f = function\n",
    "        \n",
    "    def __call__(self):\n",
    "        for i in self.f:\n",
    "            print(f'You called {self.__class__} with arguments: {i}!', end=' ')\n",
    "        return self.f"
   ]
  },
  {
   "cell_type": "code",
   "execution_count": null,
   "id": "swiss-split",
   "metadata": {},
   "outputs": [],
   "source": [
    "Formatter('Argument')();"
   ]
  },
  {
   "cell_type": "markdown",
   "id": "continuing-brand",
   "metadata": {},
   "source": [
    "This is a bit awkward but leads into how a class decorator is implemented as we want:\n",
    "\n",
    "formatted = Formatter(make_string(str_)) \n",
    "\n",
    "with the 'formatted' class instance to be the formatted string.\n",
    "\n",
    "We want __ call __ () to act as the wrapper function, making alterations to the function argument before returning. We can see this done in the following example:"
   ]
  },
  {
   "cell_type": "code",
   "execution_count": 1,
   "id": "subjective-testing",
   "metadata": {},
   "outputs": [
    {
     "name": "stdout",
     "output_type": "stream",
     "text": [
      "*** Hello World! ***\n"
     ]
    }
   ],
   "source": [
    "class Formatter(object):\n",
    "\n",
    "    def __call__(self, f):\n",
    "        def inner(f):\n",
    "            return '*** ' + f + ' ***'\n",
    "        return inner\n",
    "    \n",
    "@Formatter()\n",
    "def make_string(str_):\n",
    "    '''Define a function which returns the string we give'''\n",
    "    return str_\n",
    "\n",
    "print(make_string('Hello World!'))"
   ]
  },
  {
   "cell_type": "markdown",
   "id": "adolescent-course",
   "metadata": {},
   "source": [
    "#### Practical Implementations"
   ]
  },
  {
   "cell_type": "markdown",
   "id": "classical-pakistan",
   "metadata": {},
   "source": [
    "a.) Plotting an object"
   ]
  },
  {
   "cell_type": "code",
   "execution_count": null,
   "id": "stock-avenue",
   "metadata": {},
   "outputs": [],
   "source": [
    "import numpy as np\n",
    "import matplotlib.pyplot as plt\n",
    "\n",
    "class Rectangle:\n",
    "    \n",
    "    def __init__(self, x=0, y=0):\n",
    "        self.x = x\n",
    "        self.y = y\n",
    "        \n",
    "    def __repr__(self):\n",
    "        return 'Rectangle(%r, %r)' % (self.x, self.y)\n",
    "    \n",
    "    def __str__(self):\n",
    "        return f'{self.x} x {self.y} Rectangle'\n",
    "    \n",
    "    def __abs__(self):\n",
    "        return np.hypot(self.x, self.y)\n",
    "    \n",
    "    def __add__(self, other):\n",
    "        x, y = self.x + other.x, self.y + other.y\n",
    "        return Rectangle(x, y)\n",
    "\n",
    "    def __mul__(self, other):\n",
    "        return Rectangle(self.x * other.x, self.y * other.y)\n",
    "    \n",
    "    def plot(self, ax=None):\n",
    "        if ax == None:\n",
    "            fig, ax = plt.subplots()\n",
    "        ax.plot([i for i in range(self.x+1)], [0 for i in range(self.x+1)], 'k')\n",
    "        ax.plot([i for i in range(self.x+1)], [self.y for i in range(self.x+1)], 'k')\n",
    "        ax.plot([0 for i in range(self.y+1)], [i for i in range(self.y+1)], 'k')\n",
    "        ax.plot([self.x for i in range(self.y+1)], [i for i in range(self.y+1)], 'k')\n",
    "        return ax"
   ]
  },
  {
   "cell_type": "code",
   "execution_count": null,
   "id": "celtic-marble",
   "metadata": {},
   "outputs": [],
   "source": [
    "r1 = Rectangle(2, 2)\n",
    "r2 = Rectangle(3, 4)\n",
    "\n",
    "print(r1)\n",
    "print(r2)"
   ]
  },
  {
   "cell_type": "code",
   "execution_count": null,
   "id": "virgin-triangle",
   "metadata": {},
   "outputs": [],
   "source": [
    "abs(r1)"
   ]
  },
  {
   "cell_type": "code",
   "execution_count": null,
   "id": "forbidden-community",
   "metadata": {},
   "outputs": [],
   "source": [
    "r3 = r1 + r2\n",
    "print(r3)"
   ]
  },
  {
   "cell_type": "code",
   "execution_count": null,
   "id": "constant-identifier",
   "metadata": {},
   "outputs": [],
   "source": [
    "r3 = r1 * r2\n",
    "print(r3)"
   ]
  },
  {
   "cell_type": "code",
   "execution_count": null,
   "id": "recognized-employee",
   "metadata": {},
   "outputs": [],
   "source": [
    "rectangles = [r1, r2, r3]\n",
    "fig, axs = plt.subplots(1, len(rectangles), figsize=(7, 2))\n",
    "for i in range(len(rectangles)):\n",
    "    rectangles[i].plot(ax=axs[i])\n",
    "    axs[i].set_xlim([-10, 10])\n",
    "    axs[i].set_ylim([-10, 10])\n",
    "plt.tight_layout()\n",
    "plt.show()"
   ]
  },
  {
   "cell_type": "markdown",
   "id": "magnetic-serve",
   "metadata": {},
   "source": [
    "We can expand this class to describe other objects but because of inheritance we don't have to rewrite the above code."
   ]
  },
  {
   "cell_type": "code",
   "execution_count": null,
   "id": "developed-boxing",
   "metadata": {},
   "outputs": [],
   "source": [
    "class Square(Rectangle):\n",
    "    \n",
    "    def __init__(self, x=0, y=0):\n",
    "        Rectangle.__init__(self) # <-- initialize the base class (we can also use super())"
   ]
  },
  {
   "cell_type": "code",
   "execution_count": null,
   "id": "therapeutic-valuation",
   "metadata": {},
   "outputs": [],
   "source": [
    "s1 = Square(1, 2)\n",
    "print(s1)"
   ]
  },
  {
   "cell_type": "markdown",
   "id": "incorporate-theory",
   "metadata": {},
   "source": [
    "A square is a special type of Rectangle. We see that the Square is behaving as if it is a Rectangle after inheriting from Rectangle.\n",
    "\n",
    "Let's change this in Square so that x must equal y and it is accurately represented by print()."
   ]
  },
  {
   "cell_type": "code",
   "execution_count": null,
   "id": "rising-filling",
   "metadata": {},
   "outputs": [],
   "source": [
    "class Square(Rectangle):\n",
    "    \n",
    "    def __init__(self, x=0, y=0):\n",
    "        Rectangle.__init__(self)\n",
    "        self.x = x\n",
    "        self.y = y\n",
    "        if self.x != self.y:\n",
    "            raise ValueError('Sides of square must be equal.')\n",
    "        \n",
    "    def __str__(self): # <-- override base class __str__ () method\n",
    "        return 'Square(%r, %r)' % (self.x, self.y)\n",
    "    \n",
    "    # Other methods already written!"
   ]
  },
  {
   "cell_type": "code",
   "execution_count": null,
   "id": "friendly-looking",
   "metadata": {},
   "outputs": [],
   "source": [
    "s1 = Square(1, 0)\n",
    "print(s1)"
   ]
  },
  {
   "cell_type": "code",
   "execution_count": null,
   "id": "collaborative-array",
   "metadata": {},
   "outputs": [],
   "source": [
    "s1 = Square(2, 2)\n",
    "print(s1)"
   ]
  },
  {
   "cell_type": "code",
   "execution_count": null,
   "id": "mineral-factor",
   "metadata": {},
   "outputs": [],
   "source": [
    "s1.plot();"
   ]
  },
  {
   "cell_type": "markdown",
   "id": "standing-digest",
   "metadata": {},
   "source": [
    "b.) Generating Data for Fitting\n",
    "\n",
    "includes:\n",
    "\n",
    "* __ iter __ ()\n",
    "* __ next __ ()"
   ]
  },
  {
   "cell_type": "code",
   "execution_count": null,
   "id": "fatal-audio",
   "metadata": {},
   "outputs": [],
   "source": [
    "class Exp(object):\n",
    "    '''Class to define an exponentially increasing function'''\n",
    "    \n",
    "    def __init__(self, n):\n",
    "        self.n = n\n",
    "        self.i = 0\n",
    "        \n",
    "    def __iter__(self):\n",
    "        return self\n",
    "    \n",
    "    def __next__(self):\n",
    "        if self.i >= self.n:\n",
    "            raise StopIteration\n",
    "        self.i += 1\n",
    "        return self.i**2"
   ]
  },
  {
   "cell_type": "code",
   "execution_count": null,
   "id": "rental-timber",
   "metadata": {},
   "outputs": [],
   "source": [
    "import matplotlib.pyplot as plt\n",
    "import numpy as np\n",
    "\n",
    "made_up_data = [i**2+np.random.randint(10) for i in range(10)]\n",
    "plt.plot([i for i in Exp(10)], '--k')\n",
    "plt.scatter([i for i in range(len(made_up_data))], made_up_data, s=5**2, color='r', marker='s')"
   ]
  },
  {
   "cell_type": "markdown",
   "id": "cognitive-attack",
   "metadata": {},
   "source": [
    "There is much more to Python classes then is presented here but this should get you started.\n",
    "\n",
    "Next step: Generate your own classes with unique properties suited for a specific set of tasks. Think about how you want the class to behave (design) and then work out how to organize your class and decide which special methods you'll need."
   ]
  },
  {
   "cell_type": "markdown",
   "id": "dense-container",
   "metadata": {},
   "source": [
    "Other Python special methods, built-in decorators, and modules to think about:\n",
    "\n",
    "1. @property (decorator)\n",
    "2. @classmethod (decorator)\n",
    "3. @staticmethod (decorator)\n",
    "4. __ dict __ () (special method)\n",
    "5. clockdeco.clock (decorator)\n",
    "6. functools.wraps (wrapper)\n",
    "7. __ del __ ()\n",
    "8. __ exit __ ()\n",
    "9. __ enter __ ()\n",
    "10. __ set __ and __ get __ ()\\\n",
    "And many more"
   ]
  }
 ],
 "metadata": {
  "kernelspec": {
   "display_name": "Python 3",
   "language": "python",
   "name": "python3"
  },
  "language_info": {
   "codemirror_mode": {
    "name": "ipython",
    "version": 3
   },
   "file_extension": ".py",
   "mimetype": "text/x-python",
   "name": "python",
   "nbconvert_exporter": "python",
   "pygments_lexer": "ipython3",
   "version": "3.9.1"
  }
 },
 "nbformat": 4,
 "nbformat_minor": 5
}
