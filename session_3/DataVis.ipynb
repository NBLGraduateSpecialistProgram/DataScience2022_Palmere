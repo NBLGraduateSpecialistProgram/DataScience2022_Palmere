{
 "cells": [
  {
   "cell_type": "markdown",
   "id": "declared-popularity",
   "metadata": {},
   "source": [
    "### Introduction to Data Visualization with Python\n",
    "#### Robert Palmere, 2021\n",
    "#### Email: rdp135@chem.rutgers.edu\n",
    "-------------------------------------------------------------------------------\n",
    "##### Material Covered:\n",
    "\n",
    "1. Generating Figures using Matplotlib\n",
    "2. Basic plots using Seaborn\n",
    "3. Interacting with Data using Python Plots"
   ]
  },
  {
   "cell_type": "code",
   "execution_count": null,
   "id": "potential-organic",
   "metadata": {},
   "outputs": [],
   "source": [
    "import matplotlib.pyplot as plt\n",
    "from matplotlib.animation import FuncAnimation\n",
    "from matplotlib import colors\n",
    "import numpy as np\n",
    "import math"
   ]
  },
  {
   "cell_type": "markdown",
   "id": "short-boxing",
   "metadata": {},
   "source": [
    "##### Figures with Matplotlib"
   ]
  },
  {
   "cell_type": "code",
   "execution_count": null,
   "id": "isolated-execution",
   "metadata": {},
   "outputs": [],
   "source": [
    "# Generate pseudo-random data along a normal distribution\n",
    "data = np.random.normal(0, 1, 1000) # NumPy 1D array\n",
    "print(type(data).__name__)"
   ]
  },
  {
   "cell_type": "markdown",
   "id": "sitting-realtor",
   "metadata": {},
   "source": [
    "##### Plot the data using the \"figure\" function of matplotlib.pyplot module. Notice, this is not a class but holds statements and methods. This is a folder which contains a __init__.py file which allows use to import from the folder and resuse code. (i.e. $PYTHON_PATH/Matplotlib/pyplot/*). We'll go over this in our session on classes."
   ]
  },
  {
   "cell_type": "code",
   "execution_count": null,
   "id": "medieval-filing",
   "metadata": {},
   "outputs": [],
   "source": [
    "print(type(plt))\n",
    "print(type(plt.figure))"
   ]
  },
  {
   "cell_type": "code",
   "execution_count": null,
   "id": "gothic-establishment",
   "metadata": {},
   "outputs": [],
   "source": [
    "figure = plt.figure();\n",
    "print(type(figure))"
   ]
  },
  {
   "cell_type": "code",
   "execution_count": null,
   "id": "junior-collection",
   "metadata": {},
   "outputs": [],
   "source": [
    "plt.plot(data);"
   ]
  },
  {
   "cell_type": "markdown",
   "id": "sweet-bosnia",
   "metadata": {},
   "source": [
    "##### We can explicitly show that these data follow a normal distribution by showing a histogram."
   ]
  },
  {
   "cell_type": "code",
   "execution_count": null,
   "id": "optical-renewal",
   "metadata": {},
   "outputs": [],
   "source": [
    "plt.hist(data, bins=20);"
   ]
  },
  {
   "cell_type": "markdown",
   "id": "brilliant-intranet",
   "metadata": {},
   "source": [
    "##### Let's customize this histogram a bit and add a second data set for comparison."
   ]
  },
  {
   "cell_type": "code",
   "execution_count": null,
   "id": "spectacular-banner",
   "metadata": {},
   "outputs": [],
   "source": [
    "data2 = np.random.normal(0, 1, 1000)+1 # Shifted by 1\n",
    "b1 = plt.hist(data, bins=20, edgecolor='k', facecolor='slateblue');\n",
    "b2 = plt.hist(data2, bins=20, edgecolor='k', facecolor='orange');\n",
    "plt.xlabel('Some Parameter');\n",
    "plt.ylabel('Occurrence');"
   ]
  },
  {
   "cell_type": "markdown",
   "id": "center-spine",
   "metadata": {},
   "source": [
    "##### This plot overlay might be problematic as it hides data set #1 from the reader. We can preserve the binning while still showing these distributions.\n",
    "\n",
    "##### Let's create a function that takes the centers of these histogram bins and plots a line plot instead."
   ]
  },
  {
   "cell_type": "code",
   "execution_count": null,
   "id": "amateur-identity",
   "metadata": {},
   "outputs": [],
   "source": [
    "def histlp(bins):\n",
    "    heights, edges = bins[0], bins[1]\n",
    "    points = []\n",
    "    for i in range(len(edges)):\n",
    "        if i > 0:\n",
    "            point = edges[i-1] + ((edges[i] - edges[i-1]) / 2)\n",
    "            points.append(point)\n",
    "    return points, heights"
   ]
  },
  {
   "cell_type": "code",
   "execution_count": null,
   "id": "comparable-technician",
   "metadata": {},
   "outputs": [],
   "source": [
    "p1, h1 = histlp(b1);\n",
    "p2, h2 = histlp(b2);\n",
    "plt.plot(p1, h1, '-o', mfc='w', mec='slateblue', color='slateblue');\n",
    "plt.plot(p2, h2, '-o', mfc='w', mec='orange', color='orange');\n",
    "plt.xlabel('Some Parameter');\n",
    "plt.ylabel('Occurrence');\n",
    "plt.xlim([-5, 5])\n",
    "plt.ylim([0, 150])"
   ]
  },
  {
   "cell_type": "markdown",
   "id": "premier-harbor",
   "metadata": {},
   "source": [
    "##### Perhaps we are not interested in the exact bins but prefer a probability density function approximant such as the Kernel Density Estimate.\n",
    "\n",
    "The function for the kernel density estimator can be found [here](https://en.wikipedia.org/wiki/Kernel_density_estimation).\n",
    "Matplotlib does not have a function for this, but Seaborn does."
   ]
  },
  {
   "cell_type": "code",
   "execution_count": null,
   "id": "republican-winter",
   "metadata": {},
   "outputs": [],
   "source": [
    "import seaborn as sns\n",
    "sns.kdeplot(data, c='slateblue', lw=3);\n",
    "sns.kdeplot(data2, c='orange', lw=3);"
   ]
  },
  {
   "cell_type": "markdown",
   "id": "functional-intelligence",
   "metadata": {},
   "source": [
    "##### We can also avoid overlaying these plots all together."
   ]
  },
  {
   "cell_type": "code",
   "execution_count": null,
   "id": "proprietary-delay",
   "metadata": {},
   "outputs": [],
   "source": [
    "figure = plt.figure()\n",
    "figure.add_subplot(221) # First position of our 2x2 plot\n",
    "figure.add_subplot(222) # Second position \"\"\n",
    "sns.kdeplot(data, c='slateblue', lw=3, ax=figure.axes[0]);\n",
    "sns.kdeplot(data2, c='orange', lw=3, ax=figure.axes[1]);"
   ]
  },
  {
   "cell_type": "markdown",
   "id": "spectacular-attribute",
   "metadata": {},
   "source": [
    "##### The padding for x labels is not accounted for in these plots\n",
    "\n",
    "plt.tight_layout() provides \"padding between the figure edge and the edges of subplots, as a fraction of the font size.\""
   ]
  },
  {
   "cell_type": "code",
   "execution_count": null,
   "id": "academic-negative",
   "metadata": {},
   "outputs": [],
   "source": [
    "figure = plt.figure()\n",
    "figure.add_subplot(221)\n",
    "figure.add_subplot(222)\n",
    "sns.kdeplot(data, c='slateblue', lw=3, ax=figure.axes[0]);\n",
    "sns.kdeplot(data2, c='orange', lw=3, ax=figure.axes[1]);\n",
    "figure.tight_layout()"
   ]
  },
  {
   "cell_type": "code",
   "execution_count": null,
   "id": "private-disabled",
   "metadata": {},
   "outputs": [],
   "source": [
    "##### We can also use the plt.subplots() function\n",
    "print(type(plt.subplot))\n",
    "print(type(plt.figure))"
   ]
  },
  {
   "cell_type": "code",
   "execution_count": null,
   "id": "elegant-bermuda",
   "metadata": {},
   "outputs": [],
   "source": [
    "fig, ax = plt.subplots(1, 2, figsize=(5, 2))\n",
    "sns.kdeplot(data, c='slateblue', lw=3, ax=ax[0]);\n",
    "sns.kdeplot(data2, c='orange', lw=3, ax=ax[1]);\n",
    "for i in ax:\n",
    "    i.grid(True) # Iterate through each subplot and apply grid\n",
    "fig.tight_layout()"
   ]
  },
  {
   "cell_type": "markdown",
   "id": "crucial-nickel",
   "metadata": {},
   "source": [
    "We can also plot error bars on our plots."
   ]
  },
  {
   "cell_type": "code",
   "execution_count": null,
   "id": "excellent-collect",
   "metadata": {},
   "outputs": [],
   "source": [
    "import random\n",
    "rx = np.arange(0, 1, .05) # arange() \n",
    "ry = rx\n",
    "xd = [random.random() for i in range(50)] # Random points between 0 and 1\n",
    "yd = xd\n",
    "plt.plot(rx, ry, 'k');\n",
    "plt.scatter(xd, yd, fc='w', edgecolor='k')\n",
    "plt.show()"
   ]
  },
  {
   "cell_type": "code",
   "execution_count": null,
   "id": "focal-elements",
   "metadata": {},
   "outputs": [],
   "source": [
    "error = [random.random() for i in range(20)]\n",
    "plt.errorbar(rx, ry, color='k', yerr=error, ecolor='k', capsize=10)\n",
    "plt.show()"
   ]
  },
  {
   "cell_type": "code",
   "execution_count": null,
   "id": "english-latitude",
   "metadata": {},
   "outputs": [],
   "source": [
    "plt.fill_between(rx, ry - error, ry + error,\n",
    "                 color='gray', alpha=0.5)\n",
    "plt.plot(rx, ry, 'k');"
   ]
  },
  {
   "cell_type": "markdown",
   "id": "opening-programming",
   "metadata": {},
   "source": [
    "We can mark specific points and areas we wish to highlight on the plot."
   ]
  },
  {
   "cell_type": "code",
   "execution_count": null,
   "id": "widespread-maria",
   "metadata": {},
   "outputs": [],
   "source": [
    "plt.plot(rx, ry, 'k')\n",
    "plt.axvline(x=0.2)\n",
    "plt.axvline(x=0.0) # Boundary vline\n",
    "plt.axvspan(0, 0.2, color='tan')\n",
    "plt.axvspan(0.8, 1, color='green') # Color span\n",
    "plt.axvline(x=0.8)\n",
    "plt.axvline(x=1)\n",
    "plt.legend(['My Line']) # Legend (requires an interable -- try 'My Line' outside of list)"
   ]
  },
  {
   "cell_type": "markdown",
   "id": "cooked-bracket",
   "metadata": {},
   "source": [
    "We can see that the legend isn't formatted right. One of the ways we can do this is by generating a patch and passing this patch to the legend() function of pyplot. "
   ]
  },
  {
   "cell_type": "code",
   "execution_count": null,
   "id": "fantastic-mexican",
   "metadata": {},
   "outputs": [],
   "source": [
    "import matplotlib.patches as mpatches\n",
    "import matplotlib as mpl\n",
    "line = mpatches.Patch(color='black', label='My Line', linestyle='-')\n",
    "plt.plot(rx, ry, 'k')\n",
    "plt.axvline(x=0.2)\n",
    "plt.axvline(x=0.0)\n",
    "plt.axvspan(0, 0.2, color='tan')\n",
    "plt.axvspan(0.8, 1, color='green')\n",
    "plt.axvline(x=0.8)\n",
    "plt.axvline(x=1)\n",
    "plt.xlabel('X Label')\n",
    "plt.ylabel('Y Label')\n",
    "plt.legend(handles=[line], loc='best')\n",
    "\n",
    "font = {'family' : 'Helvetica',\n",
    "        'weight' : 'bold',}\n",
    "\n",
    "mpl.rc('font', **font)"
   ]
  },
  {
   "cell_type": "markdown",
   "id": "wooden-summary",
   "metadata": {},
   "source": [
    "Seaborn is not just limited to kde plots. It is very good for working with Pandas.DataFrames()."
   ]
  },
  {
   "cell_type": "code",
   "execution_count": null,
   "id": "interesting-norway",
   "metadata": {},
   "outputs": [],
   "source": [
    "penguins = sns.load_dataset(\"penguins\")\n",
    "print(penguins.describe()) # From previous session\n",
    "sns.jointplot(data=penguins, x=\"flipper_length_mm\", y=\"body_mass_g\", hue=\"species\")"
   ]
  },
  {
   "cell_type": "markdown",
   "id": "short-legislature",
   "metadata": {},
   "source": [
    "Using sns.load_dataset() we can easily load in a Pandas.DataFrame() and plot the data. Here we see that the \"Gentoo\" species of penguin tends be the larger of the three species we are inspecting and that body mass and flipper length are correlated."
   ]
  },
  {
   "cell_type": "code",
   "execution_count": null,
   "id": "together-springfield",
   "metadata": {},
   "outputs": [],
   "source": [
    "sns.pairplot(data=penguins, hue=\"species\")"
   ]
  },
  {
   "cell_type": "markdown",
   "id": "durable-hostel",
   "metadata": {},
   "source": [
    "Since we see that there is a correlation between body mass and flipper length, we may be able to use a linear regression model for these data (sns.lmplot())."
   ]
  },
  {
   "cell_type": "code",
   "execution_count": null,
   "id": "binary-albert",
   "metadata": {},
   "outputs": [],
   "source": [
    "ax = sns.regplot(data=penguins, x=\"body_mass_g\", y=\"flipper_length_mm\", color='k') # Returns mpl.axis\n",
    "print(type(ax))"
   ]
  },
  {
   "cell_type": "markdown",
   "id": "instrumental-casting",
   "metadata": {},
   "source": [
    "This shows a definite correlation between flipper length and body mass across all species. However, it seems that the developers of Seaborn didn't see the use in enabling the user to display the underlying model for linear regression. Let's do it ourselves to get the correlation coefficient (R${^2}$)."
   ]
  },
  {
   "cell_type": "code",
   "execution_count": null,
   "id": "prompt-great",
   "metadata": {},
   "outputs": [],
   "source": [
    "print(ax.get_lines.__doc__) # The getlines() function of mpl.axes returns a list of line objects"
   ]
  },
  {
   "cell_type": "code",
   "execution_count": null,
   "id": "incredible-offering",
   "metadata": {},
   "outputs": [],
   "source": [
    "lines = ax.get_lines()\n",
    "print(type(lines[0]))"
   ]
  },
  {
   "cell_type": "code",
   "execution_count": null,
   "id": "logical-cedar",
   "metadata": {},
   "outputs": [],
   "source": [
    "reg_line = lines[0]\n",
    "x_data, y_data = reg_line.get_xdata(), reg_line.get_ydata()\n",
    "corr = np.corrcoef(x_data, y_data).astype(float)\n",
    "rsquared = corr[0, 1]**2\n",
    "print(rsquared)"
   ]
  },
  {
   "cell_type": "code",
   "execution_count": null,
   "id": "close-plant",
   "metadata": {},
   "outputs": [],
   "source": [
    "ax = sns.regplot(data=penguins, x=\"body_mass_g\", y=\"flipper_length_mm\", color='k') # Returns mpl.axis\n",
    "ax.text(3500, 230, f\"$R^{2}$ = {round(rsquared)}\", fontsize=15);"
   ]
  },
  {
   "cell_type": "markdown",
   "id": "instant-opinion",
   "metadata": {},
   "source": [
    "We can annotate points on our graph using the annotate() function."
   ]
  },
  {
   "cell_type": "code",
   "execution_count": null,
   "id": "anticipated-nirvana",
   "metadata": {},
   "outputs": [],
   "source": [
    "ax = sns.regplot(data=penguins, x=\"body_mass_g\", y=\"flipper_length_mm\", color='k') # Returns mpl.axis\n",
    "ax.text(3500, 230, f\"$R^{2}$ = {round(rsquared)}\", fontsize=15);\n",
    "ax.annotate('Correlation', xy=(3600, 230), xytext=(3000, 210),\n",
    "            arrowprops=dict(facecolor='black', shrink=0.05))"
   ]
  },
  {
   "cell_type": "markdown",
   "id": "mature-knock",
   "metadata": {},
   "source": [
    "We can also generate bar plots with both standard pyplot and seaborn."
   ]
  },
  {
   "cell_type": "code",
   "execution_count": null,
   "id": "distinct-circle",
   "metadata": {},
   "outputs": [],
   "source": [
    "bar_x, bar_y = (1, 2, 3, 4), (1, 1, 4, 10)\n",
    "fig, ax = plt.subplots()\n",
    "ax.bar(bar_x, bar_y, ec='k', fc='skyblue', width=1)\n",
    "ax.set_xlim(0, 5)\n",
    "ax.set_ylim(0, 12)\n",
    "ax.set_xticklabels(('', 'one', 'two', 'three', 'four'));"
   ]
  },
  {
   "cell_type": "markdown",
   "id": "expressed-double",
   "metadata": {},
   "source": [
    "We can make these horizontal bar plots as well. (Gaussian distribution use case)"
   ]
  },
  {
   "cell_type": "code",
   "execution_count": null,
   "id": "occupational-melissa",
   "metadata": {},
   "outputs": [],
   "source": [
    "# Notice that the horizontal bar plot parameters / plot parameters are adjusted accordingly\n",
    "fig, ax = plt.subplots()\n",
    "ax.barh(bar_x, bar_y, ec='k', fc='skyblue', height=1)\n",
    "ax.set_xlim(0, 12)\n",
    "ax.set_ylim(0, 5)\n",
    "ax.set_yticklabels(('', 'one', 'two', 'three', 'four'));"
   ]
  },
  {
   "cell_type": "markdown",
   "id": "personalized-accident",
   "metadata": {},
   "source": [
    "Seaborn also have this functionality."
   ]
  },
  {
   "cell_type": "code",
   "execution_count": null,
   "id": "dedicated-difference",
   "metadata": {},
   "outputs": [],
   "source": [
    "import pandas as pd\n",
    "df = pd.DataFrame({\"X\" : bar_x, \"Y\" : bar_y})\n",
    "print(df)\n",
    "sns.barplot(x=\"X\", y=\"Y\", data=df, palette=\"Blues_d\");"
   ]
  },
  {
   "cell_type": "code",
   "execution_count": null,
   "id": "rental-probability",
   "metadata": {},
   "outputs": [],
   "source": [
    "sns.barplot(x=\"Y\", y=\"X\", data=df, palette=\"Blues_d\", orient='h');"
   ]
  },
  {
   "cell_type": "markdown",
   "id": "decreased-musician",
   "metadata": {},
   "source": [
    "A particular use case for examining distributions using a horizontal bar plot."
   ]
  },
  {
   "cell_type": "code",
   "execution_count": null,
   "id": "fluid-butler",
   "metadata": {},
   "outputs": [],
   "source": [
    "fig, ax = plt.subplots(figsize=(3, 2))\n",
    "sns.kdeplot(data, c='silver', lw=3, ax=ax);\n",
    "gx, gy = ax.get_lines()[0].get_xdata(), ax.get_lines()[0].get_ydata()\n",
    "print('Mean: %0.3f' % np.mean(gx))\n",
    "print('St. Dev.: +/- %0.3f' % np.std(gx))"
   ]
  },
  {
   "cell_type": "code",
   "execution_count": null,
   "id": "conventional-livestock",
   "metadata": {},
   "outputs": [],
   "source": [
    "fig, ax = plt.subplots()\n",
    "ax.scatter(gx, gy, s=3**2, c='k');\n",
    "ax.axvline(x=np.mean(gx) - np.std(gx), linestyle = '--', color = 'b')\n",
    "ax.axvline(x=np.mean(gx) + np.std(gx), linestyle = '--', color = 'b')"
   ]
  },
  {
   "cell_type": "markdown",
   "id": "confused-myrtle",
   "metadata": {},
   "source": [
    "We want to plot the percentage of points above, below, and in between the standard deviations."
   ]
  },
  {
   "cell_type": "code",
   "execution_count": null,
   "id": "neural-orange",
   "metadata": {},
   "outputs": [],
   "source": [
    "posidx = gx[gx >= (np.mean(gx) + np.std(gx))] # Notice use of numpy indexing\n",
    "negidx = gx[gx <= (np.mean(gx) - np.std(gx))]\n",
    "\n",
    "pos = len(posidx) / len(gx) * 100\n",
    "neg = len(negidx) / len(gx) * 100\n",
    "mid = 100 - pos - neg\n",
    "print(neg, mid, pos)"
   ]
  },
  {
   "cell_type": "markdown",
   "id": "headed-envelope",
   "metadata": {},
   "source": [
    "We can plot this to show the distribution on a single horizontal bar."
   ]
  },
  {
   "cell_type": "code",
   "execution_count": null,
   "id": "administrative-logan",
   "metadata": {},
   "outputs": [],
   "source": [
    "fig, ax = plt.subplots(figsize=(4,1))\n",
    "plt.barh(1, neg+mid+pos, fc='maroon')\n",
    "plt.barh(1, neg+mid, fc='tan')\n",
    "plt.barh(1, neg, fc='gray')\n",
    "ax.set_xlim(0, 100);"
   ]
  },
  {
   "cell_type": "markdown",
   "id": "rolled-concentrate",
   "metadata": {},
   "source": [
    "We can also plot \"stream\" data using Matplotlib."
   ]
  },
  {
   "cell_type": "code",
   "execution_count": null,
   "id": "abandoned-fiction",
   "metadata": {},
   "outputs": [],
   "source": [
    "print(np.mgrid[-3:3, -3:3])\n",
    "print(type(np.mgrid[-3:3, -3:3])) # Creates numpy array of two separate arrays\n",
    "plt.scatter(np.mgrid[-3:3, -3:3][0], np.mgrid[-3:3, -3:3][1])"
   ]
  },
  {
   "cell_type": "code",
   "execution_count": null,
   "id": "reserved-reggae",
   "metadata": {},
   "outputs": [],
   "source": [
    "Y, X = np.mgrid[-3:3, -3:3]\n",
    "U = -1 - X**2 + Y # Velocities for X\n",
    "V = 1 + X - Y**2 # Velocities for Y\n",
    "print(U)\n",
    "plt.streamplot(X, Y, U, V, density=3);"
   ]
  },
  {
   "cell_type": "markdown",
   "id": "radical-advantage",
   "metadata": {},
   "source": [
    "In the following examples we will be using animated plots. I prefer the method of using a generator to path each update to the animate function."
   ]
  },
  {
   "cell_type": "code",
   "execution_count": null,
   "id": "formed-crisis",
   "metadata": {},
   "outputs": [],
   "source": [
    "# Ex. of a Generator\n",
    "\n",
    "def my_generator(num_list):\n",
    "    for i in num_list:\n",
    "        yield i*2\n",
    "        \n",
    "my_numbers = [1, 2, 3]\n",
    "\n",
    "print(type(my_generator(my_numbers)))"
   ]
  },
  {
   "cell_type": "code",
   "execution_count": null,
   "id": "dried-dependence",
   "metadata": {},
   "outputs": [],
   "source": [
    "print(my_generator(my_numbers)) # Just an object - the process we are asking for hasn't ran yet"
   ]
  },
  {
   "cell_type": "code",
   "execution_count": null,
   "id": "surrounded-democrat",
   "metadata": {},
   "outputs": [],
   "source": [
    "for i in my_generator(my_numbers):\n",
    "    print(i, end=' ') # Now the code has ran"
   ]
  },
  {
   "cell_type": "code",
   "execution_count": null,
   "id": "british-wilson",
   "metadata": {},
   "outputs": [],
   "source": [
    "# Contrast this with a function that has a return\n",
    "def my_generator(num_list):\n",
    "    for i in num_list:\n",
    "        return i*2 # exits scope after at first ith element\n",
    "    \n",
    "my_generator(my_numbers)"
   ]
  },
  {
   "cell_type": "code",
   "execution_count": null,
   "id": "cutting-leadership",
   "metadata": {},
   "outputs": [],
   "source": [
    "class Atom:\n",
    "    def __init__(self, name, position, charge):\n",
    "        self.name = name\n",
    "        self.x = position[0]\n",
    "        self.y = position[1]\n",
    "        self.charge = charge\n",
    "        \n",
    "    @property    \n",
    "    def position(self):\n",
    "        return (self.x, self.y)\n",
    "    \n",
    "    @position.setter\n",
    "    def position(self, pos):\n",
    "        self.x = pos[0]\n",
    "        self.y = pos[1]"
   ]
  },
  {
   "cell_type": "code",
   "execution_count": null,
   "id": "assisted-helmet",
   "metadata": {},
   "outputs": [],
   "source": [
    "Na = Atom('Na+', (-3, 0), 1)\n",
    "Cl = Atom('Cl-', (3, 0), -1)"
   ]
  },
  {
   "cell_type": "code",
   "execution_count": null,
   "id": "arbitrary-northwest",
   "metadata": {},
   "outputs": [],
   "source": [
    "figure = plt.figure();\n",
    "plt.scatter(Na.x, Na.y, s=10**2, edgecolor='k')\n",
    "plt.scatter(Cl.x, Cl.y, s=10**2, edgecolor='k')\n",
    "plt.xlim([-4, 4])"
   ]
  },
  {
   "cell_type": "code",
   "execution_count": null,
   "id": "expired-corps",
   "metadata": {},
   "outputs": [],
   "source": [
    "def move(atom):\n",
    "    '''\n",
    "    Moves atom along x-coordinate by 0.2 per call\n",
    "    params: atom object\n",
    "    '''\n",
    "    sign = np.sign(atom.x)\n",
    "    for step in range(1000):\n",
    "        if sign > 0:\n",
    "            atom.x = atom.x - 0.05\n",
    "        elif sign < 0:\n",
    "            atom.x = atom.x + 0.05\n",
    "        yield atom.position"
   ]
  },
  {
   "cell_type": "code",
   "execution_count": null,
   "id": "agreed-theology",
   "metadata": {},
   "outputs": [],
   "source": [
    "from matplotlib import animation\n",
    "from IPython.display import HTML # Required for Jupyter Notebook display\n",
    "\n",
    "fig, ax = plt.subplots()\n",
    "line = ax.scatter(Na.x, Na.y, s=10**2, edgecolor='k')\n",
    "ax.scatter(Cl.x, Cl.y, s=10**2, edgecolor='k')\n",
    "\n",
    "def animate(i):\n",
    "    line.set_offsets((i[0], i[1]))\n",
    "    line.axes.axis([-4, 4, -.4, .4])\n",
    "    return line,\n",
    "anim = animation.FuncAnimation(fig, animate, move(Na), interval=10)\n",
    "HTML(anim.to_jshtml())"
   ]
  },
  {
   "cell_type": "markdown",
   "id": "eight-myrtle",
   "metadata": {},
   "source": [
    "#### Another example from a simulation of a lipid bilayer.\n",
    "<img src=\"bilayer.gif\" width=\"300\" height=\"300\"/>"
   ]
  },
  {
   "cell_type": "markdown",
   "id": "confirmed-kingdom",
   "metadata": {},
   "source": [
    "We can graphically capture the lipid bilayer effector lipid (red) versus the other lipids (white) by plotting this as a 2D grid."
   ]
  },
  {
   "cell_type": "code",
   "execution_count": null,
   "id": "bridal-terror",
   "metadata": {},
   "outputs": [],
   "source": [
    "import MDAnalysis as mda"
   ]
  },
  {
   "cell_type": "code",
   "execution_count": null,
   "id": "visible-window",
   "metadata": {},
   "outputs": [],
   "source": [
    "u = mda.Universe('equilibration.gro', 'production_trjconv.xtc')\n",
    "pips = u.select_atoms('resname POP2 and name PO4')\n",
    "total = u.select_atoms('resname POPS and name PO4') + u.select_atoms('resname POPC and name PO4') + pips"
   ]
  },
  {
   "cell_type": "markdown",
   "id": "impaired-county",
   "metadata": {},
   "source": [
    "The bilayer is comprised of two phospholipid monolayers. Let's separate the two so we can analyze them separately."
   ]
  },
  {
   "cell_type": "code",
   "execution_count": null,
   "id": "cloudy-olive",
   "metadata": {},
   "outputs": [],
   "source": [
    "def splitleaflets(xs, ys, zs):\n",
    "    '''Split leaflet coordinates into upper and lower numpy arrays'''\n",
    "    upper = []\n",
    "    lower = []\n",
    "    for n, i in enumerate(zs):\n",
    "        if i > np.mean(zs):\n",
    "            upper.append(np.asarray([xs[n], ys[n], zs[n]]))\n",
    "        else:\n",
    "            lower.append(np.asarray([xs[n], ys[n], zs[n]]))\n",
    "    return np.asarray(upper), np.asarray(lower)"
   ]
  },
  {
   "cell_type": "markdown",
   "id": "green-slope",
   "metadata": {},
   "source": [
    "Our grid dimensions will depend on the number of residues within a particular monolayer."
   ]
  },
  {
   "cell_type": "code",
   "execution_count": null,
   "id": "engaged-brooks",
   "metadata": {},
   "outputs": [],
   "source": [
    "def getNumResidues(*resnames):\n",
    "    '''Return the number of residues in *args resnames'''\n",
    "    res_count = 0\n",
    "    for res in resnames:\n",
    "        res_count += len(u.select_atoms('resname {} and name PO4'.format(str(res))))\n",
    "    return res_count\n",
    "\n",
    "getNumResidues('POP2', 'POPS', 'POPC') # Total number of lipid residues"
   ]
  },
  {
   "cell_type": "markdown",
   "id": "younger-flower",
   "metadata": {},
   "source": [
    "We assume that the bilayer is symmetric. Thus we can divide this value by 2 to achieve the number of phospholipids in one of our monolayers. We'll substitute random numbers (either -1 or 1) for each element to visiualize our grid before we implement it on our monolayers."
   ]
  },
  {
   "cell_type": "code",
   "execution_count": null,
   "id": "declared-entry",
   "metadata": {},
   "outputs": [],
   "source": [
    "nx = round(np.sqrt(getNumResidues('POP2', 'POPS', 'POPC')/2)) # Estimate grid dimensions by sqrt() of # of lipids in monolayer\n",
    "ny = nx\n",
    "grid = np.random.randint(2, size=(nx, ny))*-2+1 # PIP (x, y) coordinates need to be adjusted as boolean which fits this (nx, ny) grid\n",
    "plt.imshow(grid, cmap=colors.ListedColormap(['white', 'black'])) \n",
    "plt.show()"
   ]
  },
  {
   "cell_type": "markdown",
   "id": "prime-exchange",
   "metadata": {},
   "source": [
    "The imshow() function enables visualization of grid data from a PIL image or numpy array."
   ]
  },
  {
   "cell_type": "markdown",
   "id": "existing-playing",
   "metadata": {},
   "source": [
    "Reading the __doc__ string of imshow() ($ print(plt.imshow.__doc__$) will give you more information on the interesting and useful features of imshow. We will use the 'interpolate' keyword for a guassian iterpolation between grid points for data smoothing."
   ]
  },
  {
   "cell_type": "markdown",
   "id": "fallen-series",
   "metadata": {},
   "source": [
    "Let's apply imshow() in an animation to capture the lipid dynamics in a grid."
   ]
  },
  {
   "cell_type": "code",
   "execution_count": null,
   "id": "completed-threshold",
   "metadata": {},
   "outputs": [],
   "source": [
    "def align_grid(u_total, *uobjects):\n",
    "    '''\n",
    "    params:\n",
    "    -------\n",
    "    \n",
    "    utotal : MDAnalysis.Universe.select_atoms(ALL_ATOMS) where ALL_ATOMS includes atom selections for all the \"PO4\" beads which comprise the bilayer\n",
    "    uobjects : MDAnalysis.Universe.select_atoms(SELE) where SELE includes atom selection for \"PO4\" beads belonging to PIPs\n",
    "    other : requires nx, ny grid size beforehand using the above functions\n",
    "    \n",
    "    returns:\n",
    "    --------\n",
    "    \n",
    "    target : 2D Numpy array with values of -1 and 1 with 1 indicating the presence of a PIP at this (x, y) coordinate fitted to the nxn grid where n\n",
    "             is the approx number of lipids along a given coordinate. (e.g. n = round(np.sqrt(getNumResidues('POP2', 'POPS', 'POPC')/2)))\n",
    "    \n",
    "    '''\n",
    "    total_xs, total_ys, total_zs = u_total.positions[:, 0], u_total.positions[:, 1], u_total.positions[:, 2]\n",
    "    total_upper, total_lower = splitleaflets(total_xs, total_ys, total_zs)\n",
    "    total_upper_x, total_upper_y, total_upper_z = total_upper[:, 0], total_upper[:, 1], total_upper[:, 2]\n",
    "    \n",
    "    targets = []\n",
    "    for obj in uobjects:\n",
    "        xs, ys, zs = obj.positions[:, 0], obj.positions[:, 1], obj.positions[:, 2]\n",
    "        upper, _ = splitleaflets(xs, ys, zs)\n",
    "        upper_x, upper_y, upper_z = upper[:, 0], upper[:, 1], upper[:, 2]\n",
    "        x_idxs = np.around(upper_x/np.max(total_upper_x)*nx).astype(int)\n",
    "        y_idxs = np.around(upper_y/np.max(total_upper_y)*ny).astype(int) # These are (i, j) indices that need to be 1 if true (others are -1)\n",
    "        target = np.ones(shape=(nx, ny))*-1\n",
    "        zipped_idxs = np.asarray(list(zip(x_idxs, y_idxs)))\n",
    "        _, zipidx = np.unique(zipped_idxs, axis=0, return_index=True) # np.unique() sorts result by default and there is no way to turn it off so we'll have to make another list\n",
    "        new_zipped_idxs = np.asarray([zipped_idxs[i] for i in sorted(zipidx)]) # these are x,y indices to be replaced with 1 on 26x26 grid\n",
    "        for i in new_zipped_idxs:\n",
    "            target[i[0]-1, i[1]-1] = 1 # index starts at 0 so subtract 1 from each\n",
    "        targets.append(target)\n",
    "    return targets"
   ]
  },
  {
   "cell_type": "markdown",
   "id": "closing-breathing",
   "metadata": {},
   "source": [
    "This function is longer than it likely needs to be, but the variables are explicit which can help when revisitng the code. Notice I added more to the __doc__ string here for reference."
   ]
  },
  {
   "cell_type": "markdown",
   "id": "dutch-poison",
   "metadata": {},
   "source": [
    "Let's just plot the first step of our trajectory to see what it displays."
   ]
  },
  {
   "cell_type": "code",
   "execution_count": null,
   "id": "incorporate-challenge",
   "metadata": {},
   "outputs": [],
   "source": [
    "for step in u.trajectory[:1]:\n",
    "    grids = align_grid(total, pips)\n",
    "    plt.imshow(grids[0], colors.ListedColormap(['white', 'blue']))\n",
    "plt.show()"
   ]
  },
  {
   "cell_type": "markdown",
   "id": "urban-endorsement",
   "metadata": {},
   "source": [
    "This seems okay. It will be more apparent that we are capturing the behavior in a grid using an animation."
   ]
  },
  {
   "cell_type": "code",
   "execution_count": null,
   "id": "handled-victoria",
   "metadata": {},
   "outputs": [],
   "source": [
    "from matplotlib import animation # Required class for animations\n",
    "from IPython.display import HTML # Required for Jupyter Notebook display\n",
    "\n",
    "anifig = plt.figure() # The figure we will plot to\n",
    "img = plt.imshow(grids[0], cmap=colors.ListedColormap(['white', 'blue']), interpolation='spline36') # Initial image to update\n",
    "\n",
    "def traj():\n",
    "    for step in u.trajectory:\n",
    "        grids = align_grid(total, pips) # For all steps of the trajectory determine the grid\n",
    "        yield grids # Return a \"generator\" that we will iterate over once\n",
    "        \n",
    "def animate(i): # Function to be called at each step of our animation\n",
    "    img.set_data(i[0]) # update the grid data displayed by imshow() - \"i\" here are the returned grids from traj()\n",
    "    return img\n",
    "\n",
    "anim = animation.FuncAnimation(anifig, animate, traj, interval=50) # Temperature held constant T=1 Kelvin\n",
    "HTML(anim.to_jshtml())"
   ]
  },
  {
   "cell_type": "markdown",
   "id": "independent-swaziland",
   "metadata": {},
   "source": [
    "The spline interpolation allows for easier visual cluster identification. We can make this a bit more useful for our analysis if we generate heat maps of the entire trajectory."
   ]
  },
  {
   "cell_type": "code",
   "execution_count": null,
   "id": "heavy-speaking",
   "metadata": {},
   "outputs": [],
   "source": [
    "def get_grids():\n",
    "    for step in u.trajectory:\n",
    "            grids = align_grid(total, pips)\n",
    "            yield grids\n",
    "\n",
    "current_grid = np.asarray(np.hsplit(np.tile(np.zeros(nx), ny), ny))\n",
    "for i in get_grids():\n",
    "    current_grid += i[0] # All add grids together (since spance [-1, 1] adding together will show local overall concentration)\n",
    "\n",
    "fig, ax = plt.subplots()\n",
    "ax.imshow(current_grid, interpolation='spline36', cmap='Blues')\n",
    "ax.set_title('Upper Leaflet PIP2 Density')\n",
    "ax.set_xlabel('Est. Lipids Along X')\n",
    "ax.set_ylabel('Est. Lipids Along Y')\n",
    "plt.show()"
   ]
  },
  {
   "cell_type": "markdown",
   "id": "interracial-reggae",
   "metadata": {},
   "source": [
    "Using this simplified model of the membrane, we can we see generally where peak cluster density lies."
   ]
  },
  {
   "cell_type": "code",
   "execution_count": null,
   "id": "raised-police",
   "metadata": {},
   "outputs": [],
   "source": [
    "indices = np.where(current_grid == current_grid.max()) # np.where return tuple of indices where grid maximum occurs\n",
    "fig, ax = plt.subplots()\n",
    "ax.imshow(current_grid, interpolation='spline36', cmap='Blues')\n",
    "ax.set_title('Upper Leaflet PIP2 Density')\n",
    "ax.set_xlabel('Est. Lipids Along X')\n",
    "ax.set_ylabel('Est. Lipids Along Y')\n",
    "ax.scatter(indices[1][0], indices[0][0], alpha=0.8, s=20**2, edgecolor='salmon', facecolor='None', linewidths=3)\n",
    "plt.show()"
   ]
  },
  {
   "cell_type": "markdown",
   "id": "specialized-check",
   "metadata": {},
   "source": [
    "For fun we can plot the local PIP2 density as a surface although it might be less informative that the above 2D heat map."
   ]
  },
  {
   "cell_type": "code",
   "execution_count": null,
   "id": "aware-departure",
   "metadata": {},
   "outputs": [],
   "source": [
    "x3d = np.arange(0, nx)\n",
    "y3d = np.arange(0, ny)\n",
    "X, Y = np.meshgrid(x3d, y3d)\n",
    "\n",
    "# Current grid contains our Z values\n",
    "fig3d, ax3d = plt.subplots(subplot_kw={\"projection\": \"3d\"})\n",
    "surf = ax3d.plot_surface(X, Y, current_grid, cmap='Blues',\n",
    "                       linewidth=0, antialiased=False)\n",
    "\n",
    "def rotate():\n",
    "    for angle in range(0, 360):\n",
    "        ax3d.view_init(30, angle)\n",
    "        ax3d.dist = 8 # Closer than default\n",
    "        yield ax3d\n",
    "        \n",
    "def animate(i): # Function to be called at each step of our animation\n",
    "    i.clear()\n",
    "    i.plot_surface(X, Y, current_grid, cmap='Blues',\n",
    "                       linewidth=0, antialiased=False)\n",
    "    plt.pause(0.001)\n",
    "    return i,\n",
    "\n",
    "anim = animation.FuncAnimation(fig3d, animate, rotate, interval=50)\n",
    "HTML(anim.to_jshtml())"
   ]
  },
  {
   "cell_type": "markdown",
   "id": "novel-classroom",
   "metadata": {},
   "source": [
    "It can be difficult to see the trend shown in the 2D density plot without smoothing. Let's manually add smoothing to our surface plot."
   ]
  },
  {
   "cell_type": "markdown",
   "id": "eight-twelve",
   "metadata": {},
   "source": [
    "We can use the ${scipy.interpolate}$ package for this."
   ]
  },
  {
   "cell_type": "code",
   "execution_count": null,
   "id": "respiratory-frederick",
   "metadata": {},
   "outputs": [],
   "source": [
    "from scipy import interpolate"
   ]
  },
  {
   "cell_type": "code",
   "execution_count": null,
   "id": "packed-graphic",
   "metadata": {},
   "outputs": [],
   "source": [
    "plt.plot(current_grid[:, 0]) # Here is the slice of the first row along the X\n",
    "plt.plot(current_grid[0, :]) # First slice along Y"
   ]
  },
  {
   "cell_type": "markdown",
   "id": "prerequisite-sphere",
   "metadata": {},
   "source": [
    "We need to replace the current_grid values with our interpolated values. We'll do this using the interp2d() function of SciPy."
   ]
  },
  {
   "cell_type": "code",
   "execution_count": null,
   "id": "latest-benjamin",
   "metadata": {},
   "outputs": [],
   "source": [
    "xnew = np.arange(0, len(current_grid[:, 0]), .1)\n",
    "ynew = np.arange(0, len(current_grid[0, :]), .1)\n",
    "X, Y = np.meshgrid(xnew, ynew)\n",
    "fig3d, ax3d = plt.subplots(subplot_kw={\"projection\": \"3d\"})\n",
    "surf = ax3d.plot_surface(X, Y, f(xnew, ynew), cmap='Blues',\n",
    "                       linewidth=0, antialiased=False)\n",
    "\n",
    "def rotate():\n",
    "    for angle in range(0, 360):\n",
    "        ax3d.view_init(30, angle)\n",
    "        ax3d.dist = 8 # Closer than default\n",
    "        yield ax3d\n",
    "        \n",
    "def animate(i): # Function to be called at each step of our animation\n",
    "    i.clear()\n",
    "    i.plot_surface(X, Y, f(xnew, ynew), cmap='Blues',\n",
    "                       linewidth=0, antialiased=False)\n",
    "    plt.pause(0.001)\n",
    "    return i,\n",
    "\n",
    "anim = animation.FuncAnimation(fig3d, animate, rotate, interval=50) # Temperature held constant T=1 Kelvin\n",
    "HTML(anim.to_jshtml())"
   ]
  },
  {
   "cell_type": "markdown",
   "id": "adult-metabolism",
   "metadata": {},
   "source": [
    "Another example: The ising model"
   ]
  },
  {
   "cell_type": "code",
   "execution_count": null,
   "id": "based-bahrain",
   "metadata": {},
   "outputs": [],
   "source": [
    "class Ising:\n",
    "    def __init__(self, size):\n",
    "        self.dim = size\n",
    "        self.grid = np.random.randint(2, size=(size, size))*-2+1 # size x size np array of -1 or 1\n",
    "        self.J = 1 # Strength of interaction (Joules)\n",
    "        self.k = 1 # J/k\n",
    "        self.M = [] # Magnetization per site\n",
    "        self.E = [] # Energy per site\n",
    "        \n",
    "    def __str__(self):\n",
    "        return f\"Dimensions: {self.dim}x{self.dim} Interaction Strength: {self.J} Boltzmann Constant: {self.k}\"\n",
    "    \n",
    "    @property\n",
    "    def results(self):\n",
    "        return \"Average Energy: %0.3f\\n Average Magnetism: %0.3f\" % (np.mean(self.E), np.mean(self.M)) \n",
    "    \n",
    "    def run(self, T=np.random.rand()*5+1e-10):\n",
    "        for i in range(2000):\n",
    "            \n",
    "            # Choose a temperature for each iteration\n",
    "            print(f'T = {T}', end='\\r')\n",
    "            \n",
    "            # Calculate the number of nearest neighbors of each cell\n",
    "            nn = np.roll(self.grid, shift=1, axis=1) + np.roll(self.grid, shift=-1, axis=1) + np.roll(self.grid, shift=1, axis=0) + np.roll(self.grid, shift=-1, axis=0)\n",
    "\n",
    "            # Calculate the change in energy of flipping a spin\n",
    "            dE = 2 * self.J * (self.grid * nn) # Multiplies each element of array by its corresponding # of neighbors\n",
    "            \n",
    "            # Calculate the transition probabilities based on Boltzmann distribution\n",
    "            ptrans = np.exp(-dE/(self.k * T))\n",
    "\n",
    "            # Decide which cells will undergo spin flip\n",
    "            transitions = ((np.random.rand(self.dim, self.dim) < ptrans).astype(int) * (np.random.randint(2, size=(self.dim, self.dim)) < np.full((self.dim, self.dim), 0.1)).astype(int)) * -2 + 1\n",
    "        \n",
    "            # Apply flips and update\n",
    "            self.grid = self.grid * transitions\n",
    "            \n",
    "            # Save the results\n",
    "            self.M.append(np.sum(self.grid))\n",
    "            self.E.append((np.sum(dE)*-1)/2)\n",
    "            \n",
    "            yield self.grid\n",
    "        \n",
    "engine = Ising(500)\n",
    "print(engine.grid)"
   ]
  },
  {
   "cell_type": "code",
   "execution_count": null,
   "id": "becoming-supervisor",
   "metadata": {},
   "outputs": [],
   "source": [
    "cmap = colors.ListedColormap(['white', 'black'])\n",
    "norm = colors.BoundaryNorm([-1, 0, 1], cmap.N)\n",
    "fig, ax = plt.subplots()\n",
    "obj = ax.imshow(engine.grid, cmap=cmap, norm=norm)"
   ]
  },
  {
   "cell_type": "code",
   "execution_count": null,
   "id": "textile-disco",
   "metadata": {},
   "outputs": [],
   "source": [
    "anifig = plt.figure()\n",
    "im = plt.imshow(engine.grid, cmap=cmap, norm=norm)\n",
    "\n",
    "def animate(i):\n",
    "    im.set_data(i)\n",
    "    return im\n",
    "\n",
    "anim = animation.FuncAnimation(anifig, animate, engine.run(0.1), interval=10) # Temperature held constant T=1 Kelvin\n",
    "HTML(anim.to_jshtml())"
   ]
  },
  {
   "cell_type": "code",
   "execution_count": null,
   "id": "precise-quantum",
   "metadata": {},
   "outputs": [],
   "source": [
    "print(engine.results)"
   ]
  }
 ],
 "metadata": {
  "kernelspec": {
   "display_name": "Python 3",
   "language": "python",
   "name": "python3"
  },
  "language_info": {
   "codemirror_mode": {
    "name": "ipython",
    "version": 3
   },
   "file_extension": ".py",
   "mimetype": "text/x-python",
   "name": "python",
   "nbconvert_exporter": "python",
   "pygments_lexer": "ipython3",
   "version": "3.9.1"
  }
 },
 "nbformat": 4,
 "nbformat_minor": 5
}
