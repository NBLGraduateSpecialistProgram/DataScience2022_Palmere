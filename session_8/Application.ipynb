{
 "cells": [
  {
   "cell_type": "markdown",
   "id": "express-oklahoma",
   "metadata": {},
   "source": [
    "Small Applications Development with Python\\\n",
    "Robert Palmere, 2021\\\n",
    "Email: rdp135@chem.rutgers.edu"
   ]
  },
  {
   "cell_type": "markdown",
   "id": "electronic-magazine",
   "metadata": {},
   "source": [
    "The objective is to write a small program for linear regression with a graphical user interface (GUI)."
   ]
  },
  {
   "cell_type": "markdown",
   "id": "tracked-problem",
   "metadata": {},
   "source": [
    "We will use Tkinter library for developing our small application."
   ]
  },
  {
   "cell_type": "markdown",
   "id": "dominant-savage",
   "metadata": {},
   "source": [
    "First, we will generate a template of the class we wish to generate with annotations to indicate their purpose. This serves as an outline for how our application will work."
   ]
  },
  {
   "cell_type": "code",
   "execution_count": null,
   "id": "objective-cancer",
   "metadata": {},
   "outputs": [],
   "source": [
    "class Application(object):\n",
    "    \n",
    "    def __init__(self):\n",
    "        pass\n",
    "    \n",
    "    def __str__(self):\n",
    "        '''Returns a report for print()'''\n",
    "        pass\n",
    "    \n",
    "    @staticmethod\n",
    "    def register():\n",
    "        '''Functional decorator to capture which analysis function was most recently called'''\n",
    "        pass\n",
    "    \n",
    "    @property\n",
    "    def all_ok():\n",
    "        '''Check if all instance attributes are set properly'''\n",
    "        pass\n",
    "    \n",
    "    def load(self):\n",
    "        '''Load the data from a given .dat or .txt file'''\n",
    "        pass\n",
    "    \n",
    "    def select(self):\n",
    "        '''Select the x / y columns for analysis'''\n",
    "        pass\n",
    "    \n",
    "    def report(self):\n",
    "        '''Generate a report for the most recently performed analysis'''\n",
    "        pass\n",
    "    \n",
    "    def save(self):\n",
    "        '''Save a report for the most recently performed analysis'''\n",
    "        pass\n",
    "    \n",
    "    def linear_regression(self):\n",
    "        '''Perform linear regression on the loaded data set'''\n",
    "        pass\n",
    "    \n",
    "    def multi_linear_regression(self):\n",
    "        '''Perform linear regression on all of the data set'''\n",
    "        pass\n",
    "    \n",
    "    def plot(self):\n",
    "        '''Plot the data from the most recently performed analysis'''\n",
    "        pass"
   ]
  },
  {
   "cell_type": "markdown",
   "id": "rental-master",
   "metadata": {},
   "source": [
    "Now we will begin to write the functions separately for manual testing before implementing them in the class."
   ]
  },
  {
   "cell_type": "code",
   "execution_count": null,
   "id": "minor-awareness",
   "metadata": {},
   "outputs": [],
   "source": [
    "import numpy as np\n",
    "\n",
    "def load(f):\n",
    "    data_ = []\n",
    "    try:\n",
    "        if f[-4:] == '.txt' or f[-4:] == '.dat':\n",
    "            with open(f) as fp:\n",
    "                lines = fp.readlines()\n",
    "                for line in lines:\n",
    "                    line = [float(i) for i in line.strip() if ' ' not in i]\n",
    "                    data_.append(line)\n",
    "    except:\n",
    "        raise ValueError('Loaded file must have a .txt or .dat file extension.')\n",
    "        \n",
    "    return np.asarray(data_)\n",
    "\n",
    "test_data = load('test.txt')\n",
    "print(test_data)"
   ]
  },
  {
   "cell_type": "code",
   "execution_count": null,
   "id": "atmospheric-canon",
   "metadata": {},
   "outputs": [],
   "source": [
    "def select(data):\n",
    "    \n",
    "    print('--Available Data--\\n')\n",
    "    print(data)\n",
    "    print('\\n')\n",
    "    \n",
    "    selected = []\n",
    "    for option in ('x', 'y'):\n",
    "        idx = input(f'Select the {option} column: ')\n",
    "        idx = int(idx)\n",
    "        if not isinstance(idx, int):\n",
    "            raise ValueError(f'{option} selection must be an integer.')\n",
    "        selected.append(data[:, idx])\n",
    "        \n",
    "    return selected[0], selected[1]\n",
    "\n",
    "x, y = select(test_data)\n",
    "print(x, y)"
   ]
  },
  {
   "cell_type": "code",
   "execution_count": null,
   "id": "disciplinary-management",
   "metadata": {},
   "outputs": [],
   "source": [
    "from scipy.stats import linregress\n",
    "\n",
    "def linear_regression(x, y):\n",
    "    result = linregress(x, y)\n",
    "    y_ = result.intercept + result.slope*x\n",
    "    return y_\n",
    "\n",
    "ry = linear_regression(x, y)\n",
    "print(ry)"
   ]
  },
  {
   "cell_type": "code",
   "execution_count": null,
   "id": "orange-convenience",
   "metadata": {},
   "outputs": [],
   "source": [
    "def multi_linear_regression(x, data):\n",
    "    rys_ = []\n",
    "    ys_ = []\n",
    "    for col_idx in range(data.shape[1]):\n",
    "        if not np.array_equal(x, data[:, col_idx]): # Get every other column aside from selected x column\n",
    "            result = linregress(x, data[:, col_idx])\n",
    "            calculated_y = result.intercept + result.slope*x\n",
    "            rys_.append(calculated_y)\n",
    "            ys_.append(data[:, col_idx])\n",
    "    return np.asarray(ys_), rys_\n",
    "\n",
    "ys, rys = multi_linear_regression(x, test_data)\n",
    "\n",
    "print(rys)"
   ]
  },
  {
   "cell_type": "code",
   "execution_count": null,
   "id": "affecting-strap",
   "metadata": {},
   "outputs": [],
   "source": [
    "import matplotlib.pyplot as plt\n",
    "\n",
    "def plot(x, y, ry):\n",
    "    if len(y.shape) > 1:\n",
    "        fig, ax = plt.subplots(len(y), 1)\n",
    "        for n, i in enumerate(y):\n",
    "            ax[n].scatter(x, i, color='b')\n",
    "            ax[n].plot(x, ry[n], 'r')\n",
    "        plt.tight_layout()\n",
    "    else:\n",
    "        fig, ax = plt.subplots()\n",
    "        ax.scatter(x, y, color='b')\n",
    "        ax.plot(x, ry, 'r')\n",
    "        plt.tight_layout()\n",
    "        \n",
    "plot(x, y, ry)"
   ]
  },
  {
   "cell_type": "code",
   "execution_count": null,
   "id": "consistent-forum",
   "metadata": {},
   "outputs": [],
   "source": [
    "plot(x, ys, rys)"
   ]
  },
  {
   "cell_type": "markdown",
   "id": "analyzed-girlfriend",
   "metadata": {},
   "source": [
    "Now that we have written most of the functions for our class. Let's place them within the class."
   ]
  },
  {
   "cell_type": "code",
   "execution_count": null,
   "id": "ruled-shoot",
   "metadata": {},
   "outputs": [],
   "source": [
    "from functools import wraps\n",
    "from scipy.stats import linregress\n",
    "import numpy as np\n",
    "import matplotlib.pyplot as plt\n",
    "\n",
    "class Application(object):\n",
    "    \n",
    "    def __init__(self):\n",
    "        self.data = None\n",
    "        self.registered = None\n",
    "        self.x, self.y = (None, None)\n",
    "        self.selected = False\n",
    "        self.ry = None\n",
    "        self.rvalue = None\n",
    "    \n",
    "    def __str__(self):\n",
    "        '''Returns a report for print()'''\n",
    "        if self.all_ok:\n",
    "            return self.report()\n",
    "    \n",
    "    def register(func):\n",
    "        '''Functional decorator to capture which analysis function was most recently called'''\n",
    "        @wraps(func)\n",
    "        def wrapped(inst, *args, **kwargs):\n",
    "            inst.registered = func.__name__\n",
    "            return func(inst, *args, **kwargs)\n",
    "        return wrapped\n",
    "    \n",
    "    @property\n",
    "    def all_ok(self):\n",
    "        '''Check if instance attributes are set properly before permitting analysis'''\n",
    "        conditions = np.asarray([self.data.all(), self.selected == True, self.registered != None])\n",
    "        return conditions.all()\n",
    "    \n",
    "    @register\n",
    "    def load(self, f):\n",
    "        '''Load the data from a given .dat or .txt file'''\n",
    "        data_ = []\n",
    "        try:\n",
    "            if f[-4:] == '.txt' or f[-4:] == '.dat':\n",
    "                with open(f) as fp:\n",
    "                    lines = fp.readlines()\n",
    "                    for line in lines:\n",
    "                        line = [float(i) for i in line.strip() if ' ' not in i]\n",
    "                        data_.append(line)\n",
    "        except:\n",
    "            raise ValueError('Loaded file must have a .txt or .dat file extension.')\n",
    "        self.data = np.asarray(data_)\n",
    "        return self.data\n",
    "    \n",
    "    def select(self):\n",
    "        '''Select the x / y columns for analysis'''\n",
    "        print('--Available Data--\\n')\n",
    "        print(self.data)\n",
    "        print('\\n')\n",
    "\n",
    "        selected = []\n",
    "        for option in ('x', 'y'):\n",
    "            idx = input(f'Select the {option} column: ')\n",
    "            idx = int(idx)\n",
    "            if not isinstance(idx, int):\n",
    "                raise ValueError(f'{option} selection must be an integer.')\n",
    "            selected.append(self.data[:, idx])\n",
    "        self.x = selected[0]\n",
    "        self.y = selected[1]\n",
    "        self.selected = True\n",
    "    \n",
    "    def report(self):\n",
    "        '''Generate a report for the most recently performed analysis'''\n",
    "        if self.all_ok:\n",
    "            report_ = ''\n",
    "            if self.registered == 'linear_regression':\n",
    "                report_ += 'R-squared Values:\\n'\n",
    "                report_ += f'$R^2$ = {self.rsquared}\\n'\n",
    "                report_ += 'Regression X Ys:\\n'\n",
    "                report_ += f'{self.x} {self.ry}\\n'\n",
    "            elif self.registered == 'multi_linear_regression':\n",
    "                report_ += 'R-squared Values:\\n'\n",
    "                for i in range(len(self.ry)):\n",
    "                    report_ += f'$R^2$ = {self.rsquared[i]}\\n'\n",
    "                report_ += 'Regression X Ys:\\n'\n",
    "                for i in range(len(self.ry)):\n",
    "                    report_ += f'{self.x} {self.ry}\\n'\n",
    "            else:\n",
    "                raise ValueError('No analysis performed yet.')\n",
    "                \n",
    "            return report_\n",
    "        else:\n",
    "            raise ValueError('Not ready to report.')\n",
    "            \n",
    "    \n",
    "    def save(self):\n",
    "        '''Save a report for the most recently performed analysis'''\n",
    "        with open('saved.txt', 'w') as fp:\n",
    "            fp.write(self.report())\n",
    "    \n",
    "    @register\n",
    "    def linear_regression(self):\n",
    "        '''Perform linear regression on the loaded data set'''\n",
    "        if self.all_ok:\n",
    "            result = linregress(self.x, self.y)\n",
    "            y_ = result.intercept + result.slope*self.x\n",
    "            self.ry = y_\n",
    "            self.rsquared = result.rvalue\n",
    "        else:\n",
    "            raise ValueError('Not ready to perform analysis.')\n",
    "    \n",
    "    @register\n",
    "    def multi_linear_regression(self):\n",
    "        '''Perform linear regression on all of the data set'''\n",
    "        rys_ = []\n",
    "        ys_ = []\n",
    "        rsquareds = []\n",
    "        for col_idx in range(self.data.shape[1]):\n",
    "            if not np.array_equal(self.x, self.data[:, col_idx]): # Get every other column aside from selected x column\n",
    "                result = linregress(self.x, self.data[:, col_idx])\n",
    "                calculated_y = result.intercept + result.slope*self.x\n",
    "                rys_.append(calculated_y)\n",
    "                ys_.append(self.data[:, col_idx])\n",
    "                rsquareds.append(result.rvalue)\n",
    "                self.y = np.asarray(ys_)\n",
    "                self.ry = rys_\n",
    "                self.rsquared = np.asarray(rsquareds)\n",
    "        return np.asarray(ys_), rys_\n",
    "    \n",
    "    def plot(self):\n",
    "        '''Plot the data from the most recently performed analysis'''\n",
    "        if self.all_ok:\n",
    "            if len(self.y.shape) > 1:\n",
    "                fig, ax = plt.subplots(len(self.y), 1)\n",
    "                for n, i in enumerate(self.y):\n",
    "                    ax[n].scatter(self.x, i, color='b')\n",
    "                    ax[n].plot(self.x, self.ry[n], 'r')\n",
    "                    ax[n].text(self.x[0], (ax[n].get_ylim()[0]+ax[n].get_ylim()[1])/2, \"$R^2$ = {}\".format(round(self.rsquared[n], 3)))\n",
    "                plt.tight_layout()\n",
    "                plt.show()\n",
    "            else:\n",
    "                fig, ax = plt.subplots()\n",
    "                ax.scatter(self.x, self.y, color='b')\n",
    "                ax.plot(self.x, self.ry, 'r')\n",
    "                ax.text(self.x[0], (ax.get_ylim()[0]+ax.get_ylim()[1])/2, \"$R^2$ = {}\".format(round(self.rsquared, 3)))\n",
    "                plt.tight_layout()\n",
    "                plt.show()\n",
    "        else:\n",
    "            raise ValueError('Parameters not set to properly plot.')"
   ]
  },
  {
   "cell_type": "code",
   "execution_count": null,
   "id": "reflected-english",
   "metadata": {},
   "outputs": [],
   "source": [
    "import numpy as np\n",
    "import matplotlib.pyplot as plt\n",
    "\n",
    "Analyzer = Application()\n",
    "Analyzer.load('test.txt')"
   ]
  },
  {
   "cell_type": "code",
   "execution_count": null,
   "id": "experimental-electric",
   "metadata": {},
   "outputs": [],
   "source": [
    "# Select Data for (Multi) linear regression\n",
    "\n",
    "Analyzer.select()"
   ]
  },
  {
   "cell_type": "code",
   "execution_count": null,
   "id": "similar-portable",
   "metadata": {},
   "outputs": [],
   "source": [
    "# Perform linear regression\n",
    "\n",
    "Analyzer.linear_regression()"
   ]
  },
  {
   "cell_type": "code",
   "execution_count": null,
   "id": "regional-balance",
   "metadata": {},
   "outputs": [],
   "source": [
    "# Plot the Result\n",
    "\n",
    "Analyzer.plot()"
   ]
  },
  {
   "cell_type": "code",
   "execution_count": null,
   "id": "connected-attraction",
   "metadata": {},
   "outputs": [],
   "source": [
    "# Now let's try linear regression with all the data plotted against our chosen x value.\n",
    "\n",
    "Analyzer.multi_linear_regression();"
   ]
  },
  {
   "cell_type": "code",
   "execution_count": null,
   "id": "threatened-processing",
   "metadata": {},
   "outputs": [],
   "source": [
    "# And plot the results again\n",
    "\n",
    "Analyzer.plot()"
   ]
  },
  {
   "cell_type": "code",
   "execution_count": null,
   "id": "common-result",
   "metadata": {},
   "outputs": [],
   "source": [
    "# Generate a report of our linear regression\n",
    "\n",
    "Analyzer.report();"
   ]
  },
  {
   "cell_type": "code",
   "execution_count": null,
   "id": "packed-there",
   "metadata": {},
   "outputs": [],
   "source": [
    "print(Analyzer)"
   ]
  },
  {
   "cell_type": "code",
   "execution_count": null,
   "id": "proper-denial",
   "metadata": {},
   "outputs": [],
   "source": [
    "# We can save the data\n",
    "\n",
    "Analyzer.save() # generates 'saved.txt'"
   ]
  },
  {
   "cell_type": "markdown",
   "id": "random-rochester",
   "metadata": {},
   "source": [
    "Now that we have completed writing the backend of our analysis program, let's implement the Tkinter GUI."
   ]
  },
  {
   "cell_type": "code",
   "execution_count": null,
   "id": "southeast-universal",
   "metadata": {},
   "outputs": [],
   "source": [
    "# To generate a Tkinter window \n",
    "\n",
    "import tkinter as tk\n",
    "\n",
    "root = tk.Tk()\n",
    "root.mainloop()"
   ]
  },
  {
   "cell_type": "markdown",
   "id": "vulnerable-delight",
   "metadata": {},
   "source": [
    "We can create our own class for our program GUI by inheriting from tk.Tk."
   ]
  },
  {
   "cell_type": "code",
   "execution_count": null,
   "id": "through-premises",
   "metadata": {},
   "outputs": [],
   "source": [
    "class GUI(tk.Tk):\n",
    "    def __init__(self):\n",
    "        super().__init__()\n",
    "        self.geometry = ('300x200')\n",
    "        self.title('Regression Analysis')\n",
    "\n",
    "root = GUI()\n",
    "root.mainloop()"
   ]
  },
  {
   "cell_type": "markdown",
   "id": "seeing-submission",
   "metadata": {},
   "source": [
    "Now we need to add features to this window to access the methods we defined under our 'Application' class.\n",
    "\n",
    "For simplicity, let's create buttons for most of the functions we want to permit a user to access.\n",
    "\n",
    "We will have to change the methods of our 'Application' class so that the methods requiring *input()* instead use tkinter related textual inputs."
   ]
  },
  {
   "cell_type": "code",
   "execution_count": null,
   "id": "continental-joyce",
   "metadata": {},
   "outputs": [],
   "source": [
    "class GUI(tk.Tk):\n",
    "    def __init__(self):\n",
    "        super().__init__()\n",
    "        self.geometry = ('300x200')\n",
    "        self.title('Regression Analysis')\n",
    "        tk.Button(self, text='Load', bg='white', fg='black').pack(expand=True)\n",
    "        tk.Button(self, text='Save', bg='white', fg='black').pack(expand=True)\n",
    "        tk.Button(self, text='Linear Regression', bg='white', fg='black').pack(expand=True)\n",
    "        tk.Button(self, text='Multiple Linear Regression', bg='white', fg='black').pack(expand=True)\n",
    "        tk.Button(self, text='Plot Result', bg='white', fg='black').pack(expand=True)\n",
    "        \n",
    "root = GUI()\n",
    "root.mainloop()"
   ]
  },
  {
   "cell_type": "markdown",
   "id": "weird-qualification",
   "metadata": {},
   "source": [
    "Now that we have the layout of our small program we will add the functionality to each of our buttons as well."
   ]
  },
  {
   "cell_type": "code",
   "execution_count": null,
   "id": "vulnerable-mercury",
   "metadata": {},
   "outputs": [],
   "source": [
    "class GUI(tk.Tk, Application): # <-- Note multiple inheritance now (Application methods accessed via 'self')\n",
    "    def __init__(self):\n",
    "        super().__init__()\n",
    "        self.geometry = ('300x200')\n",
    "        self.title('Regression Analysis')\n",
    "\n",
    "        \n",
    "        # -- Main Screen Functions -- #\n",
    "        \n",
    "        tk.Button(self, text='Load', bg='white', fg='black', command=lambda: self.load('test.txt')).pack(expand=True)\n",
    "        tk.Button(self, text='Select', bg='white', fg='black', command=lambda: self.select()).pack(expand=True)\n",
    "        tk.Button(self, text='Save', bg='white', fg='black', command=lambda: self.save()).pack(expand=True)\n",
    "        tk.Button(self, text='Linear Regression', bg='white', fg='black', command=lambda: self.linear_regression()).pack(expand=True)\n",
    "        tk.Button(self, text='Multiple Linear Regression', bg='white', fg='black', command=lambda: self.multi_linear_regression()).pack(expand=True)\n",
    "        tk.Button(self, text='Plot Result', bg='white', fg='black', command=lambda: self.plot()).pack(expand=True)\n",
    "        \n",
    "root = GUI()\n",
    "root.mainloop()"
   ]
  },
  {
   "cell_type": "markdown",
   "id": "mysterious-utilization",
   "metadata": {},
   "source": [
    "There is much more we can do with Tkinter (drop down menus, text entry, in-GUI plot display, etc.).\n",
    "\n",
    "For now we have reviewed the basic structure of generating a small application using our knowledge from previous sessions."
   ]
  }
 ],
 "metadata": {
  "kernelspec": {
   "display_name": "Python 3",
   "language": "python",
   "name": "python3"
  },
  "language_info": {
   "codemirror_mode": {
    "name": "ipython",
    "version": 3
   },
   "file_extension": ".py",
   "mimetype": "text/x-python",
   "name": "python",
   "nbconvert_exporter": "python",
   "pygments_lexer": "ipython3",
   "version": "3.9.1"
  }
 },
 "nbformat": 4,
 "nbformat_minor": 5
}
