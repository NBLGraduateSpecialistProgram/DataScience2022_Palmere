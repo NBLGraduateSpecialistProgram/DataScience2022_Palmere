{
 "cells": [
  {
   "cell_type": "markdown",
   "id": "growing-office",
   "metadata": {},
   "source": [
    "### Data Manipulations and Analysis with C++\n",
    "\n",
    "#### Robert Palmere, 2021\n",
    "#### Email: rdp135@chem.rutgers.edu\n",
    "\n",
    "Topics:\n",
    "\n",
    "* Retrieving data from external sources\n",
    "* Altering data (e.g. normalization)\n",
    "* Data output\n",
    "* Writing and implementing of NumPy functionality of Python\n",
    "* Writing and implentation of Pandas functionality of Python\n",
    "* Calculations relating to basic chemistry"
   ]
  },
  {
   "cell_type": "markdown",
   "id": "international-individual",
   "metadata": {},
   "source": [
    "Using the dataset comprised of attributes of benign and mallignant breast cancer nuclei of patients in Wisconsin, let's take a look at how we can read this text data using C/C++."
   ]
  },
  {
   "cell_type": "code",
   "execution_count": 1,
   "id": "initial-cooperative",
   "metadata": {},
   "outputs": [
    {
     "name": "stdout",
     "output_type": "stream",
     "text": [
      "17.99 0.1471\n",
      "20.57 0.07017\n",
      "19.69 0.1279\n",
      "11.42 0.1052\n",
      "20.29 0.1043\n"
     ]
    }
   ],
   "source": [
    "// C-Style Using fgets()\n",
    "\n",
    "#include <stdio.h>\n",
    "#include <stdlib.h>\n",
    "\n",
    "#define LENGTH 100 // Define the length of a line of the file\n",
    "\n",
    "char fn[] = \"Data.txt\"; // Define an array containing the characters of our desired file within cwd.\n",
    "\n",
    "FILE *fp; // File pointer ('FILE' type is special in C)\n",
    "\n",
    "fp = fopen(fn, \"r\"); // Define file pointer 'fp' using fopen() which returns a pointer\n",
    "\n",
    "// In the event that the file name 'fn' cannot be accessed, fopen() will return a null pointer so we check\n",
    "\n",
    "if (fp == NULL){\n",
    "    printf(\"ERROR: could not access the file.\");\n",
    "    return -1; // Indicate error when returning from main()\n",
    "}\n",
    "\n",
    "// We use char* fgets(char* str, int n, FILE* stream) to read lines\n",
    "\n",
    "char line[LENGTH];\n",
    "int line_counter = 0;\n",
    "\n",
    "while (fgets(line, LENGTH, fp) != NULL){ // Print out first 5 lines of the file\n",
    "    \n",
    "    line_counter++;\n",
    "    \n",
    "    if (line_counter > 5){ // Limit the output to the first 5 lines\n",
    "        break;\n",
    "    }\n",
    "    \n",
    "    printf(\"%s\", line);\n",
    "}\n",
    "\n",
    "fclose(fp);\n",
    "\n",
    "return 0;"
   ]
  },
  {
   "cell_type": "markdown",
   "id": "suited-decimal",
   "metadata": {},
   "source": [
    "We don't have to know the length of each line."
   ]
  },
  {
   "cell_type": "code",
   "execution_count": 2,
   "id": "rocky-norman",
   "metadata": {},
   "outputs": [
    {
     "name": "stdout",
     "output_type": "stream",
     "text": [
      "17.99"
     ]
    }
   ],
   "source": [
    "// C-style using fgetc() and feof() \n",
    "\n",
    "#include <stdio.h>\n",
    "\n",
    "FILE *f;\n",
    "\n",
    "f = fopen(\"Data.txt\", \"r\");\n",
    "int counter = 0;\n",
    "int ll;\n",
    "\n",
    "if (f == NULL){ printf(\"ERROR: could not access the file.\"); return -1; }\n",
    "\n",
    "do{\n",
    "    ll = fgetc(f);\n",
    "    \n",
    "    counter++;\n",
    "    if (feof(f)){ break; } // feof() returns an unsigned value (>0) when the end of file (eof) is reached\n",
    "    \n",
    "    if (counter <= 5){ printf(\"%c\", ll); }\n",
    "    \n",
    "} while(true);\n",
    "\n",
    "fclose(f);\n",
    "\n",
    "return 0;"
   ]
  },
  {
   "cell_type": "markdown",
   "id": "corresponding-transparency",
   "metadata": {},
   "source": [
    "This did not print out the first 5 lines of the file because fgetc gets the characters of the line from the file stream."
   ]
  },
  {
   "cell_type": "markdown",
   "id": "frank-anthropology",
   "metadata": {},
   "source": [
    "*** A BIT MORE ON THE 'FILE' STREAM SPECIAL TYPE HERE ***"
   ]
  },
  {
   "cell_type": "code",
   "execution_count": 1,
   "id": "fancy-north",
   "metadata": {},
   "outputs": [
    {
     "name": "stdout",
     "output_type": "stream",
     "text": [
      "17.99 0.1471\n",
      "20.57 0.07017\n",
      "19.69 0.1279\n",
      "11.42 0.1052\n",
      "20.29 0.1043\n"
     ]
    }
   ],
   "source": [
    "// C++-style -- Implmentation of namespaces and simplification of function calls\n",
    "\n",
    "#include <iostream>\n",
    "#include <fstream>\n",
    "#include <cstring>\n",
    "\n",
    "std::ifstream in(\"Data.txt\");\n",
    "std::string l;\n",
    "\n",
    "int counter = 0;\n",
    "\n",
    "while (std::getline(in, l)){\n",
    "    \n",
    "    counter++;\n",
    "    \n",
    "    if (counter > 5){ break; }\n",
    "    \n",
    "    std::cout << l << std::endl;\n",
    "    \n",
    "}"
   ]
  },
  {
   "cell_type": "markdown",
   "id": "actual-research",
   "metadata": {},
   "source": [
    "*** DESCRIBE HOW THE '<<' OPERATOR IS DIFFERENT THAN IN C AND 'INTERACTS' WITH STD::COUT ***"
   ]
  },
  {
   "cell_type": "markdown",
   "id": "minus-communication",
   "metadata": {},
   "source": [
    "As we saw in the last session NumPy allows for quickly accessible storage of data for numeric calculations.\n",
    "\n",
    "We will implement NumPy functionality in two ways:\n",
    "\n",
    "1. C Struct\n",
    "2. C++ Class"
   ]
  },
  {
   "cell_type": "code",
   "execution_count": 1,
   "id": "extensive-telephone",
   "metadata": {},
   "outputs": [],
   "source": [
    "// C Struct\n",
    "\n",
    "typedef struct Numpy {\n",
    "    int rows, cols;\n",
    "    float** data;\n",
    "} np; // Define numpy struct as a data type called 'np';\n"
   ]
  },
  {
   "cell_type": "code",
   "execution_count": 2,
   "id": "suitable-polymer",
   "metadata": {},
   "outputs": [],
   "source": [
    "// Function which returns struct pointer numpy to create a NumPy-style array\n",
    "struct Numpy* array(int rows, int cols){\n",
    "    \n",
    "    struct Numpy* mat = (np*)malloc(sizeof(np)); // Cast malloc to type 'np*'\n",
    "    mat->rows = rows;\n",
    "    mat->cols = cols;\n",
    "    float** data = (float**)malloc(sizeof(float*) * rows);\n",
    "    for (int i = 0; i < rows; i++){\n",
    "        data[i] = (float*)calloc(cols, sizeof(float)); // Use calloc() here to 0 initialize\n",
    "    }\n",
    "    mat->data = data;\n",
    "    return mat;\n",
    "}\n",
    "\n",
    "np* matrix = array(5, 5);"
   ]
  },
  {
   "cell_type": "code",
   "execution_count": 5,
   "id": "prostate-toddler",
   "metadata": {},
   "outputs": [
    {
     "name": "stdout",
     "output_type": "stream",
     "text": [
      "0.000000 0.000000 0.000000 0.000000 0.000000 \n",
      "0.000000 0.000000 0.000000 0.000000 0.000000 \n",
      "0.000000 0.000000 0.000000 0.000000 0.000000 \n",
      "0.000000 0.000000 0.000000 0.000000 0.000000 \n",
      "0.000000 0.000000 0.000000 0.000000 0.000000 \n"
     ]
    }
   ],
   "source": [
    "void print(Numpy* a){\n",
    "    for(int i = 0; i < a->rows; i++){\n",
    "        for (int j = 0; j < a->cols; j++){\n",
    "            printf(\"%f \", a->data[i][j]);\n",
    "        }\n",
    "        printf(\"\\n\");\n",
    "    }\n",
    "}\n",
    "\n",
    "print(matrix);"
   ]
  },
  {
   "cell_type": "markdown",
   "id": "backed-marketplace",
   "metadata": {},
   "source": [
    "A couple of notes regarding the above code:\n",
    "\n",
    "We generate functions which return our defined struct. By placing 'typedef' before the struct definition we generate a type called 'np' as a global type (used as np* matrix with no requirement for 'struct Numpy* matrix = ... '\n",
    "\n",
    "Additionally we only specify a specific type which can be accepted as data by our matrix whereas a Numpy array has several permissible 'dtypes='.\n",
    "\n",
    "We have not yet achieved the usual 'np.array()' syntax from Python. We will implement a C++ class for this purpose."
   ]
  },
  {
   "cell_type": "code",
   "execution_count": null,
   "id": "corresponding-birth",
   "metadata": {},
   "outputs": [],
   "source": [
    "// C++ Class\n",
    "\n",
    "class Numpy{\n",
    "    private:\n",
    "        int rows, cols;\n",
    "        float** data;\n",
    "    public:\n",
    "        void array(int rows, int cols){\n",
    "            \n",
    "            \n",
    "        \n",
    "        }\n",
    "    \n",
    "} np;"
   ]
  },
  {
   "cell_type": "code",
   "execution_count": null,
   "id": "atlantic-spank",
   "metadata": {},
   "outputs": [],
   "source": []
  }
 ],
 "metadata": {
  "kernelspec": {
   "display_name": "C++17",
   "language": "C++17",
   "name": "xcpp17"
  },
  "language_info": {
   "codemirror_mode": "text/x-c++src",
   "file_extension": ".cpp",
   "mimetype": "text/x-c++src",
   "name": "c++",
   "version": "17"
  }
 },
 "nbformat": 4,
 "nbformat_minor": 5
}
