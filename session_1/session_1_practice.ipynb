{
 "cells": [
  {
   "cell_type": "markdown",
   "id": "subject-genius",
   "metadata": {},
   "source": [
    "### Inroduction to Python - Practice Problems\n",
    "#### Robert Palmere\n",
    "#### email: rdp135@chem.rutgers.edu\n",
    "--------------"
   ]
  },
  {
   "cell_type": "markdown",
   "id": "mechanical-roulette",
   "metadata": {},
   "source": [
    "1. Use casting to change the variable x from type 'int' to 'float'. Print the type using the 'type()' function."
   ]
  },
  {
   "cell_type": "code",
   "execution_count": 1,
   "id": "yellow-victor",
   "metadata": {},
   "outputs": [
    {
     "name": "stdout",
     "output_type": "stream",
     "text": [
      "<class 'float'>\n"
     ]
    }
   ],
   "source": [
    "x = 2\n",
    "\n",
    "y = float(x)\n",
    "print(type(y))"
   ]
  },
  {
   "cell_type": "markdown",
   "id": "federal-receiver",
   "metadata": {},
   "source": [
    "2. Define a variable with a range of integers between 0 and 10. Display the first, fifth, and second to last elements of this range using indexing."
   ]
  },
  {
   "cell_type": "code",
   "execution_count": 4,
   "id": "nominated-official",
   "metadata": {},
   "outputs": [
    {
     "name": "stdout",
     "output_type": "stream",
     "text": [
      "0 4 9\n"
     ]
    }
   ],
   "source": [
    "x = [i for i in range(11)]\n",
    "print(x[0], x[4], x[-2])"
   ]
  },
  {
   "cell_type": "markdown",
   "id": "located-religious",
   "metadata": {},
   "source": [
    "3. Generate a list of 10 evenly spaced floats between 0 and 1 using a for loop."
   ]
  },
  {
   "cell_type": "code",
   "execution_count": 10,
   "id": "vocal-committee",
   "metadata": {},
   "outputs": [
    {
     "name": "stdout",
     "output_type": "stream",
     "text": [
      "0.0\n",
      "0.1\n",
      "0.2\n",
      "0.30000000000000004\n",
      "0.4\n",
      "0.5\n",
      "0.6000000000000001\n",
      "0.7000000000000001\n",
      "0.8\n",
      "0.9\n",
      "1.0\n"
     ]
    }
   ],
   "source": [
    "import numpy as np\n",
    "for i in np.arange(0, 1.1, .1): print(i)"
   ]
  },
  {
   "cell_type": "markdown",
   "id": "covered-stations",
   "metadata": {},
   "source": [
    "4. Using a for loop and a conditional statement (if / else), generate a new list with only the odd floats."
   ]
  },
  {
   "cell_type": "code",
   "execution_count": 20,
   "id": "binding-stand",
   "metadata": {},
   "outputs": [
    {
     "name": "stdout",
     "output_type": "stream",
     "text": [
      "[[0.0, 0.2, 0.4, 0.8], [0.1, 0.3, 0.5, 0.6, 0.7, 0.9, 1.0]]\n"
     ]
    }
   ],
   "source": [
    "the_list = [i/10 for i in range(11)]\n",
    "even_list = []\n",
    "odd_list = []\n",
    "for i in the_list:\n",
    "    if i % .2 == 0:\n",
    "        even_list.append(i)\n",
    "    else:\n",
    "        odd_list.append(i)\n",
    "print([even_list, odd_list])"
   ]
  },
  {
   "cell_type": "markdown",
   "id": "guided-google",
   "metadata": {},
   "source": [
    "5. Use list comprehension to generate the same list described in 3."
   ]
  },
  {
   "cell_type": "markdown",
   "id": "logical-freeze",
   "metadata": {},
   "source": [
    "Already done."
   ]
  },
  {
   "cell_type": "markdown",
   "id": "floating-trainer",
   "metadata": {},
   "source": [
    "6. Implement a while loop to write out \"Hello World!\" one letter at a time to the same line. It may be useful to 'import time' and access 'time.sleep(.25)' to slow down the output."
   ]
  },
  {
   "cell_type": "code",
   "execution_count": 25,
   "id": "handed-reservoir",
   "metadata": {},
   "outputs": [
    {
     "name": "stdout",
     "output_type": "stream",
     "text": [
      "Hello World!\n",
      "\n",
      "Hello World!"
     ]
    }
   ],
   "source": [
    "import time\n",
    "\n",
    "string = 'Hello World!'\n",
    "\n",
    "status = True\n",
    "count = 0\n",
    "while status:\n",
    "    time.sleep(.25)\n",
    "    print(string[count], end='')\n",
    "    count += 1\n",
    "    if count == len(string):\n",
    "        status = False\n",
    "        \n",
    "print('\\n')\n",
    "for i in range(len(string)):\n",
    "    time.sleep(.25)\n",
    "    print(string[i], end='')"
   ]
  },
  {
   "cell_type": "markdown",
   "id": "incomplete-meditation",
   "metadata": {},
   "source": [
    "7. Write a function which returns the average and standard deviation of a list of numbers. Print the returned values of this function."
   ]
  },
  {
   "cell_type": "code",
   "execution_count": 28,
   "id": "disturbed-preparation",
   "metadata": {},
   "outputs": [
    {
     "name": "stdout",
     "output_type": "stream",
     "text": [
      "45 2.8722813232690143\n"
     ]
    }
   ],
   "source": [
    "l = list(range(10))\n",
    "\n",
    "def f(list_):\n",
    "    return np.sum(list_), np.std(list_)\n",
    "\n",
    "sum_, std_ = f(l)\n",
    "\n",
    "print(sum_, std_)"
   ]
  },
  {
   "cell_type": "code",
   "execution_count": 38,
   "id": "ideal-daniel",
   "metadata": {},
   "outputs": [
    {
     "data": {
      "image/png": "[encoded data removed]",
      "text/plain": [
       "<Figure size 432x288 with 1 Axes>"
      ]
     },
     "metadata": {
      "needs_background": "light"
     },
     "output_type": "display_data"
    }
   ],
   "source": [
    "import random\n",
    "import matplotlib.pyplot as plt\n",
    "\n",
    "data = [random.randint(2, 100) for i in range(100)]\n",
    "plt.hist(data)\n",
    "plt.show()"
   ]
  },
  {
   "cell_type": "markdown",
   "id": "timely-scroll",
   "metadata": {},
   "source": [
    "8. Write a lambda method which squares numbers and demonstrate it works by passing it the integer 2 as an argument."
   ]
  },
  {
   "cell_type": "code",
   "execution_count": 45,
   "id": "italian-shock",
   "metadata": {},
   "outputs": [
    {
     "name": "stdout",
     "output_type": "stream",
     "text": [
      "4\n",
      "4\n"
     ]
    }
   ],
   "source": [
    "print((lambda g: g**2)(2)) # Method 1\n",
    "h = lambda g: g**2 # Method 2\n",
    "print(h(2))"
   ]
  },
  {
   "cell_type": "markdown",
   "id": "immune-criticism",
   "metadata": {},
   "source": [
    "9. Sally, Mary, and Sue are students who have just finished their final exam for a Python course. Their scores are 90, 82, and 78 respectively. Write a Python dictionary for these data. Display Sally's score using the dictionary you defined."
   ]
  },
  {
   "cell_type": "code",
   "execution_count": 47,
   "id": "noted-swimming",
   "metadata": {},
   "outputs": [
    {
     "name": "stdout",
     "output_type": "stream",
     "text": [
      "90\n"
     ]
    }
   ],
   "source": [
    "grade = {'Sally' : 90, 'Mary' : 82, 'Sue' : 78}\n",
    "print(grade['Sally'])"
   ]
  },
  {
   "cell_type": "markdown",
   "id": "straight-event",
   "metadata": {},
   "source": [
    "10. Write a function which can accept **kwargs and returns a dictionary with only the names that start with \"S\" using the dictionary in 9. as its argument. "
   ]
  },
  {
   "cell_type": "code",
   "execution_count": 57,
   "id": "opposed-haiti",
   "metadata": {},
   "outputs": [
    {
     "name": "stdout",
     "output_type": "stream",
     "text": [
      "0 Sally\n",
      "1 Mary\n",
      "2 Sue\n",
      "{'Sally': 90, 'Sue': 78}\n"
     ]
    }
   ],
   "source": [
    "def search(**kwargs):\n",
    "    new_d = {}\n",
    "    for n, i in enumerate(kwargs.keys()):\n",
    "        print(n, i)\n",
    "        if \"S\" == i[0]:\n",
    "            new_d.update({i : kwargs[i]})\n",
    "    return new_d\n",
    "\n",
    "new_d = search(**grade)\n",
    "print(new_d)"
   ]
  },
  {
   "cell_type": "code",
   "execution_count": null,
   "id": "smart-passport",
   "metadata": {},
   "outputs": [],
   "source": []
  }
 ],
 "metadata": {
  "kernelspec": {
   "display_name": "Python 3",
   "language": "python",
   "name": "python3"
  },
  "language_info": {
   "codemirror_mode": {
    "name": "ipython",
    "version": 3
   },
   "file_extension": ".py",
   "mimetype": "text/x-python",
   "name": "python",
   "nbconvert_exporter": "python",
   "pygments_lexer": "ipython3",
   "version": "3.9.1"
  }
 },
 "nbformat": 4,
 "nbformat_minor": 5
}
