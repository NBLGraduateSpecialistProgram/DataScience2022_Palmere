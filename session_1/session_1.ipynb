{
 "cells": [
  {
   "cell_type": "markdown",
   "id": "requested-piece",
   "metadata": {},
   "source": [
    "### Introduction to Python\n",
    "#### Robert Palmere, 2021\n",
    "#### Email: rdp135@chem.rutgers.edu\n",
    "--------------------------------------------------------------------\n",
    "#### Topics:\n",
    "    * str\n",
    "    * int, float, complex\n",
    "    * casting\n",
    "    * range, tuple, list, dict, set, frozenset\n",
    "    * bool\n",
    "    * for loops\n",
    "    * while loops\n",
    "    * conditional statements\n",
    "    * methods\n",
    "    * lambda methods\n",
    "    * recursion\n",
    "    * *args and **kwargs"
   ]
  },
  {
   "cell_type": "markdown",
   "id": "green-occasion",
   "metadata": {},
   "source": [
    "Programming Tips\n",
    "1. Take your time if you can afford it\n",
    "2. Take breaks\n",
    "3. View program errors as opportunities for learning"
   ]
  },
  {
   "cell_type": "code",
   "execution_count": 11,
   "id": "concerned-brown",
   "metadata": {},
   "outputs": [
    {
     "name": "stdout",
     "output_type": "stream",
     "text": [
      "Hello World!\n"
     ]
    }
   ],
   "source": [
    "''' \n",
    "Comments require \"#\" before them and will be ignored by the Python interpreter \n",
    "More information\n",
    "'''\n",
    "\n",
    "print(\"Hello World!\")\n",
    "# print(\"Hello World!\")"
   ]
  },
  {
   "cell_type": "markdown",
   "id": "formed-ozone",
   "metadata": {},
   "source": [
    "##### \"Hello World\" is known as a string which is a sequence (or string) of characters.\n",
    "##### Let's assign a variable to this string."
   ]
  },
  {
   "cell_type": "code",
   "execution_count": 12,
   "id": "organizational-latitude",
   "metadata": {},
   "outputs": [
    {
     "data": {
      "text/plain": [
       "str"
      ]
     },
     "execution_count": 12,
     "metadata": {},
     "output_type": "execute_result"
    }
   ],
   "source": [
    "x = \"Hello World!\"\n",
    "type(x)"
   ]
  },
  {
   "cell_type": "markdown",
   "id": "known-information",
   "metadata": {},
   "source": [
    "##### We can also define the variable x as a string using single quotes."
   ]
  },
  {
   "cell_type": "code",
   "execution_count": 13,
   "id": "heavy-girlfriend",
   "metadata": {},
   "outputs": [
    {
     "data": {
      "text/plain": [
       "str"
      ]
     },
     "execution_count": 13,
     "metadata": {},
     "output_type": "execute_result"
    }
   ],
   "source": [
    "x = 'Hello World!'\n",
    "type(x)"
   ]
  },
  {
   "cell_type": "markdown",
   "id": "abandoned-onion",
   "metadata": {},
   "source": [
    "##### Why might we use one over the other?"
   ]
  },
  {
   "cell_type": "code",
   "execution_count": 122,
   "id": "statewide-entry",
   "metadata": {},
   "outputs": [
    {
     "name": "stdout",
     "output_type": "stream",
     "text": [
      "The variable 'x' has been assigned.\n",
      "I enjoy \"rice\".\n"
     ]
    }
   ],
   "source": [
    "x = \"The variable 'x' has been assigned.\"\n",
    "print(x); type(x)\n",
    "\n",
    "x = 'I enjoy \"rice\".'\n",
    "print(x)"
   ]
  },
  {
   "cell_type": "markdown",
   "id": "accredited-complaint",
   "metadata": {},
   "source": [
    "##### Syntax error in this case: The quoted \"x\" or 'x' should be opposite of those used to encompass the string. How might we fix this?\n",
    "\n",
    "##### What about numeric types? (int, float, complex)"
   ]
  },
  {
   "cell_type": "code",
   "execution_count": 18,
   "id": "starting-management",
   "metadata": {},
   "outputs": [
    {
     "name": "stdout",
     "output_type": "stream",
     "text": [
      "1 int\n",
      "1 int\n",
      "1.0 float\n",
      "1.0 float\n",
      "(1+2j) complex\n",
      "(1+2j) complex\n"
     ]
    }
   ],
   "source": [
    "x = 1 # Assigning x as integer 1\n",
    "print(x, type(x).__name__)\n",
    "\n",
    "x = int(1) # Assigning x as integer 1 using casting\n",
    "print(x, type(x).__name__)\n",
    "\n",
    "x = 1.0\n",
    "print(x, type(x).__name__)\n",
    "\n",
    "x = float(1.0)\n",
    "print(x, type(x).__name__)\n",
    "\n",
    "x = 1+2j\n",
    "print(x, type(x).__name__)\n",
    "\n",
    "x = complex(1, 2)\n",
    "print(x, type(x).__name__)"
   ]
  },
  {
   "cell_type": "markdown",
   "id": "original-salvation",
   "metadata": {},
   "source": [
    "##### We will address classes and the use of special methods in future sessions. \n",
    "##### This was used here to avoid the following output (FYI)."
   ]
  },
  {
   "cell_type": "code",
   "execution_count": 19,
   "id": "conscious-vancouver",
   "metadata": {},
   "outputs": [
    {
     "name": "stdout",
     "output_type": "stream",
     "text": [
      "(1+2j) <class 'complex'>\n"
     ]
    }
   ],
   "source": [
    "print(x, type(x))"
   ]
  },
  {
   "cell_type": "markdown",
   "id": "recovered-shift",
   "metadata": {},
   "source": [
    "##### Perhaps we want our variable x to be a range of numbers rather than a single number."
   ]
  },
  {
   "cell_type": "code",
   "execution_count": 20,
   "id": "reflected-grounds",
   "metadata": {},
   "outputs": [
    {
     "name": "stdout",
     "output_type": "stream",
     "text": [
      "range(0, 6) range\n"
     ]
    }
   ],
   "source": [
    "x = range(6)\n",
    "print(x, type(x).__name__)"
   ]
  },
  {
   "cell_type": "markdown",
   "id": "realistic-dublin",
   "metadata": {},
   "source": [
    "##### x is now data type \"range\" with values from 0 to 6.\n",
    "##### Python iteration starts from 0 (i.e. 0, 1, 2, 3, ... stop_value)"
   ]
  },
  {
   "cell_type": "code",
   "execution_count": 21,
   "id": "banner-planet",
   "metadata": {},
   "outputs": [
    {
     "name": "stdout",
     "output_type": "stream",
     "text": [
      "0\n",
      "1\n",
      "6\n"
     ]
    }
   ],
   "source": [
    "print(x.start); print(x.step); print(x.stop)"
   ]
  },
  {
   "cell_type": "markdown",
   "id": "veterinary-simulation",
   "metadata": {},
   "source": [
    "##### Another way to accesss the values of range is via indexing."
   ]
  },
  {
   "cell_type": "code",
   "execution_count": 22,
   "id": "experienced-rover",
   "metadata": {},
   "outputs": [
    {
     "name": "stdout",
     "output_type": "stream",
     "text": [
      "0\n",
      "1\n",
      "5\n"
     ]
    }
   ],
   "source": [
    "print(x[0])\n",
    "print(x[1])\n",
    "print(x[-1])"
   ]
  },
  {
   "cell_type": "markdown",
   "id": "valued-wagon",
   "metadata": {},
   "source": [
    "##### If x[-1] is the last value in range(5) why is it not equal to x.stop?\n",
    "##### Range(x) iterates 5 times from 0 making the final number equal to 4."
   ]
  },
  {
   "cell_type": "code",
   "execution_count": 23,
   "id": "hazardous-louisiana",
   "metadata": {},
   "outputs": [
    {
     "name": "stdout",
     "output_type": "stream",
     "text": [
      "4\n"
     ]
    }
   ],
   "source": [
    "print(x[-2]) # Second from last"
   ]
  },
  {
   "cell_type": "markdown",
   "id": "scheduled-voluntary",
   "metadata": {},
   "source": [
    "##### Can also use index slicing: [start:end:step]"
   ]
  },
  {
   "cell_type": "code",
   "execution_count": 24,
   "id": "oriented-wrist",
   "metadata": {},
   "outputs": [
    {
     "name": "stdout",
     "output_type": "stream",
     "text": [
      "0 2 6\n",
      "0 2 4\n"
     ]
    }
   ],
   "source": [
    "y = x[0:6:2]\n",
    "print(y.start, y.step, y.stop)\n",
    "print(y[0], y[1], y[-1])"
   ]
  },
  {
   "cell_type": "markdown",
   "id": "several-position",
   "metadata": {},
   "source": [
    "##### The same type of indexing can be used with containers"
   ]
  },
  {
   "cell_type": "code",
   "execution_count": 25,
   "id": "organized-refund",
   "metadata": {},
   "outputs": [
    {
     "data": {
      "text/plain": [
       "'H'"
      ]
     },
     "execution_count": 25,
     "metadata": {},
     "output_type": "execute_result"
    }
   ],
   "source": [
    "string = \"Hello World!\"\n",
    "string[0:1] # First letter (start 0 end at 1 excluding index 1)"
   ]
  },
  {
   "cell_type": "code",
   "execution_count": 26,
   "id": "average-stopping",
   "metadata": {},
   "outputs": [
    {
     "data": {
      "text/plain": [
       "'HloWr'"
      ]
     },
     "execution_count": 26,
     "metadata": {},
     "output_type": "execute_result"
    }
   ],
   "source": [
    "string[0:-3:2] # First letter and every other letter until 3rd to last letter"
   ]
  },
  {
   "cell_type": "code",
   "execution_count": 27,
   "id": "innocent-unknown",
   "metadata": {},
   "outputs": [
    {
     "data": {
      "text/plain": [
       "'!dlroW'"
      ]
     },
     "execution_count": 27,
     "metadata": {},
     "output_type": "execute_result"
    }
   ],
   "source": [
    "string[-1:5:-1] # Start from last letter and iterate backwards by 1 until 5th character reach (left to right)"
   ]
  },
  {
   "cell_type": "code",
   "execution_count": 28,
   "id": "atmospheric-fruit",
   "metadata": {},
   "outputs": [
    {
     "data": {
      "text/plain": [
       "'Hello World!'"
      ]
     },
     "execution_count": 28,
     "metadata": {},
     "output_type": "execute_result"
    }
   ],
   "source": [
    "string[:] # Default [0:-1:1] -- 0 to end by step of a single index value"
   ]
  },
  {
   "cell_type": "markdown",
   "id": "mineral-ukraine",
   "metadata": {},
   "source": [
    "#### **Lists**: \n",
    "* 1.) Ordered (indexed) \n",
    "* 2.) Mutable (can be changed) \n",
    "* 3.) Do not need to be unique (can hold repeats)\n",
    "* 4.) Can hold multiple data types\n",
    "\n",
    "##### lists are declared using \"[]\" brackets encompassing comma-separated elements."
   ]
  },
  {
   "cell_type": "code",
   "execution_count": 29,
   "id": "aware-fireplace",
   "metadata": {},
   "outputs": [
    {
     "name": "stdout",
     "output_type": "stream",
     "text": [
      "[1, 2.2, 'Hello World!'] list\n"
     ]
    }
   ],
   "source": [
    "x = [1, 2.2, \"Hello World!\"]\n",
    "print(x, type(x).__name__)"
   ]
  },
  {
   "cell_type": "markdown",
   "id": "radio-doctor",
   "metadata": {},
   "source": [
    "##### 1.) Ordered"
   ]
  },
  {
   "cell_type": "code",
   "execution_count": 30,
   "id": "requested-primary",
   "metadata": {},
   "outputs": [
    {
     "name": "stdout",
     "output_type": "stream",
     "text": [
      "1\n",
      "Hello World!\n"
     ]
    }
   ],
   "source": [
    "print(x[0])\n",
    "print(x[-1])"
   ]
  },
  {
   "cell_type": "markdown",
   "id": "dense-discount",
   "metadata": {},
   "source": [
    "##### 2.) Mutable\n",
    "   * Remove elements at specific index - pop() / del\n",
    "   * Remove element given the element - remove()\n",
    "   * Add elements at specific index - insert()\n",
    "   * Append elements - append()"
   ]
  },
  {
   "cell_type": "code",
   "execution_count": 31,
   "id": "endless-warner",
   "metadata": {},
   "outputs": [
    {
     "name": "stdout",
     "output_type": "stream",
     "text": [
      "[1, 2.2, 'Hello World!']\n"
     ]
    }
   ],
   "source": [
    "print(x)"
   ]
  },
  {
   "cell_type": "code",
   "execution_count": 32,
   "id": "banner-average",
   "metadata": {},
   "outputs": [
    {
     "name": "stdout",
     "output_type": "stream",
     "text": [
      "[2.2, 'Hello World!']\n"
     ]
    }
   ],
   "source": [
    "x.pop(0) # Remove first element and return the removed element\n",
    "print(x)"
   ]
  },
  {
   "cell_type": "code",
   "execution_count": 33,
   "id": "incident-maryland",
   "metadata": {},
   "outputs": [
    {
     "name": "stdout",
     "output_type": "stream",
     "text": [
      "[2.2, 'Hello World!']\n"
     ]
    }
   ],
   "source": [
    "print(x) # 1 removed from the list"
   ]
  },
  {
   "cell_type": "code",
   "execution_count": 34,
   "id": "closed-majority",
   "metadata": {},
   "outputs": [
    {
     "name": "stdout",
     "output_type": "stream",
     "text": [
      "['Hello World!']\n"
     ]
    }
   ],
   "source": [
    "del x[0] # Remove the next element (2.2) but do not return the removed element\n",
    "print(x)"
   ]
  },
  {
   "cell_type": "code",
   "execution_count": 35,
   "id": "elegant-postage",
   "metadata": {},
   "outputs": [
    {
     "name": "stdout",
     "output_type": "stream",
     "text": [
      "[1, 2.2, 'Hello World!']\n"
     ]
    }
   ],
   "source": [
    "x.insert(0, 2.2) # Insert 2.2 and 1 at index 0 (beginning of the list)\n",
    "x.insert(0, 1)\n",
    "print(x)"
   ]
  },
  {
   "cell_type": "code",
   "execution_count": 36,
   "id": "recognized-heather",
   "metadata": {},
   "outputs": [
    {
     "name": "stdout",
     "output_type": "stream",
     "text": [
      "[1, 2.2, 'Hello World!', (4+2j)]\n"
     ]
    }
   ],
   "source": [
    "x.append(4+2j) # Append complex element to end of the list\n",
    "print(x)"
   ]
  },
  {
   "cell_type": "markdown",
   "id": "signed-boundary",
   "metadata": {},
   "source": [
    "##### 3.) Do not need to have unique elements"
   ]
  },
  {
   "cell_type": "code",
   "execution_count": 37,
   "id": "floating-guess",
   "metadata": {},
   "outputs": [
    {
     "name": "stdout",
     "output_type": "stream",
     "text": [
      "[1, 1, 1, 2, 2, 3]\n"
     ]
    }
   ],
   "source": [
    "y = [1, 1, 1, 2, 2, 3]\n",
    "print(y)"
   ]
  },
  {
   "cell_type": "markdown",
   "id": "later-steam",
   "metadata": {},
   "source": [
    "##### We can use the list() function to cast elements of an iterable as a list (e.g. string, range())."
   ]
  },
  {
   "cell_type": "code",
   "execution_count": 38,
   "id": "still-hampton",
   "metadata": {},
   "outputs": [
    {
     "name": "stdout",
     "output_type": "stream",
     "text": [
      "['H', 'e', 'l', 'l', 'o', ' ', 'W', 'o', 'r', 'l', 'd']\n"
     ]
    }
   ],
   "source": [
    "x = list(\"Hello World\")\n",
    "print(x)"
   ]
  },
  {
   "cell_type": "code",
   "execution_count": 39,
   "id": "expanded-commissioner",
   "metadata": {},
   "outputs": [
    {
     "name": "stdout",
     "output_type": "stream",
     "text": [
      "[0, 1, 2, 3, 4, 5]\n"
     ]
    }
   ],
   "source": [
    "x = list(range(6))\n",
    "print(x)"
   ]
  },
  {
   "cell_type": "markdown",
   "id": "grateful-response",
   "metadata": {},
   "source": [
    "##### **Tuples**: Similar to lists but **NOT** mutable.\n",
    "\n",
    "##### Tuples are declared using \"()\" parenthesis encompassing comma-separated elements"
   ]
  },
  {
   "cell_type": "code",
   "execution_count": 40,
   "id": "molecular-residence",
   "metadata": {},
   "outputs": [
    {
     "name": "stdout",
     "output_type": "stream",
     "text": [
      "(1, 2.2, 'Hello World!')\n"
     ]
    }
   ],
   "source": [
    "x = (1, 2.2, \"Hello World!\")\n",
    "print(x)"
   ]
  },
  {
   "cell_type": "code",
   "execution_count": 41,
   "id": "bacterial-marks",
   "metadata": {},
   "outputs": [
    {
     "name": "stdout",
     "output_type": "stream",
     "text": [
      "x is type tuple and hence immutable.\n"
     ]
    }
   ],
   "source": [
    "try:\n",
    "    x.pop(0)\n",
    "except:\n",
    "    print(f'x is type {type(x).__name__} and hence immutable.')\n",
    "    "
   ]
  },
  {
   "cell_type": "code",
   "execution_count": 42,
   "id": "accessory-academy",
   "metadata": {},
   "outputs": [
    {
     "name": "stdout",
     "output_type": "stream",
     "text": [
      "1\n"
     ]
    }
   ],
   "source": [
    "print(x[0])"
   ]
  },
  {
   "cell_type": "markdown",
   "id": "sized-techno",
   "metadata": {},
   "source": [
    "##### We can use the tuple() function to cast elements of an iterable as a tuple (e.g. string, range())."
   ]
  },
  {
   "cell_type": "code",
   "execution_count": 43,
   "id": "unlimited-nylon",
   "metadata": {},
   "outputs": [
    {
     "name": "stdout",
     "output_type": "stream",
     "text": [
      "('H', 'e', 'l', 'l', 'o', ' ', 'W', 'o', 'r', 'l', 'd')\n"
     ]
    }
   ],
   "source": [
    "x = tuple(\"Hello World\")\n",
    "print(x)"
   ]
  },
  {
   "cell_type": "code",
   "execution_count": 44,
   "id": "numerical-report",
   "metadata": {},
   "outputs": [
    {
     "name": "stdout",
     "output_type": "stream",
     "text": [
      "(0, 1, 2, 3, 4, 5)\n"
     ]
    }
   ],
   "source": [
    "x = tuple(range(6))\n",
    "print(x)"
   ]
  },
  {
   "cell_type": "markdown",
   "id": "ultimate-wells",
   "metadata": {},
   "source": [
    "##### **Sets**:\n",
    "\n",
    "1. Not ordered (cannot be accessed by index or keys)\n",
    "2. Mutable\n",
    "3. Elements must be unique\n",
    "4. Can hold mutiple data types\n",
    "\n",
    "##### Sets are declared using \"{}\" brackets encompassing comma-separated elements"
   ]
  },
  {
   "cell_type": "code",
   "execution_count": 45,
   "id": "reserved-netherlands",
   "metadata": {},
   "outputs": [
    {
     "name": "stdout",
     "output_type": "stream",
     "text": [
      "{1, 2, 3}\n"
     ]
    }
   ],
   "source": [
    "x = {1, 2, 3}\n",
    "print(x)"
   ]
  },
  {
   "cell_type": "code",
   "execution_count": 46,
   "id": "experimental-oxide",
   "metadata": {},
   "outputs": [
    {
     "name": "stdout",
     "output_type": "stream",
     "text": [
      "{1, 2, 3}\n"
     ]
    }
   ],
   "source": [
    "x = {1, 1, 2, 3} # Duplicates removed automatically\n",
    "print(x)"
   ]
  },
  {
   "cell_type": "code",
   "execution_count": 47,
   "id": "industrial-bunch",
   "metadata": {},
   "outputs": [
    {
     "name": "stdout",
     "output_type": "stream",
     "text": [
      "{' ', 'o', 'e', 'H', 'l', 'r', 'd', 'W'}\n"
     ]
    }
   ],
   "source": [
    "x = set(\"Hello World\") # Notice it prints as unordered\n",
    "print(x)"
   ]
  },
  {
   "cell_type": "markdown",
   "id": "important-selection",
   "metadata": {},
   "source": [
    "But \"order\" needs to be determined initially by Python somehow. Check out this [Stack Exchange](https://stackoverflow.com/questions/12165200/order-of-unordered-python-sets) page for more information."
   ]
  },
  {
   "cell_type": "markdown",
   "id": "faced-filename",
   "metadata": {},
   "source": [
    "##### 2.) Mutable\n",
    "   * Remove elements at specific index - pop()\n",
    "   * Remove element given the element - remove()\n",
    "   * Add elements at specific index - add()\n",
    "   * Update the set - update()\n",
    "   * clear the set - clear()\n"
   ]
  },
  {
   "cell_type": "code",
   "execution_count": 48,
   "id": "extreme-token",
   "metadata": {},
   "outputs": [
    {
     "name": "stdout",
     "output_type": "stream",
     "text": [
      "{' ', 'o', 'e', 'H', 'l', 'r', 'd', 'W'}\n"
     ]
    }
   ],
   "source": [
    "print(x)"
   ]
  },
  {
   "cell_type": "code",
   "execution_count": 49,
   "id": "taken-blair",
   "metadata": {},
   "outputs": [
    {
     "data": {
      "text/plain": [
       "' '"
      ]
     },
     "execution_count": 49,
     "metadata": {},
     "output_type": "execute_result"
    }
   ],
   "source": [
    "x.pop() # Removes the first element of the set and returns the removed element"
   ]
  },
  {
   "cell_type": "code",
   "execution_count": 50,
   "id": "written-pension",
   "metadata": {},
   "outputs": [
    {
     "name": "stdout",
     "output_type": "stream",
     "text": [
      "{'o', 'e', 'l', 'r', 'd', 'W'}\n"
     ]
    }
   ],
   "source": [
    "x.remove('H') # Removes the element given as an argument but does not return the element\n",
    "print(x)"
   ]
  },
  {
   "cell_type": "code",
   "execution_count": 51,
   "id": "weighted-supervision",
   "metadata": {},
   "outputs": [
    {
     "name": "stdout",
     "output_type": "stream",
     "text": [
      "set()\n"
     ]
    }
   ],
   "source": [
    "x.clear() # Clears the set rendering \"x\" as an empty set\n",
    "print(x)"
   ]
  },
  {
   "cell_type": "code",
   "execution_count": 52,
   "id": "labeled-monroe",
   "metadata": {},
   "outputs": [
    {
     "name": "stdout",
     "output_type": "stream",
     "text": [
      "{0, 1, 2, 3, 4, 5}\n"
     ]
    }
   ],
   "source": [
    "x.update(range(6)) # Updates the set with new values 0-5 using range()\n",
    "print(x)"
   ]
  },
  {
   "cell_type": "code",
   "execution_count": 53,
   "id": "transsexual-kidney",
   "metadata": {},
   "outputs": [
    {
     "name": "stdout",
     "output_type": "stream",
     "text": [
      "{0, 1, 2, 3, 4, 5, 'e', 'o', ' ', 'H', 'l', 'r', 'd', 'W'}\n"
     ]
    }
   ],
   "source": [
    "x.update(\"Hello World\") # Appends unique values to the set\n",
    "print(x)"
   ]
  },
  {
   "cell_type": "code",
   "execution_count": 54,
   "id": "structural-softball",
   "metadata": {},
   "outputs": [
    {
     "name": "stdout",
     "output_type": "stream",
     "text": [
      "{0, 1, 2, 3, 4, 5}\n"
     ]
    }
   ],
   "source": [
    "x = set(range(6)) # can also use the set() function to declare a set\n",
    "print(x)"
   ]
  },
  {
   "cell_type": "markdown",
   "id": "controversial-arnold",
   "metadata": {},
   "source": [
    "##### Frozenset is a set that is immutable."
   ]
  },
  {
   "cell_type": "code",
   "execution_count": 55,
   "id": "operational-insured",
   "metadata": {},
   "outputs": [
    {
     "name": "stdout",
     "output_type": "stream",
     "text": [
      "frozenset({0, 1, 2, 3, 4, 5})\n"
     ]
    }
   ],
   "source": [
    "x = frozenset(range(6))\n",
    "print(x)"
   ]
  },
  {
   "cell_type": "markdown",
   "id": "powerful-timing",
   "metadata": {},
   "source": [
    "##### Both sets and frozensets have unique, mathematically relevant, functionality."
   ]
  },
  {
   "cell_type": "code",
   "execution_count": 56,
   "id": "processed-aquatic",
   "metadata": {},
   "outputs": [
    {
     "name": "stdout",
     "output_type": "stream",
     "text": [
      "{0, 1, 2, 3, 4, 5} {0, 1, 2, 3, 4, 5, 6, 7, 8, 9}\n"
     ]
    }
   ],
   "source": [
    "x = set(range(6))\n",
    "y = set(range(10))\n",
    "print(x, y)"
   ]
  },
  {
   "cell_type": "code",
   "execution_count": 57,
   "id": "subtle-section",
   "metadata": {},
   "outputs": [
    {
     "data": {
      "text/plain": [
       "{0, 1, 2, 3, 4, 5, 6, 7, 8, 9}"
      ]
     },
     "execution_count": 57,
     "metadata": {},
     "output_type": "execute_result"
    }
   ],
   "source": [
    "x.union(y) # Unify elements between x and y removing any elements which overlap between the two sets"
   ]
  },
  {
   "cell_type": "code",
   "execution_count": 58,
   "id": "animated-sleeve",
   "metadata": {},
   "outputs": [
    {
     "data": {
      "text/plain": [
       "{0, 1, 2, 3, 4, 5}"
      ]
     },
     "execution_count": 58,
     "metadata": {},
     "output_type": "execute_result"
    }
   ],
   "source": [
    "x.intersection(y) # Return a set containing elements that both x and y share"
   ]
  },
  {
   "cell_type": "code",
   "execution_count": 59,
   "id": "welcome-military",
   "metadata": {},
   "outputs": [
    {
     "data": {
      "text/plain": [
       "set()"
      ]
     },
     "execution_count": 59,
     "metadata": {},
     "output_type": "execute_result"
    }
   ],
   "source": [
    "x.difference(y) # x is a subset of y so returns an empty set"
   ]
  },
  {
   "cell_type": "code",
   "execution_count": 60,
   "id": "smooth-worker",
   "metadata": {},
   "outputs": [
    {
     "data": {
      "text/plain": [
       "{6, 7, 8, 9}"
      ]
     },
     "execution_count": 60,
     "metadata": {},
     "output_type": "execute_result"
    }
   ],
   "source": [
    "y.difference(x) # y is a superset of x so returns the elements which x does not hold"
   ]
  },
  {
   "cell_type": "markdown",
   "id": "cooperative-compilation",
   "metadata": {},
   "source": [
    "##### Boolean values are binary and can be True or False. The bool() function will try to interpret its argument as either True or False. 0 = False, >0 = True. If the value exists it will return True."
   ]
  },
  {
   "cell_type": "markdown",
   "id": "increasing-truck",
   "metadata": {},
   "source": [
    "x = 0\n",
    "bool(x)"
   ]
  },
  {
   "cell_type": "code",
   "execution_count": 61,
   "id": "improved-honolulu",
   "metadata": {},
   "outputs": [
    {
     "data": {
      "text/plain": [
       "True"
      ]
     },
     "execution_count": 61,
     "metadata": {},
     "output_type": "execute_result"
    }
   ],
   "source": [
    "x = 1\n",
    "bool(x)"
   ]
  },
  {
   "cell_type": "code",
   "execution_count": 62,
   "id": "forward-federal",
   "metadata": {},
   "outputs": [
    {
     "data": {
      "text/plain": [
       "bool"
      ]
     },
     "execution_count": 62,
     "metadata": {},
     "output_type": "execute_result"
    }
   ],
   "source": [
    "x = True\n",
    "type(x)"
   ]
  },
  {
   "cell_type": "code",
   "execution_count": 63,
   "id": "standard-words",
   "metadata": {},
   "outputs": [
    {
     "data": {
      "text/plain": [
       "bool"
      ]
     },
     "execution_count": 63,
     "metadata": {},
     "output_type": "execute_result"
    }
   ],
   "source": [
    "x = False\n",
    "type(x)"
   ]
  },
  {
   "cell_type": "code",
   "execution_count": 64,
   "id": "curious-attendance",
   "metadata": {},
   "outputs": [
    {
     "data": {
      "text/plain": [
       "True"
      ]
     },
     "execution_count": 64,
     "metadata": {},
     "output_type": "execute_result"
    }
   ],
   "source": [
    "x = \"Hello World\"\n",
    "bool(x)"
   ]
  },
  {
   "cell_type": "code",
   "execution_count": 65,
   "id": "superb-attack",
   "metadata": {},
   "outputs": [
    {
     "data": {
      "text/plain": [
       "False"
      ]
     },
     "execution_count": 65,
     "metadata": {},
     "output_type": "execute_result"
    }
   ],
   "source": [
    "x = \"\"\n",
    "bool(x)"
   ]
  },
  {
   "cell_type": "code",
   "execution_count": 66,
   "id": "traditional-finance",
   "metadata": {},
   "outputs": [
    {
     "data": {
      "text/plain": [
       "False"
      ]
     },
     "execution_count": 66,
     "metadata": {},
     "output_type": "execute_result"
    }
   ],
   "source": [
    "x = None\n",
    "bool(x)"
   ]
  },
  {
   "cell_type": "markdown",
   "id": "afraid-travel",
   "metadata": {},
   "source": [
    "#### Dictionaries \n",
    "\n",
    "Unlike sequences, which are indexed by a range of numbers, dictionaries are indexed by keys, which can be any immutable type."
   ]
  },
  {
   "cell_type": "code",
   "execution_count": 67,
   "id": "greek-forestry",
   "metadata": {},
   "outputs": [
    {
     "name": "stdout",
     "output_type": "stream",
     "text": [
      "dict {1: 'a', 2: 'b', 3: 'c'}\n"
     ]
    }
   ],
   "source": [
    "d = {1 : 'a', 2 : 'b', 3 : 'c'}\n",
    "print(type(d).__name__, d)"
   ]
  },
  {
   "cell_type": "code",
   "execution_count": 68,
   "id": "floating-hearing",
   "metadata": {},
   "outputs": [
    {
     "name": "stdout",
     "output_type": "stream",
     "text": [
      "a\n"
     ]
    }
   ],
   "source": [
    "print(d[1]) # using 1 as the key, we access its associated value 'a'"
   ]
  },
  {
   "cell_type": "code",
   "execution_count": 69,
   "id": "unsigned-appointment",
   "metadata": {},
   "outputs": [
    {
     "data": {
      "text/plain": [
       "dict_keys([1, 2, 3])"
      ]
     },
     "execution_count": 69,
     "metadata": {},
     "output_type": "execute_result"
    }
   ],
   "source": [
    "d.keys() # returns the available keys of the dict"
   ]
  },
  {
   "cell_type": "code",
   "execution_count": 70,
   "id": "referenced-hawaii",
   "metadata": {},
   "outputs": [],
   "source": [
    "d.values() # returns the available values of the dict"
   ]
  },
  {
   "cell_type": "code",
   "execution_count": 72,
   "id": "simplified-shareware",
   "metadata": {},
   "outputs": [
    {
     "data": {
      "text/plain": [
       "'b'"
      ]
     },
     "execution_count": 72,
     "metadata": {},
     "output_type": "execute_result"
    }
   ],
   "source": [
    "d[2]"
   ]
  },
  {
   "cell_type": "markdown",
   "id": "whole-number",
   "metadata": {},
   "source": [
    "#### For loops: used to iterate through an iterator (or more generally a data structure)\n",
    "\n",
    "Syntax: $ for {variable indicating the element} in {iterator}: {do something}"
   ]
  },
  {
   "cell_type": "code",
   "execution_count": 73,
   "id": "exempt-assessment",
   "metadata": {},
   "outputs": [
    {
     "name": "stdout",
     "output_type": "stream",
     "text": [
      "[0, 1, 2, 3, 4, 5]\n"
     ]
    }
   ],
   "source": [
    "x = list(range(6))\n",
    "print(x)"
   ]
  },
  {
   "cell_type": "code",
   "execution_count": 75,
   "id": "peripheral-mandate",
   "metadata": {},
   "outputs": [
    {
     "name": "stdout",
     "output_type": "stream",
     "text": [
      "0\n",
      "1\n",
      "2\n",
      "3\n",
      "4\n",
      "5\n"
     ]
    }
   ],
   "source": [
    "for i in x: \n",
    "    print(i)"
   ]
  },
  {
   "cell_type": "code",
   "execution_count": 76,
   "id": "other-mouse",
   "metadata": {},
   "outputs": [
    {
     "data": {
      "text/plain": [
       "True"
      ]
     },
     "execution_count": 76,
     "metadata": {},
     "output_type": "execute_result"
    }
   ],
   "source": [
    "x[0] in x # i = x[0]\n",
    "x[1] in x # i = x[1] returns True and carries out print() goes to the next element i = x[2]"
   ]
  },
  {
   "cell_type": "markdown",
   "id": "solved-observation",
   "metadata": {},
   "source": [
    "##### Lists can be generated using a for loop"
   ]
  },
  {
   "cell_type": "code",
   "execution_count": 77,
   "id": "normal-settle",
   "metadata": {},
   "outputs": [
    {
     "name": "stdout",
     "output_type": "stream",
     "text": [
      "[0, 1, 2, 3, 4, 5]\n"
     ]
    }
   ],
   "source": [
    "myList = []\n",
    "for i in x: # Notice that the scope of the for loop is defined by the indent (block)\n",
    "    myList.append(i)\n",
    "print(myList)"
   ]
  },
  {
   "cell_type": "markdown",
   "id": "historic-virus",
   "metadata": {},
   "source": [
    "##### The same list can be generated using list comprehension"
   ]
  },
  {
   "cell_type": "code",
   "execution_count": null,
   "id": "universal-bruce",
   "metadata": {},
   "outputs": [],
   "source": [
    "myList = [i for i in x] \n",
    "print(myList)"
   ]
  },
  {
   "cell_type": "markdown",
   "id": "parliamentary-cooperation",
   "metadata": {},
   "source": [
    "##### Loops can be nested within one another"
   ]
  },
  {
   "cell_type": "code",
   "execution_count": 82,
   "id": "invalid-october",
   "metadata": {},
   "outputs": [
    {
     "name": "stdout",
     "output_type": "stream",
     "text": [
      "i = 5 j = 5\r"
     ]
    }
   ],
   "source": [
    "import time\n",
    "myList = []\n",
    "for i in x:\n",
    "    for j in x:\n",
    "        myList.append((i, j))\n",
    "        time.sleep(.25)\n",
    "        print('i =', i, 'j =', j, end='\\r')"
   ]
  },
  {
   "cell_type": "code",
   "execution_count": 79,
   "id": "human-region",
   "metadata": {},
   "outputs": [
    {
     "name": "stdout",
     "output_type": "stream",
     "text": [
      "[(0, 0), (0, 1), (0, 2), (0, 3), (0, 4), (0, 5), (1, 0), (1, 1), (1, 2), (1, 3), (1, 4), (1, 5), (2, 0), (2, 1), (2, 2), (2, 3), (2, 4), (2, 5), (3, 0), (3, 1), (3, 2), (3, 3), (3, 4), (3, 5), (4, 0), (4, 1), (4, 2), (4, 3), (4, 4), (4, 5), (5, 0), (5, 1), (5, 2), (5, 3), (5, 4), (5, 5)]\n"
     ]
    }
   ],
   "source": [
    "print(myList)"
   ]
  },
  {
   "cell_type": "markdown",
   "id": "bottom-cargo",
   "metadata": {},
   "source": [
    "##### Loops nested using list comprehension"
   ]
  },
  {
   "cell_type": "code",
   "execution_count": 80,
   "id": "pacific-breeding",
   "metadata": {},
   "outputs": [
    {
     "name": "stdout",
     "output_type": "stream",
     "text": [
      "[(0, 0), (0, 1), (0, 2), (0, 3), (0, 4), (0, 5), (1, 0), (1, 1), (1, 2), (1, 3), (1, 4), (1, 5), (2, 0), (2, 1), (2, 2), (2, 3), (2, 4), (2, 5), (3, 0), (3, 1), (3, 2), (3, 3), (3, 4), (3, 5), (4, 0), (4, 1), (4, 2), (4, 3), (4, 4), (4, 5), (5, 0), (5, 1), (5, 2), (5, 3), (5, 4), (5, 5)]\n"
     ]
    }
   ],
   "source": [
    "myList = [(i, j) for i in x for j in x]\n",
    "print(myList)"
   ]
  },
  {
   "cell_type": "markdown",
   "id": "tough-grace",
   "metadata": {},
   "source": [
    "##### Conditional Statements"
   ]
  },
  {
   "cell_type": "code",
   "execution_count": 83,
   "id": "decent-abortion",
   "metadata": {},
   "outputs": [
    {
     "data": {
      "text/plain": [
       "True"
      ]
     },
     "execution_count": 83,
     "metadata": {},
     "output_type": "execute_result"
    }
   ],
   "source": [
    "1 < 2 # Less than"
   ]
  },
  {
   "cell_type": "code",
   "execution_count": 84,
   "id": "southeast-arrival",
   "metadata": {},
   "outputs": [
    {
     "data": {
      "text/plain": [
       "False"
      ]
     },
     "execution_count": 84,
     "metadata": {},
     "output_type": "execute_result"
    }
   ],
   "source": [
    "1 > 2 # Greater than"
   ]
  },
  {
   "cell_type": "code",
   "execution_count": 85,
   "id": "outdoor-battery",
   "metadata": {},
   "outputs": [
    {
     "data": {
      "text/plain": [
       "True"
      ]
     },
     "execution_count": 85,
     "metadata": {},
     "output_type": "execute_result"
    }
   ],
   "source": [
    "1 <= 2 # Less than or equal\n",
    "2 >= 1 # Greater than or equal"
   ]
  },
  {
   "cell_type": "code",
   "execution_count": 86,
   "id": "satisfactory-institution",
   "metadata": {},
   "outputs": [
    {
     "data": {
      "text/plain": [
       "True"
      ]
     },
     "execution_count": 86,
     "metadata": {},
     "output_type": "execute_result"
    }
   ],
   "source": [
    "1 == 1 # Equal"
   ]
  },
  {
   "cell_type": "code",
   "execution_count": 87,
   "id": "facial-multimedia",
   "metadata": {},
   "outputs": [
    {
     "data": {
      "text/plain": [
       "True"
      ]
     },
     "execution_count": 87,
     "metadata": {},
     "output_type": "execute_result"
    }
   ],
   "source": [
    "(1 == 1) and (2 == 2) # Biconditional statement (both must be True)"
   ]
  },
  {
   "cell_type": "code",
   "execution_count": 88,
   "id": "crude-mainland",
   "metadata": {},
   "outputs": [
    {
     "data": {
      "text/plain": [
       "True"
      ]
     },
     "execution_count": 88,
     "metadata": {},
     "output_type": "execute_result"
    }
   ],
   "source": [
    "(1 == 1) or (2 == 2) # Check if one or the two are True"
   ]
  },
  {
   "cell_type": "code",
   "execution_count": 89,
   "id": "double-sister",
   "metadata": {},
   "outputs": [
    {
     "name": "stdout",
     "output_type": "stream",
     "text": [
      "1 == 1\n"
     ]
    }
   ],
   "source": [
    "if (1 == 1) or (2 == 1):\n",
    "    print('1 == 1')"
   ]
  },
  {
   "cell_type": "markdown",
   "id": "helpful-theta",
   "metadata": {},
   "source": [
    "#### While Loops + Conditional Statements"
   ]
  },
  {
   "cell_type": "code",
   "execution_count": 90,
   "id": "reflected-hypothesis",
   "metadata": {},
   "outputs": [
    {
     "name": "stdout",
     "output_type": "stream",
     "text": [
      "10000\r"
     ]
    }
   ],
   "source": [
    "x = 0\n",
    "b = True;\n",
    "while b == True:\n",
    "    x += 1\n",
    "    print(x, end='\\r')\n",
    "    if x == 10_000:\n",
    "        b = False"
   ]
  },
  {
   "cell_type": "markdown",
   "id": "interesting-sleeve",
   "metadata": {},
   "source": [
    "#### Methods\n",
    "\n",
    "Syntax: $ def {function_name}(arg1, arg2): {do something}"
   ]
  },
  {
   "cell_type": "code",
   "execution_count": 91,
   "id": "accepting-miniature",
   "metadata": {},
   "outputs": [
    {
     "data": {
      "text/plain": [
       "3"
      ]
     },
     "execution_count": 91,
     "metadata": {},
     "output_type": "execute_result"
    }
   ],
   "source": [
    "def add(x, y):\n",
    "    # put code here\n",
    "    return x + y\n",
    "\n",
    "add(1, 2)"
   ]
  },
  {
   "cell_type": "markdown",
   "id": "terminal-newfoundland",
   "metadata": {},
   "source": [
    "##### Example: Fibonacci series"
   ]
  },
  {
   "cell_type": "code",
   "execution_count": 92,
   "id": "ignored-lease",
   "metadata": {},
   "outputs": [
    {
     "name": "stdout",
     "output_type": "stream",
     "text": [
      "[0, 1, 1, 2, 3, 5, 8, 13, 21, 34]\n"
     ]
    }
   ],
   "source": [
    "def fibonacci(n):\n",
    "    '''\n",
    "    parameters: None\n",
    "    returns: list of first 10 fibonacci numbers\n",
    "    '''\n",
    "    result = []\n",
    "    for i in range(n):\n",
    "        if i < 2:\n",
    "            result.append(i)\n",
    "        else:\n",
    "            v = result[i-2] + result[i-1]\n",
    "            result.append(v)\n",
    "    return result\n",
    "\n",
    "fib = fibonacci(10)\n",
    "print(fib)"
   ]
  },
  {
   "cell_type": "markdown",
   "id": "modular-workplace",
   "metadata": {},
   "source": [
    "##### Fibonacci series with recursion"
   ]
  },
  {
   "cell_type": "code",
   "execution_count": 93,
   "id": "secret-alert",
   "metadata": {},
   "outputs": [
    {
     "name": "stdout",
     "output_type": "stream",
     "text": [
      "0 1 1 2 3 5 8 13 21 34 "
     ]
    }
   ],
   "source": [
    "def fib_recursion(n):\n",
    "    if n <= 1:\n",
    "        return n\n",
    "    else:\n",
    "        return (fib_recursion(n-1) + fib_recursion(n-2))\n",
    "\n",
    "for i in range(10):\n",
    "    f = fib_recursion(i)\n",
    "    print(f, end=' ')"
   ]
  },
  {
   "cell_type": "markdown",
   "id": "handled-prayer",
   "metadata": {},
   "source": [
    "#### A lambda function is a small anonymous function.\n",
    "\n",
    "A lambda function can take any number of arguments, but can only have one expression."
   ]
  },
  {
   "cell_type": "code",
   "execution_count": 98,
   "id": "dutch-constitution",
   "metadata": {},
   "outputs": [
    {
     "data": {
      "text/plain": [
       "4"
      ]
     },
     "execution_count": 98,
     "metadata": {},
     "output_type": "execute_result"
    }
   ],
   "source": [
    "(lambda x : x**2)(2)"
   ]
  },
  {
   "cell_type": "markdown",
   "id": "empty-deployment",
   "metadata": {},
   "source": [
    "Multiple arguments can be passed to a lambda function as well"
   ]
  },
  {
   "cell_type": "code",
   "execution_count": 99,
   "id": "frank-gambling",
   "metadata": {},
   "outputs": [
    {
     "data": {
      "text/plain": [
       "2"
      ]
     },
     "execution_count": 99,
     "metadata": {},
     "output_type": "execute_result"
    }
   ],
   "source": [
    "add = lambda a, b : a + b\n",
    "add(1, 1)"
   ]
  },
  {
   "cell_type": "markdown",
   "id": "discrete-performer",
   "metadata": {},
   "source": [
    "Example use:"
   ]
  },
  {
   "cell_type": "code",
   "execution_count": 100,
   "id": "standing-validity",
   "metadata": {},
   "outputs": [],
   "source": [
    "myNumbers = [1, 2, 3, 4, 5]"
   ]
  },
  {
   "cell_type": "code",
   "execution_count": 101,
   "id": "bridal-olympus",
   "metadata": {},
   "outputs": [
    {
     "name": "stdout",
     "output_type": "stream",
     "text": [
      "filter(function or None, iterable) --> filter object\n",
      "\n",
      "Return an iterator yielding those items of iterable for which function(item)\n",
      "is true. If function is None, return the items that are true.\n"
     ]
    }
   ],
   "source": [
    "print(filter.__doc__)"
   ]
  },
  {
   "cell_type": "code",
   "execution_count": 102,
   "id": "domestic-maria",
   "metadata": {},
   "outputs": [
    {
     "name": "stdout",
     "output_type": "stream",
     "text": [
      "[2, 4]\n"
     ]
    }
   ],
   "source": [
    "even_numbers = list(filter(lambda x : (x % 2 == 0), myNumbers)) \n",
    "print(even_numbers)# Filtered for numbers who have a remainder of zero when divided by 2 (x mod 2)"
   ]
  },
  {
   "cell_type": "markdown",
   "id": "veterinary-shame",
   "metadata": {},
   "source": [
    "#### *Args and **Kwargs are useful if we do not know the number of arguments we will pass to our function."
   ]
  },
  {
   "cell_type": "markdown",
   "id": "parental-lambda",
   "metadata": {},
   "source": [
    "What do the \"*\" and \"**\" signify in python?"
   ]
  },
  {
   "cell_type": "code",
   "execution_count": 104,
   "id": "based-diana",
   "metadata": {},
   "outputs": [],
   "source": [
    "tpl = ('a', 'b', 'c') # Define a iterable (tuple)"
   ]
  },
  {
   "cell_type": "code",
   "execution_count": 105,
   "id": "split-manitoba",
   "metadata": {},
   "outputs": [
    {
     "name": "stdout",
     "output_type": "stream",
     "text": [
      "('a', 'b', 'c')\n"
     ]
    }
   ],
   "source": [
    "print(tpl) # print the tuple"
   ]
  },
  {
   "cell_type": "code",
   "execution_count": 106,
   "id": "paperback-jamaica",
   "metadata": {},
   "outputs": [
    {
     "name": "stdout",
     "output_type": "stream",
     "text": [
      "a b c\n"
     ]
    }
   ],
   "source": [
    "print(*tpl) # print() knows to handles the tuple as multiple arguments to be printed space separated to the same line"
   ]
  },
  {
   "cell_type": "code",
   "execution_count": 107,
   "id": "floating-elevation",
   "metadata": {},
   "outputs": [
    {
     "name": "stdout",
     "output_type": "stream",
     "text": [
      "a b c "
     ]
    }
   ],
   "source": [
    "for i in tpl: print(i, end=\" \") # internally"
   ]
  },
  {
   "cell_type": "markdown",
   "id": "express-tracker",
   "metadata": {},
   "source": [
    "What about \"**kwargs\"? (KeyWord Args)"
   ]
  },
  {
   "cell_type": "code",
   "execution_count": 108,
   "id": "higher-norman",
   "metadata": {},
   "outputs": [
    {
     "ename": "TypeError",
     "evalue": "print() argument after ** must be a mapping, not tuple",
     "output_type": "error",
     "traceback": [
      "\u001b[0;31m---------------------------------------------------------------------------\u001b[0m",
      "\u001b[0;31mTypeError\u001b[0m                                 Traceback (most recent call last)",
      "\u001b[0;32m<ipython-input-108-e2c9262f2b9b>\u001b[0m in \u001b[0;36m<module>\u001b[0;34m\u001b[0m\n\u001b[0;32m----> 1\u001b[0;31m \u001b[0mprint\u001b[0m\u001b[0;34m(\u001b[0m\u001b[0;34m**\u001b[0m\u001b[0mtpl\u001b[0m\u001b[0;34m)\u001b[0m \u001b[0;31m# No keyword\u001b[0m\u001b[0;34m\u001b[0m\u001b[0;34m\u001b[0m\u001b[0m\n\u001b[0m",
      "\u001b[0;31mTypeError\u001b[0m: print() argument after ** must be a mapping, not tuple"
     ]
    }
   ],
   "source": [
    "print(**tpl) # No keyword"
   ]
  },
  {
   "cell_type": "code",
   "execution_count": 109,
   "id": "dangerous-terrace",
   "metadata": {},
   "outputs": [],
   "source": [
    "d = {'a' : 1, 'b' : 2}"
   ]
  },
  {
   "cell_type": "code",
   "execution_count": 110,
   "id": "suburban-guide",
   "metadata": {},
   "outputs": [
    {
     "name": "stdout",
     "output_type": "stream",
     "text": [
      "a b\n"
     ]
    }
   ],
   "source": [
    "print(*d.keys())"
   ]
  },
  {
   "cell_type": "code",
   "execution_count": 111,
   "id": "stopped-profile",
   "metadata": {},
   "outputs": [
    {
     "name": "stdout",
     "output_type": "stream",
     "text": [
      "a b\n"
     ]
    }
   ],
   "source": [
    "print(*d) # defaults to keys"
   ]
  },
  {
   "cell_type": "code",
   "execution_count": 112,
   "id": "municipal-extra",
   "metadata": {},
   "outputs": [
    {
     "ename": "TypeError",
     "evalue": "'a' is an invalid keyword argument for print()",
     "output_type": "error",
     "traceback": [
      "\u001b[0;31m---------------------------------------------------------------------------\u001b[0m",
      "\u001b[0;31mTypeError\u001b[0m                                 Traceback (most recent call last)",
      "\u001b[0;32m<ipython-input-112-99a34b34b3fa>\u001b[0m in \u001b[0;36m<module>\u001b[0;34m\u001b[0m\n\u001b[0;32m----> 1\u001b[0;31m \u001b[0mprint\u001b[0m\u001b[0;34m(\u001b[0m\u001b[0;34m**\u001b[0m\u001b[0md\u001b[0m\u001b[0;34m)\u001b[0m \u001b[0;31m# print() doesn't recognize **kwargs\u001b[0m\u001b[0;34m\u001b[0m\u001b[0;34m\u001b[0m\u001b[0m\n\u001b[0m",
      "\u001b[0;31mTypeError\u001b[0m: 'a' is an invalid keyword argument for print()"
     ]
    }
   ],
   "source": [
    "print(**d) # print() doesn't recognize **kwargs"
   ]
  },
  {
   "cell_type": "code",
   "execution_count": 113,
   "id": "perceived-washer",
   "metadata": {},
   "outputs": [],
   "source": [
    "def myfunction(**kwargs):\n",
    "    print(kwargs)"
   ]
  },
  {
   "cell_type": "code",
   "execution_count": 114,
   "id": "timely-northeast",
   "metadata": {},
   "outputs": [
    {
     "ename": "TypeError",
     "evalue": "myfunction() takes 0 positional arguments but 1 was given",
     "output_type": "error",
     "traceback": [
      "\u001b[0;31m---------------------------------------------------------------------------\u001b[0m",
      "\u001b[0;31mTypeError\u001b[0m                                 Traceback (most recent call last)",
      "\u001b[0;32m<ipython-input-114-347806f64edf>\u001b[0m in \u001b[0;36m<module>\u001b[0;34m\u001b[0m\n\u001b[0;32m----> 1\u001b[0;31m \u001b[0mmyfunction\u001b[0m\u001b[0;34m(\u001b[0m\u001b[0md\u001b[0m\u001b[0;34m)\u001b[0m \u001b[0;31m# *args not specified - assumed to be zero (d is a keyword argument)\u001b[0m\u001b[0;34m\u001b[0m\u001b[0;34m\u001b[0m\u001b[0m\n\u001b[0m",
      "\u001b[0;31mTypeError\u001b[0m: myfunction() takes 0 positional arguments but 1 was given"
     ]
    }
   ],
   "source": [
    "myfunction(d) # *args not specified - assumed to be zero (d is a keyword argument)"
   ]
  },
  {
   "cell_type": "code",
   "execution_count": 115,
   "id": "rolled-robert",
   "metadata": {},
   "outputs": [
    {
     "name": "stdout",
     "output_type": "stream",
     "text": [
      "{'a': 1, 'b': 2}\n"
     ]
    }
   ],
   "source": [
    "myfunction(**d)"
   ]
  },
  {
   "cell_type": "markdown",
   "id": "warming-lobby",
   "metadata": {},
   "source": [
    "Example"
   ]
  },
  {
   "cell_type": "code",
   "execution_count": 119,
   "id": "partial-template",
   "metadata": {},
   "outputs": [],
   "source": [
    "options = {'float' : lambda y : sum([float(x) for x in y]), \n",
    "           'str' : lambda y : ''.join([str(x) for x in y]) }\n",
    "\n",
    "# Options defined in a dictionary - lambdas allow keyword to be callable"
   ]
  },
  {
   "cell_type": "code",
   "execution_count": 116,
   "id": "original-diploma",
   "metadata": {},
   "outputs": [],
   "source": [
    "def add_these(*args, **kwargs):\n",
    "    '''A function uising *args and **kwargs'''\n",
    "    if len(kwargs) == 0:\n",
    "        raise ValueError('No **options provided.')\n",
    "    else:\n",
    "        key_ = None\n",
    "        for key in kwargs.keys():\n",
    "            if key in args:\n",
    "                print(f\"Key found to be '{key}'.\")\n",
    "                key_ = key\n",
    "        args = list(args)\n",
    "        args.remove(key_)\n",
    "        return kwargs[key_](args)\n",
    "    "
   ]
  },
  {
   "cell_type": "code",
   "execution_count": 117,
   "id": "sunrise-recall",
   "metadata": {},
   "outputs": [
    {
     "ename": "ValueError",
     "evalue": "No **options provided.",
     "output_type": "error",
     "traceback": [
      "\u001b[0;31m---------------------------------------------------------------------------\u001b[0m",
      "\u001b[0;31mValueError\u001b[0m                                Traceback (most recent call last)",
      "\u001b[0;32m<ipython-input-117-46c553a2499a>\u001b[0m in \u001b[0;36m<module>\u001b[0;34m\u001b[0m\n\u001b[0;32m----> 1\u001b[0;31m \u001b[0madd_these\u001b[0m\u001b[0;34m(\u001b[0m\u001b[0;36m1\u001b[0m\u001b[0;34m,\u001b[0m \u001b[0;36m2\u001b[0m\u001b[0;34m,\u001b[0m \u001b[0;36m3\u001b[0m\u001b[0;34m,\u001b[0m \u001b[0;34m'float'\u001b[0m\u001b[0;34m)\u001b[0m\u001b[0;34m\u001b[0m\u001b[0;34m\u001b[0m\u001b[0m\n\u001b[0m",
      "\u001b[0;32m<ipython-input-116-2014f20cbaff>\u001b[0m in \u001b[0;36madd_these\u001b[0;34m(*args, **kwargs)\u001b[0m\n\u001b[1;32m      2\u001b[0m     \u001b[0;34m'''A function uising *args and **kwargs'''\u001b[0m\u001b[0;34m\u001b[0m\u001b[0;34m\u001b[0m\u001b[0m\n\u001b[1;32m      3\u001b[0m     \u001b[0;32mif\u001b[0m \u001b[0mlen\u001b[0m\u001b[0;34m(\u001b[0m\u001b[0mkwargs\u001b[0m\u001b[0;34m)\u001b[0m \u001b[0;34m==\u001b[0m \u001b[0;36m0\u001b[0m\u001b[0;34m:\u001b[0m\u001b[0;34m\u001b[0m\u001b[0;34m\u001b[0m\u001b[0m\n\u001b[0;32m----> 4\u001b[0;31m         \u001b[0;32mraise\u001b[0m \u001b[0mValueError\u001b[0m\u001b[0;34m(\u001b[0m\u001b[0;34m'No **options provided.'\u001b[0m\u001b[0;34m)\u001b[0m\u001b[0;34m\u001b[0m\u001b[0;34m\u001b[0m\u001b[0m\n\u001b[0m\u001b[1;32m      5\u001b[0m     \u001b[0;32melse\u001b[0m\u001b[0;34m:\u001b[0m\u001b[0;34m\u001b[0m\u001b[0;34m\u001b[0m\u001b[0m\n\u001b[1;32m      6\u001b[0m         \u001b[0mkey_\u001b[0m \u001b[0;34m=\u001b[0m \u001b[0;32mNone\u001b[0m\u001b[0;34m\u001b[0m\u001b[0;34m\u001b[0m\u001b[0m\n",
      "\u001b[0;31mValueError\u001b[0m: No **options provided."
     ]
    }
   ],
   "source": [
    "add_these(1, 2, 3, 'float')"
   ]
  },
  {
   "cell_type": "code",
   "execution_count": 120,
   "id": "charged-boston",
   "metadata": {},
   "outputs": [
    {
     "name": "stdout",
     "output_type": "stream",
     "text": [
      "Key found to be 'float'.\n"
     ]
    },
    {
     "data": {
      "text/plain": [
       "6.0"
      ]
     },
     "execution_count": 120,
     "metadata": {},
     "output_type": "execute_result"
    }
   ],
   "source": [
    "add_these(1, 2, 3, 'float', **options)"
   ]
  },
  {
   "cell_type": "code",
   "execution_count": 123,
   "id": "textile-settle",
   "metadata": {},
   "outputs": [
    {
     "name": "stdout",
     "output_type": "stream",
     "text": [
      "Key found to be 'str'.\n"
     ]
    },
    {
     "data": {
      "text/plain": [
       "'123'"
      ]
     },
     "execution_count": 123,
     "metadata": {},
     "output_type": "execute_result"
    }
   ],
   "source": [
    "add_these(1, 2, 3, 'str', **options)"
   ]
  },
  {
   "cell_type": "code",
   "execution_count": 124,
   "id": "blocked-canyon",
   "metadata": {},
   "outputs": [
    {
     "name": "stdout",
     "output_type": "stream",
     "text": [
      "[[1, 0, 0], [0, 1, 0], [0, 0, 1]]\n"
     ]
    }
   ],
   "source": [
    "matrix = [[1, 0, 0], [0, 1, 0], [0, 0, 1]]\n",
    "print(matrix)"
   ]
  },
  {
   "cell_type": "code",
   "execution_count": 126,
   "id": "removed-occasions",
   "metadata": {},
   "outputs": [
    {
     "name": "stdout",
     "output_type": "stream",
     "text": [
      "[[1 0 0]\n",
      " [0 1 0]\n",
      " [0 0 1]]\n"
     ]
    }
   ],
   "source": [
    "import numpy as np\n",
    "m = np.asarray(matrix)\n",
    "print(m)"
   ]
  },
  {
   "cell_type": "code",
   "execution_count": 149,
   "id": "posted-chance",
   "metadata": {},
   "outputs": [
    {
     "name": "stdout",
     "output_type": "stream",
     "text": [
      "   0  1  2\n",
      "0  1  0  0\n",
      "1  0  1  0\n",
      "2  0  0  1\n"
     ]
    }
   ],
   "source": [
    "import pandas as pd\n",
    "\n",
    "df = pd.DataFrame(matrix)\n",
    "print(df)"
   ]
  },
  {
   "cell_type": "code",
   "execution_count": 130,
   "id": "coupled-thunder",
   "metadata": {},
   "outputs": [
    {
     "name": "stdout",
     "output_type": "stream",
     "text": [
      "<class 'pandas.core.frame.DataFrame'>\n"
     ]
    }
   ],
   "source": [
    "print(type(df))"
   ]
  },
  {
   "cell_type": "code",
   "execution_count": 131,
   "id": "african-hunter",
   "metadata": {},
   "outputs": [],
   "source": [
    "tpl = (1, 2, 3, 4, 5)"
   ]
  },
  {
   "cell_type": "code",
   "execution_count": 133,
   "id": "hundred-insured",
   "metadata": {},
   "outputs": [
    {
     "name": "stdout",
     "output_type": "stream",
     "text": [
      "47\n",
      "34\n"
     ]
    }
   ],
   "source": [
    "x = []\n",
    "y = ()\n",
    "\n",
    "print(len(dir(x)))\n",
    "print(len(dir(y)))"
   ]
  },
  {
   "cell_type": "code",
   "execution_count": 147,
   "id": "stable-captain",
   "metadata": {},
   "outputs": [
    {
     "data": {
      "text/plain": [
       "<function __main__.<lambda>(x, y, z)>"
      ]
     },
     "execution_count": 147,
     "metadata": {},
     "output_type": "execute_result"
    }
   ],
   "source": [
    "def add(x, y, z):\n",
    "    return \n",
    "\n",
    "lambda x, y, z : x+y+z"
   ]
  },
  {
   "cell_type": "code",
   "execution_count": 148,
   "id": "periodic-feature",
   "metadata": {},
   "outputs": [],
   "source": [
    "f = 'data.txt'\n",
    "\n",
    "file_ = open(f, 'w')\n",
    "\n",
    "file_.write('Hello World.')\n",
    "file_.close()"
   ]
  },
  {
   "cell_type": "code",
   "execution_count": 142,
   "id": "speaking-percentage",
   "metadata": {},
   "outputs": [
    {
     "name": "stdout",
     "output_type": "stream",
     "text": [
      "['Hello World.']\n"
     ]
    }
   ],
   "source": [
    "file_ = open(f, 'r')\n",
    "\n",
    "lines = file_.readlines()\n",
    "print(lines)"
   ]
  },
  {
   "cell_type": "code",
   "execution_count": 145,
   "id": "greatest-italian",
   "metadata": {},
   "outputs": [
    {
     "data": {
      "text/plain": [
       "0"
      ]
     },
     "execution_count": 145,
     "metadata": {},
     "output_type": "execute_result"
    }
   ],
   "source": [
    "import subprocess\n",
    "\n",
    "subprocess.call(['echo','$PWD'])"
   ]
  },
  {
   "cell_type": "code",
   "execution_count": 146,
   "id": "laughing-championship",
   "metadata": {},
   "outputs": [
    {
     "ename": "SyntaxError",
     "evalue": "EOL while scanning string literal (<ipython-input-146-c164ee1c5e6d>, line 1)",
     "output_type": "error",
     "traceback": [
      "\u001b[0;36m  File \u001b[0;32m\"<ipython-input-146-c164ee1c5e6d>\"\u001b[0;36m, line \u001b[0;32m1\u001b[0m\n\u001b[0;31m    print(\"Hello World\u001b[0m\n\u001b[0m                      ^\u001b[0m\n\u001b[0;31mSyntaxError\u001b[0m\u001b[0;31m:\u001b[0m EOL while scanning string literal\n"
     ]
    }
   ],
   "source": [
    "print(\"Hello World\n",
    "      \")"
   ]
  },
  {
   "cell_type": "code",
   "execution_count": null,
   "id": "owned-rider",
   "metadata": {},
   "outputs": [],
   "source": []
  }
 ],
 "metadata": {
  "kernelspec": {
   "display_name": "Python 3",
   "language": "python",
   "name": "python3"
  },
  "language_info": {
   "codemirror_mode": {
    "name": "ipython",
    "version": 3
   },
   "file_extension": ".py",
   "mimetype": "text/x-python",
   "name": "python",
   "nbconvert_exporter": "python",
   "pygments_lexer": "ipython3",
   "version": "3.9.1"
  }
 },
 "nbformat": 4,
 "nbformat_minor": 5
}
