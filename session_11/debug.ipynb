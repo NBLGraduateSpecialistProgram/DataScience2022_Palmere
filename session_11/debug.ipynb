{
 "cells": [
  {
   "cell_type": "markdown",
   "id": "777d771e",
   "metadata": {},
   "source": [
    "### Debugging with the Unittest module\n",
    "#### Robert Palmere\n",
    "#### Email: rdp135@chem.rutgers.edu"
   ]
  },
  {
   "cell_type": "markdown",
   "id": "b5ceb747",
   "metadata": {},
   "source": [
    "<< Unit testing explanation >>"
   ]
  },
  {
   "cell_type": "markdown",
   "id": "483944b1",
   "metadata": {},
   "source": [
    "First we write a program. Here we will generate a calculator. We will refrain from using external libraries to demonstrate the applicability of the unittest module in debugging our code."
   ]
  },
  {
   "cell_type": "markdown",
   "id": "a938bad5",
   "metadata": {},
   "source": [
    "In this example, we consider evaluating the expression: 1+(2+2+(2+2)) using a calculator which accepts this expression as user input. We then debug this class with unit testing to ensure that the class is defined sufficiently."
   ]
  },
  {
   "cell_type": "code",
   "execution_count": 25,
   "id": "cdec442c",
   "metadata": {},
   "outputs": [],
   "source": [
    "# We will refrain from using external libraries which can provide warnings / error messages\n",
    "\n",
    "class Calculator(object):\n",
    "    \"\"\" Class describing a calculator\n",
    "    \"\"\"\n",
    "    \n",
    "    def __init__(self, in_):\n",
    "        self.input = in_\n",
    "        self.current_value = 0\n",
    "        self.current_operation = None\n",
    "        self.operation_log = []\n",
    "        self.value_log = []\n",
    "        self.operation_indices = []\n",
    "        self.value_indices = []\n",
    "        \n",
    "        self.operators = {\n",
    "            'add' : '+',\n",
    "            'subtract' : '-',\n",
    "            'multiply' : '*',\n",
    "            'divide' : '/',\n",
    "            'quantity_l' : '(',\n",
    "            'quantity_r' : ')'\n",
    "        }\n",
    "        \n",
    "    def call(self, name, v1, v2):\n",
    "        f = getattr(self, name)\n",
    "        return f(v1, v2)\n",
    "    \n",
    "    def scan(self):\n",
    "        \"\"\" Scan for operators and values in expression and append logs\n",
    "        \"\"\"\n",
    "        chars = self.input.lower()\n",
    "        for n, c in enumerate(chars):\n",
    "            if c in self.operators.values():\n",
    "                self.operation_log.append(c)\n",
    "                self.operation_indices.append(n)\n",
    "            else:\n",
    "                try:\n",
    "                    c = float(c)\n",
    "                    self.value_log.append(c)\n",
    "                    self.value_indices.append(n)\n",
    "                except:\n",
    "                    raise ValueError(f'Could not convert {c} to float.')\n",
    "                    \n",
    "    def quantities(self):\n",
    "        \"\"\" Determine how many quantities ( '()' ) are in the expression and parse into subexpressions\n",
    "        \"\"\" \n",
    "        \n",
    "        # Determine how many quantities\n",
    "        \n",
    "        ql, qr = 0, 0\n",
    "\n",
    "        il, ir = [], []\n",
    "        \n",
    "        for loc, op in enumerate(self.input):\n",
    "            if op == self.operators['quantity_l']:\n",
    "                ql += 1\n",
    "                il.append(loc)\n",
    "            if op == self.operators['quantity_r']:\n",
    "                qr += 1\n",
    "                ir.append(loc)\n",
    "                \n",
    "                \n",
    "        if ql != qr:\n",
    "            raise ValueError(\"Parentheses of the input expression must be provided in pairs.\")\n",
    "        \n",
    "        # Parse into subexpressions and return\n",
    "        \n",
    "        ilr = [i for i in reversed(il)]\n",
    "        spans = list(zip(ilr, ir))\n",
    "        \n",
    "        # Capture everything else that is not within a quantity\n",
    "        \n",
    "        largest_span = (0, 0)\n",
    "        for n, span in enumerate(spans):\n",
    "            delta = abs(span[0]-span[1])\n",
    "            if delta > abs(largest_span[0]-largest_span[1]):\n",
    "                largest_span = span\n",
    "        \n",
    "        remaining_span = tuple( set([n for n, char in enumerate(self.input)]) - set([i for i in range(largest_span[0], largest_span[1]+1)]) )\n",
    "        \n",
    "        return spans, remaining_span\n",
    "\n",
    "        \n",
    "    def calculate(self):\n",
    "        \"\"\" Calculate the result from user input following order of operations\n",
    "        \"\"\"\n",
    "        \n",
    "        k = list(self.operators.keys())\n",
    "        v = list(self.operators.values())\n",
    "        \n",
    "        # Unpack quantities\n",
    "\n",
    "        quantities, remainder = self.quantities()\n",
    "        \n",
    "        # Gather operations that can be performed\n",
    "\n",
    "        actions = [i for i in self.operators.values() if i not in ['(', ')']]\n",
    "\n",
    "        # Locate the values from the user input\n",
    "        \n",
    "        value_indxs = []\n",
    "        for q in quantities:\n",
    "            indices = [i for i in range(q[0], q[0]+abs(q[1]-q[0]))]\n",
    "            v_indices = [i for i in indices if self.input[i] not in self.operators.values()]\n",
    "            value_indxs.append(v_indices)\n",
    "        \n",
    "        # Remove repeat indices\n",
    "        \n",
    "        for n, sublist in enumerate(value_indxs):\n",
    "            for r in range(n+1, len(value_indxs)):\n",
    "                delta = set(value_indxs[r]) - set(value_indxs[n])\n",
    "                value_indxs[r] = list(delta)\n",
    "                \n",
    "        # Prepend values not part of a quantity\n",
    "        \n",
    "        remaining = []\n",
    "        for ele in remainder:\n",
    "            if self.input[ele] in self.operators.values():\n",
    "                pass\n",
    "            else:\n",
    "                remaining.append(ele)\n",
    "\n",
    "        value_indxs.append(remaining)\n",
    "                \n",
    "        # Compute quantity values            \n",
    "        \n",
    "        q_results = []\n",
    "        for n, q in enumerate(value_indxs):\n",
    "            if len(q) > 1:\n",
    "                for i in range(q[0], q[0]+abs(q[0]-q[1])):\n",
    "                    char = self.input[i]\n",
    "                    if char in actions:\n",
    "\n",
    "                        # Call the function\n",
    "\n",
    "                        function_name = k[v.index(self.input[i])]\n",
    "\n",
    "                        if len(value_indxs[n]) > 1:\n",
    "                            quantity_result = self.call(function_name, float(self.input[value_indxs[n][0]]), float(self.input[value_indxs[n][1]]))\n",
    "                            q_results.append(quantity_result)\n",
    "            else:\n",
    "                for i in q:\n",
    "                    q_results.append(float(self.input[i]))\n",
    "                        \n",
    "        # Now that we have the quantity results, we need to know the operators between all quantities and then execute those operations\n",
    "        # We do this by going to operator log and if the index is within the span of a quantity it is ignored, otherwise it is counted\n",
    "        \n",
    "        o = list(zip(self.operation_log, self.operation_indices))\n",
    "        \n",
    "        # Ensure that none of the expected indices of operators are in the range of quantities\n",
    "        \n",
    "        not_allowed = []\n",
    "        for span in value_indxs:\n",
    "            if len(span) > 1:\n",
    "                for op in o:\n",
    "                    if op[1] in range(span[0], span[1]):\n",
    "                        not_allowed.append(op[1])\n",
    "        \n",
    "        final_operations = []\n",
    "        for op in o:\n",
    "            if op[1] not in not_allowed and op[0] in actions:\n",
    "                final_operations.append(op)\n",
    "                \n",
    "        # Check that the final number of operations is n-1 of the final quantities\n",
    "        \n",
    "        if len(q_results) != len(final_operations)-1:\n",
    "            pass\n",
    "        else:\n",
    "            raise ValueError('Final number of operations is not 1 less than quantity results.')\n",
    "        \n",
    "        # Perform the final operations to acquire the result\n",
    "        \n",
    "        final_result = 0\n",
    "        for n, f in enumerate(final_operations):\n",
    "\n",
    "            function_name = k[v.index(f[0])]\n",
    "            \n",
    "            if len(q_results) > 1:\n",
    "                if n == 0:\n",
    "                    final_result += self.call(function_name, q_results[n], q_results[n+1])\n",
    "                else:\n",
    "                    final_result = self.call(function_name, final_result, q_results[n+1])\n",
    "           \n",
    "            # We have not handled inputs that do not include quantities here which we will address with unit testing \n",
    "\n",
    "        return final_result\n",
    "    \n",
    "    @staticmethod\n",
    "    def add(a, b):\n",
    "        return a+b\n",
    "    \n",
    "    def subtract(self, a, b):\n",
    "        return a-b\n",
    "    \n",
    "    def multiply(self, a, b):\n",
    "        return a*b\n",
    "    \n",
    "    def divide(self, a, b):\n",
    "        return a/b\n",
    "    \n",
    "    def square(self, a, b):\n",
    "        return a**2\n",
    "    \n",
    "    def power(self, a, b):\n",
    "        return a**b\n",
    "    \n",
    "    def clear(self):\n",
    "        self.value_log = []\n",
    "        self.operation_log = []\n",
    "        self.current_value = 0"
   ]
  },
  {
   "cell_type": "code",
   "execution_count": 26,
   "id": "7f679969",
   "metadata": {},
   "outputs": [
    {
     "name": "stdout",
     "output_type": "stream",
     "text": [
      "9.0\n"
     ]
    }
   ],
   "source": [
    "c = Calculator('1+(2+2+(2+2))')\n",
    "c.scan()\n",
    "result = c.calculate()\n",
    "print(result)"
   ]
  },
  {
   "cell_type": "markdown",
   "id": "19ab6cca",
   "metadata": {},
   "source": [
    "We seem to get the desired result in our single test case. Now we:\n",
    "\n",
    "1. Test the code using various test cases (i.e. what happens when a user enters letters?)\n",
    "2. Modify the class perhaps by adding a new method or changing syntax\n",
    "3. Test the code again using the unittest case we developed.\n",
    "\n",
    "This way we enable rapid testing and assurance that we have a rubric to follow to ensure our code works as we continue to work on it"
   ]
  },
  {
   "cell_type": "markdown",
   "id": "f522640c",
   "metadata": {},
   "source": [
    "We want to first generate a class that will test our Calculator class:"
   ]
  },
  {
   "cell_type": "code",
   "execution_count": 27,
   "id": "9ff78baa",
   "metadata": {},
   "outputs": [],
   "source": [
    "import unittest\n",
    "\n",
    "class Test(unittest.TestCase):\n",
    "    '''Class for unit testing Calculator'''\n",
    "    \n",
    "    def test_add(self): # \"test_\" is the required prefix for the base class 'TestCase'\n",
    "        self.assertEqual(Calculator.add(-1, 1), 0)\n",
    "        self.assertEqual(Calculator.add(1, 1), 0)"
   ]
  },
  {
   "cell_type": "code",
   "execution_count": 28,
   "id": "4958ca04",
   "metadata": {},
   "outputs": [
    {
     "ename": "AssertionError",
     "evalue": "2 != 0",
     "output_type": "error",
     "traceback": [
      "\u001b[0;31m---------------------------------------------------------------------------\u001b[0m",
      "\u001b[0;31mAssertionError\u001b[0m                            Traceback (most recent call last)",
      "Input \u001b[0;32mIn [28]\u001b[0m, in \u001b[0;36m<cell line: 1>\u001b[0;34m()\u001b[0m\n\u001b[0;32m----> 1\u001b[0m \u001b[43mTest\u001b[49m\u001b[43m(\u001b[49m\u001b[43m)\u001b[49m\u001b[38;5;241;43m.\u001b[39;49m\u001b[43mtest_add\u001b[49m\u001b[43m(\u001b[49m\u001b[43m)\u001b[49m\n",
      "Input \u001b[0;32mIn [27]\u001b[0m, in \u001b[0;36mTest.test_add\u001b[0;34m(self)\u001b[0m\n\u001b[1;32m      6\u001b[0m \u001b[38;5;28;01mdef\u001b[39;00m \u001b[38;5;21mtest_add\u001b[39m(\u001b[38;5;28mself\u001b[39m): \u001b[38;5;66;03m# \"test_\" is the required prefix for the base class 'TestCase'\u001b[39;00m\n\u001b[1;32m      7\u001b[0m     \u001b[38;5;28mself\u001b[39m\u001b[38;5;241m.\u001b[39massertEqual(Calculator\u001b[38;5;241m.\u001b[39madd(\u001b[38;5;241m-\u001b[39m\u001b[38;5;241m1\u001b[39m, \u001b[38;5;241m1\u001b[39m), \u001b[38;5;241m0\u001b[39m)\n\u001b[0;32m----> 8\u001b[0m     \u001b[38;5;28;43mself\u001b[39;49m\u001b[38;5;241;43m.\u001b[39;49m\u001b[43massertEqual\u001b[49m\u001b[43m(\u001b[49m\u001b[43mCalculator\u001b[49m\u001b[38;5;241;43m.\u001b[39;49m\u001b[43madd\u001b[49m\u001b[43m(\u001b[49m\u001b[38;5;241;43m1\u001b[39;49m\u001b[43m,\u001b[49m\u001b[43m \u001b[49m\u001b[38;5;241;43m1\u001b[39;49m\u001b[43m)\u001b[49m\u001b[43m,\u001b[49m\u001b[43m \u001b[49m\u001b[38;5;241;43m0\u001b[39;49m\u001b[43m)\u001b[49m\n",
      "File \u001b[0;32m~/opt/miniconda3/lib/python3.9/unittest/case.py:837\u001b[0m, in \u001b[0;36mTestCase.assertEqual\u001b[0;34m(self, first, second, msg)\u001b[0m\n\u001b[1;32m    833\u001b[0m \u001b[38;5;124;03m\"\"\"Fail if the two objects are unequal as determined by the '=='\u001b[39;00m\n\u001b[1;32m    834\u001b[0m \u001b[38;5;124;03m   operator.\u001b[39;00m\n\u001b[1;32m    835\u001b[0m \u001b[38;5;124;03m\"\"\"\u001b[39;00m\n\u001b[1;32m    836\u001b[0m assertion_func \u001b[38;5;241m=\u001b[39m \u001b[38;5;28mself\u001b[39m\u001b[38;5;241m.\u001b[39m_getAssertEqualityFunc(first, second)\n\u001b[0;32m--> 837\u001b[0m \u001b[43massertion_func\u001b[49m\u001b[43m(\u001b[49m\u001b[43mfirst\u001b[49m\u001b[43m,\u001b[49m\u001b[43m \u001b[49m\u001b[43msecond\u001b[49m\u001b[43m,\u001b[49m\u001b[43m \u001b[49m\u001b[43mmsg\u001b[49m\u001b[38;5;241;43m=\u001b[39;49m\u001b[43mmsg\u001b[49m\u001b[43m)\u001b[49m\n",
      "File \u001b[0;32m~/opt/miniconda3/lib/python3.9/unittest/case.py:830\u001b[0m, in \u001b[0;36mTestCase._baseAssertEqual\u001b[0;34m(self, first, second, msg)\u001b[0m\n\u001b[1;32m    828\u001b[0m standardMsg \u001b[38;5;241m=\u001b[39m \u001b[38;5;124m'\u001b[39m\u001b[38;5;132;01m%s\u001b[39;00m\u001b[38;5;124m != \u001b[39m\u001b[38;5;132;01m%s\u001b[39;00m\u001b[38;5;124m'\u001b[39m \u001b[38;5;241m%\u001b[39m _common_shorten_repr(first, second)\n\u001b[1;32m    829\u001b[0m msg \u001b[38;5;241m=\u001b[39m \u001b[38;5;28mself\u001b[39m\u001b[38;5;241m.\u001b[39m_formatMessage(msg, standardMsg)\n\u001b[0;32m--> 830\u001b[0m \u001b[38;5;28;01mraise\u001b[39;00m \u001b[38;5;28mself\u001b[39m\u001b[38;5;241m.\u001b[39mfailureException(msg)\n",
      "\u001b[0;31mAssertionError\u001b[0m: 2 != 0"
     ]
    }
   ],
   "source": [
    "Test().test_add()"
   ]
  },
  {
   "cell_type": "markdown",
   "id": "88d1c6c5",
   "metadata": {},
   "source": [
    "Directly calling the function from our TestCase class is one method for unit testing, but does not take full advantage of the unittest module.\\\n",
    "\n",
    "Once we inherit from unittest.TestCase, methods with the 'test_' prefix will update TestCase attributes associated with the unittest module. Working through the unittest can be automated (rather than calling each test method) using the 'main()' method of the unittest module."
   ]
  },
  {
   "cell_type": "code",
   "execution_count": 24,
   "id": "4ed79c75",
   "metadata": {},
   "outputs": [
    {
     "name": "stderr",
     "output_type": "stream",
     "text": [
      "E\n",
      "======================================================================\n",
      "ERROR: /Users/rdp135/Library/Jupyter/runtime/kernel-856bab1e-03be-4489-b6d8-e087cce79983 (unittest.loader._FailedTest)\n",
      "----------------------------------------------------------------------\n",
      "AttributeError: module '__main__' has no attribute '/Users/rdp135/Library/Jupyter/runtime/kernel-856bab1e-03be-4489-b6d8-e087cce79983'\n",
      "\n",
      "----------------------------------------------------------------------\n",
      "Ran 1 test in 0.011s\n",
      "\n",
      "FAILED (errors=1)\n"
     ]
    },
    {
     "ename": "SystemExit",
     "evalue": "True",
     "output_type": "error",
     "traceback": [
      "An exception has occurred, use %tb to see the full traceback.\n",
      "\u001b[0;31mSystemExit\u001b[0m\u001b[0;31m:\u001b[0m True\n"
     ]
    },
    {
     "name": "stderr",
     "output_type": "stream",
     "text": [
      "/Users/rdp135/opt/miniconda3/lib/python3.9/site-packages/IPython/core/interactiveshell.py:3377: UserWarning: To exit: use 'exit', 'quit', or Ctrl-D.\n",
      "  warn(\"To exit: use 'exit', 'quit', or Ctrl-D.\", stacklevel=1)\n"
     ]
    }
   ],
   "source": [
    "unittest.main()"
   ]
  },
  {
   "cell_type": "markdown",
   "id": "1c7d55e7",
   "metadata": {},
   "source": [
    "We now move to test the calculate() method which we know does not consider entries outside of quantities."
   ]
  },
  {
   "cell_type": "code",
   "execution_count": 95,
   "id": "49a150e6",
   "metadata": {},
   "outputs": [],
   "source": [
    "class TestCalculator(unittest.TestCase):\n",
    "    '''Class for unit testing our calculator'''\n",
    "    \n",
    "    def __init__(self):\n",
    "        super().__init__()\n",
    "        self.test_inputs = {'1+(2+2+(2+2))' : 'Nested Quantity Addition with Non-quantity',\n",
    "                            '(1+1)' : 'Single Quantity Addition',\n",
    "                            '1*1' : 'Non-quantity Multiplication'\n",
    "                           }\n",
    "        self.expected_results = (9.0, 2, 1.0)\n",
    "        if len(self.test_inputs) != len(self.expected_results):\n",
    "            raise ValueError('Test input definitions must match length of the expected results tuple')\n",
    "    \n",
    "    def test_calculate(self):\n",
    "        for n, i in enumerate(self.test_inputs):\n",
    "            print(self.test_inputs[i])\n",
    "            test = Calculator(i)\n",
    "            test.scan()\n",
    "            test_value = test.calculate()\n",
    "\n",
    "            self.assertEqual(float(test_value), float(self.expected_results[n]))"
   ]
  },
  {
   "cell_type": "code",
   "execution_count": 96,
   "id": "e301c09a",
   "metadata": {},
   "outputs": [
    {
     "name": "stdout",
     "output_type": "stream",
     "text": [
      "Nested Quantity Addition with Non-quantity\n",
      "Single Quantity Addition\n"
     ]
    },
    {
     "ename": "AssertionError",
     "evalue": "0.0 != 2.0",
     "output_type": "error",
     "traceback": [
      "\u001b[0;31m---------------------------------------------------------------------------\u001b[0m",
      "\u001b[0;31mAssertionError\u001b[0m                            Traceback (most recent call last)",
      "Input \u001b[0;32mIn [96]\u001b[0m, in \u001b[0;36m<cell line: 1>\u001b[0;34m()\u001b[0m\n\u001b[0;32m----> 1\u001b[0m \u001b[43mTestCalculator\u001b[49m\u001b[43m(\u001b[49m\u001b[43m)\u001b[49m\u001b[38;5;241;43m.\u001b[39;49m\u001b[43mtest_calculate\u001b[49m\u001b[43m(\u001b[49m\u001b[43m)\u001b[49m\n",
      "Input \u001b[0;32mIn [95]\u001b[0m, in \u001b[0;36mTestCalculator.test_calculate\u001b[0;34m(self)\u001b[0m\n\u001b[1;32m     18\u001b[0m test\u001b[38;5;241m.\u001b[39mscan()\n\u001b[1;32m     19\u001b[0m test_value \u001b[38;5;241m=\u001b[39m test\u001b[38;5;241m.\u001b[39mcalculate()\n\u001b[0;32m---> 21\u001b[0m \u001b[38;5;28;43mself\u001b[39;49m\u001b[38;5;241;43m.\u001b[39;49m\u001b[43massertEqual\u001b[49m\u001b[43m(\u001b[49m\u001b[38;5;28;43mfloat\u001b[39;49m\u001b[43m(\u001b[49m\u001b[43mtest_value\u001b[49m\u001b[43m)\u001b[49m\u001b[43m,\u001b[49m\u001b[43m \u001b[49m\u001b[38;5;28;43mfloat\u001b[39;49m\u001b[43m(\u001b[49m\u001b[38;5;28;43mself\u001b[39;49m\u001b[38;5;241;43m.\u001b[39;49m\u001b[43mexpected_results\u001b[49m\u001b[43m[\u001b[49m\u001b[43mn\u001b[49m\u001b[43m]\u001b[49m\u001b[43m)\u001b[49m\u001b[43m)\u001b[49m\n",
      "File \u001b[0;32m~/opt/miniconda3/lib/python3.9/unittest/case.py:837\u001b[0m, in \u001b[0;36mTestCase.assertEqual\u001b[0;34m(self, first, second, msg)\u001b[0m\n\u001b[1;32m    833\u001b[0m \u001b[38;5;124;03m\"\"\"Fail if the two objects are unequal as determined by the '=='\u001b[39;00m\n\u001b[1;32m    834\u001b[0m \u001b[38;5;124;03m   operator.\u001b[39;00m\n\u001b[1;32m    835\u001b[0m \u001b[38;5;124;03m\"\"\"\u001b[39;00m\n\u001b[1;32m    836\u001b[0m assertion_func \u001b[38;5;241m=\u001b[39m \u001b[38;5;28mself\u001b[39m\u001b[38;5;241m.\u001b[39m_getAssertEqualityFunc(first, second)\n\u001b[0;32m--> 837\u001b[0m \u001b[43massertion_func\u001b[49m\u001b[43m(\u001b[49m\u001b[43mfirst\u001b[49m\u001b[43m,\u001b[49m\u001b[43m \u001b[49m\u001b[43msecond\u001b[49m\u001b[43m,\u001b[49m\u001b[43m \u001b[49m\u001b[43mmsg\u001b[49m\u001b[38;5;241;43m=\u001b[39;49m\u001b[43mmsg\u001b[49m\u001b[43m)\u001b[49m\n",
      "File \u001b[0;32m~/opt/miniconda3/lib/python3.9/unittest/case.py:830\u001b[0m, in \u001b[0;36mTestCase._baseAssertEqual\u001b[0;34m(self, first, second, msg)\u001b[0m\n\u001b[1;32m    828\u001b[0m standardMsg \u001b[38;5;241m=\u001b[39m \u001b[38;5;124m'\u001b[39m\u001b[38;5;132;01m%s\u001b[39;00m\u001b[38;5;124m != \u001b[39m\u001b[38;5;132;01m%s\u001b[39;00m\u001b[38;5;124m'\u001b[39m \u001b[38;5;241m%\u001b[39m _common_shorten_repr(first, second)\n\u001b[1;32m    829\u001b[0m msg \u001b[38;5;241m=\u001b[39m \u001b[38;5;28mself\u001b[39m\u001b[38;5;241m.\u001b[39m_formatMessage(msg, standardMsg)\n\u001b[0;32m--> 830\u001b[0m \u001b[38;5;28;01mraise\u001b[39;00m \u001b[38;5;28mself\u001b[39m\u001b[38;5;241m.\u001b[39mfailureException(msg)\n",
      "\u001b[0;31mAssertionError\u001b[0m: 0.0 != 2.0"
     ]
    }
   ],
   "source": [
    "TestCalculator().test_calculate()"
   ]
  },
  {
   "cell_type": "markdown",
   "id": "e9d2e65d",
   "metadata": {},
   "source": [
    "From this simple test, we were able to identify that there is an error in the calculate() method when computing the expression that is representative of what we labeled as \"Single Quantity Addition\"."
   ]
  },
  {
   "cell_type": "markdown",
   "id": "a29ab400",
   "metadata": {},
   "source": [
    "One would need to ensure that, as they write their Test() class for unit testing their other classes / modules, that their tests are sufficiently written to capture (un)expected behavior. For writing more sophisticated tests, the documentation has lists and examples to work from which can be found at https://docs.python.org/3/library/unittest.html. "
   ]
  }
 ],
 "metadata": {
  "kernelspec": {
   "display_name": "Python 3 (ipykernel)",
   "language": "python",
   "name": "python3"
  },
  "language_info": {
   "codemirror_mode": {
    "name": "ipython",
    "version": 3
   },
   "file_extension": ".py",
   "mimetype": "text/x-python",
   "name": "python",
   "nbconvert_exporter": "python",
   "pygments_lexer": "ipython3",
   "version": "3.9.9"
  }
 },
 "nbformat": 4,
 "nbformat_minor": 5
}
