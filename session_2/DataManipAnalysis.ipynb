{
 "cells": [
  {
   "cell_type": "markdown",
   "id": "flying-screw",
   "metadata": {},
   "source": [
    "### Data Manipulation and Analysis with Python\n",
    "#### Robert Palmere, 2021\n",
    "#### Email: rdp135@chem.rutgers.edu\n",
    "--------------------------------------------------------------------\n",
    "#### Topics:\n",
    "1. Using Standard Python\n",
    "* Retrieving data from external sources\n",
    "* Altering data (e.g. normalization)\n",
    "* Data output\n",
    "\n",
    "####\n",
    "2. Using NumPy library\n",
    "* Retrieving data from external sources\n",
    "* Altering data (e.g. normalization)\n",
    "* Some Convenience functions of NumPy\n",
    "* Data output\n",
    "\n",
    "####\n",
    "3. Brief Use of Pandas library\n",
    "* Retrieving data from external sources\n",
    "* Organizing and Displaying data\n",
    "\n",
    "####\n",
    "4. Basic Applications of SymPy"
   ]
  },
  {
   "cell_type": "markdown",
   "id": "inclusive-logging",
   "metadata": {},
   "source": [
    "#### Standard Python Data Retrieval (touched on in Session 1):"
   ]
  },
  {
   "cell_type": "markdown",
   "id": "successful-water",
   "metadata": {},
   "source": [
    "##### First we will import data from a data set included with the \"sklearn\" package of Python.\n",
    "##### This is so that we have a data set to work with throughout the session.\n",
    "##### These data include attributes of benign and malignant breast cancer cell nuclei of patients in Wisconsin. \n",
    "More information on this data set can be found [Here](https://archive.ics.uci.edu/ml/datasets/Breast+Cancer+Wisconsin+(Diagnostic))."
   ]
  },
  {
   "cell_type": "code",
   "execution_count": null,
   "id": "published-administrator",
   "metadata": {},
   "outputs": [],
   "source": [
    "def generate_data():\n",
    "    from sklearn.datasets import load_breast_cancer # load in data from sklearn\n",
    "    X, y = load_breast_cancer(return_X_y=True)\n",
    "    avg_radius = X[:, 0]\n",
    "    avg_num_concaves = X[:, 7]\n",
    "    lines = list(zip(avg_radius.astype(str), avg_num_concaves.astype(str)))\n",
    "    lines = [' '.join(x) for x in lines]\n",
    "    with open('Data.txt', 'w') as fp:\n",
    "        fp.writelines('\\n'.join(lines))\n",
    "       \n",
    "generate_data()"
   ]
  },
  {
   "cell_type": "markdown",
   "id": "premium-religious",
   "metadata": {},
   "source": [
    "##### Now that we have working data in the \"Data.txt\" file let's move on to retrieving it using standard Python."
   ]
  },
  {
   "cell_type": "code",
   "execution_count": null,
   "id": "fresh-sampling",
   "metadata": {},
   "outputs": [],
   "source": [
    "data = open('Data.txt', 'r') # Open() function to returns a Wrapper class with functions to access contents of file using 'read' mode"
   ]
  },
  {
   "cell_type": "markdown",
   "id": "damaged-silver",
   "metadata": {},
   "source": [
    "##### We see that this is a file \"IO\" (in/out) wrapper data type (class)."
   ]
  },
  {
   "cell_type": "code",
   "execution_count": null,
   "id": "incoming-entertainment",
   "metadata": {},
   "outputs": [],
   "source": [
    "print(type(data))"
   ]
  },
  {
   "cell_type": "markdown",
   "id": "italian-headset",
   "metadata": {},
   "source": [
    "##### Let's display the functions contained within this class:"
   ]
  },
  {
   "cell_type": "code",
   "execution_count": null,
   "id": "indirect-property",
   "metadata": {},
   "outputs": [],
   "source": [
    "for method in dir(data): print(f\"'{method}'\", end=' ')"
   ]
  },
  {
   "cell_type": "markdown",
   "id": "premier-suspension",
   "metadata": {},
   "source": [
    "##### The 'readlines()' method seems like a reasonable choice to get our data."
   ]
  },
  {
   "cell_type": "code",
   "execution_count": null,
   "id": "amazing-greek",
   "metadata": {},
   "outputs": [],
   "source": [
    "import inspect\n",
    "print(inspect.signature(data.readlines))\n",
    "print(inspect.signature(open))"
   ]
  },
  {
   "cell_type": "markdown",
   "id": "pacific-providence",
   "metadata": {},
   "source": [
    "##### Seems not to take any arguments either. Let's try it."
   ]
  },
  {
   "cell_type": "code",
   "execution_count": null,
   "id": "grave-hartford",
   "metadata": {},
   "outputs": [],
   "source": [
    "lines = data.readlines()\n",
    "print(type(lines))\n",
    "print(repr(data.readlines)) # Not very useful here."
   ]
  },
  {
   "cell_type": "markdown",
   "id": "lonely-muslim",
   "metadata": {},
   "source": [
    "##### We see that data.readlines() returns a list of the lines within the file. Let's print the first 5 lines to make sure."
   ]
  },
  {
   "cell_type": "code",
   "execution_count": null,
   "id": "fatty-bhutan",
   "metadata": {},
   "outputs": [],
   "source": [
    "print(lines[0:5])"
   ]
  },
  {
   "cell_type": "markdown",
   "id": "delayed-morris",
   "metadata": {},
   "source": [
    "##### For analysis we want this data to be in numeric form (float) not string. We also want to remove '\\n'. Split() does this nicely as it defaults to splitting a list by white space."
   ]
  },
  {
   "cell_type": "code",
   "execution_count": null,
   "id": "hispanic-arbor",
   "metadata": {},
   "outputs": [],
   "source": [
    "for i in range(5): print(lines[i].split())"
   ]
  },
  {
   "cell_type": "markdown",
   "id": "roman-behavior",
   "metadata": {},
   "source": [
    "##### We can now use the map() function of Python to change each element of these lists to floats (Syntax map(func, iterable))."
   ]
  },
  {
   "cell_type": "code",
   "execution_count": null,
   "id": "varying-dancing",
   "metadata": {},
   "outputs": [],
   "source": [
    "for i in range(5): print(map(float, lines[i].split()))"
   ]
  },
  {
   "cell_type": "markdown",
   "id": "integrated-wallpaper",
   "metadata": {},
   "source": [
    "##### A map object is just an iterator."
   ]
  },
  {
   "cell_type": "code",
   "execution_count": null,
   "id": "flexible-crack",
   "metadata": {},
   "outputs": [],
   "source": [
    "iterator = map(float, ['1', '2', '3'])\n",
    "for i in iterator: print(i, end=' ')"
   ]
  },
  {
   "cell_type": "markdown",
   "id": "severe-assignment",
   "metadata": {},
   "source": [
    "##### To fix returning map objects we can just use the list() function to turn the map() returned iterator into a list."
   ]
  },
  {
   "cell_type": "code",
   "execution_count": null,
   "id": "proprietary-arlington",
   "metadata": {},
   "outputs": [],
   "source": [
    "for i in range(5): print(list(map(float, lines[i].split())))"
   ]
  },
  {
   "cell_type": "markdown",
   "id": "liberal-building",
   "metadata": {},
   "source": [
    "##### Now let's generate to lists (x, y) from the columns of our data."
   ]
  },
  {
   "cell_type": "code",
   "execution_count": null,
   "id": "hungarian-calcium",
   "metadata": {},
   "outputs": [],
   "source": [
    "avg_radius = []\n",
    "avg_concavities = []\n",
    "\n",
    "for line in lines: avg_radius.append(list(map(float, line.split()))[0]) ; avg_concavities.append(list(map(float, line.split()))[1])\n",
    "\n",
    "print(avg_radius[0:5])\n",
    "print(avg_concavities[0:5])"
   ]
  },
  {
   "cell_type": "markdown",
   "id": "suspended-spencer",
   "metadata": {},
   "source": [
    "##### We can do this with list comprehension as well."
   ]
  },
  {
   "cell_type": "code",
   "execution_count": null,
   "id": "greatest-mapping",
   "metadata": {},
   "outputs": [],
   "source": [
    "avg_radius = [list(map(float, line.split()))[0] for line in lines]\n",
    "avg_concavities = [list(map(float, line.split()))[1] for line in lines]\n",
    "\n",
    "print(avg_radius[0:5])\n",
    "print(avg_concavities[0:5])\n",
    "\n",
    "data.close()"
   ]
  },
  {
   "cell_type": "markdown",
   "id": "handmade-copyright",
   "metadata": {},
   "source": [
    "##### Now our data is ready for analysis and manipulation by other packages. We can place all of this code into a single method."
   ]
  },
  {
   "cell_type": "code",
   "execution_count": null,
   "id": "material-universal",
   "metadata": {},
   "outputs": [],
   "source": [
    "def retrieve_data(filename):\n",
    "    '''\n",
    "    params: 'filename' - file name containing space-separated data columns in string format\n",
    "    returns: the first two columns as lists\n",
    "    '''\n",
    "    file = open(filename, 'r')\n",
    "    lines = file.readlines()\n",
    "    xs = [list(map(float, line.split()))[0] for line in lines]\n",
    "    ys = [list(map(float, line.split()))[1] for line in lines]\n",
    "    file.close()\n",
    "    return xs, ys\n",
    "\n",
    "x, y = retrieve_data('Data.txt')\n",
    "print(x[0:5])\n",
    "print(y[0:5])"
   ]
  },
  {
   "cell_type": "markdown",
   "id": "legendary-aside",
   "metadata": {},
   "source": [
    "##### We can do some simple manipulations on this data. Say normalize the data such that it spans [0, 1] with the maximum value of the list being 1."
   ]
  },
  {
   "cell_type": "code",
   "execution_count": null,
   "id": "better-guard",
   "metadata": {},
   "outputs": [],
   "source": [
    "norm_x = [i/max(x) for i in x]\n",
    "norm_y = [i/max(y) for i in y]"
   ]
  },
  {
   "cell_type": "markdown",
   "id": "mighty-broad",
   "metadata": {},
   "source": [
    "##### Here are some other basic functionalities that we can implement on our data without external libraries."
   ]
  },
  {
   "cell_type": "code",
   "execution_count": null,
   "id": "connected-cream",
   "metadata": {},
   "outputs": [],
   "source": [
    "# Average\n",
    "def mean(i):\n",
    "    return sum(i)/len(i)\n",
    "\n",
    "avg_x = mean(x)\n",
    "avg_y = mean(y)\n",
    "print(avg_x, avg_y)"
   ]
  },
  {
   "cell_type": "code",
   "execution_count": null,
   "id": "fancy-brush",
   "metadata": {},
   "outputs": [],
   "source": [
    "# Standard Deviation\n",
    "def sqrt(value):\n",
    "    return value**(1/2)\n",
    "\n",
    "def std(i):\n",
    "    mean = sum(i)/len(i)\n",
    "    s = sum([((x - mean)**2) for x in i])\n",
    "    return sqrt(s/len(i))\n",
    "\n",
    "print(std(x), std(y))"
   ]
  },
  {
   "cell_type": "code",
   "execution_count": null,
   "id": "hungry-polls",
   "metadata": {},
   "outputs": [],
   "source": [
    "# Sum\n",
    "sum_x = sum(x)\n",
    "sum_y = sum(y)\n",
    "print(sum_x, sum_y)"
   ]
  },
  {
   "cell_type": "code",
   "execution_count": null,
   "id": "therapeutic-windsor",
   "metadata": {},
   "outputs": [],
   "source": [
    "# Max / Min\n",
    "x_max = max(x)\n",
    "x_min = min(x)\n",
    "print(x_max, x_min)"
   ]
  },
  {
   "cell_type": "code",
   "execution_count": null,
   "id": "moderate-feedback",
   "metadata": {},
   "outputs": [],
   "source": [
    "# Index where Max / Min found - since x, y are lists we can use the index method\n",
    "\n",
    "min_indx = x.index(x_min)\n",
    "max_indx = x.index(x_max)\n",
    "print(min_indx, max_indx)\n",
    "print(x[min_indx], x[max_indx])"
   ]
  },
  {
   "cell_type": "markdown",
   "id": "indoor-exhaust",
   "metadata": {},
   "source": [
    "##### Say after we normalize the data such that the max value of each list is equal to 1 that we want to write a file with this output."
   ]
  },
  {
   "cell_type": "code",
   "execution_count": null,
   "id": "endless-weather",
   "metadata": {},
   "outputs": [],
   "source": [
    "def output_normalized(x_norm, y_norm):\n",
    "    '''\n",
    "    Function to write normalized x, y data to text file in cwd\n",
    "    params:\n",
    "        x_norm - list of normalized x values\n",
    "        y_norm - list of noramlized y values\n",
    "    '''\n",
    "    lines = list(zip(list(map(str, x_norm)), list(map(str, y_norm))))\n",
    "    lines = [' '.join(x) for x in lines]\n",
    "    with open('Output.txt', 'w') as fp:\n",
    "        fp.writelines('\\n'.join(lines))\n",
    "        \n",
    "output_normalized(norm_x, norm_y)"
   ]
  },
  {
   "cell_type": "markdown",
   "id": "placed-resistance",
   "metadata": {},
   "source": [
    "#### NumPy"
   ]
  },
  {
   "cell_type": "markdown",
   "id": "molecular-coordination",
   "metadata": {},
   "source": [
    "##### We can do the same types of things with the conveniently pre-written functions in the NumPy library."
   ]
  },
  {
   "cell_type": "markdown",
   "id": "subtle-vitamin",
   "metadata": {},
   "source": [
    "##### So why not just stay using the original instead of NumPy? NumPy is faster for the most part."
   ]
  },
  {
   "cell_type": "code",
   "execution_count": null,
   "id": "removed-collapse",
   "metadata": {},
   "outputs": [],
   "source": [
    "import numpy as np\n",
    "from timeit import default_timer as timer\n",
    "\n",
    "def speedtest(key, length):\n",
    "    d = {'array' : np.array([x for x in range(length)]),\n",
    "         'list' : [x for x in range(length)]}\n",
    "    time = []\n",
    "    if key == list(d.keys())[0]:\n",
    "        for i in range(10000):\n",
    "            start = timer()\n",
    "\n",
    "            mult = d['array'] * d['array']\n",
    "\n",
    "            end = timer()\n",
    "            dt = end - start\n",
    "            time.append(dt)\n",
    "    elif key == list(d.keys())[1]:\n",
    "        for i in range(10000):\n",
    "            start = timer()\n",
    "\n",
    "            for n, i in enumerate(d['list']):\n",
    "                mult = d['list'][n] * d['list'][n]\n",
    "\n",
    "            end = timer()\n",
    "            dt = end - start\n",
    "            time.append(dt)\n",
    "    return time\n",
    "\n",
    "t = speedtest('list', 1000)\n",
    "t2 = speedtest('array', 1000)\n",
    "\n",
    "import matplotlib.pyplot as plt\n",
    "plt.plot(t)\n",
    "plt.plot(t2)\n",
    "plt.ylabel('Time (s)')\n",
    "plt.xlabel('Iteration')\n",
    "plt.text(400, np.max(t)/2, s=\"Numpy is a lot faster.\");"
   ]
  },
  {
   "cell_type": "markdown",
   "id": "dirty-budget",
   "metadata": {},
   "source": [
    "##### Why is this though? -- In this case, numpy arrays don't have to multiply indices individually as one would have to using a list."
   ]
  },
  {
   "cell_type": "markdown",
   "id": "ordinary-junior",
   "metadata": {},
   "source": [
    "However, this really only pertains to large arrays."
   ]
  },
  {
   "cell_type": "code",
   "execution_count": null,
   "id": "processed-salem",
   "metadata": {},
   "outputs": [],
   "source": [
    "test1 = [1, 2, 3, 4, 5, 6, 7, 8, 9, 10]\n",
    "test2 = np.asarray([1, 2, 3, 4, 5, 6, 7, 8, 9, 10])\n",
    "\n",
    "t = speedtest('list', 3)\n",
    "t2 = speedtest('array', 3)\n",
    "plt.plot(t)\n",
    "plt.plot(t2)\n",
    "plt.ylabel('Time (s)')\n",
    "plt.xlabel('Iteration')\n",
    "plt.text(400, np.max(t)/2, s=\"Now it's not so clear\");"
   ]
  },
  {
   "cell_type": "code",
   "execution_count": null,
   "id": "reduced-contest",
   "metadata": {},
   "outputs": [],
   "source": [
    "f = 'Data.txt'\n",
    "data = np.loadtxt(f)\n",
    "print(type(data))"
   ]
  },
  {
   "cell_type": "code",
   "execution_count": null,
   "id": "downtown-fellow",
   "metadata": {},
   "outputs": [],
   "source": [
    "for method in dir(data):  print(f\"'{method}'\", end=' ')"
   ]
  },
  {
   "cell_type": "markdown",
   "id": "falling-representative",
   "metadata": {},
   "source": [
    "##### Other ways to retrieve data from a file using NumPy:"
   ]
  },
  {
   "cell_type": "code",
   "execution_count": null,
   "id": "protecting-designer",
   "metadata": {},
   "outputs": [],
   "source": [
    "np.genfromtxt(f) # Better for incomplete CSVs etc with function keyword options such as \"filling_values=\""
   ]
  },
  {
   "cell_type": "markdown",
   "id": "interim-growth",
   "metadata": {},
   "source": [
    "##### We can see that the methods we wrote in standard Python are available for a NumPy array."
   ]
  },
  {
   "cell_type": "code",
   "execution_count": null,
   "id": "better-disability",
   "metadata": {},
   "outputs": [],
   "source": [
    "data.shape # The shape of the matrix (569 rows with 2 columns)"
   ]
  },
  {
   "cell_type": "markdown",
   "id": "verified-sperm",
   "metadata": {},
   "source": [
    "##### We can use usual slicing methods to define x and y."
   ]
  },
  {
   "cell_type": "code",
   "execution_count": null,
   "id": "reliable-courtesy",
   "metadata": {},
   "outputs": [],
   "source": [
    "x = np.asarray(data[:, 0])\n",
    "y = np.asarray(data[:, 1]) # We use np.asarray() to convert from list back to 1D NumPy array\n",
    "print(type(x))\n",
    "print(x[0:5])"
   ]
  },
  {
   "cell_type": "markdown",
   "id": "distant-blair",
   "metadata": {},
   "source": [
    "##### Now using NumPy let's manipulate the data sets as we did above. Notice NumPy did the data cleaning for us."
   ]
  },
  {
   "cell_type": "code",
   "execution_count": null,
   "id": "dramatic-roman",
   "metadata": {},
   "outputs": [],
   "source": [
    "# Averages\n",
    "\n",
    "x_avg = np.mean(x)\n",
    "y_avg = np.mean(y)\n",
    "print(x_avg, y_avg)"
   ]
  },
  {
   "cell_type": "code",
   "execution_count": null,
   "id": "recent-senator",
   "metadata": {},
   "outputs": [],
   "source": [
    "# Sqrt\n",
    "np.sqrt(2)"
   ]
  },
  {
   "cell_type": "code",
   "execution_count": null,
   "id": "exclusive-mercury",
   "metadata": {},
   "outputs": [],
   "source": [
    "# Standard Dev.\n",
    "np.std(x)"
   ]
  },
  {
   "cell_type": "code",
   "execution_count": null,
   "id": "removable-cycle",
   "metadata": {},
   "outputs": [],
   "source": [
    "# Sums\n",
    "x.sum() # or\n",
    "np.sum(x)"
   ]
  },
  {
   "cell_type": "code",
   "execution_count": null,
   "id": "vocal-equity",
   "metadata": {},
   "outputs": [],
   "source": [
    "xnorm = x/np.max(x) # Note that / operation carried out for each element of the np.array\n",
    "\n",
    "# Can also use NumPy functions for these mathematical operations\n",
    "\n",
    "test = np.divide(x, np.max(x))\n",
    "np.any(test == xnorm)"
   ]
  },
  {
   "cell_type": "markdown",
   "id": "documented-simple",
   "metadata": {},
   "source": [
    "##### We can find out what np.any() is doing here from its __doc__ string special method.\n",
    "##### The Python interpreter automatically sets the first string literal as what __doc__ of a class or method returns."
   ]
  },
  {
   "cell_type": "code",
   "execution_count": null,
   "id": "domestic-updating",
   "metadata": {},
   "outputs": [],
   "source": [
    "def example():\n",
    "    '''Super helpful doc string.'''\n",
    "\n",
    "example.__doc__\n",
    "\n",
    "def doc(func):\n",
    "    if callable(func):\n",
    "        return func.__doc__\n",
    "    else:\n",
    "        raise ValueError('Argument must be a function.')"
   ]
  },
  {
   "cell_type": "code",
   "execution_count": null,
   "id": "temporal-newcastle",
   "metadata": {},
   "outputs": [],
   "source": [
    "doc(example) # Our function works"
   ]
  },
  {
   "cell_type": "code",
   "execution_count": null,
   "id": "naughty-dryer",
   "metadata": {},
   "outputs": [],
   "source": [
    "doc(x) # If the argument is not callable (e.g. doesn't have __call__ method) -- All functions have __call__"
   ]
  },
  {
   "cell_type": "code",
   "execution_count": null,
   "id": "informative-bedroom",
   "metadata": {},
   "outputs": [],
   "source": [
    "print(type(example))"
   ]
  },
  {
   "cell_type": "code",
   "execution_count": null,
   "id": "useful-checklist",
   "metadata": {},
   "outputs": [],
   "source": [
    "print(np.any.__doc__) "
   ]
  },
  {
   "cell_type": "markdown",
   "id": "emerging-links",
   "metadata": {},
   "source": [
    "##### In fact, conditionals apply element-wise for np.arrays"
   ]
  },
  {
   "cell_type": "code",
   "execution_count": null,
   "id": "informal-actor",
   "metadata": {},
   "outputs": [],
   "source": [
    "t1 = np.asarray([[1, 2], [3, 4]])\n",
    "t2 = np.asarray([[5, 6], [7, 8]])\n",
    "\n",
    "t2 > t1 # Elements of t2 which have equivalent indices with t1 are greater"
   ]
  },
  {
   "cell_type": "markdown",
   "id": "weekly-enemy",
   "metadata": {},
   "source": [
    "#### Convenience Functions"
   ]
  },
  {
   "cell_type": "code",
   "execution_count": null,
   "id": "brutal-whale",
   "metadata": {},
   "outputs": [],
   "source": [
    "a = np.array([1, 2, 3, 4, 5, 6])\n",
    "a.reshape(2, 3) # Two rows three columns"
   ]
  },
  {
   "cell_type": "code",
   "execution_count": null,
   "id": "fatal-gregory",
   "metadata": {},
   "outputs": [],
   "source": [
    "# We can try to restore the array using reshape, but notice that the array is not flattened\n",
    "print(a.reshape(1, a.size))"
   ]
  },
  {
   "cell_type": "code",
   "execution_count": null,
   "id": "absent-static",
   "metadata": {},
   "outputs": [],
   "source": [
    "# Ravel will flatten the array into a single 1D array\n",
    "a = a.ravel()\n",
    "print(a)"
   ]
  },
  {
   "cell_type": "code",
   "execution_count": null,
   "id": "noticed-label",
   "metadata": {},
   "outputs": [],
   "source": [
    "np.zeros(3) # Null matrix"
   ]
  },
  {
   "cell_type": "code",
   "execution_count": null,
   "id": "latest-ocean",
   "metadata": {},
   "outputs": [],
   "source": [
    "np.ones(3) # All-ones matrix"
   ]
  },
  {
   "cell_type": "code",
   "execution_count": null,
   "id": "documentary-madness",
   "metadata": {},
   "outputs": [],
   "source": [
    "id_mat = np.identity(3) # Identity Matrix\n",
    "print(id_mat)"
   ]
  },
  {
   "cell_type": "code",
   "execution_count": null,
   "id": "presidential-diameter",
   "metadata": {},
   "outputs": [],
   "source": [
    "np.trace(id_mat) # Trace (sum along the i=j elements of matrix)"
   ]
  },
  {
   "cell_type": "code",
   "execution_count": null,
   "id": "civic-legend",
   "metadata": {},
   "outputs": [],
   "source": [
    "n1 = np.array([0, 0, 0])\n",
    "n2 = np.array([1, 1, 1])\n",
    "print(np.vstack((n1, n2))) # stack arrays vertically\n",
    "print(np.hstack((n1, n2))) # stack arrays horizontally"
   ]
  },
  {
   "cell_type": "code",
   "execution_count": null,
   "id": "lovely-arbor",
   "metadata": {},
   "outputs": [],
   "source": [
    "tiled = np.tile(n1, (3, 3)) # we can \"tile\" or repeat an array over (i,j) iterations\n",
    "print(tiled)\n",
    "print(tiled.size)"
   ]
  },
  {
   "cell_type": "code",
   "execution_count": null,
   "id": "studied-powell",
   "metadata": {},
   "outputs": [],
   "source": [
    "new_tiled = np.insert(tiled, 5, 1)\n",
    "print(new_tiled)\n",
    "print(new_tiled.shape)\n",
    "new_tiled = np.delete(new_tiled, 0) # Delete element index 0\n",
    "print(new_tiled.shape)"
   ]
  },
  {
   "cell_type": "code",
   "execution_count": null,
   "id": "constitutional-hardwood",
   "metadata": {},
   "outputs": [],
   "source": [
    "new_tiled.reshape(3, 9)"
   ]
  },
  {
   "cell_type": "code",
   "execution_count": null,
   "id": "regulation-lesson",
   "metadata": {},
   "outputs": [],
   "source": [
    "print(new_tiled) # doesn't affect original array"
   ]
  },
  {
   "cell_type": "code",
   "execution_count": null,
   "id": "covered-jonathan",
   "metadata": {},
   "outputs": [],
   "source": [
    "np.hsplit(new_tiled, 3) # Similar to reshape() but generates a list of arrays one for each row"
   ]
  },
  {
   "cell_type": "code",
   "execution_count": null,
   "id": "homeless-signature",
   "metadata": {},
   "outputs": [],
   "source": [
    "print(new_tiled[4])\n",
    "print(np.roll(new_tiled, 1)[5]) # roll shifts values of set axis over by 1\n",
    "print(new_tiled)\n",
    "print(np.roll(new_tiled, 1)) # useful for periodic boundary conditions"
   ]
  },
  {
   "cell_type": "code",
   "execution_count": null,
   "id": "absent-joshua",
   "metadata": {},
   "outputs": [],
   "source": [
    "new_tiled.fill(0) # affects original array to set all elements to zero\n",
    "print(new_tiled)"
   ]
  },
  {
   "cell_type": "code",
   "execution_count": null,
   "id": "funded-think",
   "metadata": {},
   "outputs": [],
   "source": [
    "np.random.rand(1, 3) # Random floats on interval [0, 1]"
   ]
  },
  {
   "cell_type": "code",
   "execution_count": null,
   "id": "established-hunger",
   "metadata": {},
   "outputs": [],
   "source": [
    "np.arange(0, 10.1, .1, dtype=float) # advantage over range() - can use other types (Syntax: [start, stop, step])"
   ]
  },
  {
   "cell_type": "code",
   "execution_count": null,
   "id": "biological-brooks",
   "metadata": {},
   "outputs": [],
   "source": [
    "range(0, 10.1, .1) # Range can't handle non-integers"
   ]
  },
  {
   "cell_type": "code",
   "execution_count": null,
   "id": "thirty-blend",
   "metadata": {},
   "outputs": [],
   "source": [
    "ex = np.asarray([['Human', 'Gorilla', 'Chimpanzee'], [60, 70, 80]])\n",
    "print(ex)"
   ]
  },
  {
   "cell_type": "code",
   "execution_count": null,
   "id": "twelve-chancellor",
   "metadata": {},
   "outputs": [],
   "source": [
    "print(np.sort(ex, axis=1)) # axis = 1 is the x-axis in numpy\n",
    "\n",
    "# Notice that although first row is sorted, the corresponding values have not?"
   ]
  },
  {
   "cell_type": "code",
   "execution_count": null,
   "id": "fancy-backing",
   "metadata": {},
   "outputs": [],
   "source": [
    "indxs = np.argsort(ex[0, :]) # return the indices after sorting and then apply to the original array\n",
    "print(indxs)"
   ]
  },
  {
   "cell_type": "code",
   "execution_count": null,
   "id": "authentic-macintosh",
   "metadata": {},
   "outputs": [],
   "source": [
    "ex = ex[:, indxs]\n",
    "print(ex) # Sorted by alphabetical"
   ]
  },
  {
   "cell_type": "markdown",
   "id": "historic-nursery",
   "metadata": {},
   "source": [
    "##### Output with NumPy"
   ]
  },
  {
   "cell_type": "code",
   "execution_count": null,
   "id": "devoted-macro",
   "metadata": {},
   "outputs": [],
   "source": [
    "np.savetxt('numpy_output.txt', ex, fmt='%s', delimiter=' ')"
   ]
  },
  {
   "cell_type": "code",
   "execution_count": null,
   "id": "rolled-maine",
   "metadata": {},
   "outputs": [],
   "source": [
    "ex.tofile('numpy_output.txt', sep=' ')"
   ]
  },
  {
   "cell_type": "markdown",
   "id": "fleet-america",
   "metadata": {},
   "source": [
    "There are many more function that are not covered here."
   ]
  },
  {
   "cell_type": "markdown",
   "id": "italian-training",
   "metadata": {},
   "source": [
    "#### Pandas Library"
   ]
  },
  {
   "cell_type": "code",
   "execution_count": null,
   "id": "latest-liechtenstein",
   "metadata": {},
   "outputs": [],
   "source": [
    "import pandas as pd"
   ]
  },
  {
   "cell_type": "code",
   "execution_count": null,
   "id": "neither-zambia",
   "metadata": {},
   "outputs": [],
   "source": [
    "# pd.read_fwf() \"Fixed width formatted\"\n",
    "data = pd.read_fwf('Data.txt', header=None)\n",
    "print(type(data)) # Stores as data frame object"
   ]
  },
  {
   "cell_type": "code",
   "execution_count": null,
   "id": "honey-infrastructure",
   "metadata": {},
   "outputs": [],
   "source": [
    "data = pd.read_csv('Data.txt', sep=\" \", header=None)\n",
    "print(type(data)) # Stores as data frame object\n",
    "print(data)"
   ]
  },
  {
   "cell_type": "code",
   "execution_count": null,
   "id": "separated-conditioning",
   "metadata": {},
   "outputs": [],
   "source": [
    "data = data.rename(columns={0: \"Average Radius\", 1: \"Average # Concavities\"})\n",
    "print(data)"
   ]
  },
  {
   "cell_type": "code",
   "execution_count": null,
   "id": "composite-essay",
   "metadata": {},
   "outputs": [],
   "source": [
    "data.head() # First 5 entries "
   ]
  },
  {
   "cell_type": "code",
   "execution_count": null,
   "id": "enormous-camera",
   "metadata": {},
   "outputs": [],
   "source": [
    "data.tail() # Last 5 entries"
   ]
  },
  {
   "cell_type": "code",
   "execution_count": null,
   "id": "chemical-balloon",
   "metadata": {},
   "outputs": [],
   "source": [
    "data.info() # General information about the df"
   ]
  },
  {
   "cell_type": "code",
   "execution_count": null,
   "id": "sensitive-bridal",
   "metadata": {},
   "outputs": [],
   "source": [
    "data['Average Radius'] # We can select data columns using keywords"
   ]
  },
  {
   "cell_type": "code",
   "execution_count": null,
   "id": "marked-spirit",
   "metadata": {},
   "outputs": [],
   "source": [
    "type(data['Average Radius'].array) # some NumPy functionalities included in Pandas"
   ]
  },
  {
   "cell_type": "code",
   "execution_count": null,
   "id": "reasonable-review",
   "metadata": {},
   "outputs": [],
   "source": [
    "np.asarray(data['Average Radius']).sum() # Ex"
   ]
  },
  {
   "cell_type": "code",
   "execution_count": null,
   "id": "comic-metabolism",
   "metadata": {},
   "outputs": [],
   "source": [
    "data['Average Radius'].sum()"
   ]
  },
  {
   "cell_type": "markdown",
   "id": "listed-marks",
   "metadata": {},
   "source": [
    "#### Basic SymPy - Symbolic Computation in Python"
   ]
  },
  {
   "cell_type": "code",
   "execution_count": null,
   "id": "informed-wedding",
   "metadata": {},
   "outputs": [],
   "source": [
    "from sympy import *"
   ]
  },
  {
   "cell_type": "code",
   "execution_count": null,
   "id": "muslim-exhibit",
   "metadata": {},
   "outputs": [],
   "source": [
    "x, y, t = symbols('x y t')\n",
    "print(x, y, t)"
   ]
  },
  {
   "cell_type": "code",
   "execution_count": null,
   "id": "union-interstate",
   "metadata": {},
   "outputs": [],
   "source": [
    "diff(sin(x))"
   ]
  },
  {
   "cell_type": "code",
   "execution_count": null,
   "id": "persistent-exclusion",
   "metadata": {},
   "outputs": [],
   "source": [
    "x**2"
   ]
  },
  {
   "cell_type": "code",
   "execution_count": null,
   "id": "religious-prize",
   "metadata": {},
   "outputs": [],
   "source": [
    "diff(x**2)"
   ]
  },
  {
   "cell_type": "code",
   "execution_count": null,
   "id": "prerequisite-cambridge",
   "metadata": {},
   "outputs": [],
   "source": [
    "integrate(sin(x)) # Analytical "
   ]
  },
  {
   "cell_type": "code",
   "execution_count": null,
   "id": "light-fabric",
   "metadata": {},
   "outputs": [],
   "source": [
    "integrate(sin(x), (x, pi/2, pi)) # Definite"
   ]
  },
  {
   "cell_type": "code",
   "execution_count": null,
   "id": "undefined-angel",
   "metadata": {},
   "outputs": [],
   "source": [
    "limit(sin(x), x, pi/2) # Limits"
   ]
  },
  {
   "cell_type": "code",
   "execution_count": null,
   "id": "amino-government",
   "metadata": {},
   "outputs": [],
   "source": [
    "y = Function('y')\n",
    "print(y)"
   ]
  },
  {
   "cell_type": "markdown",
   "id": "latin-barrier",
   "metadata": {},
   "source": [
    "Solve the differential equation 𝑦″−𝑦=𝑒^𝑡"
   ]
  },
  {
   "cell_type": "code",
   "execution_count": null,
   "id": "together-pregnancy",
   "metadata": {},
   "outputs": [],
   "source": [
    "dsolve(Eq(y(t).diff(t, t) - y(t), exp(t)), y(t)) # required variable as 't'"
   ]
  },
  {
   "cell_type": "markdown",
   "id": "governing-arlington",
   "metadata": {},
   "source": [
    "Let's plot the results just to see what our solution looks like (we will go over plotting in more detail a future session)."
   ]
  },
  {
   "cell_type": "code",
   "execution_count": null,
   "id": "endless-employment",
   "metadata": {},
   "outputs": [],
   "source": [
    "import matplotlib.pyplot as plt\n",
    "import numpy as np\n",
    "\n",
    "def y(ts, c1, c2): # set c1, c2 = 1\n",
    "    return c2*np.exp(-t)+(c1+t/2)*np.exp(t)\n",
    "\n",
    "t = np.linspace(0, 10, 10)\n",
    "\n",
    "for i in range(10):\n",
    "    for j in range(10):\n",
    "        plt.plot(t, y(t, i, j))\n",
    "\n",
    "plt.show() # The rate changes as a function of c1, c2"
   ]
  },
  {
   "cell_type": "code",
   "execution_count": null,
   "id": "described-hundred",
   "metadata": {},
   "outputs": [],
   "source": [
    "factor(x**3 + x**2 + x + 1)"
   ]
  },
  {
   "cell_type": "markdown",
   "id": "friendly-effect",
   "metadata": {},
   "source": [
    "#### Applications to Chemical Systems\n",
    "\n",
    "##### **1.) Balancing Chemical Equations**"
   ]
  },
  {
   "cell_type": "markdown",
   "id": "earlier-conversion",
   "metadata": {},
   "source": [
    "Balancing chemical equations by hand is discussed during introductory chemistry classes. Let's write a function using SymPy to do the work for us. We will generate a matrix of coefficients for each atom and then convert the matrix to reduced row echelon form (RREF) for our answer."
   ]
  },
  {
   "cell_type": "markdown",
   "id": "encouraging-sailing",
   "metadata": {},
   "source": [
    "C<sub>3</sub>H<sub>8</sub> + O<sub>2</sub> &#8594; CO<sub>2</sub> + H<sub>2</sub>O"
   ]
  },
  {
   "cell_type": "markdown",
   "id": "lyric-texture",
   "metadata": {},
   "source": [
    "We want to balance the combustion equation for propane. The matrix for this system by element is:"
   ]
  },
  {
   "cell_type": "code",
   "execution_count": null,
   "id": "greater-hormone",
   "metadata": {},
   "outputs": [],
   "source": [
    "from sympy import *\n",
    "import numpy as np\n",
    "Matrix([['a', 'b', 'c', 'd'], [3, 0, -1, 0], [8, 0, 0, -2], [0, 2, -2, -1]])"
   ]
  },
  {
   "cell_type": "markdown",
   "id": "postal-repeat",
   "metadata": {},
   "source": [
    "Here a, b, c, and d are our desired coefficients in front of each chemical."
   ]
  },
  {
   "cell_type": "markdown",
   "id": "legitimate-class",
   "metadata": {},
   "source": [
    "The procedure to acquire RREF: Perform row operations until the first non-zero entry (the \"pivot\") in each row is 1, the last row has all zeros, and all numbers above and below each pivot number (1) is zero.\n",
    "\n",
    "Legal row operations:\n",
    "\n",
    "1. Switching row positions\n",
    "2. Mutliplying a row by a number\n",
    "3. Adding rows together\n",
    "\n",
    "We can write our own code following the pseudo-code presented on [wikipedia](https://en.wikipedia.org/wiki/Row_echelon_form), or we can write a shorter function using SymPy which is what we'll do here."
   ]
  },
  {
   "cell_type": "code",
   "execution_count": null,
   "id": "valuable-absorption",
   "metadata": {},
   "outputs": [],
   "source": [
    "matrix = np.array([[3, 0, -1, 0], [8, 0, 0, -2], [0, 2, -2, -1]])\n",
    "print(matrix)"
   ]
  },
  {
   "cell_type": "code",
   "execution_count": null,
   "id": "arctic-virus",
   "metadata": {},
   "outputs": [],
   "source": [
    "Matrix(matrix).rref()"
   ]
  },
  {
   "cell_type": "markdown",
   "id": "portable-oriental",
   "metadata": {},
   "source": [
    "This is means:\\\n",
    "a = -1/4d\\\n",
    "b = -5/4d\\\n",
    "c = -3/4d\n",
    "\n",
    "d is the factor to require to achieve integer values for our coefficients (lowest common denominator which is f)."
   ]
  },
  {
   "cell_type": "code",
   "execution_count": null,
   "id": "answering-calculation",
   "metadata": {},
   "outputs": [],
   "source": [
    "def balance(m):\n",
    "    cols = ('a', 'b', 'c', 'd', 'e', 'f', 'g')\n",
    "    a = Matrix(matrix).rref()\n",
    "    for n, i in enumerate(range(3, len(a[0]), 4)):\n",
    "        value = a[0][i]\n",
    "        denom = fraction(together(value))[1]\n",
    "        print('{} = {}'.format(cols[n], abs(value*denom)))\n",
    "    print('{} = {}'.format(cols[n+1], denom)) # Notice 'n' is saved from enumerate"
   ]
  },
  {
   "cell_type": "code",
   "execution_count": null,
   "id": "assisted-fireplace",
   "metadata": {},
   "outputs": [],
   "source": [
    "balance(m)"
   ]
  },
  {
   "cell_type": "markdown",
   "id": "dressed-dallas",
   "metadata": {},
   "source": [
    "Balanced Equation: C<sub>3</sub>H<sub>8</sub> + **5**O<sub>2</sub> &#8594; **3**CO<sub>2</sub> + **4**H<sub>2</sub>O"
   ]
  },
  {
   "cell_type": "markdown",
   "id": "baking-supervisor",
   "metadata": {},
   "source": [
    "NumPy does not have this functionality. If you'd like practice and want to contribute this function to NumPy check out [this](https://numpy.org/doc/stable/dev/index.html) link. The pseudo-code for RREF can be found on [wikipedia](https://en.wikipedia.org/wiki/Row_echelon_form)."
   ]
  },
  {
   "cell_type": "markdown",
   "id": "wrong-works",
   "metadata": {},
   "source": [
    "##### **2.) Chemical Kinetics**"
   ]
  },
  {
   "cell_type": "markdown",
   "id": "fundamental-reform",
   "metadata": {},
   "source": [
    "In the previous example, we saw that coefficients of elementary chemical equations can be calculated by formulating a matrix.\n",
    "\n",
    "We can also integrate chemical rate equations using linear algebra as outlined in [this](https://pubs.acs.org/doi/pdf/10.1021/ed067p375) paper by the Journal of Chemical Education.\n",
    "\n",
    "The steps are:\n",
    "\n",
    "1. Generate a matrix, K, of the rate constants.\n",
    "2. Compute the eigenvalues and eigenvectors of the matrix.\n",
    "3. Compute the scalar coefficients\n",
    "\n",
    "Let's do this for the example of two unimolecular steps presented in the paper using NumPy."
   ]
  },
  {
   "cell_type": "markdown",
   "id": "economic-cotton",
   "metadata": {},
   "source": [
    "X<sub>1</sub> &#8594;<sup>k<sub>1</sub></sup> X<sub>2</sub> &#8594; <sup>k<sub>2</sub></sup> X<sub>3</sub>"
   ]
  },
  {
   "cell_type": "markdown",
   "id": "capable-hotel",
   "metadata": {},
   "source": [
    "The rate equations are:\n",
    "    \n",
    "   dX<sub>1</sub>/dt = -k<sub>1</sub>X<sub>1</sub>\\\n",
    "   dX<sub>2</sub>/dt = k<sub>1</sub>X<sub>2</sub> - k<sub>2</sub></sub>X<sub>2</sub>\\\n",
    "   dX<sub>3</sub>/dt = k<sub>2</sub>X<sub>3</sub>\n",
    "   \n",
    "So the matrix containing the rates is:"
   ]
  },
  {
   "cell_type": "code",
   "execution_count": null,
   "id": "coastal-tuition",
   "metadata": {},
   "outputs": [],
   "source": [
    "K = Matrix([['-k1', 0, 0], ['k1', '-k2', 0], [0, 'k2', 0]])\n",
    "K"
   ]
  },
  {
   "cell_type": "code",
   "execution_count": null,
   "id": "contemporary-graph",
   "metadata": {},
   "outputs": [],
   "source": [
    "K.eigenvals() # Returns a dictionary where the keys are the eigenvalues"
   ]
  },
  {
   "cell_type": "code",
   "execution_count": null,
   "id": "mediterranean-falls",
   "metadata": {},
   "outputs": [],
   "source": [
    "K.eigenvects() # Returns a list of eigenvalues and their corresponding eigenvectors"
   ]
  },
  {
   "cell_type": "code",
   "execution_count": null,
   "id": "duplicate-costa",
   "metadata": {},
   "outputs": [],
   "source": [
    "X = Matrix(['X1', 'X2', 'X3']) # a single list is considered a column vector for SymPy\n",
    "X"
   ]
  },
  {
   "cell_type": "code",
   "execution_count": null,
   "id": "logical-toronto",
   "metadata": {},
   "outputs": [],
   "source": [
    "C = Matrix([['k1/k2-1',0,0],['-k1/k2',0,-1],[1,1,1]]) # rows are our eigenvectors\n",
    "C"
   ]
  },
  {
   "cell_type": "code",
   "execution_count": null,
   "id": "wound-nightmare",
   "metadata": {},
   "outputs": [],
   "source": [
    "CT = Matrix(transpose(C)) # Take the transpose and swap second and third rows\n",
    "CT.row_swap(1, 2)\n",
    "CT"
   ]
  },
  {
   "cell_type": "code",
   "execution_count": null,
   "id": "junior-bradley",
   "metadata": {},
   "outputs": [],
   "source": [
    "simplify(CT.row(0)*-k2)# Multiplied first row by -k2 then second row by -1"
   ]
  },
  {
   "cell_type": "code",
   "execution_count": null,
   "id": "proper-finger",
   "metadata": {},
   "outputs": [],
   "source": [
    "CT = Matrix([['k2-k1', 0, 0], ['k1', 1, 0], ['-k2', -1, 1]])\n",
    "CT"
   ]
  },
  {
   "cell_type": "markdown",
   "id": "mineral-framework",
   "metadata": {},
   "source": [
    "This is fair game because C<sup>T</sup> = C since AX=${\\lambda}$X and A<sup>T</sup>=${\\lambda}$X"
   ]
  },
  {
   "cell_type": "markdown",
   "id": "surrounded-concord",
   "metadata": {},
   "source": [
    "We can get $\\alpha$ by taking the inverse of C<sub>n</sub> and multiplying it with X<sub>n</sub>. $\\alpha$ = C<sub>n</sub><sup>-1</sup>X<sub>n</sub>"
   ]
  },
  {
   "cell_type": "code",
   "execution_count": null,
   "id": "wanted-winter",
   "metadata": {},
   "outputs": [],
   "source": [
    "a = CT.inv()*X # a (alpha) contains our scalar coefficients\n",
    "a"
   ]
  },
  {
   "cell_type": "markdown",
   "id": "finite-combat",
   "metadata": {},
   "source": [
    "Our original equation was a set of first order differential equations.For reasons we won't go over here, our solutions to X<sub>n</sub>(t) will be exponential functions."
   ]
  },
  {
   "cell_type": "markdown",
   "id": "junior-investigator",
   "metadata": {},
   "source": [
    "e.g. $\\vec{x(t)}$' = A$\\vec{x(t)}$ has solutions $\\vec{x(t)}$ = $\\vec{c}$exp($\\lambda$t)"
   ]
  },
  {
   "cell_type": "markdown",
   "id": "unique-magazine",
   "metadata": {},
   "source": [
    "The paper derives: ![title](./DEsoln.png)"
   ]
  },
  {
   "cell_type": "markdown",
   "id": "executive-bunny",
   "metadata": {},
   "source": [
    "We have all the components to solve X<sub>n</sub>(t) so let's plug them in and check out the results."
   ]
  },
  {
   "cell_type": "code",
   "execution_count": null,
   "id": "conscious-halloween",
   "metadata": {},
   "outputs": [],
   "source": [
    "print(*list(K.eigenvals().keys())) # Eigenvalues"
   ]
  },
  {
   "cell_type": "markdown",
   "id": "polar-lewis",
   "metadata": {},
   "source": [
    "${\\alpha}$<sub>1</sub>C<sub>1</sub>exp(${\\lambda}$<sub>1</sub>t)"
   ]
  },
  {
   "cell_type": "code",
   "execution_count": null,
   "id": "ranking-hypothesis",
   "metadata": {},
   "outputs": [],
   "source": [
    "t = symbols('t')\n",
    "Matrix(a[0]*CT.col(0)*exp(-k1*t))[0]"
   ]
  },
  {
   "cell_type": "markdown",
   "id": "intensive-colony",
   "metadata": {},
   "source": [
    "${\\alpha}$<sub>1</sub>C<sub>1</sub>exp(${\\lambda}$<sub>1</sub>t) + ${\\alpha}$<sub>2</sub>C<sub>2</sub>exp(${\\lambda}$<sub>2</sub>t)"
   ]
  },
  {
   "cell_type": "code",
   "execution_count": null,
   "id": "hourly-minute",
   "metadata": {},
   "outputs": [],
   "source": [
    "Matrix(a[0]*CT.col(0)*exp(-k1*t)+a[1]*CT.col(1)*exp(-k2*t))[1]"
   ]
  },
  {
   "cell_type": "markdown",
   "id": "rapid-cloud",
   "metadata": {},
   "source": [
    "${\\alpha}$<sub>1</sub>C<sub>1</sub>exp(${\\lambda}$<sub>1</sub>t) + ${\\alpha}$<sub>2</sub>C<sub>2</sub>exp(${\\lambda}$<sub>2</sub>t) + ${\\alpha}$<sub>3</sub>C<sub>3</sub>exp(${\\lambda}$<sub>3</sub>t)"
   ]
  },
  {
   "cell_type": "code",
   "execution_count": null,
   "id": "normal-feelings",
   "metadata": {},
   "outputs": [],
   "source": [
    "Matrix(a[0]*CT.col(0)*exp(-k1*t)+a[1]*CT.col(1)*exp(-k2*t)+a[2]*CT.col(2)*exp(0))[2]"
   ]
  },
  {
   "cell_type": "markdown",
   "id": "lucky-arabic",
   "metadata": {},
   "source": [
    "Now that we have our solutions for X(t)<sub>1</sub>, X(t)<sub>2</sub>, X(t)<sub>3</sub>, let's plot these solutions. Given a starting concentration of 1 for X<sub>1</sub>, X<sub>2</sub>, and X<sub>3</sub>."
   ]
  },
  {
   "cell_type": "code",
   "execution_count": null,
   "id": "speaking-trustee",
   "metadata": {},
   "outputs": [],
   "source": [
    "import matplotlib.pyplot as plt\n",
    "\n",
    "ts = np.linspace(0, 10, num=50)\n",
    "\n",
    "# Functions for each chemical species\n",
    "def s1(x1, k1, t):\n",
    "    return x1*np.exp(-k1*t)\n",
    "\n",
    "def s2(x1, x2, k1, k2, t):\n",
    "    return (x1*k1)/(-k1*k2)*np.exp(-k1*t) + (((-x1*k1)/(-k1+k2))+x2)*np.exp(-k2*t)\n",
    "\n",
    "def s3(x1, x2, x3, k1, k2, t):\n",
    "    return -(x1*k2)/(-k1*k2)*np.exp(-k1*t)+x1+x2+x3+(((x1*k1)/(-k1+k2))-x2)*np.exp(-k2*ts)"
   ]
  },
  {
   "cell_type": "code",
   "execution_count": null,
   "id": "incorporated-image",
   "metadata": {},
   "outputs": [],
   "source": [
    "plt.plot(ts, s1(1, 1, ts), '-b^', mfc='white')\n",
    "plt.plot(ts, s2(1, 0, 1, .4, ts),'-r^', mfc='white')\n",
    "plt.plot(ts, s3(1, 0, 0, 1, .4, ts), '-k^', mfc='white')\n",
    "plt.show()"
   ]
  }
 ],
 "metadata": {
  "kernelspec": {
   "display_name": "Python 3",
   "language": "python",
   "name": "python3"
  },
  "language_info": {
   "codemirror_mode": {
    "name": "ipython",
    "version": 3
   },
   "file_extension": ".py",
   "mimetype": "text/x-python",
   "name": "python",
   "nbconvert_exporter": "python",
   "pygments_lexer": "ipython3",
   "version": "3.9.1"
  }
 },
 "nbformat": 4,
 "nbformat_minor": 5
}
