{
 "cells": [
  {
   "cell_type": "markdown",
   "id": "powerful-wilson",
   "metadata": {},
   "source": [
    "### Data Manipulation and Analysis with Python\n",
    "#### Robert Palmere, 2021\n",
    "#### Email: rdp135@chem.rutgers.edu\n",
    "--------------------------------------------------------------------\n",
    "#### Topics:\n",
    "1. Using Standard Python\n",
    "* Retrieving data from external sources\n",
    "* Altering data (e.g. normalization)\n",
    "* Data output\n",
    "\n",
    "####\n",
    "2. Using NumPy library\n",
    "* Retrieving data from external sources\n",
    "* Altering data (e.g. normalization)\n",
    "* Some Convenience functions of NumPy\n",
    "* Data output\n",
    "\n",
    "####\n",
    "3. Brief Use of Pandas library\n",
    "* Retrieving data from external sources\n",
    "* Organizing and Displaying data\n",
    "\n",
    "####\n",
    "4. Basic Applications of SymPy"
   ]
  },
  {
   "cell_type": "markdown",
   "id": "neural-logan",
   "metadata": {},
   "source": [
    "#### Standard Python Data Retrieval (touched on in Session 1):"
   ]
  },
  {
   "cell_type": "markdown",
   "id": "northern-separate",
   "metadata": {},
   "source": [
    "##### First we will import data from a data set included with the \"sklearn\" package of Python.\n",
    "##### This is so that we have a data set to work with throughout the session.\n",
    "##### These data include attributes of benign and malignant breast cancer cell nuclei of patients in Wisconsin. \n",
    "More information on this data set can be found [Here](https://archive.ics.uci.edu/ml/datasets/Breast+Cancer+Wisconsin+(Diagnostic))."
   ]
  },
  {
   "cell_type": "code",
   "execution_count": 2,
   "id": "forty-harmony",
   "metadata": {},
   "outputs": [],
   "source": [
    "def generate_data():\n",
    "    from sklearn.datasets import load_breast_cancer # load in data from sklearn\n",
    "    X, y = load_breast_cancer(return_X_y=True)\n",
    "    avg_radius = X[:, 0]\n",
    "    avg_num_concaves = X[:, 7]\n",
    "    lines = list(zip(avg_radius.astype(str), avg_num_concaves.astype(str)))\n",
    "    lines = [' '.join(x) for x in lines]\n",
    "    with open('Data.txt', 'w') as fp:\n",
    "        fp.writelines('\\n'.join(lines))\n",
    "       \n",
    "generate_data()"
   ]
  },
  {
   "cell_type": "markdown",
   "id": "impossible-traffic",
   "metadata": {},
   "source": [
    "##### Now that we have working data in the \"Data.txt\" file let's move on to retrieving it using standard Python."
   ]
  },
  {
   "cell_type": "code",
   "execution_count": 3,
   "id": "judicial-knitting",
   "metadata": {},
   "outputs": [],
   "source": [
    "data = open('Data.txt', 'r') # Open() function to returns a Wrapper class with functions to access contents of file using 'read' mode"
   ]
  },
  {
   "cell_type": "markdown",
   "id": "adopted-amplifier",
   "metadata": {},
   "source": [
    "##### We see that this is a file \"IO\" (in/out) wrapper data type (class)."
   ]
  },
  {
   "cell_type": "code",
   "execution_count": 4,
   "id": "finnish-blade",
   "metadata": {},
   "outputs": [
    {
     "name": "stdout",
     "output_type": "stream",
     "text": [
      "<class '_io.TextIOWrapper'>\n"
     ]
    }
   ],
   "source": [
    "print(type(data))"
   ]
  },
  {
   "cell_type": "markdown",
   "id": "existing-meeting",
   "metadata": {},
   "source": [
    "##### Let's display the functions contained within this class:"
   ]
  },
  {
   "cell_type": "code",
   "execution_count": 5,
   "id": "educational-stream",
   "metadata": {},
   "outputs": [
    {
     "name": "stdout",
     "output_type": "stream",
     "text": [
      "'_CHUNK_SIZE' '__class__' '__del__' '__delattr__' '__dict__' '__dir__' '__doc__' '__enter__' '__eq__' '__exit__' '__format__' '__ge__' '__getattribute__' '__gt__' '__hash__' '__init__' '__init_subclass__' '__iter__' '__le__' '__lt__' '__ne__' '__new__' '__next__' '__reduce__' '__reduce_ex__' '__repr__' '__setattr__' '__sizeof__' '__str__' '__subclasshook__' '_checkClosed' '_checkReadable' '_checkSeekable' '_checkWritable' '_finalizing' 'buffer' 'close' 'closed' 'detach' 'encoding' 'errors' 'fileno' 'flush' 'isatty' 'line_buffering' 'mode' 'name' 'newlines' 'read' 'readable' 'readline' 'readlines' 'reconfigure' 'seek' 'seekable' 'tell' 'truncate' 'writable' 'write' 'write_through' 'writelines' "
     ]
    }
   ],
   "source": [
    "for method in dir(data): print(f\"'{method}'\", end=' ')"
   ]
  },
  {
   "cell_type": "markdown",
   "id": "novel-apartment",
   "metadata": {},
   "source": [
    "##### The 'readlines()' method seems like a reasonable choice to get our data."
   ]
  },
  {
   "cell_type": "code",
   "execution_count": 6,
   "id": "strange-warning",
   "metadata": {},
   "outputs": [
    {
     "name": "stdout",
     "output_type": "stream",
     "text": [
      "(hint=-1, /)\n",
      "(file, mode='r', buffering=-1, encoding=None, errors=None, newline=None, closefd=True, opener=None)\n"
     ]
    }
   ],
   "source": [
    "import inspect\n",
    "print(inspect.signature(data.readlines))\n",
    "print(inspect.signature(open))"
   ]
  },
  {
   "cell_type": "markdown",
   "id": "rocky-chess",
   "metadata": {},
   "source": [
    "##### Seems not to take any arguments either. Let's try it."
   ]
  },
  {
   "cell_type": "code",
   "execution_count": 7,
   "id": "descending-detail",
   "metadata": {},
   "outputs": [
    {
     "name": "stdout",
     "output_type": "stream",
     "text": [
      "<class 'list'>\n",
      "<built-in method readlines of _io.TextIOWrapper object at 0x119dc9ba0>\n"
     ]
    }
   ],
   "source": [
    "lines = data.readlines()\n",
    "print(type(lines))\n",
    "print(repr(data.readlines)) # Not very useful here."
   ]
  },
  {
   "cell_type": "markdown",
   "id": "several-planner",
   "metadata": {},
   "source": [
    "##### We see that data.readlines() returns a list of the lines within the file. Let's print the first 5 lines to make sure."
   ]
  },
  {
   "cell_type": "code",
   "execution_count": 8,
   "id": "statistical-deficit",
   "metadata": {},
   "outputs": [
    {
     "name": "stdout",
     "output_type": "stream",
     "text": [
      "['17.99 0.1471\\n', '20.57 0.07017\\n', '19.69 0.1279\\n', '11.42 0.1052\\n', '20.29 0.1043\\n']\n"
     ]
    }
   ],
   "source": [
    "print(lines[0:5])"
   ]
  },
  {
   "cell_type": "markdown",
   "id": "transparent-seminar",
   "metadata": {},
   "source": [
    "##### For analysis we want this data to be in numeric form (float) not string. We also want to remove '\\n'. Split() does this nicely as it defaults to splitting a list by white space."
   ]
  },
  {
   "cell_type": "code",
   "execution_count": 9,
   "id": "rough-cartoon",
   "metadata": {},
   "outputs": [
    {
     "name": "stdout",
     "output_type": "stream",
     "text": [
      "['17.99', '0.1471']\n",
      "['20.57', '0.07017']\n",
      "['19.69', '0.1279']\n",
      "['11.42', '0.1052']\n",
      "['20.29', '0.1043']\n"
     ]
    }
   ],
   "source": [
    "for i in range(5): print(lines[i].split())"
   ]
  },
  {
   "cell_type": "markdown",
   "id": "difficult-ghost",
   "metadata": {},
   "source": [
    "##### We can now use the map() function of Python to change each element of these lists to floats (Syntax map(func, iterable))."
   ]
  },
  {
   "cell_type": "code",
   "execution_count": 10,
   "id": "union-tuning",
   "metadata": {},
   "outputs": [
    {
     "name": "stdout",
     "output_type": "stream",
     "text": [
      "<map object at 0x111d33b50>\n",
      "<map object at 0x111d33be0>\n",
      "<map object at 0x111d33b50>\n",
      "<map object at 0x111d33be0>\n",
      "<map object at 0x111d33b50>\n"
     ]
    }
   ],
   "source": [
    "for i in range(5): print(map(float, lines[i].split()))"
   ]
  },
  {
   "cell_type": "markdown",
   "id": "available-potential",
   "metadata": {},
   "source": [
    "##### A map object is just an iterable."
   ]
  },
  {
   "cell_type": "code",
   "execution_count": 11,
   "id": "interstate-wedding",
   "metadata": {},
   "outputs": [
    {
     "name": "stdout",
     "output_type": "stream",
     "text": [
      "1.0 2.0 3.0 "
     ]
    }
   ],
   "source": [
    "iterable = map(float, ['1', '2', '3'])\n",
    "for i in iterable: print(i, end=' ')"
   ]
  },
  {
   "cell_type": "markdown",
   "id": "scheduled-copying",
   "metadata": {},
   "source": [
    "##### To fix returning map objects we can just use the list() function to turn the map() returned iteratble into a list."
   ]
  },
  {
   "cell_type": "code",
   "execution_count": 12,
   "id": "editorial-walter",
   "metadata": {},
   "outputs": [
    {
     "name": "stdout",
     "output_type": "stream",
     "text": [
      "[17.99, 0.1471]\n",
      "[20.57, 0.07017]\n",
      "[19.69, 0.1279]\n",
      "[11.42, 0.1052]\n",
      "[20.29, 0.1043]\n"
     ]
    }
   ],
   "source": [
    "for i in range(5): print(list(map(float, lines[i].split())))"
   ]
  },
  {
   "cell_type": "markdown",
   "id": "civic-procedure",
   "metadata": {},
   "source": [
    "##### Now let's generate to lists (x, y) from the columns of our data."
   ]
  },
  {
   "cell_type": "code",
   "execution_count": 13,
   "id": "incorrect-accordance",
   "metadata": {},
   "outputs": [
    {
     "name": "stdout",
     "output_type": "stream",
     "text": [
      "[17.99, 20.57, 19.69, 11.42, 20.29]\n",
      "[0.1471, 0.07017, 0.1279, 0.1052, 0.1043]\n"
     ]
    }
   ],
   "source": [
    "avg_radius = []\n",
    "avg_concavities = []\n",
    "\n",
    "for line in lines: avg_radius.append(list(map(float, line.split()))[0]) ; avg_concavities.append(list(map(float, line.split()))[1])\n",
    "\n",
    "print(avg_radius[0:5])\n",
    "print(avg_concavities[0:5])"
   ]
  },
  {
   "cell_type": "markdown",
   "id": "decimal-illness",
   "metadata": {},
   "source": [
    "##### We can do this with list comprehension as well."
   ]
  },
  {
   "cell_type": "code",
   "execution_count": 14,
   "id": "worldwide-commercial",
   "metadata": {},
   "outputs": [
    {
     "name": "stdout",
     "output_type": "stream",
     "text": [
      "[17.99, 20.57, 19.69, 11.42, 20.29]\n",
      "[0.1471, 0.07017, 0.1279, 0.1052, 0.1043]\n"
     ]
    }
   ],
   "source": [
    "avg_radius = [list(map(float, line.split()))[0] for line in lines]\n",
    "avg_concavities = [list(map(float, line.split()))[1] for line in lines]\n",
    "\n",
    "print(avg_radius[0:5])\n",
    "print(avg_concavities[0:5])\n",
    "\n",
    "data.close()"
   ]
  },
  {
   "cell_type": "markdown",
   "id": "convertible-collaboration",
   "metadata": {},
   "source": [
    "##### Now our data is ready for analysis and manipulation by other packages. We can place all of this code into a single method."
   ]
  },
  {
   "cell_type": "code",
   "execution_count": 15,
   "id": "blocked-bhutan",
   "metadata": {},
   "outputs": [
    {
     "name": "stdout",
     "output_type": "stream",
     "text": [
      "[17.99, 20.57, 19.69, 11.42, 20.29]\n",
      "[0.1471, 0.07017, 0.1279, 0.1052, 0.1043]\n"
     ]
    }
   ],
   "source": [
    "def retrieve_data(filename):\n",
    "    '''\n",
    "    params: 'filename' - file name containing space-separated data columns in string format\n",
    "    returns: the first two columns as lists\n",
    "    '''\n",
    "    file = open(filename, 'r')\n",
    "    lines = file.readlines()\n",
    "    xs = [list(map(float, line.split()))[0] for line in lines]\n",
    "    ys = [list(map(float, line.split()))[1] for line in lines]\n",
    "    file.close()\n",
    "    return xs, ys\n",
    "\n",
    "x, y = retrieve_data('Data.txt')\n",
    "print(x[0:5])\n",
    "print(y[0:5])"
   ]
  },
  {
   "cell_type": "markdown",
   "id": "liberal-spyware",
   "metadata": {},
   "source": [
    "##### We can do some simple manipulations on this data. Say normalize the data such that it spans [0, 1] with the maximum value of the list being 1."
   ]
  },
  {
   "cell_type": "code",
   "execution_count": 18,
   "id": "adequate-potato",
   "metadata": {},
   "outputs": [],
   "source": [
    "norm_x = [i/max(x) for i in x]\n",
    "norm_y = [i/max(y) for i in y]"
   ]
  },
  {
   "cell_type": "markdown",
   "id": "promising-cemetery",
   "metadata": {},
   "source": [
    "##### Here are some other basic functionalities that we can implement on our data without external libraries."
   ]
  },
  {
   "cell_type": "code",
   "execution_count": 19,
   "id": "fresh-venture",
   "metadata": {},
   "outputs": [
    {
     "name": "stdout",
     "output_type": "stream",
     "text": [
      "14.127291739894563 0.048919145869947236\n"
     ]
    }
   ],
   "source": [
    "# Average\n",
    "def mean(i):\n",
    "    return sum(i)/len(i)\n",
    "\n",
    "avg_x = mean(x)\n",
    "avg_y = mean(y)\n",
    "print(avg_x, avg_y)"
   ]
  },
  {
   "cell_type": "code",
   "execution_count": 20,
   "id": "human-valve",
   "metadata": {},
   "outputs": [
    {
     "name": "stdout",
     "output_type": "stream",
     "text": [
      "3.5209507607110626 0.03876873246147475\n"
     ]
    }
   ],
   "source": [
    "# Standard Deviation\n",
    "def sqrt(value):\n",
    "    return value**(1/2)\n",
    "\n",
    "def std(i):\n",
    "    mean = sum(i)/len(i)\n",
    "    s = sum([((x - mean)**2) for x in i])\n",
    "    return sqrt(s/len(i))\n",
    "\n",
    "print(std(x), std(y))"
   ]
  },
  {
   "cell_type": "code",
   "execution_count": 21,
   "id": "aggregate-patrick",
   "metadata": {},
   "outputs": [
    {
     "name": "stdout",
     "output_type": "stream",
     "text": [
      "8038.429000000006 27.834993999999977\n"
     ]
    }
   ],
   "source": [
    "# Sum\n",
    "sum_x = sum(x)\n",
    "sum_y = sum(y)\n",
    "print(sum_x, sum_y)"
   ]
  },
  {
   "cell_type": "code",
   "execution_count": 22,
   "id": "dying-production",
   "metadata": {},
   "outputs": [
    {
     "name": "stdout",
     "output_type": "stream",
     "text": [
      "28.11 6.981\n"
     ]
    }
   ],
   "source": [
    "# Max / Min\n",
    "x_max = max(x)\n",
    "x_min = min(x)\n",
    "print(x_max, x_min)"
   ]
  },
  {
   "cell_type": "code",
   "execution_count": 23,
   "id": "rapid-radius",
   "metadata": {},
   "outputs": [
    {
     "name": "stdout",
     "output_type": "stream",
     "text": [
      "101 212\n",
      "6.981 28.11\n"
     ]
    }
   ],
   "source": [
    "# Index where Max / Min found - since x, y are lists we can use the index method\n",
    "\n",
    "min_indx = x.index(x_min)\n",
    "max_indx = x.index(x_max)\n",
    "print(min_indx, max_indx)\n",
    "print(x[min_indx], x[max_indx])"
   ]
  },
  {
   "cell_type": "markdown",
   "id": "therapeutic-quilt",
   "metadata": {},
   "source": [
    "##### Say after we normalize the data such that the max value of each list is equal to 1 that we want to write a file with this output."
   ]
  },
  {
   "cell_type": "code",
   "execution_count": 24,
   "id": "recreational-agriculture",
   "metadata": {},
   "outputs": [],
   "source": [
    "def output_normalized(x_norm, y_norm):\n",
    "    '''\n",
    "    Function to write normalized x, y data to text file in cwd\n",
    "    params:\n",
    "        x_norm - list of normalized x values\n",
    "        y_norm - list of noramlized y values\n",
    "    '''\n",
    "    lines = list(zip(list(map(str, x_norm)), list(map(str, y_norm))))\n",
    "    lines = [' '.join(x) for x in lines]\n",
    "    with open('Output.txt', 'w') as fp:\n",
    "        fp.writelines('\\n'.join(lines))\n",
    "        \n",
    "output_normalized(norm_x, norm_y)"
   ]
  },
  {
   "cell_type": "markdown",
   "id": "billion-chamber",
   "metadata": {},
   "source": [
    "#### NumPy"
   ]
  },
  {
   "cell_type": "markdown",
   "id": "ruled-ensemble",
   "metadata": {},
   "source": [
    "##### We can do the same types of things with the conveniently pre-written functions in the NumPy library."
   ]
  },
  {
   "cell_type": "markdown",
   "id": "amino-account",
   "metadata": {},
   "source": [
    "##### So why not just stay using the original instead of NumPy? NumPy is faster for the most part."
   ]
  },
  {
   "cell_type": "code",
   "execution_count": 25,
   "id": "mobile-extraction",
   "metadata": {},
   "outputs": [
    {
     "data": {
      "image/png": "[encoded data removed]",
      "text/plain": [
       "<Figure size 432x288 with 1 Axes>"
      ]
     },
     "metadata": {
      "needs_background": "light"
     },
     "output_type": "display_data"
    }
   ],
   "source": [
    "import numpy as np\n",
    "from timeit import default_timer as timer\n",
    "\n",
    "def speedtest(key, length):\n",
    "    d = {'array' : np.array([x for x in range(length)]),\n",
    "         'list' : [x for x in range(length)]}\n",
    "    time = []\n",
    "    if key == list(d.keys())[0]:\n",
    "        for i in range(10000):\n",
    "            start = timer()\n",
    "\n",
    "            mult = d['array'] * d['array']\n",
    "\n",
    "            end = timer()\n",
    "            dt = end - start\n",
    "            time.append(dt)\n",
    "    elif key == list(d.keys())[1]:\n",
    "        for i in range(10000):\n",
    "            start = timer()\n",
    "\n",
    "            for n, i in enumerate(d['list']):\n",
    "                mult = d['list'][n] * d['list'][n]\n",
    "\n",
    "            end = timer()\n",
    "            dt = end - start\n",
    "            time.append(dt)\n",
    "    return time\n",
    "\n",
    "t = speedtest('list', 1000)\n",
    "t2 = speedtest('array', 1000)\n",
    "\n",
    "import matplotlib.pyplot as plt\n",
    "plt.plot(t)\n",
    "plt.plot(t2)\n",
    "plt.ylabel('Time (s)')\n",
    "plt.xlabel('Iteration')\n",
    "plt.text(400, np.max(t)/2, s=\"Numpy is a lot faster.\");"
   ]
  },
  {
   "cell_type": "markdown",
   "id": "adverse-excerpt",
   "metadata": {},
   "source": [
    "##### Why is this though? -- In this case, numpy arrays don't have to multiply indices individually as one would have to using a list."
   ]
  },
  {
   "cell_type": "markdown",
   "id": "upset-maine",
   "metadata": {},
   "source": [
    "However, this really only pertains to large arrays."
   ]
  },
  {
   "cell_type": "code",
   "execution_count": 26,
   "id": "flying-aaron",
   "metadata": {},
   "outputs": [
    {
     "data": {
      "image/png": "[encoded data removed]",
      "text/plain": [
       "<Figure size 432x288 with 1 Axes>"
      ]
     },
     "metadata": {
      "needs_background": "light"
     },
     "output_type": "display_data"
    }
   ],
   "source": [
    "test1 = [1, 2, 3, 4, 5, 6, 7, 8, 9, 10]\n",
    "test2 = np.asarray([1, 2, 3, 4, 5, 6, 7, 8, 9, 10])\n",
    "\n",
    "t = speedtest('list', 3)\n",
    "t2 = speedtest('array', 3)\n",
    "plt.plot(t)\n",
    "plt.plot(t2)\n",
    "plt.ylabel('Time (s)')\n",
    "plt.xlabel('Iteration')\n",
    "plt.text(400, np.max(t)/2, s=\"Now it's not so clear\");"
   ]
  },
  {
   "cell_type": "code",
   "execution_count": 27,
   "id": "frank-pricing",
   "metadata": {},
   "outputs": [
    {
     "name": "stdout",
     "output_type": "stream",
     "text": [
      "<class 'numpy.ndarray'>\n"
     ]
    }
   ],
   "source": [
    "f = 'Data.txt'\n",
    "data = np.loadtxt(f)\n",
    "print(type(data))"
   ]
  },
  {
   "cell_type": "code",
   "execution_count": 28,
   "id": "western-disclaimer",
   "metadata": {},
   "outputs": [
    {
     "name": "stdout",
     "output_type": "stream",
     "text": [
      "'T' '__abs__' '__add__' '__and__' '__array__' '__array_finalize__' '__array_function__' '__array_interface__' '__array_prepare__' '__array_priority__' '__array_struct__' '__array_ufunc__' '__array_wrap__' '__bool__' '__class__' '__complex__' '__contains__' '__copy__' '__deepcopy__' '__delattr__' '__delitem__' '__dir__' '__divmod__' '__doc__' '__eq__' '__float__' '__floordiv__' '__format__' '__ge__' '__getattribute__' '__getitem__' '__gt__' '__hash__' '__iadd__' '__iand__' '__ifloordiv__' '__ilshift__' '__imatmul__' '__imod__' '__imul__' '__index__' '__init__' '__init_subclass__' '__int__' '__invert__' '__ior__' '__ipow__' '__irshift__' '__isub__' '__iter__' '__itruediv__' '__ixor__' '__le__' '__len__' '__lshift__' '__lt__' '__matmul__' '__mod__' '__mul__' '__ne__' '__neg__' '__new__' '__or__' '__pos__' '__pow__' '__radd__' '__rand__' '__rdivmod__' '__reduce__' '__reduce_ex__' '__repr__' '__rfloordiv__' '__rlshift__' '__rmatmul__' '__rmod__' '__rmul__' '__ror__' '__rpow__' '__rrshift__' '__rshift__' '__rsub__' '__rtruediv__' '__rxor__' '__setattr__' '__setitem__' '__setstate__' '__sizeof__' '__str__' '__sub__' '__subclasshook__' '__truediv__' '__xor__' 'all' 'any' 'argmax' 'argmin' 'argpartition' 'argsort' 'astype' 'base' 'byteswap' 'choose' 'clip' 'compress' 'conj' 'conjugate' 'copy' 'ctypes' 'cumprod' 'cumsum' 'data' 'diagonal' 'dot' 'dtype' 'dump' 'dumps' 'fill' 'flags' 'flat' 'flatten' 'getfield' 'imag' 'item' 'itemset' 'itemsize' 'max' 'mean' 'min' 'nbytes' 'ndim' 'newbyteorder' 'nonzero' 'partition' 'prod' 'ptp' 'put' 'ravel' 'real' 'repeat' 'reshape' 'resize' 'round' 'searchsorted' 'setfield' 'setflags' 'shape' 'size' 'sort' 'squeeze' 'std' 'strides' 'sum' 'swapaxes' 'take' 'tobytes' 'tofile' 'tolist' 'tostring' 'trace' 'transpose' 'var' 'view' "
     ]
    }
   ],
   "source": [
    "for method in dir(data):  print(f\"'{method}'\", end=' ')"
   ]
  },
  {
   "cell_type": "markdown",
   "id": "worse-jacksonville",
   "metadata": {},
   "source": [
    "##### Other ways to retrieve data from a file using NumPy:"
   ]
  },
  {
   "cell_type": "code",
   "execution_count": 29,
   "id": "endless-composite",
   "metadata": {},
   "outputs": [
    {
     "data": {
      "text/plain": [
       "array([[17.99   ,  0.1471 ],\n",
       "       [20.57   ,  0.07017],\n",
       "       [19.69   ,  0.1279 ],\n",
       "       ...,\n",
       "       [16.6    ,  0.05302],\n",
       "       [20.6    ,  0.152  ],\n",
       "       [ 7.76   ,  0.     ]])"
      ]
     },
     "execution_count": 29,
     "metadata": {},
     "output_type": "execute_result"
    }
   ],
   "source": [
    "np.genfromtxt(f) # Better for incomplete CSVs etc with function keyword options such as \"filling_values=\""
   ]
  },
  {
   "cell_type": "markdown",
   "id": "sixth-jordan",
   "metadata": {},
   "source": [
    "##### We can see that the methods we wrote in standard Python are available for a NumPy array."
   ]
  },
  {
   "cell_type": "code",
   "execution_count": 30,
   "id": "conscious-share",
   "metadata": {},
   "outputs": [
    {
     "data": {
      "text/plain": [
       "(569, 2)"
      ]
     },
     "execution_count": 30,
     "metadata": {},
     "output_type": "execute_result"
    }
   ],
   "source": [
    "data.shape # The shape of the matrix (569 rows with 2 columns)"
   ]
  },
  {
   "cell_type": "markdown",
   "id": "according-quality",
   "metadata": {},
   "source": [
    "##### We can use usual slicing methods to define x and y."
   ]
  },
  {
   "cell_type": "code",
   "execution_count": 31,
   "id": "major-store",
   "metadata": {},
   "outputs": [
    {
     "name": "stdout",
     "output_type": "stream",
     "text": [
      "<class 'numpy.ndarray'>\n",
      "[17.99 20.57 19.69 11.42 20.29]\n"
     ]
    }
   ],
   "source": [
    "x = np.asarray(data[:, 0])\n",
    "y = np.asarray(data[:, 1]) # We use np.asarray() to convert from list back to 1D NumPy array\n",
    "print(type(x))\n",
    "print(x[0:5])"
   ]
  },
  {
   "cell_type": "markdown",
   "id": "desirable-deficit",
   "metadata": {},
   "source": [
    "##### Now using NumPy let's manipulate the data sets as we did above. Notice NumPy did the data cleaning for us."
   ]
  },
  {
   "cell_type": "code",
   "execution_count": 32,
   "id": "conventional-peter",
   "metadata": {},
   "outputs": [
    {
     "name": "stdout",
     "output_type": "stream",
     "text": [
      "14.127291739894552 0.04891914586994728\n"
     ]
    }
   ],
   "source": [
    "# Averages\n",
    "\n",
    "x_avg = np.mean(x)\n",
    "y_avg = np.mean(y)\n",
    "print(x_avg, y_avg)"
   ]
  },
  {
   "cell_type": "code",
   "execution_count": 33,
   "id": "thorough-isaac",
   "metadata": {},
   "outputs": [
    {
     "data": {
      "text/plain": [
       "1.4142135623730951"
      ]
     },
     "execution_count": 33,
     "metadata": {},
     "output_type": "execute_result"
    }
   ],
   "source": [
    "# Sqrt\n",
    "np.sqrt(2)"
   ]
  },
  {
   "cell_type": "code",
   "execution_count": 34,
   "id": "impressive-territory",
   "metadata": {},
   "outputs": [
    {
     "data": {
      "text/plain": [
       "3.520950760711062"
      ]
     },
     "execution_count": 34,
     "metadata": {},
     "output_type": "execute_result"
    }
   ],
   "source": [
    "# Standard Dev.\n",
    "np.std(x)"
   ]
  },
  {
   "cell_type": "code",
   "execution_count": 35,
   "id": "collectible-mambo",
   "metadata": {},
   "outputs": [
    {
     "data": {
      "text/plain": [
       "8038.429"
      ]
     },
     "execution_count": 35,
     "metadata": {},
     "output_type": "execute_result"
    }
   ],
   "source": [
    "# Sums\n",
    "x.sum() # or\n",
    "np.sum(x)"
   ]
  },
  {
   "cell_type": "code",
   "execution_count": 36,
   "id": "natural-charm",
   "metadata": {},
   "outputs": [
    {
     "data": {
      "text/plain": [
       "True"
      ]
     },
     "execution_count": 36,
     "metadata": {},
     "output_type": "execute_result"
    }
   ],
   "source": [
    "xnorm = x/np.max(x) # Note that / operation carried out for each element of the np.array\n",
    "\n",
    "# Can also use NumPy functions for these mathematical operations\n",
    "\n",
    "test = np.divide(x, np.max(x))\n",
    "np.any(test == xnorm)"
   ]
  },
  {
   "cell_type": "markdown",
   "id": "ceramic-mainland",
   "metadata": {},
   "source": [
    "##### We can find out what np.any() is doing here from its __doc__ string special method.\n",
    "##### The Python interpreter automatically sets the first string literal as what __doc__ of a class or method returns."
   ]
  },
  {
   "cell_type": "code",
   "execution_count": 37,
   "id": "noble-formula",
   "metadata": {},
   "outputs": [],
   "source": [
    "def example():\n",
    "    '''Super helpful doc string.'''\n",
    "\n",
    "example.__doc__\n",
    "\n",
    "def doc(func):\n",
    "    if callable(func):\n",
    "        return func.__doc__\n",
    "    else:\n",
    "        raise ValueError('Argument must be a function.')"
   ]
  },
  {
   "cell_type": "code",
   "execution_count": 38,
   "id": "black-mission",
   "metadata": {},
   "outputs": [
    {
     "data": {
      "text/plain": [
       "'Super helpful doc string.'"
      ]
     },
     "execution_count": 38,
     "metadata": {},
     "output_type": "execute_result"
    }
   ],
   "source": [
    "doc(example) # Our function works"
   ]
  },
  {
   "cell_type": "code",
   "execution_count": 39,
   "id": "clinical-creator",
   "metadata": {},
   "outputs": [
    {
     "ename": "ValueError",
     "evalue": "Argument must be a function.",
     "output_type": "error",
     "traceback": [
      "\u001b[0;31m---------------------------------------------------------------------------\u001b[0m",
      "\u001b[0;31mValueError\u001b[0m                                Traceback (most recent call last)",
      "\u001b[0;32m<ipython-input-39-7bd145cd1cca>\u001b[0m in \u001b[0;36m<module>\u001b[0;34m\u001b[0m\n\u001b[0;32m----> 1\u001b[0;31m \u001b[0mdoc\u001b[0m\u001b[0;34m(\u001b[0m\u001b[0mx\u001b[0m\u001b[0;34m)\u001b[0m \u001b[0;31m# If the argument is not callable (e.g. doesn't have __call__ method) -- All functions have __call__\u001b[0m\u001b[0;34m\u001b[0m\u001b[0;34m\u001b[0m\u001b[0m\n\u001b[0m",
      "\u001b[0;32m<ipython-input-37-4debd860faa1>\u001b[0m in \u001b[0;36mdoc\u001b[0;34m(func)\u001b[0m\n\u001b[1;32m      8\u001b[0m         \u001b[0;32mreturn\u001b[0m \u001b[0mfunc\u001b[0m\u001b[0;34m.\u001b[0m\u001b[0m__doc__\u001b[0m\u001b[0;34m\u001b[0m\u001b[0;34m\u001b[0m\u001b[0m\n\u001b[1;32m      9\u001b[0m     \u001b[0;32melse\u001b[0m\u001b[0;34m:\u001b[0m\u001b[0;34m\u001b[0m\u001b[0;34m\u001b[0m\u001b[0m\n\u001b[0;32m---> 10\u001b[0;31m         \u001b[0;32mraise\u001b[0m \u001b[0mValueError\u001b[0m\u001b[0;34m(\u001b[0m\u001b[0;34m'Argument must be a function.'\u001b[0m\u001b[0;34m)\u001b[0m\u001b[0;34m\u001b[0m\u001b[0;34m\u001b[0m\u001b[0m\n\u001b[0m",
      "\u001b[0;31mValueError\u001b[0m: Argument must be a function."
     ]
    }
   ],
   "source": [
    "doc(x) # If the argument is not callable (e.g. doesn't have __call__ method) -- All functions have __call__"
   ]
  },
  {
   "cell_type": "code",
   "execution_count": 40,
   "id": "characteristic-incident",
   "metadata": {},
   "outputs": [
    {
     "name": "stdout",
     "output_type": "stream",
     "text": [
      "<class 'function'>\n"
     ]
    }
   ],
   "source": [
    "print(type(example))"
   ]
  },
  {
   "cell_type": "code",
   "execution_count": 41,
   "id": "younger-labor",
   "metadata": {},
   "outputs": [
    {
     "name": "stdout",
     "output_type": "stream",
     "text": [
      "\n",
      "    Test whether any array element along a given axis evaluates to True.\n",
      "\n",
      "    Returns single boolean unless `axis` is not ``None``\n",
      "\n",
      "    Parameters\n",
      "    ----------\n",
      "    a : array_like\n",
      "        Input array or object that can be converted to an array.\n",
      "    axis : None or int or tuple of ints, optional\n",
      "        Axis or axes along which a logical OR reduction is performed.\n",
      "        The default (``axis=None``) is to perform a logical OR over all\n",
      "        the dimensions of the input array. `axis` may be negative, in\n",
      "        which case it counts from the last to the first axis.\n",
      "\n",
      "        .. versionadded:: 1.7.0\n",
      "\n",
      "        If this is a tuple of ints, a reduction is performed on multiple\n",
      "        axes, instead of a single axis or all the axes as before.\n",
      "    out : ndarray, optional\n",
      "        Alternate output array in which to place the result.  It must have\n",
      "        the same shape as the expected output and its type is preserved\n",
      "        (e.g., if it is of type float, then it will remain so, returning\n",
      "        1.0 for True and 0.0 for False, regardless of the type of `a`).\n",
      "        See `ufuncs-output-type` for more details.\n",
      "\n",
      "    keepdims : bool, optional\n",
      "        If this is set to True, the axes which are reduced are left\n",
      "        in the result as dimensions with size one. With this option,\n",
      "        the result will broadcast correctly against the input array.\n",
      "\n",
      "        If the default value is passed, then `keepdims` will not be\n",
      "        passed through to the `any` method of sub-classes of\n",
      "        `ndarray`, however any non-default value will be.  If the\n",
      "        sub-class' method does not implement `keepdims` any\n",
      "        exceptions will be raised.\n",
      "\n",
      "    Returns\n",
      "    -------\n",
      "    any : bool or ndarray\n",
      "        A new boolean or `ndarray` is returned unless `out` is specified,\n",
      "        in which case a reference to `out` is returned.\n",
      "\n",
      "    See Also\n",
      "    --------\n",
      "    ndarray.any : equivalent method\n",
      "\n",
      "    all : Test whether all elements along a given axis evaluate to True.\n",
      "\n",
      "    Notes\n",
      "    -----\n",
      "    Not a Number (NaN), positive infinity and negative infinity evaluate\n",
      "    to `True` because these are not equal to zero.\n",
      "\n",
      "    Examples\n",
      "    --------\n",
      "    >>> np.any([[True, False], [True, True]])\n",
      "    True\n",
      "\n",
      "    >>> np.any([[True, False], [False, False]], axis=0)\n",
      "    array([ True, False])\n",
      "\n",
      "    >>> np.any([-1, 0, 5])\n",
      "    True\n",
      "\n",
      "    >>> np.any(np.nan)\n",
      "    True\n",
      "\n",
      "    >>> o=np.array(False)\n",
      "    >>> z=np.any([-1, 4, 5], out=o)\n",
      "    >>> z, o\n",
      "    (array(True), array(True))\n",
      "    >>> # Check now that z is a reference to o\n",
      "    >>> z is o\n",
      "    True\n",
      "    >>> id(z), id(o) # identity of z and o              # doctest: +SKIP\n",
      "    (191614240, 191614240)\n",
      "\n",
      "    \n"
     ]
    }
   ],
   "source": [
    "print(np.any.__doc__) "
   ]
  },
  {
   "cell_type": "markdown",
   "id": "respective-bracelet",
   "metadata": {},
   "source": [
    "##### In fact, conditionals apply element-wise for np.arrays"
   ]
  },
  {
   "cell_type": "code",
   "execution_count": 45,
   "id": "inclusive-plate",
   "metadata": {},
   "outputs": [
    {
     "data": {
      "text/plain": [
       "array([[False,  True],\n",
       "       [ True,  True]])"
      ]
     },
     "execution_count": 45,
     "metadata": {},
     "output_type": "execute_result"
    }
   ],
   "source": [
    "t1 = np.asarray([[1, 2], [3, 4]])\n",
    "t2 = np.asarray([[1, 6], [7, 8]])\n",
    "\n",
    "t2 > t1 # Elements of t2 which have equivalent indices with t1 are greater"
   ]
  },
  {
   "cell_type": "markdown",
   "id": "western-performance",
   "metadata": {},
   "source": [
    "#### Convenience Functions"
   ]
  },
  {
   "cell_type": "code",
   "execution_count": 43,
   "id": "dietary-boundary",
   "metadata": {},
   "outputs": [
    {
     "data": {
      "text/plain": [
       "array([[1, 2, 3],\n",
       "       [4, 5, 6]])"
      ]
     },
     "execution_count": 43,
     "metadata": {},
     "output_type": "execute_result"
    }
   ],
   "source": [
    "a = np.array([1, 2, 3, 4, 5, 6])\n",
    "a.reshape(2, 3) # Two rows three columns"
   ]
  },
  {
   "cell_type": "code",
   "execution_count": 46,
   "id": "technical-canadian",
   "metadata": {},
   "outputs": [
    {
     "name": "stdout",
     "output_type": "stream",
     "text": [
      "[[1 2 3 4 5 6]]\n"
     ]
    }
   ],
   "source": [
    "# We can try to restore the array using reshape, but notice that the array is not flattened\n",
    "print(a.reshape(1, a.size))"
   ]
  },
  {
   "cell_type": "code",
   "execution_count": 47,
   "id": "earned-isolation",
   "metadata": {},
   "outputs": [
    {
     "name": "stdout",
     "output_type": "stream",
     "text": [
      "[1 2 3 4 5 6]\n"
     ]
    }
   ],
   "source": [
    "# Ravel will flatten the array into a single 1D array\n",
    "a = a.ravel()\n",
    "print(a)"
   ]
  },
  {
   "cell_type": "code",
   "execution_count": 48,
   "id": "surprised-margin",
   "metadata": {},
   "outputs": [
    {
     "data": {
      "text/plain": [
       "array([0., 0., 0.])"
      ]
     },
     "execution_count": 48,
     "metadata": {},
     "output_type": "execute_result"
    }
   ],
   "source": [
    "np.zeros(3) # Null matrix"
   ]
  },
  {
   "cell_type": "code",
   "execution_count": 49,
   "id": "governing-giant",
   "metadata": {},
   "outputs": [
    {
     "data": {
      "text/plain": [
       "array([1., 1., 1.])"
      ]
     },
     "execution_count": 49,
     "metadata": {},
     "output_type": "execute_result"
    }
   ],
   "source": [
    "np.ones(3) # All-ones matrix"
   ]
  },
  {
   "cell_type": "code",
   "execution_count": 50,
   "id": "interesting-health",
   "metadata": {},
   "outputs": [
    {
     "name": "stdout",
     "output_type": "stream",
     "text": [
      "[[1. 0. 0.]\n",
      " [0. 1. 0.]\n",
      " [0. 0. 1.]]\n"
     ]
    }
   ],
   "source": [
    "id_mat = np.identity(3) # Identity Matrix\n",
    "print(id_mat)"
   ]
  },
  {
   "cell_type": "code",
   "execution_count": 51,
   "id": "contemporary-shore",
   "metadata": {},
   "outputs": [
    {
     "data": {
      "text/plain": [
       "3.0"
      ]
     },
     "execution_count": 51,
     "metadata": {},
     "output_type": "execute_result"
    }
   ],
   "source": [
    "np.trace(id_mat) # Trace (sum along the i=j elements of matrix)"
   ]
  },
  {
   "cell_type": "code",
   "execution_count": 52,
   "id": "changed-party",
   "metadata": {},
   "outputs": [
    {
     "name": "stdout",
     "output_type": "stream",
     "text": [
      "[[0 0 0]\n",
      " [1 1 1]]\n",
      "[0 0 0 1 1 1]\n"
     ]
    }
   ],
   "source": [
    "n1 = np.array([0, 0, 0])\n",
    "n2 = np.array([1, 1, 1])\n",
    "print(np.vstack((n1, n2))) # stack arrays vertically\n",
    "print(np.hstack((n1, n2))) # stack arrays horizontally"
   ]
  },
  {
   "cell_type": "code",
   "execution_count": 53,
   "id": "regulation-holmes",
   "metadata": {},
   "outputs": [
    {
     "name": "stdout",
     "output_type": "stream",
     "text": [
      "[[0 0 0 0 0 0 0 0 0]\n",
      " [0 0 0 0 0 0 0 0 0]\n",
      " [0 0 0 0 0 0 0 0 0]]\n",
      "27\n"
     ]
    }
   ],
   "source": [
    "tiled = np.tile(n1, (3, 3)) # we can \"tile\" or repeat an array over (i,j) iterations\n",
    "print(tiled)\n",
    "print(tiled.size)"
   ]
  },
  {
   "cell_type": "code",
   "execution_count": 54,
   "id": "expected-morning",
   "metadata": {},
   "outputs": [
    {
     "name": "stdout",
     "output_type": "stream",
     "text": [
      "[0 0 0 0 0 1 0 0 0 0 0 0 0 0 0 0 0 0 0 0 0 0 0 0 0 0 0 0]\n",
      "(28,)\n",
      "(27,)\n"
     ]
    }
   ],
   "source": [
    "new_tiled = np.insert(tiled, 5, 1)\n",
    "print(new_tiled)\n",
    "print(new_tiled.shape)\n",
    "new_tiled = np.delete(new_tiled, 0) # Delete element index 0\n",
    "print(new_tiled.shape)"
   ]
  },
  {
   "cell_type": "code",
   "execution_count": 55,
   "id": "electrical-breakfast",
   "metadata": {},
   "outputs": [
    {
     "data": {
      "text/plain": [
       "array([[0, 0, 0, 0, 1, 0, 0, 0, 0],\n",
       "       [0, 0, 0, 0, 0, 0, 0, 0, 0],\n",
       "       [0, 0, 0, 0, 0, 0, 0, 0, 0]])"
      ]
     },
     "execution_count": 55,
     "metadata": {},
     "output_type": "execute_result"
    }
   ],
   "source": [
    "new_tiled.reshape(3, 9)"
   ]
  },
  {
   "cell_type": "code",
   "execution_count": null,
   "id": "powered-airline",
   "metadata": {},
   "outputs": [],
   "source": [
    "print(new_tiled) # doesn't affect original array"
   ]
  },
  {
   "cell_type": "code",
   "execution_count": 56,
   "id": "stainless-lexington",
   "metadata": {},
   "outputs": [
    {
     "data": {
      "text/plain": [
       "[array([0, 0, 0, 0, 1, 0, 0, 0, 0]),\n",
       " array([0, 0, 0, 0, 0, 0, 0, 0, 0]),\n",
       " array([0, 0, 0, 0, 0, 0, 0, 0, 0])]"
      ]
     },
     "execution_count": 56,
     "metadata": {},
     "output_type": "execute_result"
    }
   ],
   "source": [
    "np.hsplit(new_tiled, 3) # Similar to reshape() but generates a list of arrays one for each row"
   ]
  },
  {
   "cell_type": "code",
   "execution_count": 57,
   "id": "stone-heather",
   "metadata": {},
   "outputs": [
    {
     "name": "stdout",
     "output_type": "stream",
     "text": [
      "1\n",
      "1\n",
      "[0 0 0 0 1 0 0 0 0 0 0 0 0 0 0 0 0 0 0 0 0 0 0 0 0 0 0]\n",
      "[0 0 0 0 0 1 0 0 0 0 0 0 0 0 0 0 0 0 0 0 0 0 0 0 0 0 0]\n"
     ]
    }
   ],
   "source": [
    "print(new_tiled[4])\n",
    "print(np.roll(new_tiled, 1)[5]) # roll shifts values of set axis over by 1\n",
    "print(new_tiled)\n",
    "print(np.roll(new_tiled, 1)) # useful for periodic boundary conditions"
   ]
  },
  {
   "cell_type": "code",
   "execution_count": 58,
   "id": "falling-borough",
   "metadata": {},
   "outputs": [
    {
     "name": "stdout",
     "output_type": "stream",
     "text": [
      "[0 0 0 0 0 0 0 0 0 0 0 0 0 0 0 0 0 0 0 0 0 0 0 0 0 0 0]\n"
     ]
    }
   ],
   "source": [
    "new_tiled.fill(0) # affects original array to set all elements to zero\n",
    "print(new_tiled)"
   ]
  },
  {
   "cell_type": "code",
   "execution_count": 59,
   "id": "aging-notification",
   "metadata": {},
   "outputs": [
    {
     "data": {
      "text/plain": [
       "array([[0.91745772, 0.37881851, 0.7108944 ]])"
      ]
     },
     "execution_count": 59,
     "metadata": {},
     "output_type": "execute_result"
    }
   ],
   "source": [
    "np.random.rand(1, 3) # Random floats on interval [0, 1]"
   ]
  },
  {
   "cell_type": "code",
   "execution_count": 60,
   "id": "occasional-mustang",
   "metadata": {},
   "outputs": [
    {
     "data": {
      "text/plain": [
       "array([ 0. ,  0.1,  0.2,  0.3,  0.4,  0.5,  0.6,  0.7,  0.8,  0.9,  1. ,\n",
       "        1.1,  1.2,  1.3,  1.4,  1.5,  1.6,  1.7,  1.8,  1.9,  2. ,  2.1,\n",
       "        2.2,  2.3,  2.4,  2.5,  2.6,  2.7,  2.8,  2.9,  3. ,  3.1,  3.2,\n",
       "        3.3,  3.4,  3.5,  3.6,  3.7,  3.8,  3.9,  4. ,  4.1,  4.2,  4.3,\n",
       "        4.4,  4.5,  4.6,  4.7,  4.8,  4.9,  5. ,  5.1,  5.2,  5.3,  5.4,\n",
       "        5.5,  5.6,  5.7,  5.8,  5.9,  6. ,  6.1,  6.2,  6.3,  6.4,  6.5,\n",
       "        6.6,  6.7,  6.8,  6.9,  7. ,  7.1,  7.2,  7.3,  7.4,  7.5,  7.6,\n",
       "        7.7,  7.8,  7.9,  8. ,  8.1,  8.2,  8.3,  8.4,  8.5,  8.6,  8.7,\n",
       "        8.8,  8.9,  9. ,  9.1,  9.2,  9.3,  9.4,  9.5,  9.6,  9.7,  9.8,\n",
       "        9.9, 10. ])"
      ]
     },
     "execution_count": 60,
     "metadata": {},
     "output_type": "execute_result"
    }
   ],
   "source": [
    "np.arange(0, 10.1, .1, dtype=float) # advantage over range() - can use other types (Syntax: [start, stop, step])"
   ]
  },
  {
   "cell_type": "code",
   "execution_count": 61,
   "id": "graphic-faith",
   "metadata": {},
   "outputs": [
    {
     "ename": "TypeError",
     "evalue": "'float' object cannot be interpreted as an integer",
     "output_type": "error",
     "traceback": [
      "\u001b[0;31m---------------------------------------------------------------------------\u001b[0m",
      "\u001b[0;31mTypeError\u001b[0m                                 Traceback (most recent call last)",
      "\u001b[0;32m<ipython-input-61-bc6714ecd1a2>\u001b[0m in \u001b[0;36m<module>\u001b[0;34m\u001b[0m\n\u001b[0;32m----> 1\u001b[0;31m \u001b[0mrange\u001b[0m\u001b[0;34m(\u001b[0m\u001b[0;36m0\u001b[0m\u001b[0;34m,\u001b[0m \u001b[0;36m10.1\u001b[0m\u001b[0;34m,\u001b[0m \u001b[0;36m.1\u001b[0m\u001b[0;34m)\u001b[0m \u001b[0;31m# Range can't handle non-integers\u001b[0m\u001b[0;34m\u001b[0m\u001b[0;34m\u001b[0m\u001b[0m\n\u001b[0m",
      "\u001b[0;31mTypeError\u001b[0m: 'float' object cannot be interpreted as an integer"
     ]
    }
   ],
   "source": [
    "range(0, 10.1, .1) # Range can't handle non-integers"
   ]
  },
  {
   "cell_type": "code",
   "execution_count": 62,
   "id": "nervous-lancaster",
   "metadata": {},
   "outputs": [
    {
     "name": "stdout",
     "output_type": "stream",
     "text": [
      "[['Human' 'Gorilla' 'Chimpanzee']\n",
      " ['60' '70' '80']]\n"
     ]
    }
   ],
   "source": [
    "ex = np.asarray([['Human', 'Gorilla', 'Chimpanzee'], [60, 70, 80]])\n",
    "print(ex)"
   ]
  },
  {
   "cell_type": "code",
   "execution_count": 63,
   "id": "beautiful-wisdom",
   "metadata": {},
   "outputs": [
    {
     "name": "stdout",
     "output_type": "stream",
     "text": [
      "[['Chimpanzee' 'Gorilla' 'Human']\n",
      " ['60' '70' '80']]\n"
     ]
    }
   ],
   "source": [
    "print(np.sort(ex, axis=1)) # axis = 1 is the x-axis in numpy\n",
    "\n",
    "# Notice that although first row is sorted, the corresponding values have not?"
   ]
  },
  {
   "cell_type": "code",
   "execution_count": 64,
   "id": "professional-aging",
   "metadata": {},
   "outputs": [
    {
     "name": "stdout",
     "output_type": "stream",
     "text": [
      "[2 1 0]\n"
     ]
    }
   ],
   "source": [
    "indxs = np.argsort(ex[0, :]) # return the indices after sorting and then apply to the original array\n",
    "print(indxs)"
   ]
  },
  {
   "cell_type": "code",
   "execution_count": 65,
   "id": "associate-manhattan",
   "metadata": {},
   "outputs": [
    {
     "name": "stdout",
     "output_type": "stream",
     "text": [
      "[['Chimpanzee' 'Gorilla' 'Human']\n",
      " ['80' '70' '60']]\n"
     ]
    }
   ],
   "source": [
    "ex = ex[:, indxs]\n",
    "print(ex) # Sorted by alphabetical"
   ]
  },
  {
   "cell_type": "markdown",
   "id": "destroyed-divorce",
   "metadata": {},
   "source": [
    "##### Output with NumPy"
   ]
  },
  {
   "cell_type": "code",
   "execution_count": 66,
   "id": "interesting-interview",
   "metadata": {},
   "outputs": [],
   "source": [
    "np.savetxt('numpy_output.txt', ex, fmt='%s', delimiter=' ')"
   ]
  },
  {
   "cell_type": "code",
   "execution_count": 67,
   "id": "stupid-newfoundland",
   "metadata": {},
   "outputs": [],
   "source": [
    "ex.tofile('numpy_output.txt', sep=' ')"
   ]
  },
  {
   "cell_type": "markdown",
   "id": "floppy-framing",
   "metadata": {},
   "source": [
    "There are many more function that are not covered here."
   ]
  },
  {
   "cell_type": "markdown",
   "id": "realistic-translation",
   "metadata": {},
   "source": [
    "#### Pandas Library"
   ]
  },
  {
   "cell_type": "code",
   "execution_count": 68,
   "id": "intellectual-happening",
   "metadata": {},
   "outputs": [],
   "source": [
    "import pandas as pd"
   ]
  },
  {
   "cell_type": "code",
   "execution_count": 69,
   "id": "hungry-drove",
   "metadata": {},
   "outputs": [
    {
     "name": "stdout",
     "output_type": "stream",
     "text": [
      "<class 'pandas.core.frame.DataFrame'>\n"
     ]
    }
   ],
   "source": [
    "# pd.read_fwf() \"Fixed width formatted\"\n",
    "data = pd.read_fwf('Data.txt', header=None)\n",
    "print(type(data)) # Stores as data frame object"
   ]
  },
  {
   "cell_type": "code",
   "execution_count": 70,
   "id": "weird-horizon",
   "metadata": {},
   "outputs": [
    {
     "name": "stdout",
     "output_type": "stream",
     "text": [
      "<class 'pandas.core.frame.DataFrame'>\n",
      "         0        1\n",
      "0    17.99  0.14710\n",
      "1    20.57  0.07017\n",
      "2    19.69  0.12790\n",
      "3    11.42  0.10520\n",
      "4    20.29  0.10430\n",
      "..     ...      ...\n",
      "564  21.56  0.13890\n",
      "565  20.13  0.09791\n",
      "566  16.60  0.05302\n",
      "567  20.60  0.15200\n",
      "568   7.76  0.00000\n",
      "\n",
      "[569 rows x 2 columns]\n"
     ]
    }
   ],
   "source": [
    "data = pd.read_csv('Data.txt', sep=\" \", header=None)\n",
    "print(type(data)) # Stores as data frame object\n",
    "print(data)"
   ]
  },
  {
   "cell_type": "code",
   "execution_count": 71,
   "id": "dutch-burden",
   "metadata": {},
   "outputs": [
    {
     "name": "stdout",
     "output_type": "stream",
     "text": [
      "     Average Radius  Average # Concavities\n",
      "0             17.99                0.14710\n",
      "1             20.57                0.07017\n",
      "2             19.69                0.12790\n",
      "3             11.42                0.10520\n",
      "4             20.29                0.10430\n",
      "..              ...                    ...\n",
      "564           21.56                0.13890\n",
      "565           20.13                0.09791\n",
      "566           16.60                0.05302\n",
      "567           20.60                0.15200\n",
      "568            7.76                0.00000\n",
      "\n",
      "[569 rows x 2 columns]\n"
     ]
    }
   ],
   "source": [
    "data = data.rename(columns={0: \"Average Radius\", 1: \"Average # Concavities\"})\n",
    "print(data)"
   ]
  },
  {
   "cell_type": "code",
   "execution_count": 72,
   "id": "solid-birth",
   "metadata": {},
   "outputs": [
    {
     "data": {
      "text/html": [
       "<div>\n",
       "<style scoped>\n",
       "    .dataframe tbody tr th:only-of-type {\n",
       "        vertical-align: middle;\n",
       "    }\n",
       "\n",
       "    .dataframe tbody tr th {\n",
       "        vertical-align: top;\n",
       "    }\n",
       "\n",
       "    .dataframe thead th {\n",
       "        text-align: right;\n",
       "    }\n",
       "</style>\n",
       "<table border=\"1\" class=\"dataframe\">\n",
       "  <thead>\n",
       "    <tr style=\"text-align: right;\">\n",
       "      <th></th>\n",
       "      <th>Average Radius</th>\n",
       "      <th>Average # Concavities</th>\n",
       "    </tr>\n",
       "  </thead>\n",
       "  <tbody>\n",
       "    <tr>\n",
       "      <th>0</th>\n",
       "      <td>17.99</td>\n",
       "      <td>0.14710</td>\n",
       "    </tr>\n",
       "    <tr>\n",
       "      <th>1</th>\n",
       "      <td>20.57</td>\n",
       "      <td>0.07017</td>\n",
       "    </tr>\n",
       "    <tr>\n",
       "      <th>2</th>\n",
       "      <td>19.69</td>\n",
       "      <td>0.12790</td>\n",
       "    </tr>\n",
       "    <tr>\n",
       "      <th>3</th>\n",
       "      <td>11.42</td>\n",
       "      <td>0.10520</td>\n",
       "    </tr>\n",
       "    <tr>\n",
       "      <th>4</th>\n",
       "      <td>20.29</td>\n",
       "      <td>0.10430</td>\n",
       "    </tr>\n",
       "  </tbody>\n",
       "</table>\n",
       "</div>"
      ],
      "text/plain": [
       "   Average Radius  Average # Concavities\n",
       "0           17.99                0.14710\n",
       "1           20.57                0.07017\n",
       "2           19.69                0.12790\n",
       "3           11.42                0.10520\n",
       "4           20.29                0.10430"
      ]
     },
     "execution_count": 72,
     "metadata": {},
     "output_type": "execute_result"
    }
   ],
   "source": [
    "data.head() # First 5 entries "
   ]
  },
  {
   "cell_type": "code",
   "execution_count": 73,
   "id": "numeric-frontier",
   "metadata": {},
   "outputs": [
    {
     "data": {
      "text/html": [
       "<div>\n",
       "<style scoped>\n",
       "    .dataframe tbody tr th:only-of-type {\n",
       "        vertical-align: middle;\n",
       "    }\n",
       "\n",
       "    .dataframe tbody tr th {\n",
       "        vertical-align: top;\n",
       "    }\n",
       "\n",
       "    .dataframe thead th {\n",
       "        text-align: right;\n",
       "    }\n",
       "</style>\n",
       "<table border=\"1\" class=\"dataframe\">\n",
       "  <thead>\n",
       "    <tr style=\"text-align: right;\">\n",
       "      <th></th>\n",
       "      <th>Average Radius</th>\n",
       "      <th>Average # Concavities</th>\n",
       "    </tr>\n",
       "  </thead>\n",
       "  <tbody>\n",
       "    <tr>\n",
       "      <th>564</th>\n",
       "      <td>21.56</td>\n",
       "      <td>0.13890</td>\n",
       "    </tr>\n",
       "    <tr>\n",
       "      <th>565</th>\n",
       "      <td>20.13</td>\n",
       "      <td>0.09791</td>\n",
       "    </tr>\n",
       "    <tr>\n",
       "      <th>566</th>\n",
       "      <td>16.60</td>\n",
       "      <td>0.05302</td>\n",
       "    </tr>\n",
       "    <tr>\n",
       "      <th>567</th>\n",
       "      <td>20.60</td>\n",
       "      <td>0.15200</td>\n",
       "    </tr>\n",
       "    <tr>\n",
       "      <th>568</th>\n",
       "      <td>7.76</td>\n",
       "      <td>0.00000</td>\n",
       "    </tr>\n",
       "  </tbody>\n",
       "</table>\n",
       "</div>"
      ],
      "text/plain": [
       "     Average Radius  Average # Concavities\n",
       "564           21.56                0.13890\n",
       "565           20.13                0.09791\n",
       "566           16.60                0.05302\n",
       "567           20.60                0.15200\n",
       "568            7.76                0.00000"
      ]
     },
     "execution_count": 73,
     "metadata": {},
     "output_type": "execute_result"
    }
   ],
   "source": [
    "data.tail() # Last 5 entries"
   ]
  },
  {
   "cell_type": "code",
   "execution_count": 74,
   "id": "colored-corrections",
   "metadata": {},
   "outputs": [
    {
     "name": "stdout",
     "output_type": "stream",
     "text": [
      "<class 'pandas.core.frame.DataFrame'>\n",
      "RangeIndex: 569 entries, 0 to 568\n",
      "Data columns (total 2 columns):\n",
      " #   Column                 Non-Null Count  Dtype  \n",
      "---  ------                 --------------  -----  \n",
      " 0   Average Radius         569 non-null    float64\n",
      " 1   Average # Concavities  569 non-null    float64\n",
      "dtypes: float64(2)\n",
      "memory usage: 9.0 KB\n"
     ]
    }
   ],
   "source": [
    "data.info() # General information about the df"
   ]
  },
  {
   "cell_type": "code",
   "execution_count": 75,
   "id": "powerful-hybrid",
   "metadata": {},
   "outputs": [
    {
     "data": {
      "text/plain": [
       "0      17.99\n",
       "1      20.57\n",
       "2      19.69\n",
       "3      11.42\n",
       "4      20.29\n",
       "       ...  \n",
       "564    21.56\n",
       "565    20.13\n",
       "566    16.60\n",
       "567    20.60\n",
       "568     7.76\n",
       "Name: Average Radius, Length: 569, dtype: float64"
      ]
     },
     "execution_count": 75,
     "metadata": {},
     "output_type": "execute_result"
    }
   ],
   "source": [
    "data['Average Radius'] # We can select data columns using keywords"
   ]
  },
  {
   "cell_type": "code",
   "execution_count": 76,
   "id": "warming-airline",
   "metadata": {},
   "outputs": [
    {
     "data": {
      "text/plain": [
       "pandas.core.arrays.numpy_.PandasArray"
      ]
     },
     "execution_count": 76,
     "metadata": {},
     "output_type": "execute_result"
    }
   ],
   "source": [
    "type(data['Average Radius'].array) # some NumPy functionalities included in Pandas"
   ]
  },
  {
   "cell_type": "code",
   "execution_count": 77,
   "id": "european-photographer",
   "metadata": {},
   "outputs": [
    {
     "data": {
      "text/plain": [
       "8038.429"
      ]
     },
     "execution_count": 77,
     "metadata": {},
     "output_type": "execute_result"
    }
   ],
   "source": [
    "np.asarray(data['Average Radius']).sum() # Ex"
   ]
  },
  {
   "cell_type": "code",
   "execution_count": 78,
   "id": "processed-intention",
   "metadata": {},
   "outputs": [
    {
     "data": {
      "text/plain": [
       "8038.429"
      ]
     },
     "execution_count": 78,
     "metadata": {},
     "output_type": "execute_result"
    }
   ],
   "source": [
    "data['Average Radius'].sum()"
   ]
  },
  {
   "cell_type": "code",
   "execution_count": 79,
   "id": "eligible-pierce",
   "metadata": {},
   "outputs": [
    {
     "data": {
      "text/plain": [
       "0      0.14710\n",
       "1      0.07017\n",
       "2      0.12790\n",
       "3      0.10520\n",
       "4      0.10430\n",
       "        ...   \n",
       "564    0.13890\n",
       "565    0.09791\n",
       "566    0.05302\n",
       "567    0.15200\n",
       "568    0.00000\n",
       "Name: Average # Concavities, Length: 569, dtype: float64"
      ]
     },
     "execution_count": 79,
     "metadata": {},
     "output_type": "execute_result"
    }
   ],
   "source": [
    "data.iloc[:,1] # indexing can be done with the iloc() function"
   ]
  },
  {
   "cell_type": "code",
   "execution_count": 80,
   "id": "ranking-capability",
   "metadata": {},
   "outputs": [
    {
     "data": {
      "text/html": [
       "<div>\n",
       "<style scoped>\n",
       "    .dataframe tbody tr th:only-of-type {\n",
       "        vertical-align: middle;\n",
       "    }\n",
       "\n",
       "    .dataframe tbody tr th {\n",
       "        vertical-align: top;\n",
       "    }\n",
       "\n",
       "    .dataframe thead th {\n",
       "        text-align: right;\n",
       "    }\n",
       "</style>\n",
       "<table border=\"1\" class=\"dataframe\">\n",
       "  <thead>\n",
       "    <tr style=\"text-align: right;\">\n",
       "      <th></th>\n",
       "      <th>Average Radius</th>\n",
       "      <th>Average # Concavities</th>\n",
       "    </tr>\n",
       "  </thead>\n",
       "  <tbody>\n",
       "    <tr>\n",
       "      <th>count</th>\n",
       "      <td>569.000000</td>\n",
       "      <td>569.000000</td>\n",
       "    </tr>\n",
       "    <tr>\n",
       "      <th>mean</th>\n",
       "      <td>14.127292</td>\n",
       "      <td>0.048919</td>\n",
       "    </tr>\n",
       "    <tr>\n",
       "      <th>std</th>\n",
       "      <td>3.524049</td>\n",
       "      <td>0.038803</td>\n",
       "    </tr>\n",
       "    <tr>\n",
       "      <th>min</th>\n",
       "      <td>6.981000</td>\n",
       "      <td>0.000000</td>\n",
       "    </tr>\n",
       "    <tr>\n",
       "      <th>25%</th>\n",
       "      <td>11.700000</td>\n",
       "      <td>0.020310</td>\n",
       "    </tr>\n",
       "    <tr>\n",
       "      <th>50%</th>\n",
       "      <td>13.370000</td>\n",
       "      <td>0.033500</td>\n",
       "    </tr>\n",
       "    <tr>\n",
       "      <th>75%</th>\n",
       "      <td>15.780000</td>\n",
       "      <td>0.074000</td>\n",
       "    </tr>\n",
       "    <tr>\n",
       "      <th>max</th>\n",
       "      <td>28.110000</td>\n",
       "      <td>0.201200</td>\n",
       "    </tr>\n",
       "  </tbody>\n",
       "</table>\n",
       "</div>"
      ],
      "text/plain": [
       "       Average Radius  Average # Concavities\n",
       "count      569.000000             569.000000\n",
       "mean        14.127292               0.048919\n",
       "std          3.524049               0.038803\n",
       "min          6.981000               0.000000\n",
       "25%         11.700000               0.020310\n",
       "50%         13.370000               0.033500\n",
       "75%         15.780000               0.074000\n",
       "max         28.110000               0.201200"
      ]
     },
     "execution_count": 80,
     "metadata": {},
     "output_type": "execute_result"
    }
   ],
   "source": [
    "data.describe() # Quick way of gathering measures of central tendency "
   ]
  },
  {
   "cell_type": "code",
   "execution_count": 81,
   "id": "nearby-wages",
   "metadata": {},
   "outputs": [
    {
     "data": {
      "text/plain": [
       "Average Radius           False\n",
       "Average # Concavities    False\n",
       "dtype: bool"
      ]
     },
     "execution_count": 81,
     "metadata": {},
     "output_type": "execute_result"
    }
   ],
   "source": [
    "data.isna().any() # Check if any values are missing"
   ]
  },
  {
   "cell_type": "code",
   "execution_count": 82,
   "id": "decreased-provider",
   "metadata": {},
   "outputs": [
    {
     "data": {
      "text/html": [
       "<div>\n",
       "<style scoped>\n",
       "    .dataframe tbody tr th:only-of-type {\n",
       "        vertical-align: middle;\n",
       "    }\n",
       "\n",
       "    .dataframe tbody tr th {\n",
       "        vertical-align: top;\n",
       "    }\n",
       "\n",
       "    .dataframe thead th {\n",
       "        text-align: right;\n",
       "    }\n",
       "</style>\n",
       "<table border=\"1\" class=\"dataframe\">\n",
       "  <thead>\n",
       "    <tr style=\"text-align: right;\">\n",
       "      <th></th>\n",
       "      <th>Average Radius</th>\n",
       "      <th>Average # Concavities</th>\n",
       "    </tr>\n",
       "  </thead>\n",
       "  <tbody>\n",
       "    <tr>\n",
       "      <th>Average Radius</th>\n",
       "      <td>1.000000</td>\n",
       "      <td>0.822529</td>\n",
       "    </tr>\n",
       "    <tr>\n",
       "      <th>Average # Concavities</th>\n",
       "      <td>0.822529</td>\n",
       "      <td>1.000000</td>\n",
       "    </tr>\n",
       "  </tbody>\n",
       "</table>\n",
       "</div>"
      ],
      "text/plain": [
       "                       Average Radius  Average # Concavities\n",
       "Average Radius               1.000000               0.822529\n",
       "Average # Concavities        0.822529               1.000000"
      ]
     },
     "execution_count": 82,
     "metadata": {},
     "output_type": "execute_result"
    }
   ],
   "source": [
    "data.corr() # Pearson Correlation shows a high correlation (>.8) between radius and the number of concavities.\n",
    "# Hypothesis: Abnormal nucleus expansion results in structural difficiencies resulting in concavities\n",
    "# Note: Correlation does not mean causation"
   ]
  },
  {
   "cell_type": "code",
   "execution_count": 83,
   "id": "understanding-property",
   "metadata": {},
   "outputs": [
    {
     "data": {
      "text/html": [
       "<div>\n",
       "<style scoped>\n",
       "    .dataframe tbody tr th:only-of-type {\n",
       "        vertical-align: middle;\n",
       "    }\n",
       "\n",
       "    .dataframe tbody tr th {\n",
       "        vertical-align: top;\n",
       "    }\n",
       "\n",
       "    .dataframe thead th {\n",
       "        text-align: right;\n",
       "    }\n",
       "</style>\n",
       "<table border=\"1\" class=\"dataframe\">\n",
       "  <thead>\n",
       "    <tr style=\"text-align: right;\">\n",
       "      <th></th>\n",
       "      <th>Animal</th>\n",
       "      <th>Max Speed</th>\n",
       "    </tr>\n",
       "  </thead>\n",
       "  <tbody>\n",
       "    <tr>\n",
       "      <th>0</th>\n",
       "      <td>Falcon</td>\n",
       "      <td>380.0</td>\n",
       "    </tr>\n",
       "    <tr>\n",
       "      <th>1</th>\n",
       "      <td>Falcon</td>\n",
       "      <td>370.0</td>\n",
       "    </tr>\n",
       "    <tr>\n",
       "      <th>2</th>\n",
       "      <td>Parrot</td>\n",
       "      <td>24.0</td>\n",
       "    </tr>\n",
       "    <tr>\n",
       "      <th>3</th>\n",
       "      <td>Parrot</td>\n",
       "      <td>26.0</td>\n",
       "    </tr>\n",
       "  </tbody>\n",
       "</table>\n",
       "</div>"
      ],
      "text/plain": [
       "   Animal  Max Speed\n",
       "0  Falcon      380.0\n",
       "1  Falcon      370.0\n",
       "2  Parrot       24.0\n",
       "3  Parrot       26.0"
      ]
     },
     "execution_count": 83,
     "metadata": {},
     "output_type": "execute_result"
    }
   ],
   "source": [
    "df = pd.DataFrame({'Animal': ['Falcon', 'Falcon','Parrot', 'Parrot'], 'Max Speed': [380., 370., 24., 26.]})\n",
    "df"
   ]
  },
  {
   "cell_type": "code",
   "execution_count": 84,
   "id": "graduate-approach",
   "metadata": {},
   "outputs": [
    {
     "data": {
      "text/html": [
       "<div>\n",
       "<style scoped>\n",
       "    .dataframe tbody tr th:only-of-type {\n",
       "        vertical-align: middle;\n",
       "    }\n",
       "\n",
       "    .dataframe tbody tr th {\n",
       "        vertical-align: top;\n",
       "    }\n",
       "\n",
       "    .dataframe thead th {\n",
       "        text-align: right;\n",
       "    }\n",
       "</style>\n",
       "<table border=\"1\" class=\"dataframe\">\n",
       "  <thead>\n",
       "    <tr style=\"text-align: right;\">\n",
       "      <th></th>\n",
       "      <th>Max Speed</th>\n",
       "    </tr>\n",
       "    <tr>\n",
       "      <th>Animal</th>\n",
       "      <th></th>\n",
       "    </tr>\n",
       "  </thead>\n",
       "  <tbody>\n",
       "    <tr>\n",
       "      <th>Falcon</th>\n",
       "      <td>375.0</td>\n",
       "    </tr>\n",
       "    <tr>\n",
       "      <th>Parrot</th>\n",
       "      <td>25.0</td>\n",
       "    </tr>\n",
       "  </tbody>\n",
       "</table>\n",
       "</div>"
      ],
      "text/plain": [
       "        Max Speed\n",
       "Animal           \n",
       "Falcon      375.0\n",
       "Parrot       25.0"
      ]
     },
     "execution_count": 84,
     "metadata": {},
     "output_type": "execute_result"
    }
   ],
   "source": [
    "df.groupby(['Animal']).mean()"
   ]
  },
  {
   "cell_type": "markdown",
   "id": "european-giant",
   "metadata": {},
   "source": [
    "#### Basic SymPy - Symbolic Computation in Python"
   ]
  },
  {
   "cell_type": "code",
   "execution_count": 85,
   "id": "statistical-elephant",
   "metadata": {},
   "outputs": [],
   "source": [
    "from sympy import *"
   ]
  },
  {
   "cell_type": "code",
   "execution_count": 86,
   "id": "opened-virgin",
   "metadata": {},
   "outputs": [
    {
     "name": "stdout",
     "output_type": "stream",
     "text": [
      "x y t\n"
     ]
    }
   ],
   "source": [
    "x, y, t = symbols('x y t')\n",
    "print(x, y, t)"
   ]
  },
  {
   "cell_type": "code",
   "execution_count": 87,
   "id": "stock-princess",
   "metadata": {},
   "outputs": [
    {
     "data": {
      "text/latex": [
       "$\\displaystyle \\cos{\\left(x \\right)}$"
      ],
      "text/plain": [
       "cos(x)"
      ]
     },
     "execution_count": 87,
     "metadata": {},
     "output_type": "execute_result"
    }
   ],
   "source": [
    "diff(sin(x))"
   ]
  },
  {
   "cell_type": "code",
   "execution_count": 88,
   "id": "pleased-standing",
   "metadata": {},
   "outputs": [
    {
     "data": {
      "text/latex": [
       "$\\displaystyle x^{2}$"
      ],
      "text/plain": [
       "x**2"
      ]
     },
     "execution_count": 88,
     "metadata": {},
     "output_type": "execute_result"
    }
   ],
   "source": [
    "x**2"
   ]
  },
  {
   "cell_type": "code",
   "execution_count": 89,
   "id": "clinical-confirmation",
   "metadata": {},
   "outputs": [
    {
     "data": {
      "text/latex": [
       "$\\displaystyle 2 x$"
      ],
      "text/plain": [
       "2*x"
      ]
     },
     "execution_count": 89,
     "metadata": {},
     "output_type": "execute_result"
    }
   ],
   "source": [
    "diff(x**2)"
   ]
  },
  {
   "cell_type": "code",
   "execution_count": 90,
   "id": "bronze-prototype",
   "metadata": {},
   "outputs": [
    {
     "data": {
      "text/latex": [
       "$\\displaystyle - \\cos{\\left(x \\right)}$"
      ],
      "text/plain": [
       "-cos(x)"
      ]
     },
     "execution_count": 90,
     "metadata": {},
     "output_type": "execute_result"
    }
   ],
   "source": [
    "integrate(sin(x)) # Analytical "
   ]
  },
  {
   "cell_type": "code",
   "execution_count": 91,
   "id": "scheduled-sword",
   "metadata": {},
   "outputs": [
    {
     "data": {
      "text/latex": [
       "$\\displaystyle 1$"
      ],
      "text/plain": [
       "1"
      ]
     },
     "execution_count": 91,
     "metadata": {},
     "output_type": "execute_result"
    }
   ],
   "source": [
    "integrate(sin(x), (x, pi/2, pi)) # Definite"
   ]
  },
  {
   "cell_type": "code",
   "execution_count": 92,
   "id": "superb-field",
   "metadata": {},
   "outputs": [
    {
     "data": {
      "text/latex": [
       "$\\displaystyle 1$"
      ],
      "text/plain": [
       "1"
      ]
     },
     "execution_count": 92,
     "metadata": {},
     "output_type": "execute_result"
    }
   ],
   "source": [
    "limit(sin(x), x, pi/2) # Limits"
   ]
  },
  {
   "cell_type": "code",
   "execution_count": 93,
   "id": "hired-leave",
   "metadata": {},
   "outputs": [
    {
     "name": "stdout",
     "output_type": "stream",
     "text": [
      "y\n"
     ]
    }
   ],
   "source": [
    "y = Function('y')\n",
    "print(y)"
   ]
  },
  {
   "cell_type": "markdown",
   "id": "imperial-genre",
   "metadata": {},
   "source": [
    "Solve the differential equation 𝑦″−𝑦=𝑒^𝑡"
   ]
  },
  {
   "cell_type": "code",
   "execution_count": 94,
   "id": "bulgarian-tattoo",
   "metadata": {},
   "outputs": [
    {
     "data": {
      "text/latex": [
       "$\\displaystyle y{\\left(t \\right)} = C_{2} e^{- t} + \\left(C_{1} + \\frac{t}{2}\\right) e^{t}$"
      ],
      "text/plain": [
       "Eq(y(t), C2*exp(-t) + (C1 + t/2)*exp(t))"
      ]
     },
     "execution_count": 94,
     "metadata": {},
     "output_type": "execute_result"
    }
   ],
   "source": [
    "dsolve(Eq(y(t).diff(t, t) - y(t), exp(t)), y(t)) # required variable as 't'"
   ]
  },
  {
   "cell_type": "markdown",
   "id": "thick-cause",
   "metadata": {},
   "source": [
    "Let's plot the results just to see what our solution looks like (we will go over plotting in more detail a future session)."
   ]
  },
  {
   "cell_type": "code",
   "execution_count": 95,
   "id": "spanish-thunder",
   "metadata": {},
   "outputs": [
    {
     "data": {
      "image/png": "[encoded data removed]",
      "text/plain": [
       "<Figure size 432x288 with 1 Axes>"
      ]
     },
     "metadata": {
      "needs_background": "light"
     },
     "output_type": "display_data"
    }
   ],
   "source": [
    "import matplotlib.pyplot as plt\n",
    "import numpy as np\n",
    "\n",
    "def y(ts, c1, c2): # set c1, c2 = 1\n",
    "    return c2*np.exp(-t)+(c1+t/2)*np.exp(t)\n",
    "\n",
    "t = np.linspace(0, 10, 10)\n",
    "\n",
    "for i in range(10):\n",
    "    for j in range(10):\n",
    "        plt.plot(t, y(t, i, j))\n",
    "\n",
    "plt.show() # The rate changes as a function of c1, c2"
   ]
  },
  {
   "cell_type": "code",
   "execution_count": 96,
   "id": "genetic-fever",
   "metadata": {},
   "outputs": [
    {
     "data": {
      "text/latex": [
       "$\\displaystyle \\left(x + 1\\right) \\left(x^{2} + 1\\right)$"
      ],
      "text/plain": [
       "(x + 1)*(x**2 + 1)"
      ]
     },
     "execution_count": 96,
     "metadata": {},
     "output_type": "execute_result"
    }
   ],
   "source": [
    "factor(x**3 + x**2 + x + 1)"
   ]
  },
  {
   "cell_type": "markdown",
   "id": "selected-quest",
   "metadata": {},
   "source": [
    "#### Applications to Chemical Systems\n",
    "\n",
    "##### **1.) Balancing Chemical Equations**"
   ]
  },
  {
   "cell_type": "markdown",
   "id": "announced-essence",
   "metadata": {},
   "source": [
    "Balancing chemical equations by hand is discussed during introductory chemistry classes. Let's write a function using SymPy to do the work for us. We will generate a matrix of coefficients for each atom and then convert the matrix to reduced row echelon form (RREF) for our answer."
   ]
  },
  {
   "cell_type": "markdown",
   "id": "front-spare",
   "metadata": {},
   "source": [
    "C<sub>3</sub>H<sub>8</sub> + O<sub>2</sub> &#8594; CO<sub>2</sub> + H<sub>2</sub>O"
   ]
  },
  {
   "cell_type": "markdown",
   "id": "significant-reference",
   "metadata": {},
   "source": [
    "We want to balance the combustion equation for propane. The matrix for this system by element is:"
   ]
  },
  {
   "cell_type": "code",
   "execution_count": 97,
   "id": "respective-cornell",
   "metadata": {},
   "outputs": [
    {
     "data": {
      "text/latex": [
       "$\\displaystyle \\left[\\begin{matrix}a & b & c & d\\\\3 & 0 & -1 & 0\\\\8 & 0 & 0 & -2\\\\0 & 2 & -2 & -1\\end{matrix}\\right]$"
      ],
      "text/plain": [
       "Matrix([\n",
       "[a, b,  c,  d],\n",
       "[3, 0, -1,  0],\n",
       "[8, 0,  0, -2],\n",
       "[0, 2, -2, -1]])"
      ]
     },
     "execution_count": 97,
     "metadata": {},
     "output_type": "execute_result"
    }
   ],
   "source": [
    "from sympy import *\n",
    "import numpy as np\n",
    "Matrix([['a', 'b', 'c', 'd'], [3, 0, -1, 0], [8, 0, 0, -2], [0, 2, -2, -1]])"
   ]
  },
  {
   "cell_type": "markdown",
   "id": "armed-stamp",
   "metadata": {},
   "source": [
    "Here a, b, c, and d are our desired coefficients in front of each chemical."
   ]
  },
  {
   "cell_type": "markdown",
   "id": "respected-crime",
   "metadata": {},
   "source": [
    "The procedure to acquire RREF: Perform row operations until the first non-zero entry (the \"pivot\") in each row is 1, the last row has all zeros, and all numbers above and below each pivot number (1) is zero.\n",
    "\n",
    "Legal row operations:\n",
    "\n",
    "1. Switching row positions\n",
    "2. Mutliplying a row by a number\n",
    "3. Adding rows together\n",
    "\n",
    "We can write our own code following the pseudo-code presented on [wikipedia](https://en.wikipedia.org/wiki/Row_echelon_form), or we can write a shorter function using SymPy which is what we'll do here."
   ]
  },
  {
   "cell_type": "code",
   "execution_count": 98,
   "id": "domestic-sixth",
   "metadata": {},
   "outputs": [
    {
     "name": "stdout",
     "output_type": "stream",
     "text": [
      "[[ 3  0 -1  0]\n",
      " [ 8  0  0 -2]\n",
      " [ 0  2 -2 -1]]\n"
     ]
    }
   ],
   "source": [
    "matrix = np.array([[3, 0, -1, 0], [8, 0, 0, -2], [0, 2, -2, -1]])\n",
    "print(matrix)"
   ]
  },
  {
   "cell_type": "code",
   "execution_count": 99,
   "id": "contemporary-student",
   "metadata": {},
   "outputs": [
    {
     "data": {
      "text/plain": [
       "(Matrix([\n",
       " [1, 0, 0, -1/4],\n",
       " [0, 1, 0, -5/4],\n",
       " [0, 0, 1, -3/4]]),\n",
       " (0, 1, 2))"
      ]
     },
     "execution_count": 99,
     "metadata": {},
     "output_type": "execute_result"
    }
   ],
   "source": [
    "Matrix(matrix).rref()"
   ]
  },
  {
   "cell_type": "markdown",
   "id": "controversial-samoa",
   "metadata": {},
   "source": [
    "This is means:\\\n",
    "a = -1/4d\\\n",
    "b = -5/4d\\\n",
    "c = -3/4d\n",
    "\n",
    "d is the factor to require to achieve integer values for our coefficients (lowest common denominator which is f)."
   ]
  },
  {
   "cell_type": "code",
   "execution_count": 100,
   "id": "established-republic",
   "metadata": {},
   "outputs": [],
   "source": [
    "def balance(m):\n",
    "    cols = ('a', 'b', 'c', 'd', 'e', 'f', 'g')\n",
    "    a = Matrix(matrix).rref()\n",
    "    for n, i in enumerate(range(3, len(a[0]), 4)):\n",
    "        value = a[0][i]\n",
    "        denom = fraction(together(value))[1]\n",
    "        print('{} = {}'.format(cols[n], abs(value*denom)))\n",
    "    print('{} = {}'.format(cols[n+1], denom)) # Notice 'n' is saved from enumerate"
   ]
  },
  {
   "cell_type": "code",
   "execution_count": 102,
   "id": "serial-franchise",
   "metadata": {},
   "outputs": [
    {
     "name": "stdout",
     "output_type": "stream",
     "text": [
      "a = 1\n",
      "b = 5\n",
      "c = 3\n",
      "d = 4\n"
     ]
    }
   ],
   "source": [
    "balance(matrix)"
   ]
  },
  {
   "cell_type": "markdown",
   "id": "perceived-disco",
   "metadata": {},
   "source": [
    "Balanced Equation: C<sub>3</sub>H<sub>8</sub> + **5**O<sub>2</sub> &#8594; **3**CO<sub>2</sub> + **4**H<sub>2</sub>O"
   ]
  },
  {
   "cell_type": "markdown",
   "id": "inappropriate-boxing",
   "metadata": {},
   "source": [
    "NumPy does not have this functionality. If you'd like practice and want to contribute this function to NumPy check out [this](https://numpy.org/doc/stable/dev/index.html) link. The pseudo-code for RREF can be found on [wikipedia](https://en.wikipedia.org/wiki/Row_echelon_form)."
   ]
  },
  {
   "cell_type": "markdown",
   "id": "intensive-folks",
   "metadata": {},
   "source": [
    "##### **2.) Chemical Kinetics**"
   ]
  },
  {
   "cell_type": "markdown",
   "id": "mysterious-kidney",
   "metadata": {},
   "source": [
    "In the previous example, we saw that coefficients of elementary chemical equations can be calculated by formulating a matrix.\n",
    "\n",
    "We can also integrate chemical rate equations using linear algebra as outlined in [this](https://pubs.acs.org/doi/pdf/10.1021/ed067p375) paper by the Journal of Chemical Education.\n",
    "\n",
    "The steps are:\n",
    "\n",
    "1. Generate a matrix, K, of the rate constants.\n",
    "2. Compute the eigenvalues and eigenvectors of the matrix.\n",
    "3. Compute the scalar coefficients\n",
    "\n",
    "Let's do this for the example of two unimolecular steps presented in the paper using NumPy."
   ]
  },
  {
   "cell_type": "markdown",
   "id": "higher-status",
   "metadata": {},
   "source": [
    "X<sub>1</sub> &#8594;<sup>k<sub>1</sub></sup> X<sub>2</sub> &#8594; <sup>k<sub>2</sub></sup> X<sub>3</sub>"
   ]
  },
  {
   "cell_type": "markdown",
   "id": "annual-veteran",
   "metadata": {},
   "source": [
    "The rate equations are:\n",
    "    \n",
    "   dX<sub>1</sub>/dt = -k<sub>1</sub>X<sub>1</sub>\\\n",
    "   dX<sub>2</sub>/dt = k<sub>1</sub>X<sub>2</sub> - k<sub>2</sub></sub>X<sub>2</sub>\\\n",
    "   dX<sub>3</sub>/dt = k<sub>2</sub>X<sub>3</sub>\n",
    "   \n",
    "So the matrix containing the rates is:"
   ]
  },
  {
   "cell_type": "code",
   "execution_count": 114,
   "id": "advance-strengthening",
   "metadata": {},
   "outputs": [
    {
     "data": {
      "text/latex": [
       "$\\displaystyle \\left[\\begin{matrix}- k_{1} & 0 & 0\\\\k_{1} & - k_{2} & 0\\\\0 & k_{2} & 0\\end{matrix}\\right]$"
      ],
      "text/plain": [
       "Matrix([\n",
       "[-k1,   0, 0],\n",
       "[ k1, -k2, 0],\n",
       "[  0,  k2, 0]])"
      ]
     },
     "execution_count": 114,
     "metadata": {},
     "output_type": "execute_result"
    }
   ],
   "source": [
    "k1, k2 = symbols('k1 k2')\n",
    "K = Matrix([['-k1', 0, 0], ['k1', '-k2', 0], [0, 'k2', 0]])\n",
    "K"
   ]
  },
  {
   "cell_type": "code",
   "execution_count": 104,
   "id": "comprehensive-gauge",
   "metadata": {},
   "outputs": [
    {
     "data": {
      "text/plain": [
       "{-k1: 1, -k2: 1, 0: 1}"
      ]
     },
     "execution_count": 104,
     "metadata": {},
     "output_type": "execute_result"
    }
   ],
   "source": [
    "K.eigenvals() # Returns a dictionary where the keys are the eigenvalues"
   ]
  },
  {
   "cell_type": "code",
   "execution_count": 105,
   "id": "growing-begin",
   "metadata": {},
   "outputs": [
    {
     "data": {
      "text/plain": [
       "[(0,\n",
       "  1,\n",
       "  [Matrix([\n",
       "   [0],\n",
       "   [0],\n",
       "   [1]])]),\n",
       " (-k1,\n",
       "  1,\n",
       "  [Matrix([\n",
       "   [k1/k2 - 1],\n",
       "   [   -k1/k2],\n",
       "   [        1]])]),\n",
       " (-k2,\n",
       "  1,\n",
       "  [Matrix([\n",
       "   [ 0],\n",
       "   [-1],\n",
       "   [ 1]])])]"
      ]
     },
     "execution_count": 105,
     "metadata": {},
     "output_type": "execute_result"
    }
   ],
   "source": [
    "K.eigenvects() # Returns a list of eigenvalues and their corresponding eigenvectors"
   ]
  },
  {
   "cell_type": "code",
   "execution_count": 106,
   "id": "ethical-rochester",
   "metadata": {},
   "outputs": [
    {
     "data": {
      "text/latex": [
       "$\\displaystyle \\left[\\begin{matrix}X_{1}\\\\X_{2}\\\\X_{3}\\end{matrix}\\right]$"
      ],
      "text/plain": [
       "Matrix([\n",
       "[X1],\n",
       "[X2],\n",
       "[X3]])"
      ]
     },
     "execution_count": 106,
     "metadata": {},
     "output_type": "execute_result"
    }
   ],
   "source": [
    "X = Matrix(['X1', 'X2', 'X3']) # a single list is considered a column vector for SymPy\n",
    "X"
   ]
  },
  {
   "cell_type": "code",
   "execution_count": 107,
   "id": "mysterious-madness",
   "metadata": {},
   "outputs": [
    {
     "data": {
      "text/latex": [
       "$\\displaystyle \\left[\\begin{matrix}\\frac{k_{1}}{k_{2}} - 1 & 0 & 0\\\\- \\frac{k_{1}}{k_{2}} & 0 & -1\\\\1 & 1 & 1\\end{matrix}\\right]$"
      ],
      "text/plain": [
       "Matrix([\n",
       "[k1/k2 - 1, 0,  0],\n",
       "[   -k1/k2, 0, -1],\n",
       "[        1, 1,  1]])"
      ]
     },
     "execution_count": 107,
     "metadata": {},
     "output_type": "execute_result"
    }
   ],
   "source": [
    "C = Matrix([['k1/k2-1',0,0],['-k1/k2',0,-1],[1,1,1]]) # rows are our eigenvectors\n",
    "C"
   ]
  },
  {
   "cell_type": "code",
   "execution_count": 108,
   "id": "narrow-single",
   "metadata": {},
   "outputs": [
    {
     "data": {
      "text/latex": [
       "$\\displaystyle \\left[\\begin{matrix}\\frac{k_{1}}{k_{2}} - 1 & - \\frac{k_{1}}{k_{2}} & 1\\\\0 & -1 & 1\\\\0 & 0 & 1\\end{matrix}\\right]$"
      ],
      "text/plain": [
       "Matrix([\n",
       "[k1/k2 - 1, -k1/k2, 1],\n",
       "[        0,     -1, 1],\n",
       "[        0,      0, 1]])"
      ]
     },
     "execution_count": 108,
     "metadata": {},
     "output_type": "execute_result"
    }
   ],
   "source": [
    "CT = Matrix(transpose(C)) # Take the transpose and swap second and third rows\n",
    "CT.row_swap(1, 2)\n",
    "CT"
   ]
  },
  {
   "cell_type": "code",
   "execution_count": 115,
   "id": "respective-tablet",
   "metadata": {},
   "outputs": [
    {
     "data": {
      "text/latex": [
       "$\\displaystyle \\left[\\begin{matrix}k_{2} \\left(k_{1} - k_{2}\\right) & 0 & 0\\end{matrix}\\right]$"
      ],
      "text/plain": [
       "Matrix([[k2*(k1 - k2), 0, 0]])"
      ]
     },
     "execution_count": 115,
     "metadata": {},
     "output_type": "execute_result"
    }
   ],
   "source": [
    "simplify(CT.row(0)*-k2)# Multiplied first row by -k2 then second row by -1"
   ]
  },
  {
   "cell_type": "code",
   "execution_count": 116,
   "id": "annual-triumph",
   "metadata": {},
   "outputs": [
    {
     "data": {
      "text/latex": [
       "$\\displaystyle \\left[\\begin{matrix}- k_{1} + k_{2} & 0 & 0\\\\k_{1} & 1 & 0\\\\- k_{2} & -1 & 1\\end{matrix}\\right]$"
      ],
      "text/plain": [
       "Matrix([\n",
       "[-k1 + k2,  0, 0],\n",
       "[      k1,  1, 0],\n",
       "[     -k2, -1, 1]])"
      ]
     },
     "execution_count": 116,
     "metadata": {},
     "output_type": "execute_result"
    }
   ],
   "source": [
    "CT = Matrix([['k2-k1', 0, 0], ['k1', 1, 0], ['-k2', -1, 1]])\n",
    "CT"
   ]
  },
  {
   "cell_type": "markdown",
   "id": "square-salad",
   "metadata": {},
   "source": [
    "This is fair game because C<sup>T</sup> = C since AX=${\\lambda}$X and A<sup>T</sup>=${\\lambda}$X"
   ]
  },
  {
   "cell_type": "markdown",
   "id": "about-denial",
   "metadata": {},
   "source": [
    "We can get $\\alpha$ by taking the inverse of C<sub>n</sub> and multiplying it with X<sub>n</sub>. $\\alpha$ = C<sub>n</sub><sup>-1</sup>X<sub>n</sub>"
   ]
  },
  {
   "cell_type": "code",
   "execution_count": 117,
   "id": "virgin-murder",
   "metadata": {},
   "outputs": [
    {
     "data": {
      "text/latex": [
       "$\\displaystyle \\left[\\begin{matrix}\\frac{X_{1}}{- k_{1} + k_{2}}\\\\- \\frac{X_{1} k_{1}}{- k_{1} + k_{2}} + X_{2}\\\\X_{1} + X_{2} + X_{3}\\end{matrix}\\right]$"
      ],
      "text/plain": [
       "Matrix([\n",
       "[         X1/(-k1 + k2)],\n",
       "[-X1*k1/(-k1 + k2) + X2],\n",
       "[          X1 + X2 + X3]])"
      ]
     },
     "execution_count": 117,
     "metadata": {},
     "output_type": "execute_result"
    }
   ],
   "source": [
    "a = CT.inv()*X # a (alpha) contains our scalar coefficients\n",
    "a"
   ]
  },
  {
   "cell_type": "markdown",
   "id": "becoming-midnight",
   "metadata": {},
   "source": [
    "Our original equation was a set of first order differential equations.For reasons we won't go over here, our solutions to X<sub>n</sub>(t) will be exponential functions."
   ]
  },
  {
   "cell_type": "markdown",
   "id": "western-employee",
   "metadata": {},
   "source": [
    "e.g. $\\vec{x(t)}$' = A$\\vec{x(t)}$ has solutions $\\vec{x(t)}$ = $\\vec{c}$exp($\\lambda$t)"
   ]
  },
  {
   "cell_type": "markdown",
   "id": "pretty-contributor",
   "metadata": {},
   "source": [
    "The paper derives: ![title](./DEsoln.png)"
   ]
  },
  {
   "cell_type": "markdown",
   "id": "focused-conditioning",
   "metadata": {},
   "source": [
    "We have all the components to solve X<sub>n</sub>(t) so let's plug them in and check out the results."
   ]
  },
  {
   "cell_type": "code",
   "execution_count": 112,
   "id": "growing-puppy",
   "metadata": {},
   "outputs": [
    {
     "name": "stdout",
     "output_type": "stream",
     "text": [
      "-k1 -k2 0\n"
     ]
    }
   ],
   "source": [
    "print(*list(K.eigenvals().keys())) # Eigenvalues"
   ]
  },
  {
   "cell_type": "markdown",
   "id": "religious-wisconsin",
   "metadata": {},
   "source": [
    "${\\alpha}$<sub>1</sub>C<sub>1</sub>exp(${\\lambda}$<sub>1</sub>t)"
   ]
  },
  {
   "cell_type": "code",
   "execution_count": 118,
   "id": "intimate-criminal",
   "metadata": {},
   "outputs": [
    {
     "data": {
      "text/latex": [
       "$\\displaystyle X_{1} e^{- k_{1} t}$"
      ],
      "text/plain": [
       "X1*exp(-k1*t)"
      ]
     },
     "execution_count": 118,
     "metadata": {},
     "output_type": "execute_result"
    }
   ],
   "source": [
    "t = symbols('t')\n",
    "Matrix(a[0]*CT.col(0)*exp(-k1*t))[0]"
   ]
  },
  {
   "cell_type": "markdown",
   "id": "leading-berry",
   "metadata": {},
   "source": [
    "${\\alpha}$<sub>1</sub>C<sub>1</sub>exp(${\\lambda}$<sub>1</sub>t) + ${\\alpha}$<sub>2</sub>C<sub>2</sub>exp(${\\lambda}$<sub>2</sub>t)"
   ]
  },
  {
   "cell_type": "code",
   "execution_count": 119,
   "id": "ambient-limit",
   "metadata": {},
   "outputs": [
    {
     "data": {
      "text/latex": [
       "$\\displaystyle \\frac{X_{1} k_{1} e^{- k_{1} t}}{- k_{1} + k_{2}} + \\left(- \\frac{X_{1} k_{1}}{- k_{1} + k_{2}} + X_{2}\\right) e^{- k_{2} t}$"
      ],
      "text/plain": [
       "X1*k1*exp(-k1*t)/(-k1 + k2) + (-X1*k1/(-k1 + k2) + X2)*exp(-k2*t)"
      ]
     },
     "execution_count": 119,
     "metadata": {},
     "output_type": "execute_result"
    }
   ],
   "source": [
    "Matrix(a[0]*CT.col(0)*exp(-k1*t)+a[1]*CT.col(1)*exp(-k2*t))[1]"
   ]
  },
  {
   "cell_type": "markdown",
   "id": "frozen-crime",
   "metadata": {},
   "source": [
    "${\\alpha}$<sub>1</sub>C<sub>1</sub>exp(${\\lambda}$<sub>1</sub>t) + ${\\alpha}$<sub>2</sub>C<sub>2</sub>exp(${\\lambda}$<sub>2</sub>t) + ${\\alpha}$<sub>3</sub>C<sub>3</sub>exp(${\\lambda}$<sub>3</sub>t)"
   ]
  },
  {
   "cell_type": "code",
   "execution_count": 120,
   "id": "finished-reform",
   "metadata": {},
   "outputs": [
    {
     "data": {
      "text/latex": [
       "$\\displaystyle - \\frac{X_{1} k_{2} e^{- k_{1} t}}{- k_{1} + k_{2}} + X_{1} + X_{2} + X_{3} + \\left(\\frac{X_{1} k_{1}}{- k_{1} + k_{2}} - X_{2}\\right) e^{- k_{2} t}$"
      ],
      "text/plain": [
       "-X1*k2*exp(-k1*t)/(-k1 + k2) + X1 + X2 + X3 + (X1*k1/(-k1 + k2) - X2)*exp(-k2*t)"
      ]
     },
     "execution_count": 120,
     "metadata": {},
     "output_type": "execute_result"
    }
   ],
   "source": [
    "Matrix(a[0]*CT.col(0)*exp(-k1*t)+a[1]*CT.col(1)*exp(-k2*t)+a[2]*CT.col(2)*exp(0))[2]"
   ]
  },
  {
   "cell_type": "markdown",
   "id": "miniature-kennedy",
   "metadata": {},
   "source": [
    "Now that we have our solutions for X(t)<sub>1</sub>, X(t)<sub>2</sub>, X(t)<sub>3</sub>, let's plot these solutions. Given a starting concentration of 1 for X<sub>1</sub>, X<sub>2</sub>, and X<sub>3</sub>."
   ]
  },
  {
   "cell_type": "code",
   "execution_count": 121,
   "id": "hindu-insider",
   "metadata": {},
   "outputs": [],
   "source": [
    "import matplotlib.pyplot as plt\n",
    "\n",
    "ts = np.linspace(0, 10, num=50)\n",
    "\n",
    "# Functions for each chemical species\n",
    "def s1(x1, k1, t):\n",
    "    return x1*np.exp(-k1*t)\n",
    "\n",
    "def s2(x1, x2, k1, k2, t):\n",
    "    return (x1*k1)/(-k1*k2)*np.exp(-k1*t) + (((-x1*k1)/(-k1+k2))+x2)*np.exp(-k2*t)\n",
    "\n",
    "def s3(x1, x2, x3, k1, k2, t):\n",
    "    return -(x1*k2)/(-k1*k2)*np.exp(-k1*t)+x1+x2+x3+(((x1*k1)/(-k1+k2))-x2)*np.exp(-k2*ts)"
   ]
  },
  {
   "cell_type": "code",
   "execution_count": 123,
   "id": "consolidated-chorus",
   "metadata": {},
   "outputs": [
    {
     "data": {
      "image/png": "[encoded data removed]",
      "text/plain": [
       "<Figure size 432x288 with 1 Axes>"
      ]
     },
     "metadata": {
      "needs_background": "light"
     },
     "output_type": "display_data"
    }
   ],
   "source": [
    "plt.plot(ts, s1(1, 1, ts), '-b^', mfc='white')\n",
    "plt.plot(ts, s2(1, 0, 1, .4, ts),'-r^', mfc='white')\n",
    "plt.plot(ts, s3(1, 0, 0, 1, .4, ts), '-k^', mfc='white')\n",
    "plt.show()"
   ]
  },
  {
   "cell_type": "code",
   "execution_count": 128,
   "id": "controlling-airplane",
   "metadata": {},
   "outputs": [
    {
     "data": {
      "text/plain": [
       "numpy.ndarray"
      ]
     },
     "execution_count": 128,
     "metadata": {},
     "output_type": "execute_result"
    }
   ],
   "source": [
    "x = np.asarray([])\n",
    "type(x)"
   ]
  },
  {
   "cell_type": "code",
   "execution_count": 129,
   "id": "incident-porter",
   "metadata": {},
   "outputs": [],
   "source": [
    "df = pd.DataFrame()"
   ]
  },
  {
   "cell_type": "code",
   "execution_count": null,
   "id": "random-stylus",
   "metadata": {},
   "outputs": [],
   "source": []
  }
 ],
 "metadata": {
  "kernelspec": {
   "display_name": "Python 3",
   "language": "python",
   "name": "python3"
  },
  "language_info": {
   "codemirror_mode": {
    "name": "ipython",
    "version": 3
   },
   "file_extension": ".py",
   "mimetype": "text/x-python",
   "name": "python",
   "nbconvert_exporter": "python",
   "pygments_lexer": "ipython3",
   "version": "3.9.1"
  }
 },
 "nbformat": 4,
 "nbformat_minor": 5
}
