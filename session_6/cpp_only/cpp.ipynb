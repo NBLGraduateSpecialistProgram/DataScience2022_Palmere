{
 "cells": [
  {
   "cell_type": "markdown",
   "id": "biblical-slide",
   "metadata": {},
   "source": [
    "### C++ in Python\n",
    "#### Robert Palmere, 2021\n",
    "#### Email: rdp135@chem.rutgers.edu\n",
    "\n",
    "##### Material Covered:\n",
    "\n",
    "* Very Brief Introduction to C/C++ (syntax examples for variable declaration, flow control, functions, and classes)\n",
    "* Writing Functions in C++ for Python\n",
    "* Writing Custom Types in C++ for Python\n",
    "* Using Cython for Python Speedups\n",
    "\n",
    "##### Requisites\n",
    "\n",
    "1. python3 -m pip install python-dev-tools\n",
    "\n",
    "2. Edit miniconda3/envs/{environment name}/share/jupyter/kernels/xcpp17/kernel.json to include:\n",
    "\n",
    "    \"-I/path/to/miniconda3/envs/{environment name}/include/pythonx.x\", where \"x.x\" is the version (e.g. python3.8)\n",
    "    \"-lpython3.8\"\n",
    "    \n",
    "    After \"-std=c++17\"\n",
    "    \n",
    "    \n",
    "#### Motivation\n",
    "\n",
    "* Code transferability (Compiled Language --> Python)\n",
    "* Packaging\n",
    "* Speed"
   ]
  },
  {
   "cell_type": "code",
   "execution_count": null,
   "id": "spanish-valuable",
   "metadata": {},
   "outputs": [],
   "source": [
    "// Comments are indicated by \"//\" instead of \"#\" as in Python\n",
    "#define PY_SSIZE_T_CLEAN\n",
    "#include <Python.h> // Required first\n",
    "#include <iostream> // Header file for Input/Output streams"
   ]
  },
  {
   "cell_type": "markdown",
   "id": "legislative-wedding",
   "metadata": {},
   "source": [
    "##### C++ Programs are ran top down starting from the main() function. Function scope is indicated by \"{}\" where in Python it was by indentation."
   ]
  },
  {
   "cell_type": "code",
   "execution_count": null,
   "id": "hundred-praise",
   "metadata": {},
   "outputs": [],
   "source": [
    "int main(){\n",
    "    \n",
    "    std::cout << \"Hello World!\" << std::endl;\n",
    "    \n",
    "}\n",
    "main() // Normally, main() is ran automatically, but since we are using a Jupyter notebook all of its contents are considered main().\n",
    "       // Additionally, main() would return 0 (end of program) without displaying"
   ]
  },
  {
   "cell_type": "code",
   "execution_count": null,
   "id": "promising-murder",
   "metadata": {},
   "outputs": [],
   "source": [
    "std::cout << \"Hello World!\" << std::endl;"
   ]
  },
  {
   "cell_type": "markdown",
   "id": "environmental-evaluation",
   "metadata": {},
   "source": [
    "##### But what are std, \"::\", and cout / endl?\n",
    "\n",
    "* std is the alias for the C++ standard **namespace**\n",
    "* \"::\" is known as the scope resolution operator\n",
    "* \"cout\" and \"endl\" are the commands we are issuing from the std namespace"
   ]
  },
  {
   "cell_type": "markdown",
   "id": "square-religion",
   "metadata": {},
   "source": [
    "### Variables"
   ]
  },
  {
   "cell_type": "markdown",
   "id": "preliminary-concentration",
   "metadata": {},
   "source": [
    "##### Declaration of a variable (memory allocated to stack / heap depending on type) and ';' required is required"
   ]
  },
  {
   "cell_type": "code",
   "execution_count": null,
   "id": "devoted-tsunami",
   "metadata": {},
   "outputs": [],
   "source": [
    "int x = 1;"
   ]
  },
  {
   "cell_type": "code",
   "execution_count": null,
   "id": "neural-blank",
   "metadata": {},
   "outputs": [],
   "source": [
    "std::cout << x << std::endl;"
   ]
  },
  {
   "cell_type": "code",
   "execution_count": null,
   "id": "angry-reader",
   "metadata": {},
   "outputs": [],
   "source": [
    "std::cout << &x << std::endl; // address-of operator (memory address in hexidecimal)"
   ]
  },
  {
   "cell_type": "code",
   "execution_count": null,
   "id": "straight-dimension",
   "metadata": {},
   "outputs": [],
   "source": [
    "int *ptr = &x; \n",
    "std::cout << ptr << std::endl; // ptr is a pointer that points to the memory address of x\n",
    "std::cout << *ptr << std::endl; // dereference operator (object pointed to by \"&x\" or \"what value is held at memory address &x?\")"
   ]
  },
  {
   "cell_type": "markdown",
   "id": "loose-oregon",
   "metadata": {},
   "source": [
    "##### Can convert types via casting or functions within the standard C++ library"
   ]
  },
  {
   "cell_type": "code",
   "execution_count": null,
   "id": "amino-portland",
   "metadata": {},
   "outputs": [],
   "source": [
    "float y = (float)x + 0.2; // cast x as a float\n",
    "std::cout << y << std::endl;"
   ]
  },
  {
   "cell_type": "code",
   "execution_count": null,
   "id": "consolidated-tissue",
   "metadata": {},
   "outputs": [],
   "source": [
    "#include <string> // std::string, std::stof\n",
    "std::string mystring = \"1.2\";\n",
    "float fmystr = std::stof(mystring);\n",
    "std::cout << fmystr << std::endl;"
   ]
  },
  {
   "cell_type": "markdown",
   "id": "relative-briefs",
   "metadata": {},
   "source": [
    "### Arrays and vectors"
   ]
  },
  {
   "cell_type": "code",
   "execution_count": null,
   "id": "champion-atmosphere",
   "metadata": {},
   "outputs": [],
   "source": [
    "char a[10]; // declare array with space for 10 elements (useful for limiting memory usage if you know ceiling of length)\n",
    "a[0] = 'a';\n",
    "a[1] = 'b';\n",
    "a[2] = 'c';\n",
    "std::cout << a[0] << a[1] << a[2] << std::endl;"
   ]
  },
  {
   "cell_type": "code",
   "execution_count": null,
   "id": "appropriate-invasion",
   "metadata": {},
   "outputs": [],
   "source": [
    "#include <vector> // std::vector\n",
    "std::vector<char> a = {'a', 'b', 'c'};\n",
    "std::cout << a[0] << a[1] << a[2] << std::endl;"
   ]
  },
  {
   "cell_type": "markdown",
   "id": "mechanical-separation",
   "metadata": {},
   "source": [
    "### Flow control"
   ]
  },
  {
   "cell_type": "markdown",
   "id": "rubber-today",
   "metadata": {},
   "source": [
    "##### For loops"
   ]
  },
  {
   "cell_type": "code",
   "execution_count": null,
   "id": "animated-broadcasting",
   "metadata": {},
   "outputs": [],
   "source": [
    "// for i in range(10): print(i, end=' ') <-- Python\n",
    "for (int i = 0; i < 10; i++){ std::cout << i << \" \";}"
   ]
  },
  {
   "cell_type": "code",
   "execution_count": null,
   "id": "caroline-plant",
   "metadata": {},
   "outputs": [],
   "source": [
    "// for i in range(len(a)): print(a[i], end=' ') <-- Python\n",
    "for (int i = 0; i < a.size(); ++i){ std::cout << a[i] << \" \"; } // use size() function of std::vector to loop until end of vector"
   ]
  },
  {
   "cell_type": "code",
   "execution_count": null,
   "id": "outer-brooklyn",
   "metadata": {},
   "outputs": [],
   "source": [
    "// for i in my_list: print(i, end=' ') <-- Python\n",
    "for (auto elem : a) { std::cout << elem << \" \"; } // calls copy constructor <-- Extra Reading"
   ]
  },
  {
   "cell_type": "code",
   "execution_count": null,
   "id": "artistic-detroit",
   "metadata": {},
   "outputs": [],
   "source": [
    "for (auto const &elem : a) { std::cout << elem << \" \"; } // const reference does nto call copy constructor"
   ]
  },
  {
   "cell_type": "markdown",
   "id": "serious-perspective",
   "metadata": {},
   "source": [
    "##### Do/While Loops"
   ]
  },
  {
   "cell_type": "code",
   "execution_count": null,
   "id": "mysterious-watson",
   "metadata": {},
   "outputs": [],
   "source": [
    "int i = 0;\n",
    "while (true){ // True <-- Python\n",
    "    std::cout << i << \" \";\n",
    "    i++; // i += 1 <-- Python\n",
    "    if (i == 10){\n",
    "        break;\n",
    "    }\n",
    "}"
   ]
  },
  {
   "cell_type": "code",
   "execution_count": null,
   "id": "social-maximum",
   "metadata": {},
   "outputs": [],
   "source": [
    "int i = 0;\n",
    "do {\n",
    "    std::cout << i << \" \";\n",
    "    i++;\n",
    "}\n",
    "while (i < 10); // Note do and while are within the same scope"
   ]
  },
  {
   "cell_type": "markdown",
   "id": "statistical-tokyo",
   "metadata": {},
   "source": [
    "### Functions"
   ]
  },
  {
   "cell_type": "markdown",
   "id": "primary-transformation",
   "metadata": {},
   "source": [
    "##### Syntax: return_type name(type arg1_name, type arg2_name){ do stuff }"
   ]
  },
  {
   "cell_type": "code",
   "execution_count": null,
   "id": "reverse-aluminum",
   "metadata": {},
   "outputs": [],
   "source": [
    "void counter(int count_to){ // function does not return anything (void ~ 'None' <-- Python)\n",
    "    for (int i = 0; i <= count_to; i++){ std::cout << i << \" \";}\n",
    "    std::cout << std::endl;\n",
    "}\n",
    "\n",
    "counter(10);\n",
    "counter(20);"
   ]
  },
  {
   "cell_type": "code",
   "execution_count": null,
   "id": "powered-script",
   "metadata": {},
   "outputs": [],
   "source": [
    "float add(float x, float y){ // Here we have to specify the return type and argument types for compatibility\n",
    "    return x + y;\n",
    "}\n",
    "\n",
    "add(1.1, 7.4)"
   ]
  },
  {
   "cell_type": "markdown",
   "id": "compliant-comedy",
   "metadata": {},
   "source": [
    "##### What if we aren't exactly sure what type of number will be given as arguments? We can use a template."
   ]
  },
  {
   "cell_type": "code",
   "execution_count": null,
   "id": "cheap-session",
   "metadata": {},
   "outputs": [],
   "source": [
    "template <class T>\n",
    "T add( T x, T y ){ return x + y; }"
   ]
  },
  {
   "cell_type": "code",
   "execution_count": null,
   "id": "dynamic-swing",
   "metadata": {},
   "outputs": [],
   "source": [
    "add<int>(1, 1); // returns input type it was given"
   ]
  },
  {
   "cell_type": "code",
   "execution_count": null,
   "id": "delayed-methodology",
   "metadata": {},
   "outputs": [],
   "source": [
    "add<int>(1, 2.2) // will still compile but rounds 'double' off to an integer"
   ]
  },
  {
   "cell_type": "markdown",
   "id": "built-finland",
   "metadata": {},
   "source": [
    "### Structs and Classes"
   ]
  },
  {
   "cell_type": "markdown",
   "id": "attempted-phrase",
   "metadata": {},
   "source": [
    "##### Difference: Variables within a class are private by default while variables in structs are public"
   ]
  },
  {
   "cell_type": "code",
   "execution_count": null,
   "id": "raising-webcam",
   "metadata": {},
   "outputs": [],
   "source": [
    "struct A{\n",
    "    int x = 1;\n",
    "}; // Declare struct A which contains public variable x = 1"
   ]
  },
  {
   "cell_type": "code",
   "execution_count": null,
   "id": "radio-intermediate",
   "metadata": {},
   "outputs": [],
   "source": [
    "std::cout << A().x << std::endl;"
   ]
  },
  {
   "cell_type": "markdown",
   "id": "immediate-intensity",
   "metadata": {},
   "source": [
    "myA = A();\n",
    "std::cout << myA.x << std::endl;"
   ]
  },
  {
   "cell_type": "markdown",
   "id": "cardiac-polish",
   "metadata": {},
   "source": [
    "##### We can also instantiate the struct or class before the semicolon:"
   ]
  },
  {
   "cell_type": "code",
   "execution_count": null,
   "id": "complicated-glasgow",
   "metadata": {},
   "outputs": [],
   "source": [
    "struct A{\n",
    "    int x = 1;\n",
    "}myA;"
   ]
  },
  {
   "cell_type": "code",
   "execution_count": null,
   "id": "interpreted-madison",
   "metadata": {},
   "outputs": [],
   "source": [
    "std::cout << myA.x << std::endl;"
   ]
  },
  {
   "cell_type": "markdown",
   "id": "after-sandwich",
   "metadata": {},
   "source": [
    "##### Now let's try the same thing but using a class"
   ]
  },
  {
   "cell_type": "code",
   "execution_count": null,
   "id": "satellite-shark",
   "metadata": {},
   "outputs": [],
   "source": [
    "class B{\n",
    "    int x = 1;\n",
    "};"
   ]
  },
  {
   "cell_type": "code",
   "execution_count": null,
   "id": "continuing-element",
   "metadata": {},
   "outputs": [],
   "source": [
    "std::cout << B().x << std::endl;"
   ]
  },
  {
   "cell_type": "markdown",
   "id": "comprehensive-avenue",
   "metadata": {},
   "source": [
    "##### We cannot access the variable x in class B because it is private. class B is implicitly:"
   ]
  },
  {
   "cell_type": "code",
   "execution_count": null,
   "id": "boring-toddler",
   "metadata": {},
   "outputs": [],
   "source": [
    "class B{\n",
    "    private: int x = 1;\n",
    "};"
   ]
  },
  {
   "cell_type": "markdown",
   "id": "tender-latino",
   "metadata": {},
   "source": [
    "##### We can change this by making the variable public"
   ]
  },
  {
   "cell_type": "code",
   "execution_count": null,
   "id": "straight-diabetes",
   "metadata": {},
   "outputs": [],
   "source": [
    "class B{\n",
    "    public: int x = 1;\n",
    "};\n",
    "std::cout << B().x << std::endl;"
   ]
  },
  {
   "cell_type": "markdown",
   "id": "heard-military",
   "metadata": {},
   "source": [
    "### Writing a class for use in Python"
   ]
  },
  {
   "cell_type": "markdown",
   "id": "standard-anthony",
   "metadata": {},
   "source": [
    "##### Let's write a class / data type called \"Matrix\" in C++ and then implement it for use in Python."
   ]
  },
  {
   "cell_type": "code",
   "execution_count": null,
   "id": "straight-minneapolis",
   "metadata": {},
   "outputs": [],
   "source": [
    "// matrix.h\n",
    "class Matrix{\n",
    "    \n",
    "    public:\n",
    "        Matrix(); // Constructor (__new__() + __init__() <-- Python)\n",
    "    \n",
    "};"
   ]
  },
  {
   "cell_type": "code",
   "execution_count": null,
   "id": "mediterranean-flight",
   "metadata": {},
   "outputs": [],
   "source": [
    "// matrtix.cpp\n",
    "Matrix::Matrix(){\n",
    "    std::cout << \"Matrix generated.\" << std::endl;\n",
    "}"
   ]
  },
  {
   "cell_type": "code",
   "execution_count": null,
   "id": "monthly-image",
   "metadata": {},
   "outputs": [],
   "source": [
    "Matrix m;"
   ]
  },
  {
   "cell_type": "code",
   "execution_count": null,
   "id": "understood-preliminary",
   "metadata": {},
   "outputs": [],
   "source": [
    "Matrix();"
   ]
  },
  {
   "cell_type": "code",
   "execution_count": null,
   "id": "stopped-queensland",
   "metadata": {},
   "outputs": [],
   "source": [
    "int size = 25;\n",
    "std::cout << size << std::endl;"
   ]
  },
  {
   "cell_type": "code",
   "execution_count": null,
   "id": "protected-armstrong",
   "metadata": {},
   "outputs": [],
   "source": [
    "float m[size];"
   ]
  },
  {
   "cell_type": "markdown",
   "id": "cognitive-freedom",
   "metadata": {},
   "source": [
    "##### Static arrays require constant length."
   ]
  },
  {
   "cell_type": "code",
   "execution_count": null,
   "id": "beginning-burns",
   "metadata": {},
   "outputs": [],
   "source": [
    "const int size = 25; // <--- Given by user\n",
    "int m[size];"
   ]
  },
  {
   "cell_type": "code",
   "execution_count": null,
   "id": "dressed-elder",
   "metadata": {},
   "outputs": [],
   "source": [
    "for (int i=0; i < size; i++){ \n",
    "    m[i] = i;\n",
    "}"
   ]
  },
  {
   "cell_type": "code",
   "execution_count": null,
   "id": "atmospheric-parallel",
   "metadata": {},
   "outputs": [],
   "source": [
    "std::cout << m[1] << m[2] << m[3] << std::endl;"
   ]
  },
  {
   "cell_type": "markdown",
   "id": "broadband-account",
   "metadata": {},
   "source": [
    "##### We want to write a function that takes a 2d array as an argument and fills it with what we want."
   ]
  },
  {
   "cell_type": "code",
   "execution_count": null,
   "id": "yellow-bridges",
   "metadata": {},
   "outputs": [],
   "source": [
    "int m[size][size]; // Generate a size by size 2d array"
   ]
  },
  {
   "cell_type": "markdown",
   "id": "incoming-vacation",
   "metadata": {},
   "source": [
    "##### There are a two ways to pass an array as an argument to a function.\n",
    "\n",
    "1. The argument pointer to an array of size n\n",
    "2. The argument is a pointer to pointers"
   ]
  },
  {
   "cell_type": "code",
   "execution_count": null,
   "id": "integrated-bosnia",
   "metadata": {},
   "outputs": [],
   "source": [
    "int *m[size]; // Define 'm' as a pointer to an array of 'size'\n",
    "for (int i = 0; i < size; i++){ // We then want to assign each element being pointed to as an array of 'size' which can be done using a for loop\n",
    "    m[i] = new int[size]; // The 'new' keyword attempts to allocate storage and then attempts to construct and initialize either a single unnamed object, or an unnamed array of objects in the allocated storage. \n",
    "}"
   ]
  },
  {
   "cell_type": "code",
   "execution_count": null,
   "id": "finite-manhattan",
   "metadata": {},
   "outputs": [],
   "source": [
    "/* Now we will define a function that accepts argument as an array of size n */\n",
    "void identity(int *m[size]){\n",
    "    for (int i = 0; i < size; i++){\n",
    "        for (int j = 0; j < size; j++){\n",
    "            if (i == j){\n",
    "                m[i][j] = 1;\n",
    "            }\n",
    "            else{\n",
    "                m[i][j] = 0;\n",
    "            }\n",
    "        }\n",
    "    }\n",
    "}"
   ]
  },
  {
   "cell_type": "code",
   "execution_count": null,
   "id": "invisible-roller",
   "metadata": {},
   "outputs": [],
   "source": [
    "identity(m);\n",
    "\n",
    "std::cout << m[0][0] << ' ';\n",
    "std::cout << m[0][1] << ' ';\n",
    "std::cout << m[1][1] << ' ';"
   ]
  },
  {
   "cell_type": "markdown",
   "id": "removable-parish",
   "metadata": {},
   "source": [
    "##### Great it seems to be working. Let's write a function to display the matrix."
   ]
  },
  {
   "cell_type": "code",
   "execution_count": null,
   "id": "dynamic-bible",
   "metadata": {},
   "outputs": [],
   "source": [
    "void display(int *m[size]){\n",
    "    for (int i = 0; i < size; i++){\n",
    "        for (int j = 0; j < size; j++){\n",
    "            std::cout << m[i][j];\n",
    "        }\n",
    "        std::cout << std::endl;\n",
    "    }\n",
    "}"
   ]
  },
  {
   "cell_type": "code",
   "execution_count": null,
   "id": "instructional-netherlands",
   "metadata": {},
   "outputs": [],
   "source": [
    "display(m)"
   ]
  },
  {
   "cell_type": "markdown",
   "id": "personalized-january",
   "metadata": {},
   "source": [
    "##### Now let's try this again, but this time we will write each of these functions to take in argument as a pointers to an array of pointers instead of to an array of size n."
   ]
  },
  {
   "cell_type": "code",
   "execution_count": null,
   "id": "unknown-pipeline",
   "metadata": {},
   "outputs": [],
   "source": [
    "int **m; // the variable type 'int **'' describes a pointer to a pointer to integers called 'm' (we haven't yet defined 'm' here)\n",
    "m = new int *[size]; // we allocate space for 'm' using the 'new' keyword and define it ('=') as a pointer to an array of pointers to integers of n='size' \n",
    "for (int i = 0; i < size; i++){\n",
    "    m[i] = new int[size]; // we loop through each pointer to allocate space for an array of size\n",
    "}"
   ]
  },
  {
   "cell_type": "code",
   "execution_count": null,
   "id": "pressing-shopping",
   "metadata": {},
   "outputs": [],
   "source": [
    "void identity(int **m){\n",
    "    for (int i = 0; i < size; i++){\n",
    "        for (int j = 0; j < size; j++){\n",
    "            if (i == j){\n",
    "                m[i][j] = 1;\n",
    "            }\n",
    "            else{\n",
    "                m[i][j] = 0;\n",
    "            }\n",
    "        }\n",
    "    }\n",
    "}"
   ]
  },
  {
   "cell_type": "code",
   "execution_count": null,
   "id": "rough-difference",
   "metadata": {},
   "outputs": [],
   "source": [
    "identity(m)"
   ]
  },
  {
   "cell_type": "code",
   "execution_count": null,
   "id": "flying-completion",
   "metadata": {},
   "outputs": [],
   "source": [
    "display(m)"
   ]
  },
  {
   "cell_type": "markdown",
   "id": "anticipated-antigua",
   "metadata": {},
   "source": [
    "##### Great so both ways work. Why do we need to pass arrays this way? (Arrays \"decay\" into pointers) E.g."
   ]
  },
  {
   "cell_type": "code",
   "execution_count": null,
   "id": "german-salmon",
   "metadata": {},
   "outputs": [],
   "source": [
    "int myarray[3]; // Decays into \n",
    "myarray[0] = 1;\n",
    "myarray[1] = 0;\n",
    "myarray[2] = 0;\n",
    "std::cout << &myarray[0] << std::endl;\n",
    "std::cout << &myarray[1] << std::endl;\n",
    "std::cout << &myarray[2] << std::endl;"
   ]
  },
  {
   "cell_type": "markdown",
   "id": "impossible-albert",
   "metadata": {},
   "source": [
    "##### Each place on our array holds a memory address. Using '&' works because the original 'myarray[#]' points to a value:"
   ]
  },
  {
   "cell_type": "code",
   "execution_count": null,
   "id": "engaged-chicago",
   "metadata": {},
   "outputs": [],
   "source": [
    "std::cout << *&myarray[0] << std::endl;\n",
    "std::cout << *&myarray[1] << std::endl;\n",
    "std::cout << *&myarray[2] << std::endl;"
   ]
  },
  {
   "cell_type": "code",
   "execution_count": null,
   "id": "square-purchase",
   "metadata": {},
   "outputs": [],
   "source": [
    "std::cout << &*&myarray[0] << std::endl;\n",
    "std::cout << &*&myarray[1] << std::endl;\n",
    "std::cout << &*&myarray[2] << std::endl; // myarray elements are pointers"
   ]
  },
  {
   "cell_type": "markdown",
   "id": "christian-shark",
   "metadata": {},
   "source": [
    "##### So this means that we cannot pass an array \"by value\" but instead need to pass it by pointer or by reference.\n",
    "##### In the above two examples we passed \"by pointer\"."
   ]
  },
  {
   "cell_type": "markdown",
   "id": "dutch-resource",
   "metadata": {},
   "source": [
    "#### Let's add this functionality to our Matrix class."
   ]
  },
  {
   "cell_type": "code",
   "execution_count": null,
   "id": "unlimited-philosophy",
   "metadata": {},
   "outputs": [],
   "source": [
    "%%file matrix.cpp\n",
    "// matrix.h\n",
    "#include <iostream>\n",
    "class Matrix{\n",
    "    public:\n",
    "        int size; // <-- __init__(self, s): self.size = s <--- Python\n",
    "        int **m;\n",
    "    \n",
    "        Matrix(int s); // Constructor\n",
    "        void display();\n",
    "        \n",
    "};\n",
    "\n",
    "// matrtix.cpp\n",
    "Matrix::Matrix(int s) {\n",
    "\n",
    "    Matrix::size = s; // self.size = s\n",
    "    Matrix::m = new int *[Matrix::size]; // self.m = [[] [] []]\n",
    "\n",
    "    for (int i = 0; i < Matrix::size; i++){\n",
    "        Matrix::m[i] = new int[Matrix::size];\n",
    "    }\n",
    "\n",
    "    for (int i = 0; i < Matrix::size; i++){\n",
    "        for (int j = 0; j < Matrix::size; j++){\n",
    "            Matrix::m[i][j] = 0;\n",
    "        }\n",
    "    }\n",
    "}\n",
    "\n",
    "void Matrix::display(){\n",
    "    for (int i = 0; i < Matrix::size; i++){\n",
    "        for (int j = 0; j < Matrix::size; j++){\n",
    "            std::cout << Matrix::m[i][j] << \" \";\n",
    "        }\n",
    "        std::cout << std::endl;\n",
    "    }\n",
    "}\n",
    "\n",
    "// Where our program starts\n",
    "int main(){\n",
    "    \n",
    "    Matrix m(10); // Generate a 10x10 sized matrix called 'm'\n",
    "    m.display(); // Display the contents of the matrix\n",
    "    \n",
    "}"
   ]
  },
  {
   "cell_type": "markdown",
   "id": "beginning-upset",
   "metadata": {},
   "source": [
    "#### For some reason Jupyter generates an error ('requiring external' package although the class is defined here...?). So we are going to export this class to a document and compile it ourselves."
   ]
  },
  {
   "cell_type": "code",
   "execution_count": null,
   "id": "irish-merchandise",
   "metadata": {},
   "outputs": [],
   "source": [
    "//Let's compile 'matrix.cpp' using our local C++ compiler outside of Jupyter.\n",
    "\n",
    "// $ g++ matrix.cpp -o matrix"
   ]
  },
  {
   "cell_type": "markdown",
   "id": "organized-inspector",
   "metadata": {},
   "source": [
    "#### Running our compiled \"matrix\" program should have produced a 10 x 10 matrix containing all zeros. Let's make the output more closesly resemble the \"The Matrix\" by adding in random 1s and have the output be continuous."
   ]
  },
  {
   "cell_type": "code",
   "execution_count": null,
   "id": "early-arrow",
   "metadata": {},
   "outputs": [],
   "source": [
    "%%file matrix.cpp\n",
    "// matrix.h\n",
    "#include <iostream>\n",
    "class Matrix{\n",
    "    public:\n",
    "        int size;\n",
    "        int **m;\n",
    "    \n",
    "        Matrix(int s); // Constructor\n",
    "        void display();\n",
    "        void random_binary();\n",
    "        \n",
    "};\n",
    "\n",
    "// matrtix.cpp\n",
    "Matrix::Matrix(int s) {\n",
    "\n",
    "    Matrix::size = s;\n",
    "    Matrix::m = new int *[Matrix::size];\n",
    "\n",
    "    for (int i = 0; i < Matrix::size; i++){\n",
    "        Matrix::m[i] = new int[Matrix::size];\n",
    "    }\n",
    "\n",
    "    for (int i = 0; i < Matrix::size; i++){\n",
    "        for (int j = 0; j < Matrix::size; j++){\n",
    "            Matrix::m[i][j] = 0;\n",
    "        }\n",
    "    }\n",
    "}\n",
    "\n",
    "void Matrix::display(){\n",
    "    for (int i = 0; i < Matrix::size; i++){\n",
    "        for (int j = 0; j < Matrix::size; j++){\n",
    "            std::cout << Matrix::m[i][j] << \" \";\n",
    "        }\n",
    "        std::cout << std::endl;\n",
    "    }\n",
    "}\n",
    "\n",
    "void Matrix::random_binary(){\n",
    "    for (int i = 0; i < Matrix::size; i++){\n",
    "        for (int j = 0; j < Matrix::size; j++){\n",
    "            Matrix::m[i][j] = rand() % 2; // 0 or 1\n",
    "        }\n",
    "    }\n",
    "    \n",
    "}\n",
    "\n",
    "// Where our program starts\n",
    "int main(){\n",
    "    \n",
    "    Matrix m(25); // Generate a 10x10 sized matrix called 'm'\n",
    "    do{\n",
    "        m.random_binary(); // Make random ones and zeros within the matrix\n",
    "        m.display(); // print this matrix object\n",
    "    } while (true); // Do it forever\n",
    "    \n",
    "}"
   ]
  },
  {
   "cell_type": "markdown",
   "id": "suburban-expression",
   "metadata": {},
   "source": [
    "We should be aware that since we used the 'new' keyword that we will have to manually elminate using \"delete\" in order to prevent a memory leak. We can do this in the destructor of the class (which we have not written). The program ends before multiple objects are generated so this does not become an issue here, but it is good to keep in mind. You can read more about memory leaks [here.](https://stackoverflow.com/questions/6261201/how-to-find-memory-leak-in-a-c-code-project)"
   ]
  }
 ],
 "metadata": {
  "kernelspec": {
   "display_name": "C++17",
   "language": "C++17",
   "name": "xcpp17"
  },
  "language_info": {
   "codemirror_mode": "text/x-c++src",
   "file_extension": ".cpp",
   "mimetype": "text/x-c++src",
   "name": "c++",
   "version": "17"
  }
 },
 "nbformat": 4,
 "nbformat_minor": 5
}
