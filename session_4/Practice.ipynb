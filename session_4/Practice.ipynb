{
 "cells": [
  {
   "cell_type": "markdown",
   "id": "higher-explosion",
   "metadata": {},
   "source": [
    "Exercise with Python\\\n",
    "Email: rdp135@chem.rutgers.edu\n",
    "\n",
    "Agenda:\n",
    "\n",
    "    * Q & A\n",
    "    If no Q & A:\n",
    "        * Review of 10 Question Problem Set from Session 1\n",
    "        * Code submissions for problems below (share screens)"
   ]
  },
  {
   "cell_type": "markdown",
   "id": "prompt-daughter",
   "metadata": {},
   "source": [
    "1. Write a method which takes a string as an argument and returns the number of characters in the string."
   ]
  },
  {
   "cell_type": "code",
   "execution_count": 1,
   "id": "every-barcelona",
   "metadata": {},
   "outputs": [
    {
     "name": "stdout",
     "output_type": "stream",
     "text": [
      "5\n"
     ]
    }
   ],
   "source": [
    "def count_string(str_):\n",
    "    return len(str_)\n",
    "\n",
    "print(count_string('trung'))"
   ]
  },
  {
   "cell_type": "markdown",
   "id": "ready-arthritis",
   "metadata": {},
   "source": [
    "2. Write a method which takes in multiple string arguments and returns a dictionary to access them by increasing integers starting from 0."
   ]
  },
  {
   "cell_type": "code",
   "execution_count": 3,
   "id": "sticky-london",
   "metadata": {},
   "outputs": [
    {
     "name": "stdout",
     "output_type": "stream",
     "text": [
      "{0: 'Hadi', 1: 'Trung', 2: 'Alexei', 3: 'Delia'}\n"
     ]
    }
   ],
   "source": [
    "def str_to_dict(*strings):\n",
    "    d_ = {}\n",
    "    for n, i in enumerate(strings):\n",
    "        d_.update({n : i})\n",
    "    return d_\n",
    "\n",
    "dictionary = str_to_dict('Hadi', 'Trung', 'Alexei', 'Delia')\n",
    "print(dictionary)"
   ]
  },
  {
   "cell_type": "markdown",
   "id": "strong-medline",
   "metadata": {},
   "source": [
    "3. Generate a list of numbers from 0 - 5.2 in steps of .2 using list comprehension."
   ]
  },
  {
   "cell_type": "code",
   "execution_count": 7,
   "id": "strong-canon",
   "metadata": {},
   "outputs": [
    {
     "name": "stdout",
     "output_type": "stream",
     "text": [
      "[0.0, 0.2, 0.4, 0.6, 0.8, 1.0, 1.2, 1.4, 1.6, 1.8, 2.0, 2.2, 2.4, 2.6, 2.8, 3.0, 3.2, 3.4, 3.6, 3.8, 4.0, 4.2, 4.4, 4.6, 4.8, 5.0]\n"
     ]
    }
   ],
   "source": [
    "import numpy as np\n",
    "\n",
    "print([round(i, 3) for i in np.arange(0,5.2,0.2)])"
   ]
  },
  {
   "cell_type": "markdown",
   "id": "civil-sight",
   "metadata": {},
   "source": [
    "4. Generate a list, containing a type of your choice, which implements a double for loop."
   ]
  },
  {
   "cell_type": "code",
   "execution_count": 11,
   "id": "speaking-benefit",
   "metadata": {},
   "outputs": [
    {
     "name": "stdout",
     "output_type": "stream",
     "text": [
      "[(0, 0), (0, 1), (0, 2), (0, 3), (0, 4), (0, 5), (0, 6), (0, 7), (0, 8), (0, 9), (1, 0), (1, 1), (1, 2), (1, 3), (1, 4), (1, 5), (1, 6), (1, 7), (1, 8), (1, 9), (2, 0), (2, 1), (2, 2), (2, 3), (2, 4), (2, 5), (2, 6), (2, 7), (2, 8), (2, 9), (3, 0), (3, 1), (3, 2), (3, 3), (3, 4), (3, 5), (3, 6), (3, 7), (3, 8), (3, 9), (4, 0), (4, 1), (4, 2), (4, 3), (4, 4), (4, 5), (4, 6), (4, 7), (4, 8), (4, 9), (5, 0), (5, 1), (5, 2), (5, 3), (5, 4), (5, 5), (5, 6), (5, 7), (5, 8), (5, 9), (6, 0), (6, 1), (6, 2), (6, 3), (6, 4), (6, 5), (6, 6), (6, 7), (6, 8), (6, 9), (7, 0), (7, 1), (7, 2), (7, 3), (7, 4), (7, 5), (7, 6), (7, 7), (7, 8), (7, 9), (8, 0), (8, 1), (8, 2), (8, 3), (8, 4), (8, 5), (8, 6), (8, 7), (8, 8), (8, 9), (9, 0), (9, 1), (9, 2), (9, 3), (9, 4), (9, 5), (9, 6), (9, 7), (9, 8), (9, 9), (10, 0), (10, 1), (10, 2), (10, 3), (10, 4), (10, 5), (10, 6), (10, 7), (10, 8), (10, 9)]\n"
     ]
    }
   ],
   "source": [
    "numbers = []\n",
    "for i in range(11):\n",
    "    for j in range(10):\n",
    "        numbers.append((i, j))\n",
    "print(numbers)"
   ]
  },
  {
   "cell_type": "code",
   "execution_count": 20,
   "id": "taken-feelings",
   "metadata": {},
   "outputs": [
    {
     "name": "stdout",
     "output_type": "stream",
     "text": [
      "(10, 8)\n"
     ]
    }
   ],
   "source": [
    "def search(n):\n",
    "    for num in numbers:\n",
    "        if (10, 8) == n:\n",
    "            print(n)\n",
    "            break\n",
    "            \n",
    "search((10, 8))"
   ]
  },
  {
   "cell_type": "markdown",
   "id": "prospective-animation",
   "metadata": {},
   "source": [
    "5. Rewrite the method from 2. so that it contains a while loop."
   ]
  },
  {
   "cell_type": "markdown",
   "id": "outstanding-analyst",
   "metadata": {},
   "source": [
    "Skipped."
   ]
  },
  {
   "cell_type": "markdown",
   "id": "worst-anthony",
   "metadata": {},
   "source": [
    "6. Generate a series of numbers and show a histogram of the data."
   ]
  },
  {
   "cell_type": "markdown",
   "id": "concerned-spring",
   "metadata": {},
   "source": [
    "Already done."
   ]
  },
  {
   "cell_type": "markdown",
   "id": "certified-zealand",
   "metadata": {},
   "source": [
    "7. Add a mechanism to check if all strings are unique and only generate a dictionary with the unique strings for the method in 2."
   ]
  },
  {
   "cell_type": "code",
   "execution_count": 34,
   "id": "green-tenant",
   "metadata": {},
   "outputs": [
    {
     "name": "stdout",
     "output_type": "stream",
     "text": [
      "Unique!\n"
     ]
    }
   ],
   "source": [
    "strings = ['Robert', 'Alexei', 'Hadi', 'Trung']\n",
    "\n",
    "def check_unique(str_lst):\n",
    "    s_ = set(str_lst)\n",
    "    sl = [i for i in s_]\n",
    "    if len(sl) == len(str_lst):\n",
    "        print('Unique!')\n",
    "    else:\n",
    "        print('Not Unique!')\n",
    "\n",
    "check_unique(strings)"
   ]
  },
  {
   "cell_type": "markdown",
   "id": "extreme-wrist",
   "metadata": {},
   "source": [
    "8. Write a function that generates a numpy 2D array of floats and prints the maximum value it contains."
   ]
  },
  {
   "cell_type": "code",
   "execution_count": 47,
   "id": "personal-priority",
   "metadata": {},
   "outputs": [
    {
     "name": "stdout",
     "output_type": "stream",
     "text": [
      "[[42.58309173 44.86967067 26.40537333]\n",
      " [22.67633445 25.62762816 52.16544932]\n",
      " [13.69776253 60.16225445 80.68861221]\n",
      " [43.39410349 23.56657589 17.34488882]\n",
      " [63.29955311 88.15143232 56.13694986]]\n",
      "88.15143232174417\n"
     ]
    }
   ],
   "source": [
    "import random\n",
    "def max2d():\n",
    "    H = np.asarray([[random.uniform(2, 100) for i in range(3)] for j in range(5)])\n",
    "    print(H)\n",
    "    max_ = H[H == H.max()][0]\n",
    "    print(max_)\n",
    "\n",
    "max2d()"
   ]
  },
  {
   "cell_type": "code",
   "execution_count": 54,
   "id": "broke-system",
   "metadata": {},
   "outputs": [
    {
     "name": "stdout",
     "output_type": "stream",
     "text": [
      "0.4\n",
      "0.9\n",
      "1.4000000000000001\n",
      "1.9000000000000001\n",
      "2.4000000000000004\n"
     ]
    }
   ],
   "source": [
    "def max2d():\n",
    "    H = np.arange(0, 20, .1).reshape(40, 5)\n",
    "    for i in range(H.shape[1]):\n",
    "        max_ = H[i, :].max()\n",
    "        print(max_)\n",
    "\n",
    "max2d()"
   ]
  },
  {
   "cell_type": "markdown",
   "id": "competitive-music",
   "metadata": {},
   "source": [
    "9. Write an algorithm for guessing a given password using brute force."
   ]
  },
  {
   "cell_type": "markdown",
   "id": "violent-turtle",
   "metadata": {},
   "source": [
    "Try it on your own."
   ]
  },
  {
   "cell_type": "markdown",
   "id": "northern-joshua",
   "metadata": {},
   "source": [
    "10. Write the key and value from 2. as separate columns in a text file. After writing, read the text file and print its contents."
   ]
  },
  {
   "cell_type": "markdown",
   "id": "dated-impossible",
   "metadata": {},
   "source": [
    "Try it on your own."
   ]
  }
 ],
 "metadata": {
  "kernelspec": {
   "display_name": "Python 3",
   "language": "python",
   "name": "python3"
  },
  "language_info": {
   "codemirror_mode": {
    "name": "ipython",
    "version": 3
   },
   "file_extension": ".py",
   "mimetype": "text/x-python",
   "name": "python",
   "nbconvert_exporter": "python",
   "pygments_lexer": "ipython3",
   "version": "3.9.1"
  }
 },
 "nbformat": 4,
 "nbformat_minor": 5
}
